{
 "cells": [
  {
   "cell_type": "markdown",
   "metadata": {},
   "source": [
    "# Data Collection and Exploration\n",
    "\n",
    "Here we will load in the data from youtube, where collecting cc texts from relevant search queries is the main goal.\n",
    "\n",
    "The outline is as follows (using laptops as the example product):\n",
    "\n",
    " - Use the YouTube API to query videos like \"top ten laptops\"\n",
    " - Get the cc texts and other relevant information from various of those videos\n",
    " - Extract top laptops from the cc text with NER\n",
    " - Then query the YouTube API again to get review cc text for each laptop\n",
    " - Store this all as raw data."
   ]
  },
  {
   "cell_type": "code",
   "execution_count": 1,
   "metadata": {},
   "outputs": [],
   "source": [
    "import os\n",
    "from dotenv import load_dotenv\n",
    "from youtube_transcript_api import YouTubeTranscriptApi\n",
    "from googleapiclient.discovery import build"
   ]
  },
  {
   "cell_type": "markdown",
   "metadata": {},
   "source": [
    "Change directories to get access to env file."
   ]
  },
  {
   "cell_type": "code",
   "execution_count": 2,
   "metadata": {},
   "outputs": [],
   "source": [
    "os.chdir(\"../\")"
   ]
  },
  {
   "cell_type": "code",
   "execution_count": 3,
   "metadata": {},
   "outputs": [
    {
     "data": {
      "text/plain": [
       "'c:\\\\Users\\\\RaviB\\\\GitHub\\\\TechKnowBot'"
      ]
     },
     "execution_count": 3,
     "metadata": {},
     "output_type": "execute_result"
    }
   ],
   "source": [
    "pwd"
   ]
  },
  {
   "cell_type": "markdown",
   "metadata": {},
   "source": [
    "Build YouTube connector."
   ]
  },
  {
   "cell_type": "code",
   "execution_count": 4,
   "metadata": {},
   "outputs": [],
   "source": [
    "load_dotenv()\n",
    "\n",
    "youtube_api_key = os.getenv('GCP_YOUTUBE_API_KEY')"
   ]
  },
  {
   "cell_type": "code",
   "execution_count": 7,
   "metadata": {},
   "outputs": [],
   "source": [
    "openai_api_key = os.getenv('OPENAI_API_KEY')\n",
    "openai_api_org = os.getenv('OPENAI_API_ORG')"
   ]
  },
  {
   "cell_type": "markdown",
   "metadata": {},
   "source": [
    "Take old code from SentiRec Analytics project: https://github.com/RavinderRai/SentiRec-Analytics/blob/main/modules/YouTubeReviewScraper.py."
   ]
  },
  {
   "cell_type": "code",
   "execution_count": 21,
   "metadata": {},
   "outputs": [],
   "source": [
    "class YouTubeReviewData:    \n",
    "    def __init__(self, api_key):\n",
    "        self.api_key = api_key\n",
    "        self.youtube = build('youtube', 'v3', developerKey=api_key)\n",
    "        \n",
    "    def search_videos(self, search_query, max_results=5, individual_review=False):\n",
    "        \"\"\"\n",
    "        Search for YouTube videos based on a given query and retrieve additional information including closed captions.\n",
    "\n",
    "        Parameters:\n",
    "        - search_query (str): The search query used to find relevant videos on YouTube.\n",
    "        - max_results (int): The maximum number of videos to retrieve. Defaults to 5.\n",
    "        - individual_review (bool): If the search query is for reviews of a specific product, then set this to True, \n",
    "        to ignore videos with VS in their titles as that indicates that the reviews isn't for just the individual product itself.\n",
    "\n",
    "        Returns:\n",
    "        List[dict]: A list of dictionaries, each containing information about a video, including:\n",
    "            - 'video_id' (str): The unique identifier for the video.\n",
    "            - 'title' (str): The title of the video.\n",
    "            - 'video_link' (str): The YouTube link to the video.\n",
    "            - 'channel_name' (str): The name of the channel that uploaded the video.\n",
    "            - 'cc_text' (str): The closed captions text for the video. This is the review text.\n",
    "\n",
    "        Note:\n",
    "        - Videos with titles containing specific strings ('VS', 'vs', 'Vs') are excluded, as they indicate videos that aren't reviews specific to the  \n",
    "        product in the search query.\n",
    "        - The 'cc_text' field may contain an empty string if closed captions are not available.\n",
    "        \"\"\"       \n",
    "        \n",
    "        search_response = self.youtube.search().list(\n",
    "            q=search_query,\n",
    "            type='video',\n",
    "            part='id, snippet',\n",
    "            maxResults=max_results\n",
    "        ).execute()        \n",
    "        \n",
    "        videos_info = []\n",
    "        for result in search_response.get('items', []):\n",
    "            video_id = result['id']['videoId']\n",
    "            title = result['snippet']['title']\n",
    "            video_link = f'https://www.youtube.com/watch?v={video_id}'\n",
    "            channel_name = result['snippet']['channelTitle']\n",
    "\n",
    "            # Check and remove unwanted titles\n",
    "            strings_to_check = [\"VS\", \"vs\", \"Vs\"] if individual_review else []\n",
    "            if not any(s in title for s in strings_to_check):\n",
    "                review_text = self.fetch_captions(video_id)\n",
    "                videos_info.append({\n",
    "                    'video_id': video_id,\n",
    "                    'title': title,\n",
    "                    'video_link': video_link,\n",
    "                    'channel_name': channel_name,\n",
    "                    'cc_text': review_text\n",
    "                })\n",
    "\n",
    "        return videos_info\n",
    "    \n",
    "    def fetch_captions(self, video_id):\n",
    "        \"\"\"\n",
    "        Get the closed captions. \n",
    "\n",
    "        Parameters:\n",
    "        - video_id (str): The video id which is obtained in search_videos.\n",
    "        \n",
    "        Returns:\n",
    "        String: Closed caption text of a youtube video\n",
    "        \"\"\"\n",
    "        try:\n",
    "            # Retrieve the transcript for the video\n",
    "            transcript = YouTubeTranscriptApi.get_transcript(video_id)\n",
    "\n",
    "            cc_text = \"\"\n",
    "\n",
    "            # Concatenate the transcript text\n",
    "            for entry in transcript:\n",
    "                cc_text += ' ' + entry['text']\n",
    "                \n",
    "            cc_text = cc_text.replace('\\n', ' ')\n",
    "            return cc_text\n",
    "\n",
    "        except Exception as e:\n",
    "            print(f\"An error occurred: {str(e)}\")"
   ]
  },
  {
   "cell_type": "code",
   "execution_count": 22,
   "metadata": {},
   "outputs": [],
   "source": [
    "youtube = YouTubeReviewData(youtube_api_key)"
   ]
  },
  {
   "cell_type": "code",
   "execution_count": 23,
   "metadata": {},
   "outputs": [],
   "source": [
    "query_ex = \"top ten laptops\"\n",
    "search_ex = youtube.search_videos(query_ex, 5)"
   ]
  },
  {
   "cell_type": "code",
   "execution_count": 24,
   "metadata": {},
   "outputs": [
    {
     "name": "stdout",
     "output_type": "stream",
     "text": [
      " top 10 best laptops 2023 number 10 HP Spectre x364 careful because you can't help but fall in love with the HP Spectre X 3614 just look at that beautiful 13.5 in touchscreen with a resolution of 3000x 2000 pixels that adjusts its image color to the environment thanks to its artificial intelligence system incredible plus its screen can be turned back becoming a kind of tablet regarding the CPU the Spectre x314 comes equipped with a core i7 1255 U and an Intel UHD GPU so it has power to spare whether you're doing everyday office tasks or if you're a content creator like me can you see why I love it it has 16 GB of RAM and up to one Terra of storage so you can save what you want last but not least it has four speakers that sound great so how much for this beauty a reasonable $1,050 number nine Samsung Galaxy Book 2 Pro 360 if you like graphic design or working with metrics in the office the galaxy book 2 Pro 360 is ideal for you fairly priced at $950 this laptop has a 15.6 in Amo LED full HD screen with a great resolution of 1920x 1080 pixels its image quality stands out offering vibrant colors and being 33% brighter than conventional laptops I love it the screen can rotate 360° and become a tablet since it's also a touchscreen so that you can work directly on your graphics or designs with the S Pen it CPU is a core i7 1260p which gives it tremendous strength and for its Graphics power it has an Intel Iris XE GPU so you can also use it to play it has 16 GB of RAM and 512 GB of storage that can be expanded with an SSD card number eight Acer Swift 5 2022 if you live a busy life you probably need the Acer Swift 5 designed for maximum portability it weighs just 2.2 lb thanks to its magnesium lithium and magnesium aluminum alloy casing don't think it's fragile though it screen is protected by a robust Gorilla Glass 4 has a resolution of 1920x 1080 pixels in full HD and is a touchcreen in case you need to handle elements in an agile way cool and practical right inside it hides an Intel Core i7 1260p CPU and an Intel Iris XE GPU so it's light and yet very powerful since it has 16 GB of RAM and up to 1 Terra of storage wow it's priced at $1,500 although I wouldn't say this is the best cost benefit ratio let's see what other options the market will offer number seven Macbook Pro 13 18 in M2 2022 if you need portability as in the previous number and the battery matters most to you the MacBook Pro is for you I won't make you wait until the end right now I'm telling you that the MacBook Pro's battery gives you Independence for more than 18 hours so you could work all day away from any plug that seems perfect to me but going into other specs I'll tell you that it screen measures 13.3 in and has a resolution of up to 2560 x600 pixels which is great its processor is the 8 core Apple M2 and as Graphics support it has an integrated 8 core M2 GPU which together gives it great integrity for all types of functions which is best combined with its up to 24 GB of RAM and up to 2 terab of storage giving the MacBook Pro colossal Power by the way it cost $970 but an attractive price number six Asus Rog zephrus G14 this is one one of my favorites on the list and you'll love it too if you're a gaming fan the Asus Rog zephrus G14 features an AMD ryzen 9 4900 HS CPU which has enough power for any program and even the most resource demanding games plus it has the graphics support of Nvidia GeForce RTX 2060 Max Q you can edit movies on this laptop because its 14-in LCD screen offers a wqhd image with a resolution of 2560 by 1440 pixels which is amazing and it's also anti-reflective so that nothing distorts what you see by the way have you seen that awesome backlit keyboard yet fabulous right well it has 8 GB of RAM not bad but it can be better and up to 1 TB of storage that is great how much for this laptop $2,000 kind of overpriced if we compare it with what we've seen so far but it's worth it number five framework laptop 13 this laptop really caught my attention because of its concept the framework laptop 13 is probably the only modular laptop on the market what does this mean it means that you can upgrade its parts yourself fabulous even so it comes perfectly equipped with an AMD ryzen 9 7840 U CPU which is very powerful and also has a radon 700m GPU how can you upgrade that well when better Pieces come out in the future but let's continue with the specs its Ram comes from 8 to 64 GB it's up to you and has a storage capacity from 250 GB to 2 TB have you felt the power of modular Paradise yet it screen is 13.5 in and you can't change it but you won't need to do it anyway because it already offers an incredible resolution of 2256 X 1540 pixels where you can work or even play with spectacular image quality it's priced starting at $11,000 and I must say that it's worth every penny number four Lenovo Chromebook duet 3 this is my absolute favorite on the list it has everything and for an incredible $380 this is as absurd as it is great the Lenovo Chromebook duet 3 is powered by a Snapdragon 7c Gen 2 processor that provides impressive performance for any kind of task if you want to play or like graphic design you'll be backed by a gorgeous Qualcomm adreno GPU wow by the way it's 10.95 in screen makes it a portable treasure which perfectly matches its 1.14 lb weight but let's go back to the screen it's a touchscreen that offers an incredible resolution of 2,000x 1200 pixels and comes with a pen to design or make your graphics for your meetings weight size incredible performance and economy if you work remotely and like to travel the Chromebook duet 3 could be your best friend number three Asus Zenbook 13 OLED this is another laptop that I love how couldn't I it takes image quality and portability to a level that's hard to beat for a perfectly balanced price of $970 the Asus Zenbook 13 OLED as its name suggests features a 13-in HDR OLED display giving you an absurdly sharp image with incredibly Vivid colors and a resolution of 1920x 1080 pixels spectacular but if you're still not totally stunned you're about to see that its interior is an unparalleled appetizer since it houses is an AMD ryzen 7 5700 U CPU which is very powerful and will provide Power to everything you need and obviously behind such graphic quality there had to be this integrated Radeon graphics GPU the only detail that could be improved is its Ram which is 8 GB but it has 512 GB of storage which is great if you focus on portability number two Apple MacBook Air M2 the trick to the Apple MacBook Air that makes it probably the best laptop out there is that it's absurdly complete and portable it has a 13.6 in screen with Incredible image quality and provides a resolution of 2560 X 1664 pixels also look at that elegant design it comes equipped with an 8 core M2 CPU which is one of the best creations of the brand and gives it incredible support for everything it also comes with it a 10 core M2 GPU to give it a bunch of power to play anything what about the ram well it goes to the cloud since it has 24 GB for an impeccable interface and up to 2 terab of storage which feels like you can carry your entire office or studio in a briefcase I love it it's priced at $2,000 which is fair but not so affordable number one Dell XPS 15 OLED naming the Dell XPS 15 OLED as the best laptop of these times isn't a difficult task for $1,580 which is fully balanced in a cost benefit ratio it gives you such a great performance that's very difficult to beat to start it has a very solid and Powerful Intel Core I9 12,900 HK CPU for graphic work gaming and any Management program and as if that wasn't enough it also comes with an Nvidia RTX 3050 TI 4 GB GPU so the Dell XPS 15 OLED can play anything it's 15.6 in OLED screen provides a great resolution of 3456 X 2160 pixels and an impressively sharp image quality but if you check its Ram get ready because it has 64 GB of RAM for a practically immediate interface and a storage of a monstrous four teras there's nothing more to add this is the best laptop which of these laptops best suits your needs tell me in the comments and while you're there don't forget to like this video And subscribe to my channel because all be posting more videos like this see you in the next electronic [Music] Adventure\n"
     ]
    }
   ],
   "source": [
    "print(search_ex[0]['cc_text'])"
   ]
  },
  {
   "cell_type": "markdown",
   "metadata": {},
   "source": [
    "Getting examples for few shot config file."
   ]
  },
  {
   "cell_type": "code",
   "execution_count": 26,
   "metadata": {},
   "outputs": [
    {
     "data": {
      "text/plain": [
       "{'video_id': 'FK8veh-L8AE',\n",
       " 'title': 'TOP 10 BEST LAPTOPS 2023',\n",
       " 'video_link': 'https://www.youtube.com/watch?v=FK8veh-L8AE',\n",
       " 'channel_name': 'Trend Max',\n",
       " 'cc_text': \" top 10 best laptops 2023 number 10 HP Spectre x364 careful because you can't help but fall in love with the HP Spectre X 3614 just look at that beautiful 13.5 in touchscreen with a resolution of 3000x 2000 pixels that adjusts its image color to the environment thanks to its artificial intelligence system incredible plus its screen can be turned back becoming a kind of tablet regarding the CPU the Spectre x314 comes equipped with a core i7 1255 U and an Intel UHD GPU so it has power to spare whether you're doing everyday office tasks or if you're a content creator like me can you see why I love it it has 16 GB of RAM and up to one Terra of storage so you can save what you want last but not least it has four speakers that sound great so how much for this beauty a reasonable $1,050 number nine Samsung Galaxy Book 2 Pro 360 if you like graphic design or working with metrics in the office the galaxy book 2 Pro 360 is ideal for you fairly priced at $950 this laptop has a 15.6 in Amo LED full HD screen with a great resolution of 1920x 1080 pixels its image quality stands out offering vibrant colors and being 33% brighter than conventional laptops I love it the screen can rotate 360° and become a tablet since it's also a touchscreen so that you can work directly on your graphics or designs with the S Pen it CPU is a core i7 1260p which gives it tremendous strength and for its Graphics power it has an Intel Iris XE GPU so you can also use it to play it has 16 GB of RAM and 512 GB of storage that can be expanded with an SSD card number eight Acer Swift 5 2022 if you live a busy life you probably need the Acer Swift 5 designed for maximum portability it weighs just 2.2 lb thanks to its magnesium lithium and magnesium aluminum alloy casing don't think it's fragile though it screen is protected by a robust Gorilla Glass 4 has a resolution of 1920x 1080 pixels in full HD and is a touchcreen in case you need to handle elements in an agile way cool and practical right inside it hides an Intel Core i7 1260p CPU and an Intel Iris XE GPU so it's light and yet very powerful since it has 16 GB of RAM and up to 1 Terra of storage wow it's priced at $1,500 although I wouldn't say this is the best cost benefit ratio let's see what other options the market will offer number seven Macbook Pro 13 18 in M2 2022 if you need portability as in the previous number and the battery matters most to you the MacBook Pro is for you I won't make you wait until the end right now I'm telling you that the MacBook Pro's battery gives you Independence for more than 18 hours so you could work all day away from any plug that seems perfect to me but going into other specs I'll tell you that it screen measures 13.3 in and has a resolution of up to 2560 x600 pixels which is great its processor is the 8 core Apple M2 and as Graphics support it has an integrated 8 core M2 GPU which together gives it great integrity for all types of functions which is best combined with its up to 24 GB of RAM and up to 2 terab of storage giving the MacBook Pro colossal Power by the way it cost $970 but an attractive price number six Asus Rog zephrus G14 this is one one of my favorites on the list and you'll love it too if you're a gaming fan the Asus Rog zephrus G14 features an AMD ryzen 9 4900 HS CPU which has enough power for any program and even the most resource demanding games plus it has the graphics support of Nvidia GeForce RTX 2060 Max Q you can edit movies on this laptop because its 14-in LCD screen offers a wqhd image with a resolution of 2560 by 1440 pixels which is amazing and it's also anti-reflective so that nothing distorts what you see by the way have you seen that awesome backlit keyboard yet fabulous right well it has 8 GB of RAM not bad but it can be better and up to 1 TB of storage that is great how much for this laptop $2,000 kind of overpriced if we compare it with what we've seen so far but it's worth it number five framework laptop 13 this laptop really caught my attention because of its concept the framework laptop 13 is probably the only modular laptop on the market what does this mean it means that you can upgrade its parts yourself fabulous even so it comes perfectly equipped with an AMD ryzen 9 7840 U CPU which is very powerful and also has a radon 700m GPU how can you upgrade that well when better Pieces come out in the future but let's continue with the specs its Ram comes from 8 to 64 GB it's up to you and has a storage capacity from 250 GB to 2 TB have you felt the power of modular Paradise yet it screen is 13.5 in and you can't change it but you won't need to do it anyway because it already offers an incredible resolution of 2256 X 1540 pixels where you can work or even play with spectacular image quality it's priced starting at $11,000 and I must say that it's worth every penny number four Lenovo Chromebook duet 3 this is my absolute favorite on the list it has everything and for an incredible $380 this is as absurd as it is great the Lenovo Chromebook duet 3 is powered by a Snapdragon 7c Gen 2 processor that provides impressive performance for any kind of task if you want to play or like graphic design you'll be backed by a gorgeous Qualcomm adreno GPU wow by the way it's 10.95 in screen makes it a portable treasure which perfectly matches its 1.14 lb weight but let's go back to the screen it's a touchscreen that offers an incredible resolution of 2,000x 1200 pixels and comes with a pen to design or make your graphics for your meetings weight size incredible performance and economy if you work remotely and like to travel the Chromebook duet 3 could be your best friend number three Asus Zenbook 13 OLED this is another laptop that I love how couldn't I it takes image quality and portability to a level that's hard to beat for a perfectly balanced price of $970 the Asus Zenbook 13 OLED as its name suggests features a 13-in HDR OLED display giving you an absurdly sharp image with incredibly Vivid colors and a resolution of 1920x 1080 pixels spectacular but if you're still not totally stunned you're about to see that its interior is an unparalleled appetizer since it houses is an AMD ryzen 7 5700 U CPU which is very powerful and will provide Power to everything you need and obviously behind such graphic quality there had to be this integrated Radeon graphics GPU the only detail that could be improved is its Ram which is 8 GB but it has 512 GB of storage which is great if you focus on portability number two Apple MacBook Air M2 the trick to the Apple MacBook Air that makes it probably the best laptop out there is that it's absurdly complete and portable it has a 13.6 in screen with Incredible image quality and provides a resolution of 2560 X 1664 pixels also look at that elegant design it comes equipped with an 8 core M2 CPU which is one of the best creations of the brand and gives it incredible support for everything it also comes with it a 10 core M2 GPU to give it a bunch of power to play anything what about the ram well it goes to the cloud since it has 24 GB for an impeccable interface and up to 2 terab of storage which feels like you can carry your entire office or studio in a briefcase I love it it's priced at $2,000 which is fair but not so affordable number one Dell XPS 15 OLED naming the Dell XPS 15 OLED as the best laptop of these times isn't a difficult task for $1,580 which is fully balanced in a cost benefit ratio it gives you such a great performance that's very difficult to beat to start it has a very solid and Powerful Intel Core I9 12,900 HK CPU for graphic work gaming and any Management program and as if that wasn't enough it also comes with an Nvidia RTX 3050 TI 4 GB GPU so the Dell XPS 15 OLED can play anything it's 15.6 in OLED screen provides a great resolution of 3456 X 2160 pixels and an impressively sharp image quality but if you check its Ram get ready because it has 64 GB of RAM for a practically immediate interface and a storage of a monstrous four teras there's nothing more to add this is the best laptop which of these laptops best suits your needs tell me in the comments and while you're there don't forget to like this video And subscribe to my channel because all be posting more videos like this see you in the next electronic [Music] Adventure\"}"
      ]
     },
     "execution_count": 26,
     "metadata": {},
     "output_type": "execute_result"
    }
   ],
   "source": [
    "search_ex[0]"
   ]
  },
  {
   "cell_type": "code",
   "execution_count": 27,
   "metadata": {},
   "outputs": [
    {
     "ename": "SyntaxError",
     "evalue": "invalid syntax (3471336060.py, line 4)",
     "output_type": "error",
     "traceback": [
      "\u001b[1;36m  Cell \u001b[1;32mIn[27], line 4\u001b[1;36m\u001b[0m\n\u001b[1;33m    \"text\": \"HP Spectre x364\",\u001b[0m\n\u001b[1;37m          ^\u001b[0m\n\u001b[1;31mSyntaxError\u001b[0m\u001b[1;31m:\u001b[0m invalid syntax\n"
     ]
    }
   ],
   "source": [
    "ex_0 = {\n",
    "        \"text\": search_ex[0],\n",
    "        \"spans\": [\n",
    "            {\n",
    "                \"text\": \"HP Spectre x364\",\n",
    "                \"is_entity\": true,\n",
    "                \"label\": \"Laptop\"\n",
    "                \"is a laptop\"\n",
    "            },\n",
    "            {\n",
    "                \"text\": \"Terra\",\n",
    "                \"is_entity\": false,\n",
    "                \"label\": \"Laptop\"\n",
    "                \"a unit of measurement for storage\"\n",
    "            },\n",
    "            {\n",
    "                \"text\": \"Samsung Galaxy Book 2 Pro 360\",\n",
    "                \"is_entity\": true,\n",
    "                \"label\": \"Laptop\"\n",
    "                \"a unit of measurement for storage\"\n",
    "            }\n",
    "\n",
    "        ]\n",
    "    }"
   ]
  },
  {
   "cell_type": "markdown",
   "metadata": {},
   "source": [
    "## Extracting Objects\n",
    "\n",
    "After searching for videos with the best of for certain products, now we want to extract what those products are. We can do this with named entity recognition (NER)."
   ]
  },
  {
   "cell_type": "code",
   "execution_count": 9,
   "metadata": {},
   "outputs": [],
   "source": [
    "import spacy\n",
    "ner = spacy.load(\"en_core_web_sm\")"
   ]
  },
  {
   "cell_type": "code",
   "execution_count": 10,
   "metadata": {},
   "outputs": [
    {
     "data": {
      "text/plain": [
       "{'video_id': 'FK8veh-L8AE',\n",
       " 'title': 'TOP 10 BEST LAPTOPS 2023',\n",
       " 'video_link': 'https://www.youtube.com/watch?v=FK8veh-L8AE',\n",
       " 'channel_name': 'Trend Max',\n",
       " 'cc_text': \" top 10 best laptops 2023 number 10 HP Spectre x364 careful because you can't help but fall in love with the HP Spectre X 3614 just look at that beautiful 13.5 in touchscreen with a resolution of 3000x 2000 pixels that adjusts its image color to the environment thanks to its artificial intelligence system incredible plus its screen can be turned back becoming a kind of tablet regarding the CPU the Spectre x314 comes equipped with a core i7 1255 U and an Intel UHD GPU so it has power to spare whether you're doing everyday office tasks or if you're a content creator like me can you see why I love it it has 16 GB of RAM and up to one Terra of storage so you can save what you want last but not least it has four speakers that sound great so how much for this beauty a reasonable $1,050 number nine Samsung Galaxy Book 2 Pro 360 if you like graphic design or working with metrics in the office the galaxy book 2 Pro 360 is ideal for you fairly priced at $950 this laptop has a 15.6 in Amo LED full HD screen with a great resolution of 1920x 1080 pixels its image quality stands out offering vibrant colors and being 33% brighter than conventional laptops I love it the screen can rotate 360° and become a tablet since it's also a touchscreen so that you can work directly on your graphics or designs with the S Pen it CPU is a core i7 1260p which gives it tremendous strength and for its Graphics power it has an Intel Iris XE GPU so you can also use it to play it has 16 GB of RAM and 512 GB of storage that can be expanded with an SSD card number eight Acer Swift 5 2022 if you live a busy life you probably need the Acer Swift 5 designed for maximum portability it weighs just 2.2 lb thanks to its magnesium lithium and magnesium aluminum alloy casing don't think it's fragile though it screen is protected by a robust Gorilla Glass 4 has a resolution of 1920x 1080 pixels in full HD and is a touchcreen in case you need to handle elements in an agile way cool and practical right inside it hides an Intel Core i7 1260p CPU and an Intel Iris XE GPU so it's light and yet very powerful since it has 16 GB of RAM and up to 1 Terra of storage wow it's priced at $1,500 although I wouldn't say this is the best cost benefit ratio let's see what other options the market will offer number seven Macbook Pro 13 18 in M2 2022 if you need portability as in the previous number and the battery matters most to you the MacBook Pro is for you I won't make you wait until the end right now I'm telling you that the MacBook Pro's battery gives you Independence for more than 18 hours so you could work all day away from any plug that seems perfect to me but going into other specs I'll tell you that it screen measures 13.3 in and has a resolution of up to 2560 x600 pixels which is great its processor is the 8 core Apple M2 and as Graphics support it has an integrated 8 core M2 GPU which together gives it great integrity for all types of functions which is best combined with its up to 24 GB of RAM and up to 2 terab of storage giving the MacBook Pro colossal Power by the way it cost $970 but an attractive price number six Asus Rog zephrus G14 this is one one of my favorites on the list and you'll love it too if you're a gaming fan the Asus Rog zephrus G14 features an AMD ryzen 9 4900 HS CPU which has enough power for any program and even the most resource demanding games plus it has the graphics support of Nvidia GeForce RTX 2060 Max Q you can edit movies on this laptop because its 14-in LCD screen offers a wqhd image with a resolution of 2560 by 1440 pixels which is amazing and it's also anti-reflective so that nothing distorts what you see by the way have you seen that awesome backlit keyboard yet fabulous right well it has 8 GB of RAM not bad but it can be better and up to 1 TB of storage that is great how much for this laptop $2,000 kind of overpriced if we compare it with what we've seen so far but it's worth it number five framework laptop 13 this laptop really caught my attention because of its concept the framework laptop 13 is probably the only modular laptop on the market what does this mean it means that you can upgrade its parts yourself fabulous even so it comes perfectly equipped with an AMD ryzen 9 7840 U CPU which is very powerful and also has a radon 700m GPU how can you upgrade that well when better Pieces come out in the future but let's continue with the specs its Ram comes from 8 to 64 GB it's up to you and has a storage capacity from 250 GB to 2 TB have you felt the power of modular Paradise yet it screen is 13.5 in and you can't change it but you won't need to do it anyway because it already offers an incredible resolution of 2256 X 1540 pixels where you can work or even play with spectacular image quality it's priced starting at $11,000 and I must say that it's worth every penny number four Lenovo Chromebook duet 3 this is my absolute favorite on the list it has everything and for an incredible $380 this is as absurd as it is great the Lenovo Chromebook duet 3 is powered by a Snapdragon 7c Gen 2 processor that provides impressive performance for any kind of task if you want to play or like graphic design you'll be backed by a gorgeous Qualcomm adreno GPU wow by the way it's 10.95 in screen makes it a portable treasure which perfectly matches its 1.14 lb weight but let's go back to the screen it's a touchscreen that offers an incredible resolution of 2,000x 1200 pixels and comes with a pen to design or make your graphics for your meetings weight size incredible performance and economy if you work remotely and like to travel the Chromebook duet 3 could be your best friend number three Asus Zenbook 13 OLED this is another laptop that I love how couldn't I it takes image quality and portability to a level that's hard to beat for a perfectly balanced price of $970 the Asus Zenbook 13 OLED as its name suggests features a 13-in HDR OLED display giving you an absurdly sharp image with incredibly Vivid colors and a resolution of 1920x 1080 pixels spectacular but if you're still not totally stunned you're about to see that its interior is an unparalleled appetizer since it houses is an AMD ryzen 7 5700 U CPU which is very powerful and will provide Power to everything you need and obviously behind such graphic quality there had to be this integrated Radeon graphics GPU the only detail that could be improved is its Ram which is 8 GB but it has 512 GB of storage which is great if you focus on portability number two Apple MacBook Air M2 the trick to the Apple MacBook Air that makes it probably the best laptop out there is that it's absurdly complete and portable it has a 13.6 in screen with Incredible image quality and provides a resolution of 2560 X 1664 pixels also look at that elegant design it comes equipped with an 8 core M2 CPU which is one of the best creations of the brand and gives it incredible support for everything it also comes with it a 10 core M2 GPU to give it a bunch of power to play anything what about the ram well it goes to the cloud since it has 24 GB for an impeccable interface and up to 2 terab of storage which feels like you can carry your entire office or studio in a briefcase I love it it's priced at $2,000 which is fair but not so affordable number one Dell XPS 15 OLED naming the Dell XPS 15 OLED as the best laptop of these times isn't a difficult task for $1,580 which is fully balanced in a cost benefit ratio it gives you such a great performance that's very difficult to beat to start it has a very solid and Powerful Intel Core I9 12,900 HK CPU for graphic work gaming and any Management program and as if that wasn't enough it also comes with an Nvidia RTX 3050 TI 4 GB GPU so the Dell XPS 15 OLED can play anything it's 15.6 in OLED screen provides a great resolution of 3456 X 2160 pixels and an impressively sharp image quality but if you check its Ram get ready because it has 64 GB of RAM for a practically immediate interface and a storage of a monstrous four teras there's nothing more to add this is the best laptop which of these laptops best suits your needs tell me in the comments and while you're there don't forget to like this video And subscribe to my channel because all be posting more videos like this see you in the next electronic [Music] Adventure\"}"
      ]
     },
     "execution_count": 10,
     "metadata": {},
     "output_type": "execute_result"
    }
   ],
   "source": [
    "search_ex[0]"
   ]
  },
  {
   "cell_type": "code",
   "execution_count": 11,
   "metadata": {},
   "outputs": [],
   "source": [
    "cc_text_ex = search_ex[0]['cc_text']\n",
    "doc = ner(cc_text_ex)"
   ]
  },
  {
   "cell_type": "code",
   "execution_count": 12,
   "metadata": {},
   "outputs": [
    {
     "name": "stdout",
     "output_type": "stream",
     "text": [
      "CPU\n",
      "Intel\n",
      "GPU\n",
      "RAM\n",
      "Samsung\n",
      "CPU\n",
      "Intel\n",
      "RAM\n",
      "SSD\n",
      "Acer\n",
      "CPU\n",
      "Intel\n",
      "RAM\n",
      "Macbook Pro\n",
      "the MacBook Pro\n",
      "the MacBook Pro's\n",
      "Apple\n",
      "M2\n",
      "RAM\n",
      "G14\n",
      "G14\n",
      "AMD\n",
      "CPU\n",
      "Nvidia GeForce\n",
      "LCD\n",
      "RAM\n",
      "AMD\n",
      "CPU\n",
      "Lenovo Chromebook\n",
      "Lenovo Chromebook\n",
      "Snapdragon\n",
      "GPU\n",
      "Chromebook\n",
      "HDR\n",
      "Vivid\n",
      "AMD\n",
      "CPU\n",
      "GPU\n",
      "Apple\n",
      "the Apple MacBook Air\n",
      "Dell\n",
      "XPS 15\n",
      "GPU\n",
      "RAM\n"
     ]
    }
   ],
   "source": [
    "for ent in doc.ents:\n",
    "    if ent.label_ in [\"ORG\", \"PRODUCT\"]:\n",
    "        print(ent)"
   ]
  },
  {
   "cell_type": "code",
   "execution_count": 13,
   "metadata": {},
   "outputs": [
    {
     "name": "stdout",
     "output_type": "stream",
     "text": [
      "Apple M2\n",
      "Dell XPS 15\n"
     ]
    }
   ],
   "source": [
    "for i, ent in enumerate(doc.ents):\n",
    "    if (ent.label_ == \"ORG\") and (doc.ents[i+1].label_ == \"PRODUCT\"):\n",
    "        print(ent, doc.ents[i+1])"
   ]
  },
  {
   "cell_type": "markdown",
   "metadata": {},
   "source": [
    "## Spacy_LLM NER\n",
    "\n",
    "Trying spacy-LLM integration for a better NER method, since the basic version above is missing a lot. Here is a guide on how to do this: https://github.com/explosion/spacy-llm/tree/main/usage_examples/ner_v3_openai."
   ]
  },
  {
   "cell_type": "code",
   "execution_count": 20,
   "metadata": {},
   "outputs": [],
   "source": [
    "#nlp = spacy.blank(\"en\")"
   ]
  },
  {
   "cell_type": "code",
   "execution_count": 12,
   "metadata": {},
   "outputs": [],
   "source": [
    "from spacy_llm.util import assemble"
   ]
  },
  {
   "cell_type": "code",
   "execution_count": 10,
   "metadata": {},
   "outputs": [],
   "source": [
    "os.environ[\"OPENAI_API_KEY\"] = openai_api_key\n",
    "os.environ[\"OPENAI_API_ORG\"] = openai_api_org"
   ]
  },
  {
   "cell_type": "code",
   "execution_count": 41,
   "metadata": {},
   "outputs": [],
   "source": [
    "#import openai\n",
    "\n",
    "#openai.api_key = os.getenv(\"OPENAI_API_ORG\")"
   ]
  },
  {
   "cell_type": "code",
   "execution_count": 13,
   "metadata": {},
   "outputs": [],
   "source": [
    "nlp = assemble(\"notebooks/config.cfg\", overrides={\"paths.examples\": \"notebooks/examples.json\"})"
   ]
  },
  {
   "cell_type": "code",
   "execution_count": 14,
   "metadata": {},
   "outputs": [],
   "source": [
    "doc = nlp(\"Sriracha sauce goes really well with hoisin stir fry, but you should add it after you use the wok.\")"
   ]
  },
  {
   "cell_type": "code",
   "execution_count": 15,
   "metadata": {},
   "outputs": [
    {
     "data": {
      "text/plain": [
       "'Sriracha sauce goes really well with hoisin stir fry, but you should add it after you use the wok.'"
      ]
     },
     "execution_count": 15,
     "metadata": {},
     "output_type": "execute_result"
    }
   ],
   "source": [
    "doc.text"
   ]
  },
  {
   "cell_type": "code",
   "execution_count": 16,
   "metadata": {},
   "outputs": [
    {
     "data": {
      "text/plain": [
       "[('Sriracha sauce', 'INGREDIENT'),\n",
       " ('hoisin', 'INGREDIENT'),\n",
       " ('stir fry', 'DISH'),\n",
       " ('wok', 'EQUIPMENT')]"
      ]
     },
     "execution_count": 16,
     "metadata": {},
     "output_type": "execute_result"
    }
   ],
   "source": [
    "[(ent.text, ent.label_) for ent in doc.ents]"
   ]
  },
  {
   "cell_type": "markdown",
   "metadata": {},
   "source": [
    "[paths]\n",
    "examples = null\n",
    "\n",
    "[nlp]\n",
    "lang = \"en\"\n",
    "pipeline = [\"llm\"]\n",
    "\n",
    "[components]\n",
    "\n",
    "[components.llm]\n",
    "factory = \"llm\"\n",
    "\n",
    "[components.llm.task]\n",
    "@llm_tasks = \"spacy.NER.v3\"\n",
    "labels = [\"ORG\", \"LAPTOP\"]\n",
    "description = Entities are the names of laptops, \n",
    "    and the organizations are companies that made the laptop.\n",
    "    Adjectives, verbs, adverbs are not entities.\n",
    "    Pronouns are not entities.\n",
    "\n",
    "[components.llm.task.label_definitions]\n",
    "ORG = \"Organization a laptop belongs to.\"\n",
    "LAPTOP = \"Name of a laptop.\"\n",
    "\n",
    "[components.llm.task.examples]\n",
    "@misc = \"spacy.FewShotReader.v1\"\n",
    "path = \"${paths.examples}\"\n",
    "\n",
    "[components.llm.model]\n",
    "@llm_models = \"spacy.GPT-3-5.v1\""
   ]
  }
 ],
 "metadata": {
  "kernelspec": {
   "display_name": "TechKnow",
   "language": "python",
   "name": "python3"
  },
  "language_info": {
   "codemirror_mode": {
    "name": "ipython",
    "version": 3
   },
   "file_extension": ".py",
   "mimetype": "text/x-python",
   "name": "python",
   "nbconvert_exporter": "python",
   "pygments_lexer": "ipython3",
   "version": "3.10.14"
  }
 },
 "nbformat": 4,
 "nbformat_minor": 2
}

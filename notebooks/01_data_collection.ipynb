{
 "cells": [
  {
   "cell_type": "markdown",
   "metadata": {},
   "source": [
    "# Data Collection and Exploration\n",
    "\n",
    "Here we will load in the data from youtube, where collecting cc texts from relevant search queries is the main goal.\n",
    "\n",
    "The outline is as follows (using laptops as the example product):\n",
    "\n",
    " - Use the YouTube API to query videos like \"top ten laptops\"\n",
    " - Get the cc texts and other relevant information from various of those videos\n",
    " - Extract top laptops from the cc text with NER\n",
    " - Then query the YouTube API again to get review cc text for each laptop\n",
    " - Store this all as raw data."
   ]
  },
  {
   "cell_type": "code",
   "execution_count": 1,
   "metadata": {},
   "outputs": [],
   "source": [
    "import os\n",
    "from dotenv import load_dotenv\n",
    "from youtube_transcript_api import YouTubeTranscriptApi\n",
    "from googleapiclient.discovery import build"
   ]
  },
  {
   "cell_type": "markdown",
   "metadata": {},
   "source": [
    "Change directories to get access to env file."
   ]
  },
  {
   "cell_type": "code",
   "execution_count": 2,
   "metadata": {},
   "outputs": [],
   "source": [
    "os.chdir(\"../\")"
   ]
  },
  {
   "cell_type": "code",
   "execution_count": 3,
   "metadata": {},
   "outputs": [
    {
     "data": {
      "text/plain": [
       "'c:\\\\Users\\\\RaviB\\\\GitHub\\\\TechKnowBot'"
      ]
     },
     "execution_count": 3,
     "metadata": {},
     "output_type": "execute_result"
    }
   ],
   "source": [
    "pwd"
   ]
  },
  {
   "cell_type": "markdown",
   "metadata": {},
   "source": [
    "Build YouTube connector."
   ]
  },
  {
   "cell_type": "code",
   "execution_count": 4,
   "metadata": {},
   "outputs": [],
   "source": [
    "load_dotenv()\n",
    "\n",
    "youtube_api_key = os.getenv('GCP_YOUTUBE_API_KEY')"
   ]
  },
  {
   "cell_type": "code",
   "execution_count": 5,
   "metadata": {},
   "outputs": [],
   "source": [
    "openai_api_key = os.getenv('OPENAI_API_KEY')\n",
    "openai_api_org = os.getenv('OPENAI_API_ORG')"
   ]
  },
  {
   "cell_type": "markdown",
   "metadata": {},
   "source": [
    "Take old code from SentiRec Analytics project: https://github.com/RavinderRai/SentiRec-Analytics/blob/main/modules/YouTubeReviewScraper.py."
   ]
  },
  {
   "cell_type": "code",
   "execution_count": 6,
   "metadata": {},
   "outputs": [],
   "source": [
    "class YouTubeReviewData:    \n",
    "    def __init__(self, api_key):\n",
    "        self.api_key = api_key\n",
    "        self.youtube = build('youtube', 'v3', developerKey=api_key)\n",
    "        \n",
    "    def search_videos(self, search_query, max_results=5, individual_review=False):\n",
    "        \"\"\"\n",
    "        Search for YouTube videos based on a given query and retrieve additional information including closed captions.\n",
    "\n",
    "        Parameters:\n",
    "        - search_query (str): The search query used to find relevant videos on YouTube.\n",
    "        - max_results (int): The maximum number of videos to retrieve. Defaults to 5.\n",
    "        - individual_review (bool): If the search query is for reviews of a specific product, then set this to True, \n",
    "        to ignore videos with VS in their titles as that indicates that the reviews isn't for just the individual product itself.\n",
    "\n",
    "        Returns:\n",
    "        List[dict]: A list of dictionaries, each containing information about a video, including:\n",
    "            - 'video_id' (str): The unique identifier for the video.\n",
    "            - 'title' (str): The title of the video.\n",
    "            - 'video_link' (str): The YouTube link to the video.\n",
    "            - 'channel_name' (str): The name of the channel that uploaded the video.\n",
    "            - 'cc_text' (str): The closed captions text for the video. This is the review text.\n",
    "\n",
    "        Note:\n",
    "        - Videos with titles containing specific strings ('VS', 'vs', 'Vs') are excluded, as they indicate videos that aren't reviews specific to the  \n",
    "        product in the search query.\n",
    "        - The 'cc_text' field may contain an empty string if closed captions are not available.\n",
    "        \"\"\"       \n",
    "        \n",
    "        search_response = self.youtube.search().list(\n",
    "            q=search_query,\n",
    "            type='video',\n",
    "            part='id, snippet',\n",
    "            maxResults=max_results\n",
    "        ).execute()        \n",
    "        \n",
    "        videos_info = []\n",
    "        for result in search_response.get('items', []):\n",
    "            video_id = result['id']['videoId']\n",
    "            title = result['snippet']['title']\n",
    "            video_link = f'https://www.youtube.com/watch?v={video_id}'\n",
    "            channel_name = result['snippet']['channelTitle']\n",
    "\n",
    "            # Check and remove unwanted titles\n",
    "            strings_to_check = [\"VS\", \"vs\", \"Vs\"] if individual_review else []\n",
    "            if not any(s in title for s in strings_to_check):\n",
    "                review_text = self.fetch_captions(video_id)\n",
    "                videos_info.append({\n",
    "                    'video_id': video_id,\n",
    "                    'title': title,\n",
    "                    'video_link': video_link,\n",
    "                    'channel_name': channel_name,\n",
    "                    'cc_text': review_text\n",
    "                })\n",
    "\n",
    "        return videos_info\n",
    "    \n",
    "    def fetch_captions(self, video_id):\n",
    "        \"\"\"\n",
    "        Get the closed captions. \n",
    "\n",
    "        Parameters:\n",
    "        - video_id (str): The video id which is obtained in search_videos.\n",
    "        \n",
    "        Returns:\n",
    "        String: Closed caption text of a youtube video\n",
    "        \"\"\"\n",
    "        try:\n",
    "            # Retrieve the transcript for the video\n",
    "            transcript = YouTubeTranscriptApi.get_transcript(video_id)\n",
    "\n",
    "            cc_text = \"\"\n",
    "\n",
    "            # Concatenate the transcript text\n",
    "            for entry in transcript:\n",
    "                cc_text += ' ' + entry['text']\n",
    "                \n",
    "            cc_text = cc_text.replace('\\n', ' ')\n",
    "            return cc_text\n",
    "\n",
    "        except Exception as e:\n",
    "            print(f\"An error occurred: {str(e)}\")"
   ]
  },
  {
   "cell_type": "code",
   "execution_count": 7,
   "metadata": {},
   "outputs": [],
   "source": [
    "youtube = YouTubeReviewData(youtube_api_key)"
   ]
  },
  {
   "cell_type": "code",
   "execution_count": 8,
   "metadata": {},
   "outputs": [],
   "source": [
    "query_ex = \"top ten laptops\"\n",
    "search_ex = youtube.search_videos(query_ex, 5)"
   ]
  },
  {
   "cell_type": "code",
   "execution_count": 9,
   "metadata": {},
   "outputs": [
    {
     "name": "stdout",
     "output_type": "stream",
     "text": [
      " top 10 best laptops 2023 number 10 HP Spectre x364 careful because you can't help but fall in love with the HP Spectre X 3614 just look at that beautiful 13.5 in touchscreen with a resolution of 3000x 2000 pixels that adjusts its image color to the environment thanks to its artificial intelligence system incredible plus its screen can be turned back becoming a kind of tablet regarding the CPU the Spectre x314 comes equipped with a core i7 1255 U and an Intel UHD GPU so it has power to spare whether you're doing everyday office tasks or if you're a content creator like me can you see why I love it it has 16 GB of RAM and up to one Terra of storage so you can save what you want last but not least it has four speakers that sound great so how much for this beauty a reasonable $1,050 number nine Samsung Galaxy Book 2 Pro 360 if you like graphic design or working with metrics in the office the galaxy book 2 Pro 360 is ideal for you fairly priced at $950 this laptop has a 15.6 in Amo LED full HD screen with a great resolution of 1920x 1080 pixels its image quality stands out offering vibrant colors and being 33% brighter than conventional laptops I love it the screen can rotate 360° and become a tablet since it's also a touchscreen so that you can work directly on your graphics or designs with the S Pen it CPU is a core i7 1260p which gives it tremendous strength and for its Graphics power it has an Intel Iris XE GPU so you can also use it to play it has 16 GB of RAM and 512 GB of storage that can be expanded with an SSD card number eight Acer Swift 5 2022 if you live a busy life you probably need the Acer Swift 5 designed for maximum portability it weighs just 2.2 lb thanks to its magnesium lithium and magnesium aluminum alloy casing don't think it's fragile though it screen is protected by a robust Gorilla Glass 4 has a resolution of 1920x 1080 pixels in full HD and is a touchcreen in case you need to handle elements in an agile way cool and practical right inside it hides an Intel Core i7 1260p CPU and an Intel Iris XE GPU so it's light and yet very powerful since it has 16 GB of RAM and up to 1 Terra of storage wow it's priced at $1,500 although I wouldn't say this is the best cost benefit ratio let's see what other options the market will offer number seven Macbook Pro 13 18 in M2 2022 if you need portability as in the previous number and the battery matters most to you the MacBook Pro is for you I won't make you wait until the end right now I'm telling you that the MacBook Pro's battery gives you Independence for more than 18 hours so you could work all day away from any plug that seems perfect to me but going into other specs I'll tell you that it screen measures 13.3 in and has a resolution of up to 2560 x600 pixels which is great its processor is the 8 core Apple M2 and as Graphics support it has an integrated 8 core M2 GPU which together gives it great integrity for all types of functions which is best combined with its up to 24 GB of RAM and up to 2 terab of storage giving the MacBook Pro colossal Power by the way it cost $970 but an attractive price number six Asus Rog zephrus G14 this is one one of my favorites on the list and you'll love it too if you're a gaming fan the Asus Rog zephrus G14 features an AMD ryzen 9 4900 HS CPU which has enough power for any program and even the most resource demanding games plus it has the graphics support of Nvidia GeForce RTX 2060 Max Q you can edit movies on this laptop because its 14-in LCD screen offers a wqhd image with a resolution of 2560 by 1440 pixels which is amazing and it's also anti-reflective so that nothing distorts what you see by the way have you seen that awesome backlit keyboard yet fabulous right well it has 8 GB of RAM not bad but it can be better and up to 1 TB of storage that is great how much for this laptop $2,000 kind of overpriced if we compare it with what we've seen so far but it's worth it number five framework laptop 13 this laptop really caught my attention because of its concept the framework laptop 13 is probably the only modular laptop on the market what does this mean it means that you can upgrade its parts yourself fabulous even so it comes perfectly equipped with an AMD ryzen 9 7840 U CPU which is very powerful and also has a radon 700m GPU how can you upgrade that well when better Pieces come out in the future but let's continue with the specs its Ram comes from 8 to 64 GB it's up to you and has a storage capacity from 250 GB to 2 TB have you felt the power of modular Paradise yet it screen is 13.5 in and you can't change it but you won't need to do it anyway because it already offers an incredible resolution of 2256 X 1540 pixels where you can work or even play with spectacular image quality it's priced starting at $11,000 and I must say that it's worth every penny number four Lenovo Chromebook duet 3 this is my absolute favorite on the list it has everything and for an incredible $380 this is as absurd as it is great the Lenovo Chromebook duet 3 is powered by a Snapdragon 7c Gen 2 processor that provides impressive performance for any kind of task if you want to play or like graphic design you'll be backed by a gorgeous Qualcomm adreno GPU wow by the way it's 10.95 in screen makes it a portable treasure which perfectly matches its 1.14 lb weight but let's go back to the screen it's a touchscreen that offers an incredible resolution of 2,000x 1200 pixels and comes with a pen to design or make your graphics for your meetings weight size incredible performance and economy if you work remotely and like to travel the Chromebook duet 3 could be your best friend number three Asus Zenbook 13 OLED this is another laptop that I love how couldn't I it takes image quality and portability to a level that's hard to beat for a perfectly balanced price of $970 the Asus Zenbook 13 OLED as its name suggests features a 13-in HDR OLED display giving you an absurdly sharp image with incredibly Vivid colors and a resolution of 1920x 1080 pixels spectacular but if you're still not totally stunned you're about to see that its interior is an unparalleled appetizer since it houses is an AMD ryzen 7 5700 U CPU which is very powerful and will provide Power to everything you need and obviously behind such graphic quality there had to be this integrated Radeon graphics GPU the only detail that could be improved is its Ram which is 8 GB but it has 512 GB of storage which is great if you focus on portability number two Apple MacBook Air M2 the trick to the Apple MacBook Air that makes it probably the best laptop out there is that it's absurdly complete and portable it has a 13.6 in screen with Incredible image quality and provides a resolution of 2560 X 1664 pixels also look at that elegant design it comes equipped with an 8 core M2 CPU which is one of the best creations of the brand and gives it incredible support for everything it also comes with it a 10 core M2 GPU to give it a bunch of power to play anything what about the ram well it goes to the cloud since it has 24 GB for an impeccable interface and up to 2 terab of storage which feels like you can carry your entire office or studio in a briefcase I love it it's priced at $2,000 which is fair but not so affordable number one Dell XPS 15 OLED naming the Dell XPS 15 OLED as the best laptop of these times isn't a difficult task for $1,580 which is fully balanced in a cost benefit ratio it gives you such a great performance that's very difficult to beat to start it has a very solid and Powerful Intel Core I9 12,900 HK CPU for graphic work gaming and any Management program and as if that wasn't enough it also comes with an Nvidia RTX 3050 TI 4 GB GPU so the Dell XPS 15 OLED can play anything it's 15.6 in OLED screen provides a great resolution of 3456 X 2160 pixels and an impressively sharp image quality but if you check its Ram get ready because it has 64 GB of RAM for a practically immediate interface and a storage of a monstrous four teras there's nothing more to add this is the best laptop which of these laptops best suits your needs tell me in the comments and while you're there don't forget to like this video And subscribe to my channel because all be posting more videos like this see you in the next electronic [Music] Adventure\n"
     ]
    }
   ],
   "source": [
    "print(search_ex[0]['cc_text'])"
   ]
  },
  {
   "cell_type": "markdown",
   "metadata": {},
   "source": [
    "Getting examples for few shot config file."
   ]
  },
  {
   "cell_type": "code",
   "execution_count": 10,
   "metadata": {},
   "outputs": [
    {
     "data": {
      "text/plain": [
       "{'video_id': 'FK8veh-L8AE',\n",
       " 'title': 'TOP 10 BEST LAPTOPS 2023',\n",
       " 'video_link': 'https://www.youtube.com/watch?v=FK8veh-L8AE',\n",
       " 'channel_name': 'Trend Max',\n",
       " 'cc_text': \" top 10 best laptops 2023 number 10 HP Spectre x364 careful because you can't help but fall in love with the HP Spectre X 3614 just look at that beautiful 13.5 in touchscreen with a resolution of 3000x 2000 pixels that adjusts its image color to the environment thanks to its artificial intelligence system incredible plus its screen can be turned back becoming a kind of tablet regarding the CPU the Spectre x314 comes equipped with a core i7 1255 U and an Intel UHD GPU so it has power to spare whether you're doing everyday office tasks or if you're a content creator like me can you see why I love it it has 16 GB of RAM and up to one Terra of storage so you can save what you want last but not least it has four speakers that sound great so how much for this beauty a reasonable $1,050 number nine Samsung Galaxy Book 2 Pro 360 if you like graphic design or working with metrics in the office the galaxy book 2 Pro 360 is ideal for you fairly priced at $950 this laptop has a 15.6 in Amo LED full HD screen with a great resolution of 1920x 1080 pixels its image quality stands out offering vibrant colors and being 33% brighter than conventional laptops I love it the screen can rotate 360° and become a tablet since it's also a touchscreen so that you can work directly on your graphics or designs with the S Pen it CPU is a core i7 1260p which gives it tremendous strength and for its Graphics power it has an Intel Iris XE GPU so you can also use it to play it has 16 GB of RAM and 512 GB of storage that can be expanded with an SSD card number eight Acer Swift 5 2022 if you live a busy life you probably need the Acer Swift 5 designed for maximum portability it weighs just 2.2 lb thanks to its magnesium lithium and magnesium aluminum alloy casing don't think it's fragile though it screen is protected by a robust Gorilla Glass 4 has a resolution of 1920x 1080 pixels in full HD and is a touchcreen in case you need to handle elements in an agile way cool and practical right inside it hides an Intel Core i7 1260p CPU and an Intel Iris XE GPU so it's light and yet very powerful since it has 16 GB of RAM and up to 1 Terra of storage wow it's priced at $1,500 although I wouldn't say this is the best cost benefit ratio let's see what other options the market will offer number seven Macbook Pro 13 18 in M2 2022 if you need portability as in the previous number and the battery matters most to you the MacBook Pro is for you I won't make you wait until the end right now I'm telling you that the MacBook Pro's battery gives you Independence for more than 18 hours so you could work all day away from any plug that seems perfect to me but going into other specs I'll tell you that it screen measures 13.3 in and has a resolution of up to 2560 x600 pixels which is great its processor is the 8 core Apple M2 and as Graphics support it has an integrated 8 core M2 GPU which together gives it great integrity for all types of functions which is best combined with its up to 24 GB of RAM and up to 2 terab of storage giving the MacBook Pro colossal Power by the way it cost $970 but an attractive price number six Asus Rog zephrus G14 this is one one of my favorites on the list and you'll love it too if you're a gaming fan the Asus Rog zephrus G14 features an AMD ryzen 9 4900 HS CPU which has enough power for any program and even the most resource demanding games plus it has the graphics support of Nvidia GeForce RTX 2060 Max Q you can edit movies on this laptop because its 14-in LCD screen offers a wqhd image with a resolution of 2560 by 1440 pixels which is amazing and it's also anti-reflective so that nothing distorts what you see by the way have you seen that awesome backlit keyboard yet fabulous right well it has 8 GB of RAM not bad but it can be better and up to 1 TB of storage that is great how much for this laptop $2,000 kind of overpriced if we compare it with what we've seen so far but it's worth it number five framework laptop 13 this laptop really caught my attention because of its concept the framework laptop 13 is probably the only modular laptop on the market what does this mean it means that you can upgrade its parts yourself fabulous even so it comes perfectly equipped with an AMD ryzen 9 7840 U CPU which is very powerful and also has a radon 700m GPU how can you upgrade that well when better Pieces come out in the future but let's continue with the specs its Ram comes from 8 to 64 GB it's up to you and has a storage capacity from 250 GB to 2 TB have you felt the power of modular Paradise yet it screen is 13.5 in and you can't change it but you won't need to do it anyway because it already offers an incredible resolution of 2256 X 1540 pixels where you can work or even play with spectacular image quality it's priced starting at $11,000 and I must say that it's worth every penny number four Lenovo Chromebook duet 3 this is my absolute favorite on the list it has everything and for an incredible $380 this is as absurd as it is great the Lenovo Chromebook duet 3 is powered by a Snapdragon 7c Gen 2 processor that provides impressive performance for any kind of task if you want to play or like graphic design you'll be backed by a gorgeous Qualcomm adreno GPU wow by the way it's 10.95 in screen makes it a portable treasure which perfectly matches its 1.14 lb weight but let's go back to the screen it's a touchscreen that offers an incredible resolution of 2,000x 1200 pixels and comes with a pen to design or make your graphics for your meetings weight size incredible performance and economy if you work remotely and like to travel the Chromebook duet 3 could be your best friend number three Asus Zenbook 13 OLED this is another laptop that I love how couldn't I it takes image quality and portability to a level that's hard to beat for a perfectly balanced price of $970 the Asus Zenbook 13 OLED as its name suggests features a 13-in HDR OLED display giving you an absurdly sharp image with incredibly Vivid colors and a resolution of 1920x 1080 pixels spectacular but if you're still not totally stunned you're about to see that its interior is an unparalleled appetizer since it houses is an AMD ryzen 7 5700 U CPU which is very powerful and will provide Power to everything you need and obviously behind such graphic quality there had to be this integrated Radeon graphics GPU the only detail that could be improved is its Ram which is 8 GB but it has 512 GB of storage which is great if you focus on portability number two Apple MacBook Air M2 the trick to the Apple MacBook Air that makes it probably the best laptop out there is that it's absurdly complete and portable it has a 13.6 in screen with Incredible image quality and provides a resolution of 2560 X 1664 pixels also look at that elegant design it comes equipped with an 8 core M2 CPU which is one of the best creations of the brand and gives it incredible support for everything it also comes with it a 10 core M2 GPU to give it a bunch of power to play anything what about the ram well it goes to the cloud since it has 24 GB for an impeccable interface and up to 2 terab of storage which feels like you can carry your entire office or studio in a briefcase I love it it's priced at $2,000 which is fair but not so affordable number one Dell XPS 15 OLED naming the Dell XPS 15 OLED as the best laptop of these times isn't a difficult task for $1,580 which is fully balanced in a cost benefit ratio it gives you such a great performance that's very difficult to beat to start it has a very solid and Powerful Intel Core I9 12,900 HK CPU for graphic work gaming and any Management program and as if that wasn't enough it also comes with an Nvidia RTX 3050 TI 4 GB GPU so the Dell XPS 15 OLED can play anything it's 15.6 in OLED screen provides a great resolution of 3456 X 2160 pixels and an impressively sharp image quality but if you check its Ram get ready because it has 64 GB of RAM for a practically immediate interface and a storage of a monstrous four teras there's nothing more to add this is the best laptop which of these laptops best suits your needs tell me in the comments and while you're there don't forget to like this video And subscribe to my channel because all be posting more videos like this see you in the next electronic [Music] Adventure\"}"
      ]
     },
     "execution_count": 10,
     "metadata": {},
     "output_type": "execute_result"
    }
   ],
   "source": [
    "search_ex[0]"
   ]
  },
  {
   "cell_type": "markdown",
   "metadata": {},
   "source": [
    "Here is the text printed out so we can see it and extract the laptops manually to make the examples.json file."
   ]
  },
  {
   "cell_type": "markdown",
   "metadata": {},
   "source": [
    "top 10 best laptops 2023 number 10 HP Spectre x364 careful because you can't help but fall in love with the HP Spectre X 3614 just look at that beautiful 13.5 in touchscreen with a resolution of 3000x 2000 pixels that adjusts its image color to the environment thanks to its artificial intelligence system incredible plus its screen can be turned back becoming a kind of tablet regarding the CPU the Spectre x314 comes equipped with a core i7 1255 U and an Intel UHD GPU so it has power to spare whether you're doing everyday office tasks or if you're a content creator like me can you see why I love it it has 16 GB of RAM and up to one Terra of storage so you can save what you want last but not least it has four speakers that sound great so how much for this beauty a reasonable $1,050 number nine Samsung Galaxy Book 2 Pro 360 if you like graphic design or working with metrics in the office the galaxy book 2 Pro 360 is ideal for you fairly priced at $950 this laptop has a 15.6 in Amo LED full HD screen with a great resolution of 1920x 1080 pixels its image quality stands out offering vibrant colors and being 33% brighter than conventional laptops I love it the screen can rotate 360° and become a tablet since it's also a touchscreen so that you can work directly on your graphics or designs with the S Pen it CPU is a core i7 1260p which gives it tremendous strength and for its Graphics power it has an Intel Iris XE GPU so you can also use it to play it has 16 GB of RAM and 512 GB of storage that can be expanded with an SSD card number eight Acer Swift 5 2022 if you live a busy life you probably need the Acer Swift 5 designed for maximum portability it weighs just 2.2 lb thanks to its magnesium lithium and magnesium aluminum alloy casing don't think it's fragile though it screen is protected by a robust Gorilla Glass 4 has a resolution of 1920x 1080 pixels in full HD and is a touchcreen in case you need to handle elements in an agile way cool and practical right inside it hides an Intel Core i7 1260p CPU and an Intel Iris XE GPU so it's light and yet very powerful since it has 16 GB of RAM and up to 1 Terra of storage wow it's priced at $1,500 although I wouldn't say this is the best cost benefit ratio let's see what other options the market will offer number seven Macbook Pro 13 18 in M2 2022 if you need portability as in the previous number and the battery matters most to you the MacBook Pro is for you I won't make you wait until the end right now I'm telling you that the MacBook Pro's battery gives you Independence for more than 18 hours so you could work all day away from any plug that seems perfect to me but going into other specs I'll tell you that it screen measures 13.3 in and has a resolution of up to 2560 x600 pixels which is great its processor is the 8 core Apple M2 and as Graphics support it has an integrated 8 core M2 GPU which together gives it great integrity for all types of functions which is best combined with its up to 24 GB of RAM and up to 2 terab of storage giving the MacBook Pro colossal Power by the way it cost $970 but an attractive price number six Asus Rog zephrus G14 this is one one of my favorites on the list and you'll love it too if you're a gaming fan the Asus Rog zephrus G14 features an AMD ryzen 9 4900 HS CPU which has enough power for any program and even the most resource demanding games plus it has the graphics support of Nvidia GeForce RTX 2060 Max Q you can edit movies on this laptop because its 14-in LCD screen offers a wqhd image with a resolution of 2560 by 1440 pixels which is amazing and it's also anti-reflective so that nothing distorts what you see by the way have you seen that awesome backlit keyboard yet fabulous right well it has 8 GB of RAM not bad but it can be better and up to 1 TB of storage that is great how much for this laptop $2,000 kind of overpriced if we compare it with what we've seen so far but it's worth it number five framework laptop 13 this laptop really caught my attention because of its concept the framework laptop 13 is probably the only modular laptop on the market what does this mean it means that you can upgrade its parts yourself fabulous even so it comes perfectly equipped with an AMD ryzen 9 7840 U CPU which is very powerful and also has a radon 700m GPU how can you upgrade that well when better Pieces come out in the future but let's continue with the specs its Ram comes from 8 to 64 GB it's up to you and has a storage capacity from 250 GB to 2 TB have you felt the power of modular Paradise yet it screen is 13.5 in and you can't change it but you won't need to do it anyway because it already offers an incredible resolution of 2256 X 1540 pixels where you can work or even play with spectacular image quality it's priced starting at $11,000 and I must say that it's worth every penny number four Lenovo Chromebook duet 3 this is my absolute favorite on the list it has everything and for an incredible $380 this is as absurd as it is great the Lenovo Chromebook duet 3 is powered by a Snapdragon 7c Gen 2 processor that provides impressive performance for any kind of task if you want to play or like graphic design you'll be backed by a gorgeous Qualcomm adreno GPU wow by the way it's 10.95 in screen makes it a portable treasure which perfectly matches its 1.14 lb weight but let's go back to the screen it's a touchscreen that offers an incredible resolution of 2,000x 1200 pixels and comes with a pen to design or make your graphics for your meetings weight size incredible performance and economy if you work remotely and like to travel the Chromebook duet 3 could be your best friend number three Asus Zenbook 13 OLED this is another laptop that I love how couldn't I it takes image quality and portability to a level that's hard to beat for a perfectly balanced price of $970 the Asus Zenbook 13 OLED as its name suggests features a 13-in HDR OLED display giving you an absurdly sharp image with incredibly Vivid colors and a resolution of 1920x 1080 pixels spectacular but if you're still not totally stunned you're about to see that its interior is an unparalleled appetizer since it houses is an AMD ryzen 7 5700 U CPU which is very powerful and will provide Power to everything you need and obviously behind such graphic quality there had to be this integrated Radeon graphics GPU the only detail that could be improved is its Ram which is 8 GB but it has 512 GB of storage which is great if you focus on portability number two Apple MacBook Air M2 the trick to the Apple MacBook Air that makes it probably the best laptop out there is that it's absurdly complete and portable it has a 13.6 in screen with Incredible image quality and provides a resolution of 2560 X 1664 pixels also look at that elegant design it comes equipped with an 8 core M2 CPU which is one of the best creations of the brand and gives it incredible support for everything it also comes with it a 10 core M2 GPU to give it a bunch of power to play anything what about the ram well it goes to the cloud since it has 24 GB for an impeccable interface and up to 2 terab of storage which feels like you can carry your entire office or studio in a briefcase I love it it's priced at $2,000 which is fair but not so affordable number one Dell XPS 15 OLED naming the Dell XPS 15 OLED as the best laptop of these times isn't a difficult task for $1,580 which is fully balanced in a cost benefit ratio it gives you such a great performance that's very difficult to beat to start it has a very solid and Powerful Intel Core I9 12,900 HK CPU for graphic work gaming and any Management program and as if that wasn't enough it also comes with an Nvidia RTX 3050 TI 4 GB GPU so the Dell XPS 15 OLED can play anything it's 15.6 in OLED screen provides a great resolution of 3456 X 2160 pixels and an impressively sharp image quality but if you check its Ram get ready because it has 64 GB of RAM for a practically immediate interface and a storage of a monstrous four teras there's nothing more to add this is the best laptop which of these laptops best suits your needs tell me in the comments and while you're there don't forget to like this video And subscribe to my channel because all be posting more videos like this see you in the next electronic [Music] Adventure\"}"
   ]
  },
  {
   "cell_type": "markdown",
   "metadata": {},
   "source": [
    "Used ChatGPT to help in extracting laptops. Here are some items that an LLM could pick up as a Laptops or organizations but aren't.\n",
    "\n",
    " - GPU\n",
    " - SSD\n",
    " - CPU\n",
    " - Terra\n",
    " - Powerful Intel Core I9\n",
    " - AMD ryzen 9\n",
    " - Nvidia Geforce RTX\n",
    " - Nvidia RTX 3050 TI"
   ]
  },
  {
   "cell_type": "code",
   "execution_count": 25,
   "metadata": {},
   "outputs": [],
   "source": [
    "data = [\n",
    "    {\n",
    "        \"text\": search_ex[0][\"cc_text\"],\n",
    "        \"spans\": [\n",
    "            {\n",
    "                \"text\": \"HP Spectre x364\",\n",
    "                \"is_entity\": True,\n",
    "                \"label\": \"LAPTOP\",\n",
    "                \"reason\": \"is a laptop from a popular company\"\n",
    "            },\n",
    "            {\n",
    "                \"text\": \"Samsung Galaxy Book 2 Pro 360\",\n",
    "                \"is_entity\": True,\n",
    "                \"label\": \"LAPTOP\",\n",
    "                \"reason\": \"is a laptop from a popular company\"\n",
    "            },\n",
    "            {\n",
    "                \"text\": \"Acer Swift 5 2022\",\n",
    "                \"is_entity\": True,\n",
    "                \"label\": \"LAPTOP\",\n",
    "                \"reason\": \"is a laptop\"\n",
    "            },\n",
    "            {\n",
    "                \"text\": \"MacBook Pro 13 18 in M2 2022\",\n",
    "                \"is_entity\": True,\n",
    "                \"label\": \"LAPTOP\",\n",
    "                \"reason\": \"is a laptop from a popular company\"\n",
    "            },\n",
    "            {\n",
    "                \"text\": \"Asus ROG Zephyrus G14\",\n",
    "                \"is_entity\": True,\n",
    "                \"label\": \"LAPTOP\",\n",
    "                \"reason\": \"is a laptop from a popular company\"\n",
    "            },\n",
    "            {\n",
    "                \"text\": \"Framework Laptop 13\",\n",
    "                \"is_entity\": True,\n",
    "                \"label\": \"LAPTOP\",\n",
    "                \"reason\": \"is a laptop from a popular company\"\n",
    "            },\n",
    "            {\n",
    "                \"text\": \"Lenovo Chromebook Duet 3\",\n",
    "                \"is_entity\": True,\n",
    "                \"label\": \"LAPTOP\",\n",
    "                \"reason\": \"is a laptop from a popular company\"\n",
    "            },\n",
    "            {\n",
    "                \"text\": \"Asus Zenbook 13 OLED from a popular company\",\n",
    "                \"is_entity\": True,\n",
    "                \"label\": \"LAPTOP\",\n",
    "                \"reason\": \"is a laptop from a popular company\"\n",
    "            },\n",
    "            {\n",
    "                \"text\": \"MacBook Air M2\",\n",
    "                \"is_entity\": True,\n",
    "                \"label\": \"LAPTOP\",\n",
    "                \"reason\": \"is a laptop from a popular company\"\n",
    "            },\n",
    "            {\n",
    "                \"text\": \"Dell XPS 15 OLED\",\n",
    "                \"is_entity\": True,\n",
    "                \"label\": \"LAPTOP\",\n",
    "                \"reason\": \"is a laptop from a popular company\"\n",
    "            },\n",
    "            {\n",
    "                \"text\": \"HP\",\n",
    "                \"is_entity\": True,\n",
    "                \"label\": \"ORG\",\n",
    "                \"reason\": \"is a well known company\"\n",
    "            },\n",
    "            {\n",
    "                \"text\": \"Samsung\",\n",
    "                \"is_entity\": True,\n",
    "                \"label\": \"ORG\",\n",
    "                \"reason\": \"is a well known company\"\n",
    "            },\n",
    "            {\n",
    "                \"text\": \"Acer\",\n",
    "                \"is_entity\": True,\n",
    "                \"label\": \"ORG\",\n",
    "                \"reason\": \"is a well known company\"\n",
    "            },\n",
    "            {\n",
    "                \"text\": \"Apple\",\n",
    "                \"is_entity\": True,\n",
    "                \"label\": \"ORG\",\n",
    "                \"reason\": \"is a well known company\"\n",
    "            },\n",
    "            {\n",
    "                \"text\": \"Asus\",\n",
    "                \"is_entity\": True,\n",
    "                \"label\": \"ORG\",\n",
    "                \"reason\": \"is a well known company\"\n",
    "            },\n",
    "            {\n",
    "                \"text\": \"Framework\",\n",
    "                \"is_entity\": True,\n",
    "                \"label\": \"ORG\",\n",
    "                \"reason\": \"is a well known company\"\n",
    "            },\n",
    "            {\n",
    "                \"text\": \"Lenovo\",\n",
    "                \"is_entity\": True,\n",
    "                \"label\": \"ORG\",\n",
    "                \"reason\": \"is a well known company\"\n",
    "            },\n",
    "            {\n",
    "                \"text\": \"Asus\",\n",
    "                \"is_entity\": True,\n",
    "                \"label\": \"ORG\",\n",
    "                \"reason\": \"is a well known company\"\n",
    "            },\n",
    "            {\n",
    "                \"text\": \"Apple\",\n",
    "                \"is_entity\": True,\n",
    "                \"label\": \"ORG\",\n",
    "                \"reason\": \"is a well known company\"\n",
    "            },\n",
    "            {\n",
    "                \"text\": \"Dell\",\n",
    "                \"is_entity\": True,\n",
    "                \"label\": \"ORG\",\n",
    "                \"reason\": \"is a well known company\"\n",
    "            },\n",
    "            # here are the false examples\n",
    "            {\n",
    "                \"text\": \"GPU\",\n",
    "                \"is_entity\": False,\n",
    "                \"label\": \"==NONE==\",\n",
    "                \"reason\": \"GPU stands for graphical proccessing unit and is a computer component\"\n",
    "            },\n",
    "            {\n",
    "                \"text\": \"SSD\",\n",
    "                \"is_entity\": False,\n",
    "                \"label\": \"==NONE==\",\n",
    "                \"reason\": \"SSD stands for solid state drive and is a computer component\"\n",
    "            },\n",
    "            {\n",
    "                \"text\": \"CPU\",\n",
    "                \"is_entity\": False,\n",
    "                \"label\": \"==NONE==\",\n",
    "                \"reason\": \"CPU stands for central proccessing unit and is a computer component\"\n",
    "            },\n",
    "            {\n",
    "                \"text\": \"Terra\",\n",
    "                \"is_entity\": False,\n",
    "                \"label\": \"==NONE==\",\n",
    "                \"reason\": \"Terra is typo where here it should be tera, which is short for terabyte: a unit of digital information storage\"\n",
    "            },\n",
    "            {\n",
    "                \"text\": \"Powerful Intel Core I9\",\n",
    "                \"is_entity\": False,\n",
    "                \"label\": \"==NONE==\",\n",
    "                \"reason\": \"this is referencing a CPU type using the word Powerful as an adjective\"\n",
    "            },\n",
    "            {\n",
    "                \"text\": \"AMD ryzen 9\",\n",
    "                \"is_entity\": False,\n",
    "                \"label\": \"==NONE==\",\n",
    "                \"reason\": \"this is one of many CPU components a computer or laptop could have\"\n",
    "            },\n",
    "            {\n",
    "                \"text\": \"Nvidia Geforce RTX\",\n",
    "                \"is_entity\": False,\n",
    "                \"label\": \"==NONE==\",\n",
    "                \"reason\": \"this is referencing a specific type of GPU, namely Nvidia's Geforece RTX line\"\n",
    "            },\n",
    "            {\n",
    "                \"text\": \"Nvidia RTX 3050 TI\",\n",
    "                \"is_entity\": False,\n",
    "                \"label\": \"==NONE==\",\n",
    "                \"reason\": \"this is one of many GPU components a computer or laptop could have\"\n",
    "            },\n",
    "            # adding Nvidia as an ORG because they don't make laptops\n",
    "            {\n",
    "                \"text\": \"Nvidia\",\n",
    "                \"is_entity\": True,\n",
    "                \"label\": \"ORG\",\n",
    "                \"reason\": \"this is a company that is known for making GPU's, not laptops\"\n",
    "            },\n",
    "            {\n",
    "                \"text\": \"AMD\",\n",
    "                \"is_entity\": True,\n",
    "                \"label\": \"ORG\",\n",
    "                \"reason\": \"this is a company that is known for making CPU's and GPU's, not laptops\"\n",
    "            },\n",
    "        ]\n",
    "    }\n",
    "]"
   ]
  },
  {
   "cell_type": "code",
   "execution_count": 26,
   "metadata": {},
   "outputs": [],
   "source": [
    "import json\n",
    "\n",
    "# Write to a JSON file\n",
    "with open('notebooks/example_test.json', 'w') as f:\n",
    "    json.dump(data, f, indent=4)"
   ]
  },
  {
   "cell_type": "markdown",
   "metadata": {},
   "source": [
    "## Extracting Objects\n",
    "\n",
    "After searching for videos with the best of for certain products, now we want to extract what those products are. We can do this with named entity recognition (NER)."
   ]
  },
  {
   "cell_type": "code",
   "execution_count": 12,
   "metadata": {},
   "outputs": [],
   "source": [
    "import spacy\n",
    "ner = spacy.load(\"en_core_web_sm\")"
   ]
  },
  {
   "cell_type": "code",
   "execution_count": 13,
   "metadata": {},
   "outputs": [
    {
     "data": {
      "text/plain": [
       "{'video_id': 'FK8veh-L8AE',\n",
       " 'title': 'TOP 10 BEST LAPTOPS 2023',\n",
       " 'video_link': 'https://www.youtube.com/watch?v=FK8veh-L8AE',\n",
       " 'channel_name': 'Trend Max',\n",
       " 'cc_text': \" top 10 best laptops 2023 number 10 HP Spectre x364 careful because you can't help but fall in love with the HP Spectre X 3614 just look at that beautiful 13.5 in touchscreen with a resolution of 3000x 2000 pixels that adjusts its image color to the environment thanks to its artificial intelligence system incredible plus its screen can be turned back becoming a kind of tablet regarding the CPU the Spectre x314 comes equipped with a core i7 1255 U and an Intel UHD GPU so it has power to spare whether you're doing everyday office tasks or if you're a content creator like me can you see why I love it it has 16 GB of RAM and up to one Terra of storage so you can save what you want last but not least it has four speakers that sound great so how much for this beauty a reasonable $1,050 number nine Samsung Galaxy Book 2 Pro 360 if you like graphic design or working with metrics in the office the galaxy book 2 Pro 360 is ideal for you fairly priced at $950 this laptop has a 15.6 in Amo LED full HD screen with a great resolution of 1920x 1080 pixels its image quality stands out offering vibrant colors and being 33% brighter than conventional laptops I love it the screen can rotate 360° and become a tablet since it's also a touchscreen so that you can work directly on your graphics or designs with the S Pen it CPU is a core i7 1260p which gives it tremendous strength and for its Graphics power it has an Intel Iris XE GPU so you can also use it to play it has 16 GB of RAM and 512 GB of storage that can be expanded with an SSD card number eight Acer Swift 5 2022 if you live a busy life you probably need the Acer Swift 5 designed for maximum portability it weighs just 2.2 lb thanks to its magnesium lithium and magnesium aluminum alloy casing don't think it's fragile though it screen is protected by a robust Gorilla Glass 4 has a resolution of 1920x 1080 pixels in full HD and is a touchcreen in case you need to handle elements in an agile way cool and practical right inside it hides an Intel Core i7 1260p CPU and an Intel Iris XE GPU so it's light and yet very powerful since it has 16 GB of RAM and up to 1 Terra of storage wow it's priced at $1,500 although I wouldn't say this is the best cost benefit ratio let's see what other options the market will offer number seven Macbook Pro 13 18 in M2 2022 if you need portability as in the previous number and the battery matters most to you the MacBook Pro is for you I won't make you wait until the end right now I'm telling you that the MacBook Pro's battery gives you Independence for more than 18 hours so you could work all day away from any plug that seems perfect to me but going into other specs I'll tell you that it screen measures 13.3 in and has a resolution of up to 2560 x600 pixels which is great its processor is the 8 core Apple M2 and as Graphics support it has an integrated 8 core M2 GPU which together gives it great integrity for all types of functions which is best combined with its up to 24 GB of RAM and up to 2 terab of storage giving the MacBook Pro colossal Power by the way it cost $970 but an attractive price number six Asus Rog zephrus G14 this is one one of my favorites on the list and you'll love it too if you're a gaming fan the Asus Rog zephrus G14 features an AMD ryzen 9 4900 HS CPU which has enough power for any program and even the most resource demanding games plus it has the graphics support of Nvidia GeForce RTX 2060 Max Q you can edit movies on this laptop because its 14-in LCD screen offers a wqhd image with a resolution of 2560 by 1440 pixels which is amazing and it's also anti-reflective so that nothing distorts what you see by the way have you seen that awesome backlit keyboard yet fabulous right well it has 8 GB of RAM not bad but it can be better and up to 1 TB of storage that is great how much for this laptop $2,000 kind of overpriced if we compare it with what we've seen so far but it's worth it number five framework laptop 13 this laptop really caught my attention because of its concept the framework laptop 13 is probably the only modular laptop on the market what does this mean it means that you can upgrade its parts yourself fabulous even so it comes perfectly equipped with an AMD ryzen 9 7840 U CPU which is very powerful and also has a radon 700m GPU how can you upgrade that well when better Pieces come out in the future but let's continue with the specs its Ram comes from 8 to 64 GB it's up to you and has a storage capacity from 250 GB to 2 TB have you felt the power of modular Paradise yet it screen is 13.5 in and you can't change it but you won't need to do it anyway because it already offers an incredible resolution of 2256 X 1540 pixels where you can work or even play with spectacular image quality it's priced starting at $11,000 and I must say that it's worth every penny number four Lenovo Chromebook duet 3 this is my absolute favorite on the list it has everything and for an incredible $380 this is as absurd as it is great the Lenovo Chromebook duet 3 is powered by a Snapdragon 7c Gen 2 processor that provides impressive performance for any kind of task if you want to play or like graphic design you'll be backed by a gorgeous Qualcomm adreno GPU wow by the way it's 10.95 in screen makes it a portable treasure which perfectly matches its 1.14 lb weight but let's go back to the screen it's a touchscreen that offers an incredible resolution of 2,000x 1200 pixels and comes with a pen to design or make your graphics for your meetings weight size incredible performance and economy if you work remotely and like to travel the Chromebook duet 3 could be your best friend number three Asus Zenbook 13 OLED this is another laptop that I love how couldn't I it takes image quality and portability to a level that's hard to beat for a perfectly balanced price of $970 the Asus Zenbook 13 OLED as its name suggests features a 13-in HDR OLED display giving you an absurdly sharp image with incredibly Vivid colors and a resolution of 1920x 1080 pixels spectacular but if you're still not totally stunned you're about to see that its interior is an unparalleled appetizer since it houses is an AMD ryzen 7 5700 U CPU which is very powerful and will provide Power to everything you need and obviously behind such graphic quality there had to be this integrated Radeon graphics GPU the only detail that could be improved is its Ram which is 8 GB but it has 512 GB of storage which is great if you focus on portability number two Apple MacBook Air M2 the trick to the Apple MacBook Air that makes it probably the best laptop out there is that it's absurdly complete and portable it has a 13.6 in screen with Incredible image quality and provides a resolution of 2560 X 1664 pixels also look at that elegant design it comes equipped with an 8 core M2 CPU which is one of the best creations of the brand and gives it incredible support for everything it also comes with it a 10 core M2 GPU to give it a bunch of power to play anything what about the ram well it goes to the cloud since it has 24 GB for an impeccable interface and up to 2 terab of storage which feels like you can carry your entire office or studio in a briefcase I love it it's priced at $2,000 which is fair but not so affordable number one Dell XPS 15 OLED naming the Dell XPS 15 OLED as the best laptop of these times isn't a difficult task for $1,580 which is fully balanced in a cost benefit ratio it gives you such a great performance that's very difficult to beat to start it has a very solid and Powerful Intel Core I9 12,900 HK CPU for graphic work gaming and any Management program and as if that wasn't enough it also comes with an Nvidia RTX 3050 TI 4 GB GPU so the Dell XPS 15 OLED can play anything it's 15.6 in OLED screen provides a great resolution of 3456 X 2160 pixels and an impressively sharp image quality but if you check its Ram get ready because it has 64 GB of RAM for a practically immediate interface and a storage of a monstrous four teras there's nothing more to add this is the best laptop which of these laptops best suits your needs tell me in the comments and while you're there don't forget to like this video And subscribe to my channel because all be posting more videos like this see you in the next electronic [Music] Adventure\"}"
      ]
     },
     "execution_count": 13,
     "metadata": {},
     "output_type": "execute_result"
    }
   ],
   "source": [
    "search_ex[0]"
   ]
  },
  {
   "cell_type": "code",
   "execution_count": 14,
   "metadata": {},
   "outputs": [],
   "source": [
    "cc_text_ex = search_ex[0]['cc_text']\n",
    "doc = ner(cc_text_ex)"
   ]
  },
  {
   "cell_type": "code",
   "execution_count": 15,
   "metadata": {},
   "outputs": [
    {
     "name": "stdout",
     "output_type": "stream",
     "text": [
      "CPU\n",
      "Intel\n",
      "GPU\n",
      "RAM\n",
      "Samsung\n",
      "CPU\n",
      "Intel\n",
      "RAM\n",
      "SSD\n",
      "Acer\n",
      "CPU\n",
      "Intel\n",
      "RAM\n",
      "Macbook Pro\n",
      "the MacBook Pro\n",
      "the MacBook Pro's\n",
      "Apple\n",
      "M2\n",
      "RAM\n",
      "G14\n",
      "G14\n",
      "AMD\n",
      "CPU\n",
      "Nvidia GeForce\n",
      "LCD\n",
      "RAM\n",
      "AMD\n",
      "CPU\n",
      "Lenovo Chromebook\n",
      "Lenovo Chromebook\n",
      "Snapdragon\n",
      "GPU\n",
      "Chromebook\n",
      "HDR\n",
      "Vivid\n",
      "AMD\n",
      "CPU\n",
      "GPU\n",
      "Apple\n",
      "the Apple MacBook Air\n",
      "Dell\n",
      "XPS 15\n",
      "GPU\n",
      "RAM\n"
     ]
    }
   ],
   "source": [
    "for ent in doc.ents:\n",
    "    if ent.label_ in [\"ORG\", \"PRODUCT\"]:\n",
    "        print(ent)"
   ]
  },
  {
   "cell_type": "code",
   "execution_count": 16,
   "metadata": {},
   "outputs": [
    {
     "name": "stdout",
     "output_type": "stream",
     "text": [
      "Apple M2\n",
      "Dell XPS 15\n"
     ]
    }
   ],
   "source": [
    "for i, ent in enumerate(doc.ents):\n",
    "    if (ent.label_ == \"ORG\") and (doc.ents[i+1].label_ == \"PRODUCT\"):\n",
    "        print(ent, doc.ents[i+1])"
   ]
  },
  {
   "cell_type": "markdown",
   "metadata": {},
   "source": [
    "## Spacy_LLM NER\n",
    "\n",
    "Trying spacy-LLM integration for a better NER method, since the basic version above is missing a lot. Here is a guide on how to do this: https://github.com/explosion/spacy-llm/tree/main/usage_examples/ner_v3_openai."
   ]
  },
  {
   "cell_type": "code",
   "execution_count": 11,
   "metadata": {},
   "outputs": [],
   "source": [
    "from spacy_llm.util import assemble"
   ]
  },
  {
   "cell_type": "code",
   "execution_count": 12,
   "metadata": {},
   "outputs": [],
   "source": [
    "os.environ[\"OPENAI_API_KEY\"] = openai_api_key\n",
    "os.environ[\"OPENAI_API_ORG\"] = openai_api_org"
   ]
  },
  {
   "cell_type": "code",
   "execution_count": 30,
   "metadata": {},
   "outputs": [],
   "source": [
    "nlp = assemble(\"notebooks/config_test.cfg\", overrides={\"paths.examples\": \"notebooks/example_test.json\"})"
   ]
  },
  {
   "cell_type": "code",
   "execution_count": 31,
   "metadata": {},
   "outputs": [
    {
     "data": {
      "text/plain": [
       "{'video_id': 'X35QRgsHhF0',\n",
       " 'title': 'The Best Laptops (early 2024)!',\n",
       " 'video_link': 'https://www.youtube.com/watch?v=X35QRgsHhF0',\n",
       " 'channel_name': 'Just Josh',\n",
       " 'cc_text': \" this year we tested over 70 different laptops by far a record for this channel we tested small ones we tested big ones we tested cheap ones and we tested expensive ones a huge variety from all kinds of Manufacturers and when you use these laptops side by side just like we do it becomes so obvious which laptops are great and which are completely mediocre well today is the day that we countd down the top 10 laptops that we tested in 2023 if you are planning to buy one of these lap tops you'll obviously want to buy them at the best possible price so check the links below the video our team scours the internet to find the best deals and we update them daily plus if new laptops are released after this video that we end up liking even better we'll include them down there too number 10 the HB Pavilion plus 14 in for a price of around $729 you get a crazy amount for the money it will be configured with an OLED panel at that price which is bright vibrant color accurate has a fast refresh rate and high resolution you get our favorite processor for a Windows laptop and AMD N4 U series 1 which delivers fast performance yet zps power because of this The Pavilion plus has very solid battery life and in light use feels cool to the touch and has minimal fan noise the laptop also comes standard with 16 gig of memory something other manufacturers charging twice as much seem to struggle with but it isn't perfect its cons are the laptop looks dated its keyboard and track bed are mediocre its speakers aren't great and you will hear fan noise when doing anything intensive also its display employs pwm flickering at all brightness levels but I have sensitive eyes and the pwm on this display it didn't bother me at all we recommend this laptop for those looking for a good all round laptop on a tighter budget number nine the Asus mbook 14x this laptop is an absolute Beast for its price pra it has a large 14.5 in OLED display that is bright vivid has a fast refresh rate and is high resolution you've also got Intel's insanely powerful 13th gen H series processor inside and 16 gig of memory the laptop looks stylish and it feels premium but what makes this laptop so special is its price it retails for about $1,000 but it has been regularly going on sale for $300 off making it a terrific deal cons are that its battery life sucks and you will hear a little fan noise at times both of these are a trade-off given its high performance processor though this is a great laptop for someone like a software developer who wants CPU performance portability and to comfortably see a lot of cone on screen heck I bought this one for myself now we deliberately avoided having a laptop manufacturer sponsor today's video as we wanted to be completely unbiased however we do have a sponsor and that is ugreen ug green makes a range of Premium powerful charges ug Green's charges support the latest fast charging tech for example using a nexer 100 wat charger you can charge a MacBook Air with M2 to 55% in just 30 minutes and all you green laptop chargers come with multiple ports so you can charge all your devices at the same time buying a high high quality usbcc charger is a great accessory for your new laptop even more so for those buying high performance laptops as on days where you just don't need the laptop's full performance you can leave its heavy charging brick at home and instead bring one of these number eight the framework laptop with AMD if you haven't heard of framework they are a new laptop manufacturer that produces fully upgradeable laptops so no more stressing out about which configuration you should buy plus an upgradeable laptop is better for the environment and the koala's will thank you Pros it has a comfortable keyboard a good display and interchangeable ports in fact it's fully upgradable framework also has incredible community and Linux support with the new AMD variant which uses the excellent zen4 U series processor the laptop doesn't get that warm to the touch and battery life is longer than on the Intel model on that note check out our video link below as it will make it abundantly clear as to why you should buy the AMD model over the Intel variant cons are that its speakers are still bad its display is not fast refresh rate and it looks dated and feels less premium compared to other laptops in the price range and although fan noise is much better than on the Intel variant you'll still hear some on this AMD model we recommend this laptop for software developers and those that like to Tinker with tech number seven the Apple MacBook air15 with M2 in every facet the MacBook airs with M2 are all round highquality devices they feel premium they look great their displays are more than good enough for most use cases they have good speakers the best trackpad and a decent webcam plus they have Apple's insanely efficient M series processors inside this means they are plenty powerful for everyday use as well as doing some performance tasks like programming or creative workloads yet they have no fan noise as they have no fans they also rarely get warm to the touch in fact since the 15-in model is larger it has more area to dissipate heat and therefore almost never feels warm the main con of the airs is that they are crazy expensive given they only come with 8 Giga memory which can't be upgraded after you buy also the keyboard even though it feels high quality isn't the most comfortable as it's a little low travel these laptops really are the ultimate laptops for light use those browsing the web using office and studying the reason I've chosen the 15-in for this Roundup is that I feel it's more unique it's an all around great laptop with a really large screen that's still incredibly portable whereas the 13in most people could buy a Zenbook 14 and not really notice there just isn't really anything quite like the MacBook a15 with M2 number six the Asus strict scar 16 the scar 16 delivered by far the best overall gaming experience out of the 19 gaming laptops that we tested in our recent gaming video I've linked it down below it won our best gaming laptop award because of the following reasons it has Intel's most powerful HX series processor inside up to nvidia's highest end 4090 Graphics a stunning mini LED panel with all the bells and whistles fast refresh rate high resolution Advanced Optimus g-sync and excellent color accuracy it comes full fully loaded with 32 gig of memory and 1 tab of storage which by the way are upgradable but all this isn't white one our overall best gaming laptop it's because the scar doesn't suffer from the curse of the gaming laptop which is jet engine like fan noise and distractingly warm keyboard temperatures yes the scar does have some fan noise and does get warm but it's nowhere near as bad as other powerful laptops the main issues with the scar are that it's expensive it's chunky so your hands are raised a bit which some people might find a little uncomfortable when using it and you may hear coil wine but if you are gaming which is what this laptop is designed for you aren't going to hear it number five the Asus mbook 14 this laptop has a vivid extremely color accurate OLED display that's a delight to look at you get a comfortable keyboard very long battery life 16 gig of memory and 512 gigs of storage the laptop also looks like a stylish device and feels premium plus it doesn't have loud fan noise or get warn to the touch and the price is really good at around $800 before sales you're basically getting 90% of a MacBook Air for a much lower price with by the way a more comfortable keyboard its main con is that it uses an older ryzen Zen 3 processor rather than the latest Zen 4 so you do lose some performance over a laptop like the Pavilion plus that I mentioned earlier but if you're just looking for a highquality laptop for light use like browsing the web starting or office work which is what we recommend this laptop for this is more than fast enough and in this price range of8 $1 or under we think you'll appreciate the Creature Comforts of this laptop over others that may have more performance but also have more annoying issues number four the Lenovo slim Pro 9i also known as the yoga Pro 9i we're going to be naughty here and talk about both the 14-in and 16-in versions as these really tie for this spot these laptops completely caught us off guard with how good they are if there are windows equivalents of apples MacBook Pros these are the ones almost everything about these laptops is great they have a stunning mini LED panel that is bright color accurate fast refresh rate and don't employ PW on flickering they both have powerful Intel 13th gen H series CPUs inside and up to Nvidia RTX 4060 graphics and they don't get that warm to the touch their keyboards are Exquisite way more comfortable than a Macbook Pros and unlike a Mac they come fully loaded with 32 gig of memory and 1 tab of storage for a price of around $2,000 which is significantly less than a compar MacBook Pro the reason these two have ended up in a tie is the following the 14-in version has fantastic ports compared to the 16in it has one additional USBC port and its HDMI port and SD card reader are faster this is very handy but the 14-in does have noticeably more fan noise than the 16-in as this powerful Hardware is packed into a smaller chassis which is harder to cool that being said the 14in fan noise while audible at times it really isn't that distracting these are great laptops for someone who wants the Perfect Blend of power and portability in a premium laptop but doesn't want to pay the insane amount that Apple charges or they just don't want Mac OS programmers who like to do a little bit of gaming you're probably the ideal user for this laptop number three the MacBook Pro 16 with M3 the MacBook Pro 16 has been one of the best laptops for years and this year's M3 version is no exception no other laptop that is this portable can offer such insane performance with such long battery lights and so little fan noise in high performance tasks heck most of the time I used this laptop it was dead silent this year's M3 upgrade is a massive Step Up in raw performance compared to the M2 and the 16-in model is able to take full advantage of the highest end M3 Max chip which by the way the 14-in MacBook Pro is not it consistently feeds the processor more power and due to its better cooling it doesn't have to throttle the processor as much in Long running tasks it also continues to have the best speakers of any laptop out there and an absolutely gorgeous display it's the perfect productivity machine for those looking to create or code its main issue is price and the fact that it's not user upgradeable this laptop can quickly become $4,000 or more and this year Apple are really pushing some of their core users towards upgraded models as they have nerfed memory bandwidth and reduced performance cores in their lower configurations check down below because I put a link there for a recent video that we did explaining this topic so for those creators doing high-end professional creative work I really recommend the highest end M3 Max chip in the MacBook Pro 16 but for everyone else who's not doing something limited by memory bandwidth or a high performance core count such as programming or general office work you're going to love this new Macbook Pro 16 with the M3 Pro chip it comes with more memory 18 gigs and you get a cooler feeling laptop when compared to the M2 version longer battery life and applications will feel a little snappier due to the higher single core performance number two noa's Legion slim 7 the legion slim 7 with AMD offers a solid amount of performance in a portable and very premium package but unlike many other high performance laptops it's actually comfortable to use it rarely gets distractingly warm to the touch and it does not have fan noise in casual use its keyboard is incredibly comfortable and it looks stylish it has a great display which is bright high resolution and fast refresh rate plus if you want a more color accurate display and even higher resolution there is a cheap upgrade available it also has a Muk switch and it comes with 16 gig of solded memory with one memory slot available so you can easily and cheaply upgrade it to 32 gig or even more its battery life is decent and most of its ports around the back so cables won't get in your way and unlike some other laptops these ports are really easy to find as they light up but what makes this laptop just so incredibly special is where it's priced it regularly retails for around 1,100 to $1,400 depending ending on sales which makes this laptop an absolute standout in the price range when it comes to cons though the AMD version maxes out in an RTX 4060 so if you want more graphics performance you'll want to check out the legion 7 Pro which has higher configs but be prepared to spend a ton more or you can buy an Intel variant which goes up to an RTX 4070 but that laptop will fill hotter to the touch and has more fan noise also only one of the Legion slim 7's USBC ports are the faster 4.0 speeds and its SD card reader is slow finally it has a large footprint which may make it hard to find a case for it but all in all we're really grabbing at straws here with these cons overall this is the laptop to get for anyone looking for an allr round great 16-in laptop that just won't break the bank with the exception of people who rely on software that just runs better on Intel like Premier Pro number one the Apple MacBook Pro 14 when it comes to what makes a great laptop you want portability you want per performance and you don't want annoyances like fan noise heat a bad keyboard an inaccurate trackpad or a display that's just hard to see and after testing 70 different laptops this year the MacBook Pro 14 is the only laptop to check all these boxes for those wondering why it's on number one and ahead of the 16-in version the 14-in is just more of a miracle laptop given what it can do for its size this year's M3 Pro variant like the 16in I talked about earlier is substantially better for many people snap here in single core longer battery life and almost no hidden fan noise for performance tasks but there are cons just like the 16-in version for one of Apple's largest user bases creators who edit videos like the one you're watching right now the previously mentioned nuke to memory bandwidth at many of their configurations will significantly impact you so as I said with the 16in consider buying an older M2 MacBook Pro hopefully on sale so check our links down below for where to go for that and in the case of the 14-in version I do not recommend upgrading it to a Max chip we have both the 14-in 16in with the max chips and on the 14in you just don't get the full performance out of your investment yes it still performs better than an M3 Pro equipped MacBook Pro 14 but it gets hot and has to run the fans a bit to do that and even then it doesn't perform on par with the same chip in the MacBook Pro 16 so buy a MacBook Pro 16 if you want that level of Performance Plus as always Max aren't upgradeable well that's it big congrat ulations to all our winning manufacturers this year's top 10 was actually quite a wide range there is literally a great laptop for each type of user at every budget make sure to check out our links down below not only do we want to help you find the best laptops but we want to help you get the best deals on those laptops and that's where you'll do that make sure to smash the like button and get subscribed and share this Channel with your friends not only will it help us grow and that means we can create more content for you but it makes my dearest mother very proud till next time go do something awesome with your day and I will catch you later\"}"
      ]
     },
     "execution_count": 31,
     "metadata": {},
     "output_type": "execute_result"
    }
   ],
   "source": [
    "search_ex[1][\"cc_text\"]"
   ]
  },
  {
   "cell_type": "code",
   "execution_count": 13,
   "metadata": {},
   "outputs": [],
   "source": [
    "def extract_entities(text, config_file, examples_file):\n",
    "    nlp = assemble(config_file, overrides={\"paths.examples\": examples_file})\n",
    "    doc = nlp(text)\n",
    "\n",
    "    entities = doc.ents\n",
    "    entities = [(ent.text, ent.label_) for ent in doc.ents]\n",
    "\n",
    "    return entities"
   ]
  },
  {
   "cell_type": "code",
   "execution_count": 26,
   "metadata": {},
   "outputs": [
    {
     "data": {
      "text/plain": [
       "{'video_id': 'FK8veh-L8AE',\n",
       " 'title': 'TOP 10 BEST LAPTOPS 2023',\n",
       " 'video_link': 'https://www.youtube.com/watch?v=FK8veh-L8AE',\n",
       " 'channel_name': 'Trend Max',\n",
       " 'cc_text': \" top 10 best laptops 2023 number 10 HP Spectre x364 careful because you can't help but fall in love with the HP Spectre X 3614 just look at that beautiful 13.5 in touchscreen with a resolution of 3000x 2000 pixels that adjusts its image color to the environment thanks to its artificial intelligence system incredible plus its screen can be turned back becoming a kind of tablet regarding the CPU the Spectre x314 comes equipped with a core i7 1255 U and an Intel UHD GPU so it has power to spare whether you're doing everyday office tasks or if you're a content creator like me can you see why I love it it has 16 GB of RAM and up to one Terra of storage so you can save what you want last but not least it has four speakers that sound great so how much for this beauty a reasonable $1,050 number nine Samsung Galaxy Book 2 Pro 360 if you like graphic design or working with metrics in the office the galaxy book 2 Pro 360 is ideal for you fairly priced at $950 this laptop has a 15.6 in Amo LED full HD screen with a great resolution of 1920x 1080 pixels its image quality stands out offering vibrant colors and being 33% brighter than conventional laptops I love it the screen can rotate 360° and become a tablet since it's also a touchscreen so that you can work directly on your graphics or designs with the S Pen it CPU is a core i7 1260p which gives it tremendous strength and for its Graphics power it has an Intel Iris XE GPU so you can also use it to play it has 16 GB of RAM and 512 GB of storage that can be expanded with an SSD card number eight Acer Swift 5 2022 if you live a busy life you probably need the Acer Swift 5 designed for maximum portability it weighs just 2.2 lb thanks to its magnesium lithium and magnesium aluminum alloy casing don't think it's fragile though it screen is protected by a robust Gorilla Glass 4 has a resolution of 1920x 1080 pixels in full HD and is a touchcreen in case you need to handle elements in an agile way cool and practical right inside it hides an Intel Core i7 1260p CPU and an Intel Iris XE GPU so it's light and yet very powerful since it has 16 GB of RAM and up to 1 Terra of storage wow it's priced at $1,500 although I wouldn't say this is the best cost benefit ratio let's see what other options the market will offer number seven Macbook Pro 13 18 in M2 2022 if you need portability as in the previous number and the battery matters most to you the MacBook Pro is for you I won't make you wait until the end right now I'm telling you that the MacBook Pro's battery gives you Independence for more than 18 hours so you could work all day away from any plug that seems perfect to me but going into other specs I'll tell you that it screen measures 13.3 in and has a resolution of up to 2560 x600 pixels which is great its processor is the 8 core Apple M2 and as Graphics support it has an integrated 8 core M2 GPU which together gives it great integrity for all types of functions which is best combined with its up to 24 GB of RAM and up to 2 terab of storage giving the MacBook Pro colossal Power by the way it cost $970 but an attractive price number six Asus Rog zephrus G14 this is one one of my favorites on the list and you'll love it too if you're a gaming fan the Asus Rog zephrus G14 features an AMD ryzen 9 4900 HS CPU which has enough power for any program and even the most resource demanding games plus it has the graphics support of Nvidia GeForce RTX 2060 Max Q you can edit movies on this laptop because its 14-in LCD screen offers a wqhd image with a resolution of 2560 by 1440 pixels which is amazing and it's also anti-reflective so that nothing distorts what you see by the way have you seen that awesome backlit keyboard yet fabulous right well it has 8 GB of RAM not bad but it can be better and up to 1 TB of storage that is great how much for this laptop $2,000 kind of overpriced if we compare it with what we've seen so far but it's worth it number five framework laptop 13 this laptop really caught my attention because of its concept the framework laptop 13 is probably the only modular laptop on the market what does this mean it means that you can upgrade its parts yourself fabulous even so it comes perfectly equipped with an AMD ryzen 9 7840 U CPU which is very powerful and also has a radon 700m GPU how can you upgrade that well when better Pieces come out in the future but let's continue with the specs its Ram comes from 8 to 64 GB it's up to you and has a storage capacity from 250 GB to 2 TB have you felt the power of modular Paradise yet it screen is 13.5 in and you can't change it but you won't need to do it anyway because it already offers an incredible resolution of 2256 X 1540 pixels where you can work or even play with spectacular image quality it's priced starting at $11,000 and I must say that it's worth every penny number four Lenovo Chromebook duet 3 this is my absolute favorite on the list it has everything and for an incredible $380 this is as absurd as it is great the Lenovo Chromebook duet 3 is powered by a Snapdragon 7c Gen 2 processor that provides impressive performance for any kind of task if you want to play or like graphic design you'll be backed by a gorgeous Qualcomm adreno GPU wow by the way it's 10.95 in screen makes it a portable treasure which perfectly matches its 1.14 lb weight but let's go back to the screen it's a touchscreen that offers an incredible resolution of 2,000x 1200 pixels and comes with a pen to design or make your graphics for your meetings weight size incredible performance and economy if you work remotely and like to travel the Chromebook duet 3 could be your best friend number three Asus Zenbook 13 OLED this is another laptop that I love how couldn't I it takes image quality and portability to a level that's hard to beat for a perfectly balanced price of $970 the Asus Zenbook 13 OLED as its name suggests features a 13-in HDR OLED display giving you an absurdly sharp image with incredibly Vivid colors and a resolution of 1920x 1080 pixels spectacular but if you're still not totally stunned you're about to see that its interior is an unparalleled appetizer since it houses is an AMD ryzen 7 5700 U CPU which is very powerful and will provide Power to everything you need and obviously behind such graphic quality there had to be this integrated Radeon graphics GPU the only detail that could be improved is its Ram which is 8 GB but it has 512 GB of storage which is great if you focus on portability number two Apple MacBook Air M2 the trick to the Apple MacBook Air that makes it probably the best laptop out there is that it's absurdly complete and portable it has a 13.6 in screen with Incredible image quality and provides a resolution of 2560 X 1664 pixels also look at that elegant design it comes equipped with an 8 core M2 CPU which is one of the best creations of the brand and gives it incredible support for everything it also comes with it a 10 core M2 GPU to give it a bunch of power to play anything what about the ram well it goes to the cloud since it has 24 GB for an impeccable interface and up to 2 terab of storage which feels like you can carry your entire office or studio in a briefcase I love it it's priced at $2,000 which is fair but not so affordable number one Dell XPS 15 OLED naming the Dell XPS 15 OLED as the best laptop of these times isn't a difficult task for $1,580 which is fully balanced in a cost benefit ratio it gives you such a great performance that's very difficult to beat to start it has a very solid and Powerful Intel Core I9 12,900 HK CPU for graphic work gaming and any Management program and as if that wasn't enough it also comes with an Nvidia RTX 3050 TI 4 GB GPU so the Dell XPS 15 OLED can play anything it's 15.6 in OLED screen provides a great resolution of 3456 X 2160 pixels and an impressively sharp image quality but if you check its Ram get ready because it has 64 GB of RAM for a practically immediate interface and a storage of a monstrous four teras there's nothing more to add this is the best laptop which of these laptops best suits your needs tell me in the comments and while you're there don't forget to like this video And subscribe to my channel because all be posting more videos like this see you in the next electronic [Music] Adventure\"}"
      ]
     },
     "execution_count": 26,
     "metadata": {},
     "output_type": "execute_result"
    }
   ],
   "source": [
    "search_ex[0]"
   ]
  },
  {
   "cell_type": "code",
   "execution_count": 24,
   "metadata": {},
   "outputs": [
    {
     "name": "stdout",
     "output_type": "stream",
     "text": [
      "8\n"
     ]
    },
    {
     "data": {
      "text/plain": [
       "[('framework laptop', 'LAPTOP'),\n",
       " ('Apple MacBook air15 with M2', 'LAPTOP'),\n",
       " ('MacBook airs with M2', 'LAPTOP'),\n",
       " ('Asus strict scar 16', 'LAPTOP'),\n",
       " ('Lenovo slim Pro 9i', 'LAPTOP'),\n",
       " ('yoga Pro 9i', 'LAPTOP'),\n",
       " ('MacBook Pro 16 with M3', 'LAPTOP'),\n",
       " ('MacBook Pro 14', 'LAPTOP')]"
      ]
     },
     "execution_count": 24,
     "metadata": {},
     "output_type": "execute_result"
    }
   ],
   "source": [
    "ents_ex_0 = extract_entities(text=search_ex[0][\"cc_text\"], config_file=\"notebooks/config_test2.cfg\", examples_file=\"notebooks/example_test2.json\")\n",
    "print(len(ents_ex_0))\n",
    "ents_ex_0"
   ]
  },
  {
   "cell_type": "code",
   "execution_count": 32,
   "metadata": {},
   "outputs": [
    {
     "name": "stderr",
     "output_type": "stream",
     "text": [
      "c:\\Users\\RaviB\\anaconda3\\envs\\TechKnow\\lib\\site-packages\\spacy_llm\\tasks\\span\\util.py:83: UserWarning: Examples contain labels that are not specified in the task configuration. The latter contains the following labels: ['LAPTOP']. Labels in examples missing from the task configuration: ['==NONE==']. Please ensure your label specification and example labels are consistent.\n",
      "  warnings.warn(\n"
     ]
    },
    {
     "name": "stdout",
     "output_type": "stream",
     "text": [
      "5\n",
      "[('HP Spectre x364', 'LAPTOP'), ('Lenovo Chromebook duet 3', 'LAPTOP'), ('Asus Zenbook 13 OLED', 'LAPTOP'), ('Apple MacBook Air M2', 'LAPTOP'), ('Dell XPS 15 OLED', 'LAPTOP')] \n",
      "\n",
      "8\n",
      "[('framework laptop', 'LAPTOP'), ('Apple MacBook air15 with M2', 'LAPTOP'), ('MacBook airs with M2', 'LAPTOP'), ('Asus strict scar 16', 'LAPTOP'), ('Lenovo slim Pro 9i', 'LAPTOP'), ('yoga Pro 9i', 'LAPTOP'), ('MacBook Pro 16 with M3', 'LAPTOP'), ('MacBook Pro 14', 'LAPTOP')] \n",
      "\n",
      "7\n",
      "[('HP Specter X360 14', 'LAPTOP'), ('Lenovo Yoga 7i gen 7', 'LAPTOP'), ('Apple MacBook Air M2', 'LAPTOP'), ('XPS 13', 'LAPTOP'), ('MacBook Air M2', 'LAPTOP'), ('MacBook Air', 'LAPTOP'), ('Acer Swift 3', 'LAPTOP')] \n",
      "\n"
     ]
    }
   ],
   "source": [
    "for i in range(0, 3):\n",
    "    ents_ex = extract_entities(text=search_ex[i][\"cc_text\"], config_file=\"notebooks/config_test2.cfg\", examples_file=\"notebooks/example_test2.json\")\n",
    "    print(len(ents_ex))\n",
    "    print(ents_ex, \"\\n\")\n"
   ]
  },
  {
   "cell_type": "markdown",
   "metadata": {},
   "source": [
    "This performance is good enough for now. We only have one main slight issue, which is duplicates but with slightly different names. For example:\n",
    "\n",
    "('Apple MacBook air15 with M2', 'LAPTOP') and ('MacBook airs with M2', 'LAPTOP')\n",
    "\n",
    "are the same. We could do a check to see if each item is a subset of the others in terms of character value counts, but in this case it would not be. We can instead use a similarity metric, like the cosine similarity."
   ]
  },
  {
   "cell_type": "code",
   "execution_count": 37,
   "metadata": {},
   "outputs": [],
   "source": [
    "from sklearn.feature_extraction.text import CountVectorizer\n",
    "from sklearn.metrics.pairwise import cosine_similarity"
   ]
  },
  {
   "cell_type": "code",
   "execution_count": 41,
   "metadata": {},
   "outputs": [
    {
     "name": "stdout",
     "output_type": "stream",
     "text": [
      "Cosine Similarity: 0.6708203932499369\n"
     ]
    }
   ],
   "source": [
    "ex_ner = 'Apple MacBook air15 with M2'\n",
    "ex_ner_dup = 'MacBook airs with M2'\n",
    "\n",
    "vectorizer = CountVectorizer().fit_transform([ex_ner, ex_ner_dup])\n",
    "vectors = vectorizer.toarray()\n",
    "cosine_sim = cosine_similarity(vectors)\n",
    "print(f\"Cosine Similarity: {cosine_sim[0, 1]}\")    "
   ]
  },
  {
   "cell_type": "code",
   "execution_count": null,
   "metadata": {},
   "outputs": [],
   "source": [
    "def detect_ner_duplicates(pot_dup, ner_result):\n",
    "    vectorizer = CountVectorizer().fit_transform([ex_ner, ex_ner_dup])\n",
    "    vectors = vectorizer.toarray()\n",
    "    cosine_sim = cosine_similarity(vectors)\n",
    "    return cosine_sim"
   ]
  },
  {
   "cell_type": "code",
   "execution_count": 33,
   "metadata": {},
   "outputs": [
    {
     "name": "stdout",
     "output_type": "stream",
     "text": [
      "Sriracha sauce goes really well with hoisin stir fry, but you should add it after you use the wok.\n"
     ]
    }
   ],
   "source": [
    "nlp = assemble(\"notebooks/config.cfg\", overrides={\"paths.examples\": \"notebooks/examples.json\"})\n",
    "doc = nlp(\"Sriracha sauce goes really well with hoisin stir fry, but you should add it after you use the wok.\")\n",
    "print(doc.text)"
   ]
  },
  {
   "cell_type": "code",
   "execution_count": 41,
   "metadata": {},
   "outputs": [
    {
     "data": {
      "text/plain": [
       "[('Sriracha sauce', 'INGREDIENT'),\n",
       " ('hoisin', 'INGREDIENT'),\n",
       " ('wok', 'EQUIPMENT')]"
      ]
     },
     "execution_count": 41,
     "metadata": {},
     "output_type": "execute_result"
    }
   ],
   "source": [
    "[(ent.text, ent.label_) for ent in doc.ents]"
   ]
  },
  {
   "cell_type": "markdown",
   "metadata": {},
   "source": [
    "[paths]\n",
    "examples = null\n",
    "\n",
    "[nlp]\n",
    "lang = \"en\"\n",
    "pipeline = [\"llm\"]\n",
    "\n",
    "[components]\n",
    "\n",
    "[components.llm]\n",
    "factory = \"llm\"\n",
    "\n",
    "[components.llm.task]\n",
    "@llm_tasks = \"spacy.NER.v3\"\n",
    "labels = [\"ORG\", \"LAPTOP\"]\n",
    "description = Entities are the names of laptops, \n",
    "    and the organizations are companies that made the laptop.\n",
    "    Adjectives, verbs, adverbs are not entities.\n",
    "    Pronouns are not entities.\n",
    "\n",
    "[components.llm.task.label_definitions]\n",
    "ORG = \"Organization a laptop belongs to.\"\n",
    "LAPTOP = \"Name of a laptop.\"\n",
    "\n",
    "[components.llm.task.examples]\n",
    "@misc = \"spacy.FewShotReader.v1\"\n",
    "path = \"${paths.examples}\"\n",
    "\n",
    "[components.llm.model]\n",
    "@llm_models = \"spacy.GPT-3-5.v1\""
   ]
  },
  {
   "cell_type": "markdown",
   "metadata": {},
   "source": []
  }
 ],
 "metadata": {
  "kernelspec": {
   "display_name": "TechKnow",
   "language": "python",
   "name": "python3"
  },
  "language_info": {
   "codemirror_mode": {
    "name": "ipython",
    "version": 3
   },
   "file_extension": ".py",
   "mimetype": "text/x-python",
   "name": "python",
   "nbconvert_exporter": "python",
   "pygments_lexer": "ipython3",
   "version": "3.10.14"
  }
 },
 "nbformat": 4,
 "nbformat_minor": 2
}

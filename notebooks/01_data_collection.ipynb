{
 "cells": [
  {
   "cell_type": "markdown",
   "metadata": {},
   "source": [
    "# Data Collection and Exploration\n",
    "\n",
    "Here we will load in the data from youtube, where collecting cc texts from relevant search queries is the main goal.\n",
    "\n",
    "The outline is as follows (using laptops as the example product):\n",
    "\n",
    " - Use the YouTube API to query videos like \"top ten laptops\"\n",
    " - Get the cc texts and other relevant information from various of those videos\n",
    " - Extract top laptops from the cc text with NER\n",
    " - Then query the YouTube API again to get review cc text for each laptop\n",
    " - Store this all as raw data."
   ]
  },
  {
   "cell_type": "code",
   "execution_count": 1,
   "metadata": {},
   "outputs": [],
   "source": [
    "import os\n",
    "from dotenv import load_dotenv\n",
    "from youtube_transcript_api import YouTubeTranscriptApi\n",
    "from googleapiclient.discovery import build"
   ]
  },
  {
   "cell_type": "markdown",
   "metadata": {},
   "source": [
    "Change directories to get access to env file."
   ]
  },
  {
   "cell_type": "code",
   "execution_count": 2,
   "metadata": {},
   "outputs": [],
   "source": [
    "os.chdir(\"../\")"
   ]
  },
  {
   "cell_type": "code",
   "execution_count": 3,
   "metadata": {},
   "outputs": [
    {
     "data": {
      "text/plain": [
       "'c:\\\\Users\\\\RaviB\\\\GitHub\\\\TechKnowBot'"
      ]
     },
     "execution_count": 3,
     "metadata": {},
     "output_type": "execute_result"
    }
   ],
   "source": [
    "pwd"
   ]
  },
  {
   "cell_type": "markdown",
   "metadata": {},
   "source": [
    "Build YouTube connector."
   ]
  },
  {
   "cell_type": "code",
   "execution_count": 4,
   "metadata": {},
   "outputs": [],
   "source": [
    "load_dotenv()\n",
    "\n",
    "youtube_api_key = os.getenv('GCP_YOUTUBE_API_KEY')"
   ]
  },
  {
   "cell_type": "code",
   "execution_count": 5,
   "metadata": {},
   "outputs": [],
   "source": [
    "openai_api_key = os.getenv('OPENAI_API_KEY')\n",
    "openai_api_org = os.getenv('OPENAI_API_ORG')"
   ]
  },
  {
   "cell_type": "markdown",
   "metadata": {},
   "source": [
    "Take old code from SentiRec Analytics project: https://github.com/RavinderRai/SentiRec-Analytics/blob/main/modules/YouTubeReviewScraper.py."
   ]
  },
  {
   "cell_type": "code",
   "execution_count": 110,
   "metadata": {},
   "outputs": [],
   "source": [
    "class YouTubeAPIData:    \n",
    "    def __init__(self, api_key):\n",
    "        self.api_key = api_key\n",
    "        self.youtube = build('youtube', 'v3', developerKey=api_key)\n",
    "        \n",
    "    def fetch_youtube_data(self, search_query, filtered_strings=[], max_results=5):\n",
    "        \"\"\"\n",
    "        Search for YouTube videos based on a given query and retrieve additional information including closed captions.\n",
    "\n",
    "        Parameters:\n",
    "        - search_query (str): The search query used to find relevant videos on YouTube.\n",
    "        - filtered_strings (list): Strings to filter video results by i needed. Defaults to an empty list. \n",
    "        - max_results (int): The maximum number of videos to retrieve. Defaults to 5.\n",
    "\n",
    "        Returns:\n",
    "        List[dict]: A list of dictionaries, each containing information about a video, including:\n",
    "            - 'video_id' (str): The unique identifier for the video.\n",
    "            - 'title' (str): The title of the video.\n",
    "            - 'video_link' (str): The YouTube link to the video.\n",
    "            - 'channel_name' (str): The name of the channel that uploaded the video.\n",
    "            - 'cc_text' (str): The closed captions text for the video.\n",
    "\n",
    "        Note:\n",
    "        - The 'cc_text' field may contain an empty string if closed captions are not available. Mend that as needed.\n",
    "        \"\"\"       \n",
    "        \n",
    "        search_response = self.youtube.search().list(\n",
    "            q=search_query,\n",
    "            type='video',\n",
    "            part='id, snippet',\n",
    "            maxResults=max_results\n",
    "        ).execute()\n",
    "        \n",
    "        videos_data = []\n",
    "        for result in search_response.get('items', []):\n",
    "            video_id = result['id']['videoId']\n",
    "            title = result['snippet']['title']\n",
    "            video_link = f'https://www.youtube.com/watch?v={video_id}'\n",
    "            channel_name = result['snippet']['channelTitle']\n",
    "\n",
    "            # Check and remove unwanted titles\n",
    "            if not any(s in title for s in filtered_strings):\n",
    "                cc_text = self.fetch_captions(video_id)\n",
    "                videos_data.append({\n",
    "                    'video_id': video_id,\n",
    "                    'title': title,\n",
    "                    'video_link': video_link,\n",
    "                    'channel_name': channel_name,\n",
    "                    'cc_text': cc_text\n",
    "                })\n",
    "\n",
    "        return videos_data\n",
    "    \n",
    "    def fetch_captions(self, video_id):\n",
    "        \"\"\"\n",
    "        Get the closed captions. \n",
    "\n",
    "        Parameters:\n",
    "        - video_id (str): The video id which is obtained in search_videos.\n",
    "        \n",
    "        Returns:\n",
    "        String: Closed caption text of a youtube video\n",
    "        \"\"\"\n",
    "        try:\n",
    "            # Retrieve the transcript for the video\n",
    "            transcript = YouTubeTranscriptApi.get_transcript(video_id)\n",
    "\n",
    "            cc_text = \"\"\n",
    "\n",
    "            # Concatenate the transcript text\n",
    "            for entry in transcript:\n",
    "                cc_text += ' ' + entry['text']\n",
    "                \n",
    "            cc_text = cc_text.replace('\\n', ' ')\n",
    "            return cc_text\n",
    "\n",
    "        except Exception as e:\n",
    "            print(f\"An error occurred: {str(e)}\")\n",
    "            return f\"An error occurred: {str(e)}\""
   ]
  },
  {
   "cell_type": "code",
   "execution_count": 111,
   "metadata": {},
   "outputs": [],
   "source": [
    "youtube = YouTubeAPIData(youtube_api_key)"
   ]
  },
  {
   "cell_type": "code",
   "execution_count": 114,
   "metadata": {},
   "outputs": [],
   "source": [
    "query_ex = \"top ten laptops\"\n",
    "search_ex = youtube.fetch_youtube_data(query_ex, max_results=5)"
   ]
  },
  {
   "cell_type": "code",
   "execution_count": 9,
   "metadata": {},
   "outputs": [
    {
     "name": "stdout",
     "output_type": "stream",
     "text": [
      " top 10 best laptops 2023 number 10 HP Spectre x364 careful because you can't help but fall in love with the HP Spectre X 3614 just look at that beautiful 13.5 in touchscreen with a resolution of 3000x 2000 pixels that adjusts its image color to the environment thanks to its artificial intelligence system incredible plus its screen can be turned back becoming a kind of tablet regarding the CPU the Spectre x314 comes equipped with a core i7 1255 U and an Intel UHD GPU so it has power to spare whether you're doing everyday office tasks or if you're a content creator like me can you see why I love it it has 16 GB of RAM and up to one Terra of storage so you can save what you want last but not least it has four speakers that sound great so how much for this beauty a reasonable $1,050 number nine Samsung Galaxy Book 2 Pro 360 if you like graphic design or working with metrics in the office the galaxy book 2 Pro 360 is ideal for you fairly priced at $950 this laptop has a 15.6 in Amo LED full HD screen with a great resolution of 1920x 1080 pixels its image quality stands out offering vibrant colors and being 33% brighter than conventional laptops I love it the screen can rotate 360° and become a tablet since it's also a touchscreen so that you can work directly on your graphics or designs with the S Pen it CPU is a core i7 1260p which gives it tremendous strength and for its Graphics power it has an Intel Iris XE GPU so you can also use it to play it has 16 GB of RAM and 512 GB of storage that can be expanded with an SSD card number eight Acer Swift 5 2022 if you live a busy life you probably need the Acer Swift 5 designed for maximum portability it weighs just 2.2 lb thanks to its magnesium lithium and magnesium aluminum alloy casing don't think it's fragile though it screen is protected by a robust Gorilla Glass 4 has a resolution of 1920x 1080 pixels in full HD and is a touchcreen in case you need to handle elements in an agile way cool and practical right inside it hides an Intel Core i7 1260p CPU and an Intel Iris XE GPU so it's light and yet very powerful since it has 16 GB of RAM and up to 1 Terra of storage wow it's priced at $1,500 although I wouldn't say this is the best cost benefit ratio let's see what other options the market will offer number seven Macbook Pro 13 18 in M2 2022 if you need portability as in the previous number and the battery matters most to you the MacBook Pro is for you I won't make you wait until the end right now I'm telling you that the MacBook Pro's battery gives you Independence for more than 18 hours so you could work all day away from any plug that seems perfect to me but going into other specs I'll tell you that it screen measures 13.3 in and has a resolution of up to 2560 x600 pixels which is great its processor is the 8 core Apple M2 and as Graphics support it has an integrated 8 core M2 GPU which together gives it great integrity for all types of functions which is best combined with its up to 24 GB of RAM and up to 2 terab of storage giving the MacBook Pro colossal Power by the way it cost $970 but an attractive price number six Asus Rog zephrus G14 this is one one of my favorites on the list and you'll love it too if you're a gaming fan the Asus Rog zephrus G14 features an AMD ryzen 9 4900 HS CPU which has enough power for any program and even the most resource demanding games plus it has the graphics support of Nvidia GeForce RTX 2060 Max Q you can edit movies on this laptop because its 14-in LCD screen offers a wqhd image with a resolution of 2560 by 1440 pixels which is amazing and it's also anti-reflective so that nothing distorts what you see by the way have you seen that awesome backlit keyboard yet fabulous right well it has 8 GB of RAM not bad but it can be better and up to 1 TB of storage that is great how much for this laptop $2,000 kind of overpriced if we compare it with what we've seen so far but it's worth it number five framework laptop 13 this laptop really caught my attention because of its concept the framework laptop 13 is probably the only modular laptop on the market what does this mean it means that you can upgrade its parts yourself fabulous even so it comes perfectly equipped with an AMD ryzen 9 7840 U CPU which is very powerful and also has a radon 700m GPU how can you upgrade that well when better Pieces come out in the future but let's continue with the specs its Ram comes from 8 to 64 GB it's up to you and has a storage capacity from 250 GB to 2 TB have you felt the power of modular Paradise yet it screen is 13.5 in and you can't change it but you won't need to do it anyway because it already offers an incredible resolution of 2256 X 1540 pixels where you can work or even play with spectacular image quality it's priced starting at $11,000 and I must say that it's worth every penny number four Lenovo Chromebook duet 3 this is my absolute favorite on the list it has everything and for an incredible $380 this is as absurd as it is great the Lenovo Chromebook duet 3 is powered by a Snapdragon 7c Gen 2 processor that provides impressive performance for any kind of task if you want to play or like graphic design you'll be backed by a gorgeous Qualcomm adreno GPU wow by the way it's 10.95 in screen makes it a portable treasure which perfectly matches its 1.14 lb weight but let's go back to the screen it's a touchscreen that offers an incredible resolution of 2,000x 1200 pixels and comes with a pen to design or make your graphics for your meetings weight size incredible performance and economy if you work remotely and like to travel the Chromebook duet 3 could be your best friend number three Asus Zenbook 13 OLED this is another laptop that I love how couldn't I it takes image quality and portability to a level that's hard to beat for a perfectly balanced price of $970 the Asus Zenbook 13 OLED as its name suggests features a 13-in HDR OLED display giving you an absurdly sharp image with incredibly Vivid colors and a resolution of 1920x 1080 pixels spectacular but if you're still not totally stunned you're about to see that its interior is an unparalleled appetizer since it houses is an AMD ryzen 7 5700 U CPU which is very powerful and will provide Power to everything you need and obviously behind such graphic quality there had to be this integrated Radeon graphics GPU the only detail that could be improved is its Ram which is 8 GB but it has 512 GB of storage which is great if you focus on portability number two Apple MacBook Air M2 the trick to the Apple MacBook Air that makes it probably the best laptop out there is that it's absurdly complete and portable it has a 13.6 in screen with Incredible image quality and provides a resolution of 2560 X 1664 pixels also look at that elegant design it comes equipped with an 8 core M2 CPU which is one of the best creations of the brand and gives it incredible support for everything it also comes with it a 10 core M2 GPU to give it a bunch of power to play anything what about the ram well it goes to the cloud since it has 24 GB for an impeccable interface and up to 2 terab of storage which feels like you can carry your entire office or studio in a briefcase I love it it's priced at $2,000 which is fair but not so affordable number one Dell XPS 15 OLED naming the Dell XPS 15 OLED as the best laptop of these times isn't a difficult task for $1,580 which is fully balanced in a cost benefit ratio it gives you such a great performance that's very difficult to beat to start it has a very solid and Powerful Intel Core I9 12,900 HK CPU for graphic work gaming and any Management program and as if that wasn't enough it also comes with an Nvidia RTX 3050 TI 4 GB GPU so the Dell XPS 15 OLED can play anything it's 15.6 in OLED screen provides a great resolution of 3456 X 2160 pixels and an impressively sharp image quality but if you check its Ram get ready because it has 64 GB of RAM for a practically immediate interface and a storage of a monstrous four teras there's nothing more to add this is the best laptop which of these laptops best suits your needs tell me in the comments and while you're there don't forget to like this video And subscribe to my channel because all be posting more videos like this see you in the next electronic [Music] Adventure\n"
     ]
    }
   ],
   "source": [
    "print(search_ex[0]['cc_text'])"
   ]
  },
  {
   "cell_type": "markdown",
   "metadata": {},
   "source": [
    "Getting examples for few shot config file."
   ]
  },
  {
   "cell_type": "code",
   "execution_count": 10,
   "metadata": {},
   "outputs": [
    {
     "data": {
      "text/plain": [
       "{'video_id': 'FK8veh-L8AE',\n",
       " 'title': 'TOP 10 BEST LAPTOPS 2023',\n",
       " 'video_link': 'https://www.youtube.com/watch?v=FK8veh-L8AE',\n",
       " 'channel_name': 'Trend Max',\n",
       " 'cc_text': \" top 10 best laptops 2023 number 10 HP Spectre x364 careful because you can't help but fall in love with the HP Spectre X 3614 just look at that beautiful 13.5 in touchscreen with a resolution of 3000x 2000 pixels that adjusts its image color to the environment thanks to its artificial intelligence system incredible plus its screen can be turned back becoming a kind of tablet regarding the CPU the Spectre x314 comes equipped with a core i7 1255 U and an Intel UHD GPU so it has power to spare whether you're doing everyday office tasks or if you're a content creator like me can you see why I love it it has 16 GB of RAM and up to one Terra of storage so you can save what you want last but not least it has four speakers that sound great so how much for this beauty a reasonable $1,050 number nine Samsung Galaxy Book 2 Pro 360 if you like graphic design or working with metrics in the office the galaxy book 2 Pro 360 is ideal for you fairly priced at $950 this laptop has a 15.6 in Amo LED full HD screen with a great resolution of 1920x 1080 pixels its image quality stands out offering vibrant colors and being 33% brighter than conventional laptops I love it the screen can rotate 360° and become a tablet since it's also a touchscreen so that you can work directly on your graphics or designs with the S Pen it CPU is a core i7 1260p which gives it tremendous strength and for its Graphics power it has an Intel Iris XE GPU so you can also use it to play it has 16 GB of RAM and 512 GB of storage that can be expanded with an SSD card number eight Acer Swift 5 2022 if you live a busy life you probably need the Acer Swift 5 designed for maximum portability it weighs just 2.2 lb thanks to its magnesium lithium and magnesium aluminum alloy casing don't think it's fragile though it screen is protected by a robust Gorilla Glass 4 has a resolution of 1920x 1080 pixels in full HD and is a touchcreen in case you need to handle elements in an agile way cool and practical right inside it hides an Intel Core i7 1260p CPU and an Intel Iris XE GPU so it's light and yet very powerful since it has 16 GB of RAM and up to 1 Terra of storage wow it's priced at $1,500 although I wouldn't say this is the best cost benefit ratio let's see what other options the market will offer number seven Macbook Pro 13 18 in M2 2022 if you need portability as in the previous number and the battery matters most to you the MacBook Pro is for you I won't make you wait until the end right now I'm telling you that the MacBook Pro's battery gives you Independence for more than 18 hours so you could work all day away from any plug that seems perfect to me but going into other specs I'll tell you that it screen measures 13.3 in and has a resolution of up to 2560 x600 pixels which is great its processor is the 8 core Apple M2 and as Graphics support it has an integrated 8 core M2 GPU which together gives it great integrity for all types of functions which is best combined with its up to 24 GB of RAM and up to 2 terab of storage giving the MacBook Pro colossal Power by the way it cost $970 but an attractive price number six Asus Rog zephrus G14 this is one one of my favorites on the list and you'll love it too if you're a gaming fan the Asus Rog zephrus G14 features an AMD ryzen 9 4900 HS CPU which has enough power for any program and even the most resource demanding games plus it has the graphics support of Nvidia GeForce RTX 2060 Max Q you can edit movies on this laptop because its 14-in LCD screen offers a wqhd image with a resolution of 2560 by 1440 pixels which is amazing and it's also anti-reflective so that nothing distorts what you see by the way have you seen that awesome backlit keyboard yet fabulous right well it has 8 GB of RAM not bad but it can be better and up to 1 TB of storage that is great how much for this laptop $2,000 kind of overpriced if we compare it with what we've seen so far but it's worth it number five framework laptop 13 this laptop really caught my attention because of its concept the framework laptop 13 is probably the only modular laptop on the market what does this mean it means that you can upgrade its parts yourself fabulous even so it comes perfectly equipped with an AMD ryzen 9 7840 U CPU which is very powerful and also has a radon 700m GPU how can you upgrade that well when better Pieces come out in the future but let's continue with the specs its Ram comes from 8 to 64 GB it's up to you and has a storage capacity from 250 GB to 2 TB have you felt the power of modular Paradise yet it screen is 13.5 in and you can't change it but you won't need to do it anyway because it already offers an incredible resolution of 2256 X 1540 pixels where you can work or even play with spectacular image quality it's priced starting at $11,000 and I must say that it's worth every penny number four Lenovo Chromebook duet 3 this is my absolute favorite on the list it has everything and for an incredible $380 this is as absurd as it is great the Lenovo Chromebook duet 3 is powered by a Snapdragon 7c Gen 2 processor that provides impressive performance for any kind of task if you want to play or like graphic design you'll be backed by a gorgeous Qualcomm adreno GPU wow by the way it's 10.95 in screen makes it a portable treasure which perfectly matches its 1.14 lb weight but let's go back to the screen it's a touchscreen that offers an incredible resolution of 2,000x 1200 pixels and comes with a pen to design or make your graphics for your meetings weight size incredible performance and economy if you work remotely and like to travel the Chromebook duet 3 could be your best friend number three Asus Zenbook 13 OLED this is another laptop that I love how couldn't I it takes image quality and portability to a level that's hard to beat for a perfectly balanced price of $970 the Asus Zenbook 13 OLED as its name suggests features a 13-in HDR OLED display giving you an absurdly sharp image with incredibly Vivid colors and a resolution of 1920x 1080 pixels spectacular but if you're still not totally stunned you're about to see that its interior is an unparalleled appetizer since it houses is an AMD ryzen 7 5700 U CPU which is very powerful and will provide Power to everything you need and obviously behind such graphic quality there had to be this integrated Radeon graphics GPU the only detail that could be improved is its Ram which is 8 GB but it has 512 GB of storage which is great if you focus on portability number two Apple MacBook Air M2 the trick to the Apple MacBook Air that makes it probably the best laptop out there is that it's absurdly complete and portable it has a 13.6 in screen with Incredible image quality and provides a resolution of 2560 X 1664 pixels also look at that elegant design it comes equipped with an 8 core M2 CPU which is one of the best creations of the brand and gives it incredible support for everything it also comes with it a 10 core M2 GPU to give it a bunch of power to play anything what about the ram well it goes to the cloud since it has 24 GB for an impeccable interface and up to 2 terab of storage which feels like you can carry your entire office or studio in a briefcase I love it it's priced at $2,000 which is fair but not so affordable number one Dell XPS 15 OLED naming the Dell XPS 15 OLED as the best laptop of these times isn't a difficult task for $1,580 which is fully balanced in a cost benefit ratio it gives you such a great performance that's very difficult to beat to start it has a very solid and Powerful Intel Core I9 12,900 HK CPU for graphic work gaming and any Management program and as if that wasn't enough it also comes with an Nvidia RTX 3050 TI 4 GB GPU so the Dell XPS 15 OLED can play anything it's 15.6 in OLED screen provides a great resolution of 3456 X 2160 pixels and an impressively sharp image quality but if you check its Ram get ready because it has 64 GB of RAM for a practically immediate interface and a storage of a monstrous four teras there's nothing more to add this is the best laptop which of these laptops best suits your needs tell me in the comments and while you're there don't forget to like this video And subscribe to my channel because all be posting more videos like this see you in the next electronic [Music] Adventure\"}"
      ]
     },
     "execution_count": 10,
     "metadata": {},
     "output_type": "execute_result"
    }
   ],
   "source": [
    "search_ex[0]"
   ]
  },
  {
   "cell_type": "markdown",
   "metadata": {},
   "source": [
    "Here is the text printed out so we can see it and extract the laptops manually to make the examples.json file."
   ]
  },
  {
   "cell_type": "markdown",
   "metadata": {},
   "source": [
    "top 10 best laptops 2023 number 10 HP Spectre x364 careful because you can't help but fall in love with the HP Spectre X 3614 just look at that beautiful 13.5 in touchscreen with a resolution of 3000x 2000 pixels that adjusts its image color to the environment thanks to its artificial intelligence system incredible plus its screen can be turned back becoming a kind of tablet regarding the CPU the Spectre x314 comes equipped with a core i7 1255 U and an Intel UHD GPU so it has power to spare whether you're doing everyday office tasks or if you're a content creator like me can you see why I love it it has 16 GB of RAM and up to one Terra of storage so you can save what you want last but not least it has four speakers that sound great so how much for this beauty a reasonable $1,050 number nine Samsung Galaxy Book 2 Pro 360 if you like graphic design or working with metrics in the office the galaxy book 2 Pro 360 is ideal for you fairly priced at $950 this laptop has a 15.6 in Amo LED full HD screen with a great resolution of 1920x 1080 pixels its image quality stands out offering vibrant colors and being 33% brighter than conventional laptops I love it the screen can rotate 360° and become a tablet since it's also a touchscreen so that you can work directly on your graphics or designs with the S Pen it CPU is a core i7 1260p which gives it tremendous strength and for its Graphics power it has an Intel Iris XE GPU so you can also use it to play it has 16 GB of RAM and 512 GB of storage that can be expanded with an SSD card number eight Acer Swift 5 2022 if you live a busy life you probably need the Acer Swift 5 designed for maximum portability it weighs just 2.2 lb thanks to its magnesium lithium and magnesium aluminum alloy casing don't think it's fragile though it screen is protected by a robust Gorilla Glass 4 has a resolution of 1920x 1080 pixels in full HD and is a touchcreen in case you need to handle elements in an agile way cool and practical right inside it hides an Intel Core i7 1260p CPU and an Intel Iris XE GPU so it's light and yet very powerful since it has 16 GB of RAM and up to 1 Terra of storage wow it's priced at $1,500 although I wouldn't say this is the best cost benefit ratio let's see what other options the market will offer number seven Macbook Pro 13 18 in M2 2022 if you need portability as in the previous number and the battery matters most to you the MacBook Pro is for you I won't make you wait until the end right now I'm telling you that the MacBook Pro's battery gives you Independence for more than 18 hours so you could work all day away from any plug that seems perfect to me but going into other specs I'll tell you that it screen measures 13.3 in and has a resolution of up to 2560 x600 pixels which is great its processor is the 8 core Apple M2 and as Graphics support it has an integrated 8 core M2 GPU which together gives it great integrity for all types of functions which is best combined with its up to 24 GB of RAM and up to 2 terab of storage giving the MacBook Pro colossal Power by the way it cost $970 but an attractive price number six Asus Rog zephrus G14 this is one one of my favorites on the list and you'll love it too if you're a gaming fan the Asus Rog zephrus G14 features an AMD ryzen 9 4900 HS CPU which has enough power for any program and even the most resource demanding games plus it has the graphics support of Nvidia GeForce RTX 2060 Max Q you can edit movies on this laptop because its 14-in LCD screen offers a wqhd image with a resolution of 2560 by 1440 pixels which is amazing and it's also anti-reflective so that nothing distorts what you see by the way have you seen that awesome backlit keyboard yet fabulous right well it has 8 GB of RAM not bad but it can be better and up to 1 TB of storage that is great how much for this laptop $2,000 kind of overpriced if we compare it with what we've seen so far but it's worth it number five framework laptop 13 this laptop really caught my attention because of its concept the framework laptop 13 is probably the only modular laptop on the market what does this mean it means that you can upgrade its parts yourself fabulous even so it comes perfectly equipped with an AMD ryzen 9 7840 U CPU which is very powerful and also has a radon 700m GPU how can you upgrade that well when better Pieces come out in the future but let's continue with the specs its Ram comes from 8 to 64 GB it's up to you and has a storage capacity from 250 GB to 2 TB have you felt the power of modular Paradise yet it screen is 13.5 in and you can't change it but you won't need to do it anyway because it already offers an incredible resolution of 2256 X 1540 pixels where you can work or even play with spectacular image quality it's priced starting at $11,000 and I must say that it's worth every penny number four Lenovo Chromebook duet 3 this is my absolute favorite on the list it has everything and for an incredible $380 this is as absurd as it is great the Lenovo Chromebook duet 3 is powered by a Snapdragon 7c Gen 2 processor that provides impressive performance for any kind of task if you want to play or like graphic design you'll be backed by a gorgeous Qualcomm adreno GPU wow by the way it's 10.95 in screen makes it a portable treasure which perfectly matches its 1.14 lb weight but let's go back to the screen it's a touchscreen that offers an incredible resolution of 2,000x 1200 pixels and comes with a pen to design or make your graphics for your meetings weight size incredible performance and economy if you work remotely and like to travel the Chromebook duet 3 could be your best friend number three Asus Zenbook 13 OLED this is another laptop that I love how couldn't I it takes image quality and portability to a level that's hard to beat for a perfectly balanced price of $970 the Asus Zenbook 13 OLED as its name suggests features a 13-in HDR OLED display giving you an absurdly sharp image with incredibly Vivid colors and a resolution of 1920x 1080 pixels spectacular but if you're still not totally stunned you're about to see that its interior is an unparalleled appetizer since it houses is an AMD ryzen 7 5700 U CPU which is very powerful and will provide Power to everything you need and obviously behind such graphic quality there had to be this integrated Radeon graphics GPU the only detail that could be improved is its Ram which is 8 GB but it has 512 GB of storage which is great if you focus on portability number two Apple MacBook Air M2 the trick to the Apple MacBook Air that makes it probably the best laptop out there is that it's absurdly complete and portable it has a 13.6 in screen with Incredible image quality and provides a resolution of 2560 X 1664 pixels also look at that elegant design it comes equipped with an 8 core M2 CPU which is one of the best creations of the brand and gives it incredible support for everything it also comes with it a 10 core M2 GPU to give it a bunch of power to play anything what about the ram well it goes to the cloud since it has 24 GB for an impeccable interface and up to 2 terab of storage which feels like you can carry your entire office or studio in a briefcase I love it it's priced at $2,000 which is fair but not so affordable number one Dell XPS 15 OLED naming the Dell XPS 15 OLED as the best laptop of these times isn't a difficult task for $1,580 which is fully balanced in a cost benefit ratio it gives you such a great performance that's very difficult to beat to start it has a very solid and Powerful Intel Core I9 12,900 HK CPU for graphic work gaming and any Management program and as if that wasn't enough it also comes with an Nvidia RTX 3050 TI 4 GB GPU so the Dell XPS 15 OLED can play anything it's 15.6 in OLED screen provides a great resolution of 3456 X 2160 pixels and an impressively sharp image quality but if you check its Ram get ready because it has 64 GB of RAM for a practically immediate interface and a storage of a monstrous four teras there's nothing more to add this is the best laptop which of these laptops best suits your needs tell me in the comments and while you're there don't forget to like this video And subscribe to my channel because all be posting more videos like this see you in the next electronic [Music] Adventure\"}"
   ]
  },
  {
   "cell_type": "markdown",
   "metadata": {},
   "source": [
    "Used ChatGPT to help in extracting laptops. Here are some items that an LLM could pick up as a Laptops or organizations but aren't.\n",
    "\n",
    " - GPU\n",
    " - SSD\n",
    " - CPU\n",
    " - Terra\n",
    " - Powerful Intel Core I9\n",
    " - AMD ryzen 9\n",
    " - Nvidia Geforce RTX\n",
    " - Nvidia RTX 3050 TI"
   ]
  },
  {
   "cell_type": "code",
   "execution_count": 107,
   "metadata": {},
   "outputs": [],
   "source": [
    "data = [\n",
    "    {\n",
    "        \"text\": \" top 10 best laptops 2023 number 10 HP Spectre x364 careful because you can't help but fall in love with the HP Spectre X 3614 just look at that beautiful 13.5 in touchscreen with a resolution of 3000x 2000 pixels that adjusts its image color to the environment thanks to its artificial intelligence system incredible plus its screen can be turned back becoming a kind of tablet regarding the CPU the Spectre x314 comes equipped with a core i7 1255 U and an Intel UHD GPU so it has power to spare whether you're doing everyday office tasks or if you're a content creator like me can you see why I love it it has 16 GB of RAM and up to one Terra of storage so you can save what you want last but not least it has four speakers that sound great so how much for this beauty a reasonable $1,050 number nine Samsung Galaxy Book 2 Pro 360 if you like graphic design or working with metrics in the office the galaxy book 2 Pro 360 is ideal for you fairly priced at $950 this laptop has a 15.6 in Amo LED full HD screen with a great resolution of 1920x 1080 pixels its image quality stands out offering vibrant colors and being 33% brighter than conventional laptops I love it the screen can rotate 360\\u00b0 and become a tablet since it's also a touchscreen so that you can work directly on your graphics or designs with the S Pen it CPU is a core i7 1260p which gives it tremendous strength and for its Graphics power it has an Intel Iris XE GPU so you can also use it to play it has 16 GB of RAM and 512 GB of storage that can be expanded with an SSD card number eight Acer Swift 5 2022 if you live a busy life you probably need the Acer Swift 5 designed for maximum portability it weighs just 2.2 lb thanks to its magnesium lithium and magnesium aluminum alloy casing don't think it's fragile though it screen is protected by a robust Gorilla Glass 4 has a resolution of 1920x 1080 pixels in full HD and is a touchcreen in case you need to handle elements in an agile way cool and practical right inside it hides an Intel Core i7 1260p CPU and an Intel Iris XE GPU so it's light and yet very powerful since it has 16 GB of RAM and up to 1 Terra of storage wow it's priced at $1,500 although I wouldn't say this is the best cost benefit ratio let's see what other options the market will offer number seven Macbook Pro 13 18 in M2 2022 if you need portability as in the previous number and the battery matters most to you the MacBook Pro is for you I won't make you wait until the end right now I'm telling you that the MacBook Pro's battery gives you Independence for more than 18 hours so you could work all day away from any plug that seems perfect to me but going into other specs I'll tell you that it screen measures 13.3 in and has a resolution of up to 2560 x600 pixels which is great its processor is the 8 core Apple M2 and as Graphics support it has an integrated 8 core M2 GPU which together gives it great integrity for all types of functions which is best combined with its up to 24 GB of RAM and up to 2 terab of storage giving the MacBook Pro colossal Power by the way it cost $970 but an attractive price number six Asus Rog zephrus G14 this is one one of my favorites on the list and you'll love it too if you're a gaming fan the Asus Rog zephrus G14 features an AMD ryzen 9 4900 HS CPU which has enough power for any program and even the most resource demanding games plus it has the graphics support of Nvidia GeForce RTX 2060 Max Q you can edit movies on this laptop because its 14-in LCD screen offers a wqhd image with a resolution of 2560 by 1440 pixels which is amazing and it's also anti-reflective so that nothing distorts what you see by the way have you seen that awesome backlit keyboard yet fabulous right well it has 8 GB of RAM not bad but it can be better and up to 1 TB of storage that is great how much for this laptop $2,000 kind of overpriced if we compare it with what we've seen so far but it's worth it number five framework laptop 13 this laptop really caught my attention because of its concept the framework laptop 13 is probably the only modular laptop on the market what does this mean it means that you can upgrade its parts yourself fabulous even so it comes perfectly equipped with an AMD ryzen 9 7840 U CPU which is very powerful and also has a radon 700m GPU how can you upgrade that well when better Pieces come out in the future but let's continue with the specs its Ram comes from 8 to 64 GB it's up to you and has a storage capacity from 250 GB to 2 TB have you felt the power of modular Paradise yet it screen is 13.5 in and you can't change it but you won't need to do it anyway because it already offers an incredible resolution of 2256 X 1540 pixels where you can work or even play with spectacular image quality it's priced starting at $11,000 and I must say that it's worth every penny number four Lenovo Chromebook duet 3 this is my absolute favorite on the list it has everything and for an incredible $380 this is as absurd as it is great the Lenovo Chromebook duet 3 is powered by a Snapdragon 7c Gen 2 processor that provides impressive performance for any kind of task if you want to play or like graphic design you'll be backed by a gorgeous Qualcomm adreno GPU wow by the way it's 10.95 in screen makes it a portable treasure which perfectly matches its 1.14 lb weight but let's go back to the screen it's a touchscreen that offers an incredible resolution of 2,000x 1200 pixels and comes with a pen to design or make your graphics for your meetings weight size incredible performance and economy if you work remotely and like to travel the Chromebook duet 3 could be your best friend number three Asus Zenbook 13 OLED this is another laptop that I love how couldn't I it takes image quality and portability to a level that's hard to beat for a perfectly balanced price of $970 the Asus Zenbook 13 OLED as its name suggests features a 13-in HDR OLED display giving you an absurdly sharp image with incredibly Vivid colors and a resolution of 1920x 1080 pixels spectacular but if you're still not totally stunned you're about to see that its interior is an unparalleled appetizer since it houses is an AMD ryzen 7 5700 U CPU which is very powerful and will provide Power to everything you need and obviously behind such graphic quality there had to be this integrated Radeon graphics GPU the only detail that could be improved is its Ram which is 8 GB but it has 512 GB of storage which is great if you focus on portability number two Apple MacBook Air M2 the trick to the Apple MacBook Air that makes it probably the best laptop out there is that it's absurdly complete and portable it has a 13.6 in screen with Incredible image quality and provides a resolution of 2560 X 1664 pixels also look at that elegant design it comes equipped with an 8 core M2 CPU which is one of the best creations of the brand and gives it incredible support for everything it also comes with it a 10 core M2 GPU to give it a bunch of power to play anything what about the ram well it goes to the cloud since it has 24 GB for an impeccable interface and up to 2 terab of storage which feels like you can carry your entire office or studio in a briefcase I love it it's priced at $2,000 which is fair but not so affordable number one Dell XPS 15 OLED naming the Dell XPS 15 OLED as the best laptop of these times isn't a difficult task for $1,580 which is fully balanced in a cost benefit ratio it gives you such a great performance that's very difficult to beat to start it has a very solid and Powerful Intel Core I9 12,900 HK CPU for graphic work gaming and any Management program and as if that wasn't enough it also comes with an Nvidia RTX 3050 TI 4 GB GPU so the Dell XPS 15 OLED can play anything it's 15.6 in OLED screen provides a great resolution of 3456 X 2160 pixels and an impressively sharp image quality but if you check its Ram get ready because it has 64 GB of RAM for a practically immediate interface and a storage of a monstrous four teras there's nothing more to add this is the best laptop which of these laptops best suits your needs tell me in the comments and while you're there don't forget to like this video And subscribe to my channel because all be posting more videos like this see you in the next electronic [Music] Adventure\",\n",
    "        \"spans\": [\n",
    "            {\n",
    "                \"text\": \"HP Spectre x364\",\n",
    "                \"is_entity\": True,\n",
    "                \"label\": \"LAPTOP\",\n",
    "                \"reason\": \"is a laptop from the company HP\"\n",
    "            },\n",
    "            {\n",
    "                \"text\": \"HP Spectre X 3614\",\n",
    "                \"is_entity\": False,\n",
    "                \"label\": \"==NONE==\",\n",
    "                \"reason\": \"while this is a laptop, its' name is spelled slightly incorrectly resulting in a duplicate laptop\"\n",
    "            },\n",
    "            {\n",
    "                \"text\": \"Spectre x364\",\n",
    "                \"is_entity\": False,\n",
    "                \"label\": \"==NONE==\",\n",
    "                \"reason\": \"is the model of a laptop from the company HP, but not the full name in this case.\"\n",
    "            },\n",
    "            {\n",
    "                \"text\": \"Samsung Galaxy Book 2 Pro 360\",\n",
    "                \"is_entity\": True,\n",
    "                \"label\": \"LAPTOP\",\n",
    "                \"reason\": \"is one of many laptops from the company Samsung's popular line of laptops called Galaxy Book\"\n",
    "            },\n",
    "            {\n",
    "                \"text\": \"Acer Swift 5\",\n",
    "                \"is_entity\": True,\n",
    "                \"label\": \"LAPTOP\",\n",
    "                \"reason\": \"is a laptop from the company Acer, and Swift 5 is a reference to the model\"\n",
    "            },\n",
    "            {\n",
    "                \"text\": \"MacBook Pro 13 in M2\",\n",
    "                \"is_entity\": True,\n",
    "                \"label\": \"LAPTOP\",\n",
    "                \"reason\": \"is one of many laptops from the company Apple's popular line of laptops called MacBook, and includes 13 in which is the size of the screen: 13 inches, and M2 which is the Apple's signature chip\"\n",
    "            },\n",
    "            {\n",
    "                \"text\": \"Asus ROG Zephyrus G14\",\n",
    "                \"is_entity\": True,\n",
    "                \"label\": \"LAPTOP\",\n",
    "                \"reason\": \"is one of many laptops from the company Asus's popular line of laptops called ROG Zephyrus\"\n",
    "            },\n",
    "            {\n",
    "                \"text\": \"Framework Laptop 13\",\n",
    "                \"is_entity\": True,\n",
    "                \"label\": \"LAPTOP\",\n",
    "                \"reason\": \"is a laptop from a lesser known company called Framework, who specializes in making customizable laptops\"\n",
    "            },\n",
    "            {\n",
    "                \"text\": \"Lenovo Chromebook Duet 3\",\n",
    "                \"is_entity\": True,\n",
    "                \"label\": \"LAPTOP\",\n",
    "                \"reason\": \"is a laptop from Lenovo, and Chromebook is a refence to Google's OS\"\n",
    "            },\n",
    "            {\n",
    "                \"text\": \"Asus Zenbook 13 OLED\",\n",
    "                \"is_entity\": True,\n",
    "                \"label\": \"LAPTOP\",\n",
    "                \"reason\": \"is one of many laptops from the company Asus's popular line of laptops called Zenbook\"\n",
    "            },\n",
    "            {\n",
    "                \"text\": \"MacBook Air M2\",\n",
    "                \"is_entity\": True,\n",
    "                \"label\": \"LAPTOP\",\n",
    "                \"reason\": \"is one of many laptops from the company Apple's popular line of laptops called MacBook\"\n",
    "            },\n",
    "            {\n",
    "                \"text\": \"Dell XPS 15 OLED\",\n",
    "                \"is_entity\": True,\n",
    "                \"label\": \"LAPTOP\",\n",
    "                \"reason\": \"is a laptop from a popular company Dell\"\n",
    "            },\n",
    "            {\n",
    "                \"text\": \"MacBook Pro\",\n",
    "                \"is_entity\": False,\n",
    "                \"label\": \"==NONE==\",\n",
    "                \"reason\": \"is type of Apple laptop but doesn't have enough specifications in it's name to be an LAPTOP entity\"\n",
    "            },\n",
    "            {\n",
    "                \"text\": \"GPU\",\n",
    "                \"is_entity\": False,\n",
    "                \"label\": \"==NONE==\",\n",
    "                \"reason\": \"GPU stands for graphical proccessing unit and is a computer component\"\n",
    "            },\n",
    "            {\n",
    "                \"text\": \"SSD\",\n",
    "                \"is_entity\": False,\n",
    "                \"label\": \"==NONE==\",\n",
    "                \"reason\": \"SSD stands for solid state drive and is a computer component\"\n",
    "            },\n",
    "            {\n",
    "                \"text\": \"CPU\",\n",
    "                \"is_entity\": False,\n",
    "                \"label\": \"==NONE==\",\n",
    "                \"reason\": \"CPU stands for central proccessing unit and is a computer component\"\n",
    "            },\n",
    "            {\n",
    "                \"text\": \"Terra\",\n",
    "                \"is_entity\": False,\n",
    "                \"label\": \"==NONE==\",\n",
    "                \"reason\": \"Terra is typo where here it should be tera, which is short for terabyte: a unit of digital information storage\"\n",
    "            },\n",
    "            {\n",
    "                \"text\": \"Powerful Intel Core I9\",\n",
    "                \"is_entity\": False,\n",
    "                \"label\": \"==NONE==\",\n",
    "                \"reason\": \"this is referencing a CPU type using the word Powerful as an adjective\"\n",
    "            },\n",
    "            {\n",
    "                \"text\": \"AMD ryzen 9\",\n",
    "                \"is_entity\": False,\n",
    "                \"label\": \"==NONE==\",\n",
    "                \"reason\": \"this is one of many CPU components a computer or laptop could have\"\n",
    "            },\n",
    "            {\n",
    "                \"text\": \"Nvidia Geforce RTX\",\n",
    "                \"is_entity\": False,\n",
    "                \"label\": \"==NONE==\",\n",
    "                \"reason\": \"this is referencing a specific type of GPU, namely Nvidia's Geforece RTX line\"\n",
    "            },\n",
    "            {\n",
    "                \"text\": \"Nvidia RTX 3050 TI\",\n",
    "                \"is_entity\": False,\n",
    "                \"label\": \"==NONE==\",\n",
    "                \"reason\": \"this is one of many GPU components a computer or laptop could have\"\n",
    "            },\n",
    "            {\n",
    "                \"text\": \"Nvidia\",\n",
    "                \"is_entity\": True,\n",
    "                \"label\": \"==NONE==\",\n",
    "                \"reason\": \"this is a company that is known for making GPU's, not laptops\"\n",
    "            },\n",
    "            {\n",
    "                \"text\": \"AMD\",\n",
    "                \"is_entity\": True,\n",
    "                \"label\": \"==NONE==\",\n",
    "                \"reason\": \"this is a company that is known for making CPU's and GPU's, not laptops\"\n",
    "            },\n",
    "            {\n",
    "                \"text\": \"Chromebook\",\n",
    "                \"is_entity\": False,\n",
    "                \"label\": \"==NONE==\",\n",
    "                \"reason\": \"this is a type of laptop that many companies make, that runs on Google's OS\"\n",
    "            }\n",
    "        ]\n",
    "    }\n",
    "]"
   ]
  },
  {
   "cell_type": "code",
   "execution_count": 109,
   "metadata": {},
   "outputs": [],
   "source": [
    "import json\n",
    "\n",
    "# Write to a JSON file\n",
    "with open('notebooks/examples.json', 'w') as f:\n",
    "    json.dump(data, f, indent=4)"
   ]
  },
  {
   "cell_type": "markdown",
   "metadata": {},
   "source": [
    "## NER\n",
    "\n",
    "### Extracting Objects\n",
    "\n",
    "After searching for videos with the best of for certain products, now we want to extract what those products are. We can do this with named entity recognition (NER)."
   ]
  },
  {
   "cell_type": "code",
   "execution_count": 12,
   "metadata": {},
   "outputs": [],
   "source": [
    "import spacy\n",
    "ner = spacy.load(\"en_core_web_sm\")"
   ]
  },
  {
   "cell_type": "code",
   "execution_count": 13,
   "metadata": {},
   "outputs": [
    {
     "data": {
      "text/plain": [
       "{'video_id': 'FK8veh-L8AE',\n",
       " 'title': 'TOP 10 BEST LAPTOPS 2023',\n",
       " 'video_link': 'https://www.youtube.com/watch?v=FK8veh-L8AE',\n",
       " 'channel_name': 'Trend Max',\n",
       " 'cc_text': \" top 10 best laptops 2023 number 10 HP Spectre x364 careful because you can't help but fall in love with the HP Spectre X 3614 just look at that beautiful 13.5 in touchscreen with a resolution of 3000x 2000 pixels that adjusts its image color to the environment thanks to its artificial intelligence system incredible plus its screen can be turned back becoming a kind of tablet regarding the CPU the Spectre x314 comes equipped with a core i7 1255 U and an Intel UHD GPU so it has power to spare whether you're doing everyday office tasks or if you're a content creator like me can you see why I love it it has 16 GB of RAM and up to one Terra of storage so you can save what you want last but not least it has four speakers that sound great so how much for this beauty a reasonable $1,050 number nine Samsung Galaxy Book 2 Pro 360 if you like graphic design or working with metrics in the office the galaxy book 2 Pro 360 is ideal for you fairly priced at $950 this laptop has a 15.6 in Amo LED full HD screen with a great resolution of 1920x 1080 pixels its image quality stands out offering vibrant colors and being 33% brighter than conventional laptops I love it the screen can rotate 360° and become a tablet since it's also a touchscreen so that you can work directly on your graphics or designs with the S Pen it CPU is a core i7 1260p which gives it tremendous strength and for its Graphics power it has an Intel Iris XE GPU so you can also use it to play it has 16 GB of RAM and 512 GB of storage that can be expanded with an SSD card number eight Acer Swift 5 2022 if you live a busy life you probably need the Acer Swift 5 designed for maximum portability it weighs just 2.2 lb thanks to its magnesium lithium and magnesium aluminum alloy casing don't think it's fragile though it screen is protected by a robust Gorilla Glass 4 has a resolution of 1920x 1080 pixels in full HD and is a touchcreen in case you need to handle elements in an agile way cool and practical right inside it hides an Intel Core i7 1260p CPU and an Intel Iris XE GPU so it's light and yet very powerful since it has 16 GB of RAM and up to 1 Terra of storage wow it's priced at $1,500 although I wouldn't say this is the best cost benefit ratio let's see what other options the market will offer number seven Macbook Pro 13 18 in M2 2022 if you need portability as in the previous number and the battery matters most to you the MacBook Pro is for you I won't make you wait until the end right now I'm telling you that the MacBook Pro's battery gives you Independence for more than 18 hours so you could work all day away from any plug that seems perfect to me but going into other specs I'll tell you that it screen measures 13.3 in and has a resolution of up to 2560 x600 pixels which is great its processor is the 8 core Apple M2 and as Graphics support it has an integrated 8 core M2 GPU which together gives it great integrity for all types of functions which is best combined with its up to 24 GB of RAM and up to 2 terab of storage giving the MacBook Pro colossal Power by the way it cost $970 but an attractive price number six Asus Rog zephrus G14 this is one one of my favorites on the list and you'll love it too if you're a gaming fan the Asus Rog zephrus G14 features an AMD ryzen 9 4900 HS CPU which has enough power for any program and even the most resource demanding games plus it has the graphics support of Nvidia GeForce RTX 2060 Max Q you can edit movies on this laptop because its 14-in LCD screen offers a wqhd image with a resolution of 2560 by 1440 pixels which is amazing and it's also anti-reflective so that nothing distorts what you see by the way have you seen that awesome backlit keyboard yet fabulous right well it has 8 GB of RAM not bad but it can be better and up to 1 TB of storage that is great how much for this laptop $2,000 kind of overpriced if we compare it with what we've seen so far but it's worth it number five framework laptop 13 this laptop really caught my attention because of its concept the framework laptop 13 is probably the only modular laptop on the market what does this mean it means that you can upgrade its parts yourself fabulous even so it comes perfectly equipped with an AMD ryzen 9 7840 U CPU which is very powerful and also has a radon 700m GPU how can you upgrade that well when better Pieces come out in the future but let's continue with the specs its Ram comes from 8 to 64 GB it's up to you and has a storage capacity from 250 GB to 2 TB have you felt the power of modular Paradise yet it screen is 13.5 in and you can't change it but you won't need to do it anyway because it already offers an incredible resolution of 2256 X 1540 pixels where you can work or even play with spectacular image quality it's priced starting at $11,000 and I must say that it's worth every penny number four Lenovo Chromebook duet 3 this is my absolute favorite on the list it has everything and for an incredible $380 this is as absurd as it is great the Lenovo Chromebook duet 3 is powered by a Snapdragon 7c Gen 2 processor that provides impressive performance for any kind of task if you want to play or like graphic design you'll be backed by a gorgeous Qualcomm adreno GPU wow by the way it's 10.95 in screen makes it a portable treasure which perfectly matches its 1.14 lb weight but let's go back to the screen it's a touchscreen that offers an incredible resolution of 2,000x 1200 pixels and comes with a pen to design or make your graphics for your meetings weight size incredible performance and economy if you work remotely and like to travel the Chromebook duet 3 could be your best friend number three Asus Zenbook 13 OLED this is another laptop that I love how couldn't I it takes image quality and portability to a level that's hard to beat for a perfectly balanced price of $970 the Asus Zenbook 13 OLED as its name suggests features a 13-in HDR OLED display giving you an absurdly sharp image with incredibly Vivid colors and a resolution of 1920x 1080 pixels spectacular but if you're still not totally stunned you're about to see that its interior is an unparalleled appetizer since it houses is an AMD ryzen 7 5700 U CPU which is very powerful and will provide Power to everything you need and obviously behind such graphic quality there had to be this integrated Radeon graphics GPU the only detail that could be improved is its Ram which is 8 GB but it has 512 GB of storage which is great if you focus on portability number two Apple MacBook Air M2 the trick to the Apple MacBook Air that makes it probably the best laptop out there is that it's absurdly complete and portable it has a 13.6 in screen with Incredible image quality and provides a resolution of 2560 X 1664 pixels also look at that elegant design it comes equipped with an 8 core M2 CPU which is one of the best creations of the brand and gives it incredible support for everything it also comes with it a 10 core M2 GPU to give it a bunch of power to play anything what about the ram well it goes to the cloud since it has 24 GB for an impeccable interface and up to 2 terab of storage which feels like you can carry your entire office or studio in a briefcase I love it it's priced at $2,000 which is fair but not so affordable number one Dell XPS 15 OLED naming the Dell XPS 15 OLED as the best laptop of these times isn't a difficult task for $1,580 which is fully balanced in a cost benefit ratio it gives you such a great performance that's very difficult to beat to start it has a very solid and Powerful Intel Core I9 12,900 HK CPU for graphic work gaming and any Management program and as if that wasn't enough it also comes with an Nvidia RTX 3050 TI 4 GB GPU so the Dell XPS 15 OLED can play anything it's 15.6 in OLED screen provides a great resolution of 3456 X 2160 pixels and an impressively sharp image quality but if you check its Ram get ready because it has 64 GB of RAM for a practically immediate interface and a storage of a monstrous four teras there's nothing more to add this is the best laptop which of these laptops best suits your needs tell me in the comments and while you're there don't forget to like this video And subscribe to my channel because all be posting more videos like this see you in the next electronic [Music] Adventure\"}"
      ]
     },
     "execution_count": 13,
     "metadata": {},
     "output_type": "execute_result"
    }
   ],
   "source": [
    "search_ex[0]"
   ]
  },
  {
   "cell_type": "code",
   "execution_count": 14,
   "metadata": {},
   "outputs": [],
   "source": [
    "cc_text_ex = search_ex[0]['cc_text']\n",
    "doc = ner(cc_text_ex)"
   ]
  },
  {
   "cell_type": "code",
   "execution_count": 15,
   "metadata": {},
   "outputs": [
    {
     "name": "stdout",
     "output_type": "stream",
     "text": [
      "CPU\n",
      "Intel\n",
      "GPU\n",
      "RAM\n",
      "Samsung\n",
      "CPU\n",
      "Intel\n",
      "RAM\n",
      "SSD\n",
      "Acer\n",
      "CPU\n",
      "Intel\n",
      "RAM\n",
      "Macbook Pro\n",
      "the MacBook Pro\n",
      "the MacBook Pro's\n",
      "Apple\n",
      "M2\n",
      "RAM\n",
      "G14\n",
      "G14\n",
      "AMD\n",
      "CPU\n",
      "Nvidia GeForce\n",
      "LCD\n",
      "RAM\n",
      "AMD\n",
      "CPU\n",
      "Lenovo Chromebook\n",
      "Lenovo Chromebook\n",
      "Snapdragon\n",
      "GPU\n",
      "Chromebook\n",
      "HDR\n",
      "Vivid\n",
      "AMD\n",
      "CPU\n",
      "GPU\n",
      "Apple\n",
      "the Apple MacBook Air\n",
      "Dell\n",
      "XPS 15\n",
      "GPU\n",
      "RAM\n"
     ]
    }
   ],
   "source": [
    "for ent in doc.ents:\n",
    "    if ent.label_ in [\"ORG\", \"PRODUCT\"]:\n",
    "        print(ent)"
   ]
  },
  {
   "cell_type": "code",
   "execution_count": 16,
   "metadata": {},
   "outputs": [
    {
     "name": "stdout",
     "output_type": "stream",
     "text": [
      "Apple M2\n",
      "Dell XPS 15\n"
     ]
    }
   ],
   "source": [
    "for i, ent in enumerate(doc.ents):\n",
    "    if (ent.label_ == \"ORG\") and (doc.ents[i+1].label_ == \"PRODUCT\"):\n",
    "        print(ent, doc.ents[i+1])"
   ]
  },
  {
   "cell_type": "markdown",
   "metadata": {},
   "source": [
    "### Spacy_LLM NER\n",
    "\n",
    "Trying spacy-LLM integration for a better NER method, since the basic version above is missing a lot. Here is a guide on how to do this: https://github.com/explosion/spacy-llm/tree/main/usage_examples/ner_v3_openai."
   ]
  },
  {
   "cell_type": "code",
   "execution_count": 12,
   "metadata": {},
   "outputs": [],
   "source": [
    "from spacy_llm.util import assemble"
   ]
  },
  {
   "cell_type": "code",
   "execution_count": 13,
   "metadata": {},
   "outputs": [],
   "source": [
    "os.environ[\"OPENAI_API_KEY\"] = openai_api_key\n",
    "os.environ[\"OPENAI_API_ORG\"] = openai_api_org"
   ]
  },
  {
   "cell_type": "code",
   "execution_count": 14,
   "metadata": {},
   "outputs": [],
   "source": [
    "nlp = assemble(\"notebooks/config_test.cfg\", overrides={\"paths.examples\": \"notebooks/example_test.json\"})"
   ]
  },
  {
   "cell_type": "code",
   "execution_count": 15,
   "metadata": {},
   "outputs": [
    {
     "data": {
      "text/plain": [
       "\" this year we tested over 70 different laptops by far a record for this channel we tested small ones we tested big ones we tested cheap ones and we tested expensive ones a huge variety from all kinds of Manufacturers and when you use these laptops side by side just like we do it becomes so obvious which laptops are great and which are completely mediocre well today is the day that we countd down the top 10 laptops that we tested in 2023 if you are planning to buy one of these lap tops you'll obviously want to buy them at the best possible price so check the links below the video our team scours the internet to find the best deals and we update them daily plus if new laptops are released after this video that we end up liking even better we'll include them down there too number 10 the HB Pavilion plus 14 in for a price of around $729 you get a crazy amount for the money it will be configured with an OLED panel at that price which is bright vibrant color accurate has a fast refresh rate and high resolution you get our favorite processor for a Windows laptop and AMD N4 U series 1 which delivers fast performance yet zps power because of this The Pavilion plus has very solid battery life and in light use feels cool to the touch and has minimal fan noise the laptop also comes standard with 16 gig of memory something other manufacturers charging twice as much seem to struggle with but it isn't perfect its cons are the laptop looks dated its keyboard and track bed are mediocre its speakers aren't great and you will hear fan noise when doing anything intensive also its display employs pwm flickering at all brightness levels but I have sensitive eyes and the pwm on this display it didn't bother me at all we recommend this laptop for those looking for a good all round laptop on a tighter budget number nine the Asus mbook 14x this laptop is an absolute Beast for its price pra it has a large 14.5 in OLED display that is bright vivid has a fast refresh rate and is high resolution you've also got Intel's insanely powerful 13th gen H series processor inside and 16 gig of memory the laptop looks stylish and it feels premium but what makes this laptop so special is its price it retails for about $1,000 but it has been regularly going on sale for $300 off making it a terrific deal cons are that its battery life sucks and you will hear a little fan noise at times both of these are a trade-off given its high performance processor though this is a great laptop for someone like a software developer who wants CPU performance portability and to comfortably see a lot of cone on screen heck I bought this one for myself now we deliberately avoided having a laptop manufacturer sponsor today's video as we wanted to be completely unbiased however we do have a sponsor and that is ugreen ug green makes a range of Premium powerful charges ug Green's charges support the latest fast charging tech for example using a nexer 100 wat charger you can charge a MacBook Air with M2 to 55% in just 30 minutes and all you green laptop chargers come with multiple ports so you can charge all your devices at the same time buying a high high quality usbcc charger is a great accessory for your new laptop even more so for those buying high performance laptops as on days where you just don't need the laptop's full performance you can leave its heavy charging brick at home and instead bring one of these number eight the framework laptop with AMD if you haven't heard of framework they are a new laptop manufacturer that produces fully upgradeable laptops so no more stressing out about which configuration you should buy plus an upgradeable laptop is better for the environment and the koala's will thank you Pros it has a comfortable keyboard a good display and interchangeable ports in fact it's fully upgradable framework also has incredible community and Linux support with the new AMD variant which uses the excellent zen4 U series processor the laptop doesn't get that warm to the touch and battery life is longer than on the Intel model on that note check out our video link below as it will make it abundantly clear as to why you should buy the AMD model over the Intel variant cons are that its speakers are still bad its display is not fast refresh rate and it looks dated and feels less premium compared to other laptops in the price range and although fan noise is much better than on the Intel variant you'll still hear some on this AMD model we recommend this laptop for software developers and those that like to Tinker with tech number seven the Apple MacBook air15 with M2 in every facet the MacBook airs with M2 are all round highquality devices they feel premium they look great their displays are more than good enough for most use cases they have good speakers the best trackpad and a decent webcam plus they have Apple's insanely efficient M series processors inside this means they are plenty powerful for everyday use as well as doing some performance tasks like programming or creative workloads yet they have no fan noise as they have no fans they also rarely get warm to the touch in fact since the 15-in model is larger it has more area to dissipate heat and therefore almost never feels warm the main con of the airs is that they are crazy expensive given they only come with 8 Giga memory which can't be upgraded after you buy also the keyboard even though it feels high quality isn't the most comfortable as it's a little low travel these laptops really are the ultimate laptops for light use those browsing the web using office and studying the reason I've chosen the 15-in for this Roundup is that I feel it's more unique it's an all around great laptop with a really large screen that's still incredibly portable whereas the 13in most people could buy a Zenbook 14 and not really notice there just isn't really anything quite like the MacBook a15 with M2 number six the Asus strict scar 16 the scar 16 delivered by far the best overall gaming experience out of the 19 gaming laptops that we tested in our recent gaming video I've linked it down below it won our best gaming laptop award because of the following reasons it has Intel's most powerful HX series processor inside up to nvidia's highest end 4090 Graphics a stunning mini LED panel with all the bells and whistles fast refresh rate high resolution Advanced Optimus g-sync and excellent color accuracy it comes full fully loaded with 32 gig of memory and 1 tab of storage which by the way are upgradable but all this isn't white one our overall best gaming laptop it's because the scar doesn't suffer from the curse of the gaming laptop which is jet engine like fan noise and distractingly warm keyboard temperatures yes the scar does have some fan noise and does get warm but it's nowhere near as bad as other powerful laptops the main issues with the scar are that it's expensive it's chunky so your hands are raised a bit which some people might find a little uncomfortable when using it and you may hear coil wine but if you are gaming which is what this laptop is designed for you aren't going to hear it number five the Asus mbook 14 this laptop has a vivid extremely color accurate OLED display that's a delight to look at you get a comfortable keyboard very long battery life 16 gig of memory and 512 gigs of storage the laptop also looks like a stylish device and feels premium plus it doesn't have loud fan noise or get warn to the touch and the price is really good at around $800 before sales you're basically getting 90% of a MacBook Air for a much lower price with by the way a more comfortable keyboard its main con is that it uses an older ryzen Zen 3 processor rather than the latest Zen 4 so you do lose some performance over a laptop like the Pavilion plus that I mentioned earlier but if you're just looking for a highquality laptop for light use like browsing the web starting or office work which is what we recommend this laptop for this is more than fast enough and in this price range of8 $1 or under we think you'll appreciate the Creature Comforts of this laptop over others that may have more performance but also have more annoying issues number four the Lenovo slim Pro 9i also known as the yoga Pro 9i we're going to be naughty here and talk about both the 14-in and 16-in versions as these really tie for this spot these laptops completely caught us off guard with how good they are if there are windows equivalents of apples MacBook Pros these are the ones almost everything about these laptops is great they have a stunning mini LED panel that is bright color accurate fast refresh rate and don't employ PW on flickering they both have powerful Intel 13th gen H series CPUs inside and up to Nvidia RTX 4060 graphics and they don't get that warm to the touch their keyboards are Exquisite way more comfortable than a Macbook Pros and unlike a Mac they come fully loaded with 32 gig of memory and 1 tab of storage for a price of around $2,000 which is significantly less than a compar MacBook Pro the reason these two have ended up in a tie is the following the 14-in version has fantastic ports compared to the 16in it has one additional USBC port and its HDMI port and SD card reader are faster this is very handy but the 14-in does have noticeably more fan noise than the 16-in as this powerful Hardware is packed into a smaller chassis which is harder to cool that being said the 14in fan noise while audible at times it really isn't that distracting these are great laptops for someone who wants the Perfect Blend of power and portability in a premium laptop but doesn't want to pay the insane amount that Apple charges or they just don't want Mac OS programmers who like to do a little bit of gaming you're probably the ideal user for this laptop number three the MacBook Pro 16 with M3 the MacBook Pro 16 has been one of the best laptops for years and this year's M3 version is no exception no other laptop that is this portable can offer such insane performance with such long battery lights and so little fan noise in high performance tasks heck most of the time I used this laptop it was dead silent this year's M3 upgrade is a massive Step Up in raw performance compared to the M2 and the 16-in model is able to take full advantage of the highest end M3 Max chip which by the way the 14-in MacBook Pro is not it consistently feeds the processor more power and due to its better cooling it doesn't have to throttle the processor as much in Long running tasks it also continues to have the best speakers of any laptop out there and an absolutely gorgeous display it's the perfect productivity machine for those looking to create or code its main issue is price and the fact that it's not user upgradeable this laptop can quickly become $4,000 or more and this year Apple are really pushing some of their core users towards upgraded models as they have nerfed memory bandwidth and reduced performance cores in their lower configurations check down below because I put a link there for a recent video that we did explaining this topic so for those creators doing high-end professional creative work I really recommend the highest end M3 Max chip in the MacBook Pro 16 but for everyone else who's not doing something limited by memory bandwidth or a high performance core count such as programming or general office work you're going to love this new Macbook Pro 16 with the M3 Pro chip it comes with more memory 18 gigs and you get a cooler feeling laptop when compared to the M2 version longer battery life and applications will feel a little snappier due to the higher single core performance number two noa's Legion slim 7 the legion slim 7 with AMD offers a solid amount of performance in a portable and very premium package but unlike many other high performance laptops it's actually comfortable to use it rarely gets distractingly warm to the touch and it does not have fan noise in casual use its keyboard is incredibly comfortable and it looks stylish it has a great display which is bright high resolution and fast refresh rate plus if you want a more color accurate display and even higher resolution there is a cheap upgrade available it also has a Muk switch and it comes with 16 gig of solded memory with one memory slot available so you can easily and cheaply upgrade it to 32 gig or even more its battery life is decent and most of its ports around the back so cables won't get in your way and unlike some other laptops these ports are really easy to find as they light up but what makes this laptop just so incredibly special is where it's priced it regularly retails for around 1,100 to $1,400 depending ending on sales which makes this laptop an absolute standout in the price range when it comes to cons though the AMD version maxes out in an RTX 4060 so if you want more graphics performance you'll want to check out the legion 7 Pro which has higher configs but be prepared to spend a ton more or you can buy an Intel variant which goes up to an RTX 4070 but that laptop will fill hotter to the touch and has more fan noise also only one of the Legion slim 7's USBC ports are the faster 4.0 speeds and its SD card reader is slow finally it has a large footprint which may make it hard to find a case for it but all in all we're really grabbing at straws here with these cons overall this is the laptop to get for anyone looking for an allr round great 16-in laptop that just won't break the bank with the exception of people who rely on software that just runs better on Intel like Premier Pro number one the Apple MacBook Pro 14 when it comes to what makes a great laptop you want portability you want per performance and you don't want annoyances like fan noise heat a bad keyboard an inaccurate trackpad or a display that's just hard to see and after testing 70 different laptops this year the MacBook Pro 14 is the only laptop to check all these boxes for those wondering why it's on number one and ahead of the 16-in version the 14-in is just more of a miracle laptop given what it can do for its size this year's M3 Pro variant like the 16in I talked about earlier is substantially better for many people snap here in single core longer battery life and almost no hidden fan noise for performance tasks but there are cons just like the 16-in version for one of Apple's largest user bases creators who edit videos like the one you're watching right now the previously mentioned nuke to memory bandwidth at many of their configurations will significantly impact you so as I said with the 16in consider buying an older M2 MacBook Pro hopefully on sale so check our links down below for where to go for that and in the case of the 14-in version I do not recommend upgrading it to a Max chip we have both the 14-in 16in with the max chips and on the 14in you just don't get the full performance out of your investment yes it still performs better than an M3 Pro equipped MacBook Pro 14 but it gets hot and has to run the fans a bit to do that and even then it doesn't perform on par with the same chip in the MacBook Pro 16 so buy a MacBook Pro 16 if you want that level of Performance Plus as always Max aren't upgradeable well that's it big congrat ulations to all our winning manufacturers this year's top 10 was actually quite a wide range there is literally a great laptop for each type of user at every budget make sure to check out our links down below not only do we want to help you find the best laptops but we want to help you get the best deals on those laptops and that's where you'll do that make sure to smash the like button and get subscribed and share this Channel with your friends not only will it help us grow and that means we can create more content for you but it makes my dearest mother very proud till next time go do something awesome with your day and I will catch you later\""
      ]
     },
     "execution_count": 15,
     "metadata": {},
     "output_type": "execute_result"
    }
   ],
   "source": [
    "search_ex[1][\"cc_text\"]"
   ]
  },
  {
   "cell_type": "code",
   "execution_count": 16,
   "metadata": {},
   "outputs": [],
   "source": [
    "def extract_entities(text, config_file, examples_file):\n",
    "    nlp = assemble(config_file, overrides={\"paths.examples\": examples_file})\n",
    "    doc = nlp(text)\n",
    "\n",
    "    entities = doc.ents\n",
    "    entities = [(ent.text, ent.label_) for ent in doc.ents]\n",
    "\n",
    "    return entities"
   ]
  },
  {
   "cell_type": "code",
   "execution_count": 17,
   "metadata": {},
   "outputs": [
    {
     "data": {
      "text/plain": [
       "{'video_id': 'FK8veh-L8AE',\n",
       " 'title': 'TOP 10 BEST LAPTOPS 2023',\n",
       " 'video_link': 'https://www.youtube.com/watch?v=FK8veh-L8AE',\n",
       " 'channel_name': 'Trend Max',\n",
       " 'cc_text': \" top 10 best laptops 2023 number 10 HP Spectre x364 careful because you can't help but fall in love with the HP Spectre X 3614 just look at that beautiful 13.5 in touchscreen with a resolution of 3000x 2000 pixels that adjusts its image color to the environment thanks to its artificial intelligence system incredible plus its screen can be turned back becoming a kind of tablet regarding the CPU the Spectre x314 comes equipped with a core i7 1255 U and an Intel UHD GPU so it has power to spare whether you're doing everyday office tasks or if you're a content creator like me can you see why I love it it has 16 GB of RAM and up to one Terra of storage so you can save what you want last but not least it has four speakers that sound great so how much for this beauty a reasonable $1,050 number nine Samsung Galaxy Book 2 Pro 360 if you like graphic design or working with metrics in the office the galaxy book 2 Pro 360 is ideal for you fairly priced at $950 this laptop has a 15.6 in Amo LED full HD screen with a great resolution of 1920x 1080 pixels its image quality stands out offering vibrant colors and being 33% brighter than conventional laptops I love it the screen can rotate 360° and become a tablet since it's also a touchscreen so that you can work directly on your graphics or designs with the S Pen it CPU is a core i7 1260p which gives it tremendous strength and for its Graphics power it has an Intel Iris XE GPU so you can also use it to play it has 16 GB of RAM and 512 GB of storage that can be expanded with an SSD card number eight Acer Swift 5 2022 if you live a busy life you probably need the Acer Swift 5 designed for maximum portability it weighs just 2.2 lb thanks to its magnesium lithium and magnesium aluminum alloy casing don't think it's fragile though it screen is protected by a robust Gorilla Glass 4 has a resolution of 1920x 1080 pixels in full HD and is a touchcreen in case you need to handle elements in an agile way cool and practical right inside it hides an Intel Core i7 1260p CPU and an Intel Iris XE GPU so it's light and yet very powerful since it has 16 GB of RAM and up to 1 Terra of storage wow it's priced at $1,500 although I wouldn't say this is the best cost benefit ratio let's see what other options the market will offer number seven Macbook Pro 13 18 in M2 2022 if you need portability as in the previous number and the battery matters most to you the MacBook Pro is for you I won't make you wait until the end right now I'm telling you that the MacBook Pro's battery gives you Independence for more than 18 hours so you could work all day away from any plug that seems perfect to me but going into other specs I'll tell you that it screen measures 13.3 in and has a resolution of up to 2560 x600 pixels which is great its processor is the 8 core Apple M2 and as Graphics support it has an integrated 8 core M2 GPU which together gives it great integrity for all types of functions which is best combined with its up to 24 GB of RAM and up to 2 terab of storage giving the MacBook Pro colossal Power by the way it cost $970 but an attractive price number six Asus Rog zephrus G14 this is one one of my favorites on the list and you'll love it too if you're a gaming fan the Asus Rog zephrus G14 features an AMD ryzen 9 4900 HS CPU which has enough power for any program and even the most resource demanding games plus it has the graphics support of Nvidia GeForce RTX 2060 Max Q you can edit movies on this laptop because its 14-in LCD screen offers a wqhd image with a resolution of 2560 by 1440 pixels which is amazing and it's also anti-reflective so that nothing distorts what you see by the way have you seen that awesome backlit keyboard yet fabulous right well it has 8 GB of RAM not bad but it can be better and up to 1 TB of storage that is great how much for this laptop $2,000 kind of overpriced if we compare it with what we've seen so far but it's worth it number five framework laptop 13 this laptop really caught my attention because of its concept the framework laptop 13 is probably the only modular laptop on the market what does this mean it means that you can upgrade its parts yourself fabulous even so it comes perfectly equipped with an AMD ryzen 9 7840 U CPU which is very powerful and also has a radon 700m GPU how can you upgrade that well when better Pieces come out in the future but let's continue with the specs its Ram comes from 8 to 64 GB it's up to you and has a storage capacity from 250 GB to 2 TB have you felt the power of modular Paradise yet it screen is 13.5 in and you can't change it but you won't need to do it anyway because it already offers an incredible resolution of 2256 X 1540 pixels where you can work or even play with spectacular image quality it's priced starting at $11,000 and I must say that it's worth every penny number four Lenovo Chromebook duet 3 this is my absolute favorite on the list it has everything and for an incredible $380 this is as absurd as it is great the Lenovo Chromebook duet 3 is powered by a Snapdragon 7c Gen 2 processor that provides impressive performance for any kind of task if you want to play or like graphic design you'll be backed by a gorgeous Qualcomm adreno GPU wow by the way it's 10.95 in screen makes it a portable treasure which perfectly matches its 1.14 lb weight but let's go back to the screen it's a touchscreen that offers an incredible resolution of 2,000x 1200 pixels and comes with a pen to design or make your graphics for your meetings weight size incredible performance and economy if you work remotely and like to travel the Chromebook duet 3 could be your best friend number three Asus Zenbook 13 OLED this is another laptop that I love how couldn't I it takes image quality and portability to a level that's hard to beat for a perfectly balanced price of $970 the Asus Zenbook 13 OLED as its name suggests features a 13-in HDR OLED display giving you an absurdly sharp image with incredibly Vivid colors and a resolution of 1920x 1080 pixels spectacular but if you're still not totally stunned you're about to see that its interior is an unparalleled appetizer since it houses is an AMD ryzen 7 5700 U CPU which is very powerful and will provide Power to everything you need and obviously behind such graphic quality there had to be this integrated Radeon graphics GPU the only detail that could be improved is its Ram which is 8 GB but it has 512 GB of storage which is great if you focus on portability number two Apple MacBook Air M2 the trick to the Apple MacBook Air that makes it probably the best laptop out there is that it's absurdly complete and portable it has a 13.6 in screen with Incredible image quality and provides a resolution of 2560 X 1664 pixels also look at that elegant design it comes equipped with an 8 core M2 CPU which is one of the best creations of the brand and gives it incredible support for everything it also comes with it a 10 core M2 GPU to give it a bunch of power to play anything what about the ram well it goes to the cloud since it has 24 GB for an impeccable interface and up to 2 terab of storage which feels like you can carry your entire office or studio in a briefcase I love it it's priced at $2,000 which is fair but not so affordable number one Dell XPS 15 OLED naming the Dell XPS 15 OLED as the best laptop of these times isn't a difficult task for $1,580 which is fully balanced in a cost benefit ratio it gives you such a great performance that's very difficult to beat to start it has a very solid and Powerful Intel Core I9 12,900 HK CPU for graphic work gaming and any Management program and as if that wasn't enough it also comes with an Nvidia RTX 3050 TI 4 GB GPU so the Dell XPS 15 OLED can play anything it's 15.6 in OLED screen provides a great resolution of 3456 X 2160 pixels and an impressively sharp image quality but if you check its Ram get ready because it has 64 GB of RAM for a practically immediate interface and a storage of a monstrous four teras there's nothing more to add this is the best laptop which of these laptops best suits your needs tell me in the comments and while you're there don't forget to like this video And subscribe to my channel because all be posting more videos like this see you in the next electronic [Music] Adventure\"}"
      ]
     },
     "execution_count": 17,
     "metadata": {},
     "output_type": "execute_result"
    }
   ],
   "source": [
    "search_ex[0]"
   ]
  },
  {
   "cell_type": "code",
   "execution_count": 18,
   "metadata": {},
   "outputs": [
    {
     "name": "stderr",
     "output_type": "stream",
     "text": [
      "c:\\Users\\RaviB\\anaconda3\\envs\\TechKnow\\lib\\site-packages\\spacy_llm\\tasks\\span\\util.py:83: UserWarning: Examples contain labels that are not specified in the task configuration. The latter contains the following labels: ['LAPTOP']. Labels in examples missing from the task configuration: ['==NONE==']. Please ensure your label specification and example labels are consistent.\n",
      "  warnings.warn(\n"
     ]
    },
    {
     "name": "stdout",
     "output_type": "stream",
     "text": [
      "8\n"
     ]
    },
    {
     "data": {
      "text/plain": [
       "[('HP Spectre x364', 'LAPTOP'),\n",
       " ('Samsung Galaxy Book 2 Pro 360', 'LAPTOP'),\n",
       " ('Acer Swift 5', 'LAPTOP'),\n",
       " ('framework laptop 13', 'LAPTOP'),\n",
       " ('Lenovo Chromebook duet 3', 'LAPTOP'),\n",
       " ('Asus Zenbook 13 OLED', 'LAPTOP'),\n",
       " ('Apple MacBook Air M2', 'LAPTOP'),\n",
       " ('Dell XPS 15 OLED', 'LAPTOP')]"
      ]
     },
     "execution_count": 18,
     "metadata": {},
     "output_type": "execute_result"
    }
   ],
   "source": [
    "ents_ex_0 = extract_entities(text=search_ex[0][\"cc_text\"], config_file=\"notebooks/config_test2.cfg\", examples_file=\"notebooks/example_test2.json\")\n",
    "print(len(ents_ex_0))\n",
    "ents_ex_0"
   ]
  },
  {
   "cell_type": "code",
   "execution_count": 19,
   "metadata": {},
   "outputs": [
    {
     "name": "stdout",
     "output_type": "stream",
     "text": [
      "8\n",
      "[('HP Spectre x364', 'LAPTOP'), ('Samsung Galaxy Book 2 Pro 360', 'LAPTOP'), ('Acer Swift 5', 'LAPTOP'), ('framework laptop 13', 'LAPTOP'), ('Lenovo Chromebook duet 3', 'LAPTOP'), ('Asus Zenbook 13 OLED', 'LAPTOP'), ('Apple MacBook Air M2', 'LAPTOP'), ('Dell XPS 15 OLED', 'LAPTOP')] \n",
      "\n"
     ]
    },
    {
     "ename": "KeyboardInterrupt",
     "evalue": "",
     "output_type": "error",
     "traceback": [
      "\u001b[1;31m---------------------------------------------------------------------------\u001b[0m",
      "\u001b[1;31mKeyboardInterrupt\u001b[0m                         Traceback (most recent call last)",
      "Cell \u001b[1;32mIn[19], line 2\u001b[0m\n\u001b[0;32m      1\u001b[0m \u001b[38;5;28;01mfor\u001b[39;00m i \u001b[38;5;129;01min\u001b[39;00m \u001b[38;5;28mrange\u001b[39m(\u001b[38;5;241m0\u001b[39m, \u001b[38;5;241m3\u001b[39m):\n\u001b[1;32m----> 2\u001b[0m     ents_ex \u001b[38;5;241m=\u001b[39m \u001b[43mextract_entities\u001b[49m\u001b[43m(\u001b[49m\u001b[43mtext\u001b[49m\u001b[38;5;241;43m=\u001b[39;49m\u001b[43msearch_ex\u001b[49m\u001b[43m[\u001b[49m\u001b[43mi\u001b[49m\u001b[43m]\u001b[49m\u001b[43m[\u001b[49m\u001b[38;5;124;43m\"\u001b[39;49m\u001b[38;5;124;43mcc_text\u001b[39;49m\u001b[38;5;124;43m\"\u001b[39;49m\u001b[43m]\u001b[49m\u001b[43m,\u001b[49m\u001b[43m \u001b[49m\u001b[43mconfig_file\u001b[49m\u001b[38;5;241;43m=\u001b[39;49m\u001b[38;5;124;43m\"\u001b[39;49m\u001b[38;5;124;43mnotebooks/config_test2.cfg\u001b[39;49m\u001b[38;5;124;43m\"\u001b[39;49m\u001b[43m,\u001b[49m\u001b[43m \u001b[49m\u001b[43mexamples_file\u001b[49m\u001b[38;5;241;43m=\u001b[39;49m\u001b[38;5;124;43m\"\u001b[39;49m\u001b[38;5;124;43mnotebooks/example_test2.json\u001b[39;49m\u001b[38;5;124;43m\"\u001b[39;49m\u001b[43m)\u001b[49m\n\u001b[0;32m      3\u001b[0m     \u001b[38;5;28mprint\u001b[39m(\u001b[38;5;28mlen\u001b[39m(ents_ex))\n\u001b[0;32m      4\u001b[0m     \u001b[38;5;28mprint\u001b[39m(ents_ex, \u001b[38;5;124m\"\u001b[39m\u001b[38;5;130;01m\\n\u001b[39;00m\u001b[38;5;124m\"\u001b[39m)\n",
      "Cell \u001b[1;32mIn[16], line 3\u001b[0m, in \u001b[0;36mextract_entities\u001b[1;34m(text, config_file, examples_file)\u001b[0m\n\u001b[0;32m      1\u001b[0m \u001b[38;5;28;01mdef\u001b[39;00m \u001b[38;5;21mextract_entities\u001b[39m(text, config_file, examples_file):\n\u001b[0;32m      2\u001b[0m     nlp \u001b[38;5;241m=\u001b[39m assemble(config_file, overrides\u001b[38;5;241m=\u001b[39m{\u001b[38;5;124m\"\u001b[39m\u001b[38;5;124mpaths.examples\u001b[39m\u001b[38;5;124m\"\u001b[39m: examples_file})\n\u001b[1;32m----> 3\u001b[0m     doc \u001b[38;5;241m=\u001b[39m \u001b[43mnlp\u001b[49m\u001b[43m(\u001b[49m\u001b[43mtext\u001b[49m\u001b[43m)\u001b[49m\n\u001b[0;32m      5\u001b[0m     entities \u001b[38;5;241m=\u001b[39m doc\u001b[38;5;241m.\u001b[39ments\n\u001b[0;32m      6\u001b[0m     entities \u001b[38;5;241m=\u001b[39m [(ent\u001b[38;5;241m.\u001b[39mtext, ent\u001b[38;5;241m.\u001b[39mlabel_) \u001b[38;5;28;01mfor\u001b[39;00m ent \u001b[38;5;129;01min\u001b[39;00m doc\u001b[38;5;241m.\u001b[39ments]\n",
      "File \u001b[1;32mc:\\Users\\RaviB\\anaconda3\\envs\\TechKnow\\lib\\site-packages\\spacy\\language.py:1049\u001b[0m, in \u001b[0;36mLanguage.__call__\u001b[1;34m(self, text, disable, component_cfg)\u001b[0m\n\u001b[0;32m   1047\u001b[0m     error_handler \u001b[38;5;241m=\u001b[39m proc\u001b[38;5;241m.\u001b[39mget_error_handler()\n\u001b[0;32m   1048\u001b[0m \u001b[38;5;28;01mtry\u001b[39;00m:\n\u001b[1;32m-> 1049\u001b[0m     doc \u001b[38;5;241m=\u001b[39m proc(doc, \u001b[38;5;241m*\u001b[39m\u001b[38;5;241m*\u001b[39mcomponent_cfg\u001b[38;5;241m.\u001b[39mget(name, {}))  \u001b[38;5;66;03m# type: ignore[call-arg]\u001b[39;00m\n\u001b[0;32m   1050\u001b[0m \u001b[38;5;28;01mexcept\u001b[39;00m \u001b[38;5;167;01mKeyError\u001b[39;00m \u001b[38;5;28;01mas\u001b[39;00m e:\n\u001b[0;32m   1051\u001b[0m     \u001b[38;5;66;03m# This typically happens if a component is not initialized\u001b[39;00m\n\u001b[0;32m   1052\u001b[0m     \u001b[38;5;28;01mraise\u001b[39;00m \u001b[38;5;167;01mValueError\u001b[39;00m(Errors\u001b[38;5;241m.\u001b[39mE109\u001b[38;5;241m.\u001b[39mformat(name\u001b[38;5;241m=\u001b[39mname)) \u001b[38;5;28;01mfrom\u001b[39;00m \u001b[38;5;21;01me\u001b[39;00m\n",
      "File \u001b[1;32mc:\\Users\\RaviB\\anaconda3\\envs\\TechKnow\\lib\\site-packages\\spacy_llm\\pipeline\\llm.py:177\u001b[0m, in \u001b[0;36mLLMWrapper.__call__\u001b[1;34m(self, doc)\u001b[0m\n\u001b[0;32m    171\u001b[0m \u001b[38;5;28;01mdef\u001b[39;00m \u001b[38;5;21m__call__\u001b[39m(\u001b[38;5;28mself\u001b[39m, doc: Doc) \u001b[38;5;241m-\u001b[39m\u001b[38;5;241m>\u001b[39m Doc:\n\u001b[0;32m    172\u001b[0m \u001b[38;5;250m    \u001b[39m\u001b[38;5;124;03m\"\"\"Apply the LLM wrapper to a Doc instance.\u001b[39;00m\n\u001b[0;32m    173\u001b[0m \n\u001b[0;32m    174\u001b[0m \u001b[38;5;124;03m    doc (Doc): The Doc instance to process.\u001b[39;00m\n\u001b[0;32m    175\u001b[0m \u001b[38;5;124;03m    RETURNS (Doc): The processed Doc.\u001b[39;00m\n\u001b[0;32m    176\u001b[0m \u001b[38;5;124;03m    \"\"\"\u001b[39;00m\n\u001b[1;32m--> 177\u001b[0m     docs \u001b[38;5;241m=\u001b[39m \u001b[38;5;28;43mself\u001b[39;49m\u001b[38;5;241;43m.\u001b[39;49m\u001b[43m_process_docs\u001b[49m\u001b[43m(\u001b[49m\u001b[43m[\u001b[49m\u001b[43mdoc\u001b[49m\u001b[43m]\u001b[49m\u001b[43m)\u001b[49m\n\u001b[0;32m    178\u001b[0m     \u001b[38;5;28;01massert\u001b[39;00m \u001b[38;5;28misinstance\u001b[39m(docs[\u001b[38;5;241m0\u001b[39m], Doc)\n\u001b[0;32m    179\u001b[0m     \u001b[38;5;28;01mreturn\u001b[39;00m docs[\u001b[38;5;241m0\u001b[39m]\n",
      "File \u001b[1;32mc:\\Users\\RaviB\\anaconda3\\envs\\TechKnow\\lib\\site-packages\\spacy_llm\\pipeline\\llm.py:242\u001b[0m, in \u001b[0;36mLLMWrapper._process_docs\u001b[1;34m(self, docs)\u001b[0m\n\u001b[0;32m    234\u001b[0m \u001b[38;5;66;03m# Only pass context length if this is a sharding task.\u001b[39;00m\n\u001b[0;32m    235\u001b[0m prompts_iters \u001b[38;5;241m=\u001b[39m tee(\n\u001b[0;32m    236\u001b[0m     \u001b[38;5;28mself\u001b[39m\u001b[38;5;241m.\u001b[39m_task\u001b[38;5;241m.\u001b[39mgenerate_prompts(noncached_doc_batch, context_length)  \u001b[38;5;66;03m# type: ignore[call-arg]\u001b[39;00m\n\u001b[0;32m    237\u001b[0m     \u001b[38;5;28;01mif\u001b[39;00m support_sharding\n\u001b[0;32m    238\u001b[0m     \u001b[38;5;28;01melse\u001b[39;00m \u001b[38;5;28mself\u001b[39m\u001b[38;5;241m.\u001b[39m_task\u001b[38;5;241m.\u001b[39mgenerate_prompts(noncached_doc_batch),\n\u001b[0;32m    239\u001b[0m     n_iters \u001b[38;5;241m+\u001b[39m \u001b[38;5;241m1\u001b[39m,\n\u001b[0;32m    240\u001b[0m )\n\u001b[0;32m    241\u001b[0m responses_iters \u001b[38;5;241m=\u001b[39m tee(\n\u001b[1;32m--> 242\u001b[0m     \u001b[38;5;28;43mself\u001b[39;49m\u001b[38;5;241;43m.\u001b[39;49m\u001b[43m_model\u001b[49m\u001b[43m(\u001b[49m\n\u001b[0;32m    243\u001b[0m \u001b[43m        \u001b[49m\u001b[38;5;66;43;03m# Ensure that model receives Iterable[Iterable[Any]]. If task doesn't shard, its prompt is wrapped\u001b[39;49;00m\n\u001b[0;32m    244\u001b[0m \u001b[43m        \u001b[49m\u001b[38;5;66;43;03m# in a list to conform to the nested structure.\u001b[39;49;00m\n\u001b[0;32m    245\u001b[0m \u001b[43m        \u001b[49m\u001b[43m(\u001b[49m\n\u001b[0;32m    246\u001b[0m \u001b[43m            \u001b[49m\u001b[43melem\u001b[49m\u001b[43m[\u001b[49m\u001b[38;5;241;43m0\u001b[39;49m\u001b[43m]\u001b[49m\u001b[43m \u001b[49m\u001b[38;5;28;43;01mif\u001b[39;49;00m\u001b[43m \u001b[49m\u001b[43msupport_sharding\u001b[49m\u001b[43m \u001b[49m\u001b[38;5;28;43;01melse\u001b[39;49;00m\u001b[43m \u001b[49m\u001b[43m[\u001b[49m\u001b[43melem\u001b[49m\u001b[43m]\u001b[49m\n\u001b[0;32m    247\u001b[0m \u001b[43m            \u001b[49m\u001b[38;5;28;43;01mfor\u001b[39;49;00m\u001b[43m \u001b[49m\u001b[43melem\u001b[49m\u001b[43m \u001b[49m\u001b[38;5;129;43;01min\u001b[39;49;00m\u001b[43m \u001b[49m\u001b[43mprompts_iters\u001b[49m\u001b[43m[\u001b[49m\u001b[38;5;241;43m0\u001b[39;49m\u001b[43m]\u001b[49m\n\u001b[0;32m    248\u001b[0m \u001b[43m        \u001b[49m\u001b[43m)\u001b[49m\n\u001b[0;32m    249\u001b[0m \u001b[43m    \u001b[49m\u001b[43m)\u001b[49m,\n\u001b[0;32m    250\u001b[0m     n_iters,\n\u001b[0;32m    251\u001b[0m )\n\u001b[0;32m    253\u001b[0m \u001b[38;5;28;01mfor\u001b[39;00m prompt_data, response, doc \u001b[38;5;129;01min\u001b[39;00m \u001b[38;5;28mzip\u001b[39m(\n\u001b[0;32m    254\u001b[0m     prompts_iters[\u001b[38;5;241m1\u001b[39m], responses_iters[\u001b[38;5;241m0\u001b[39m], noncached_doc_batch\n\u001b[0;32m    255\u001b[0m ):\n\u001b[0;32m    256\u001b[0m     logger\u001b[38;5;241m.\u001b[39mdebug(\n\u001b[0;32m    257\u001b[0m         \u001b[38;5;124m\"\u001b[39m\u001b[38;5;124mGenerated prompt for doc: \u001b[39m\u001b[38;5;132;01m%s\u001b[39;00m\u001b[38;5;130;01m\\n\u001b[39;00m\u001b[38;5;132;01m%s\u001b[39;00m\u001b[38;5;124m\"\u001b[39m,\n\u001b[0;32m    258\u001b[0m         doc\u001b[38;5;241m.\u001b[39mtext,\n\u001b[0;32m    259\u001b[0m         prompt_data[\u001b[38;5;241m0\u001b[39m] \u001b[38;5;28;01mif\u001b[39;00m support_sharding \u001b[38;5;28;01melse\u001b[39;00m prompt_data,\n\u001b[0;32m    260\u001b[0m     )\n",
      "File \u001b[1;32mc:\\Users\\RaviB\\anaconda3\\envs\\TechKnow\\lib\\site-packages\\spacy_llm\\models\\rest\\openai\\model.py:128\u001b[0m, in \u001b[0;36mOpenAI.__call__\u001b[1;34m(self, prompts)\u001b[0m\n\u001b[0;32m    126\u001b[0m \u001b[38;5;28;01melse\u001b[39;00m:\n\u001b[0;32m    127\u001b[0m     \u001b[38;5;28;01mfor\u001b[39;00m prompt \u001b[38;5;129;01min\u001b[39;00m prompts_for_doc:\n\u001b[1;32m--> 128\u001b[0m         responses \u001b[38;5;241m=\u001b[39m \u001b[43m_request\u001b[49m\u001b[43m(\u001b[49m\n\u001b[0;32m    129\u001b[0m \u001b[43m            \u001b[49m\u001b[43m{\u001b[49m\u001b[38;5;124;43m\"\u001b[39;49m\u001b[38;5;124;43mmessages\u001b[39;49m\u001b[38;5;124;43m\"\u001b[39;49m\u001b[43m:\u001b[49m\u001b[43m \u001b[49m\u001b[43m[\u001b[49m\u001b[43m{\u001b[49m\u001b[38;5;124;43m\"\u001b[39;49m\u001b[38;5;124;43mrole\u001b[39;49m\u001b[38;5;124;43m\"\u001b[39;49m\u001b[43m:\u001b[49m\u001b[43m \u001b[49m\u001b[38;5;124;43m\"\u001b[39;49m\u001b[38;5;124;43muser\u001b[39;49m\u001b[38;5;124;43m\"\u001b[39;49m\u001b[43m,\u001b[49m\u001b[43m \u001b[49m\u001b[38;5;124;43m\"\u001b[39;49m\u001b[38;5;124;43mcontent\u001b[39;49m\u001b[38;5;124;43m\"\u001b[39;49m\u001b[43m:\u001b[49m\u001b[43m \u001b[49m\u001b[43mprompt\u001b[49m\u001b[43m}\u001b[49m\u001b[43m]\u001b[49m\u001b[43m}\u001b[49m\n\u001b[0;32m    130\u001b[0m \u001b[43m        \u001b[49m\u001b[43m)\u001b[49m\n\u001b[0;32m    131\u001b[0m         \u001b[38;5;28;01mif\u001b[39;00m \u001b[38;5;124m\"\u001b[39m\u001b[38;5;124merror\u001b[39m\u001b[38;5;124m\"\u001b[39m \u001b[38;5;129;01min\u001b[39;00m responses:\n\u001b[0;32m    132\u001b[0m             \u001b[38;5;28;01mreturn\u001b[39;00m responses[\u001b[38;5;124m\"\u001b[39m\u001b[38;5;124merror\u001b[39m\u001b[38;5;124m\"\u001b[39m]\n",
      "File \u001b[1;32mc:\\Users\\RaviB\\anaconda3\\envs\\TechKnow\\lib\\site-packages\\spacy_llm\\models\\rest\\openai\\model.py:83\u001b[0m, in \u001b[0;36mOpenAI.__call__.<locals>._request\u001b[1;34m(json_data)\u001b[0m\n\u001b[0;32m     82\u001b[0m \u001b[38;5;28;01mdef\u001b[39;00m \u001b[38;5;21m_request\u001b[39m(json_data: Dict[\u001b[38;5;28mstr\u001b[39m, Any]) \u001b[38;5;241m-\u001b[39m\u001b[38;5;241m>\u001b[39m Dict[\u001b[38;5;28mstr\u001b[39m, Any]:\n\u001b[1;32m---> 83\u001b[0m     r \u001b[38;5;241m=\u001b[39m \u001b[38;5;28;43mself\u001b[39;49m\u001b[38;5;241;43m.\u001b[39;49m\u001b[43mretry\u001b[49m\u001b[43m(\u001b[49m\n\u001b[0;32m     84\u001b[0m \u001b[43m        \u001b[49m\u001b[43mcall_method\u001b[49m\u001b[38;5;241;43m=\u001b[39;49m\u001b[43mrequests\u001b[49m\u001b[38;5;241;43m.\u001b[39;49m\u001b[43mpost\u001b[49m\u001b[43m,\u001b[49m\n\u001b[0;32m     85\u001b[0m \u001b[43m        \u001b[49m\u001b[43murl\u001b[49m\u001b[38;5;241;43m=\u001b[39;49m\u001b[38;5;28;43mself\u001b[39;49m\u001b[38;5;241;43m.\u001b[39;49m\u001b[43m_endpoint\u001b[49m\u001b[43m,\u001b[49m\n\u001b[0;32m     86\u001b[0m \u001b[43m        \u001b[49m\u001b[43mheaders\u001b[49m\u001b[38;5;241;43m=\u001b[39;49m\u001b[43mheaders\u001b[49m\u001b[43m,\u001b[49m\n\u001b[0;32m     87\u001b[0m \u001b[43m        \u001b[49m\u001b[43mjson\u001b[49m\u001b[38;5;241;43m=\u001b[39;49m\u001b[43m{\u001b[49m\u001b[38;5;241;43m*\u001b[39;49m\u001b[38;5;241;43m*\u001b[39;49m\u001b[43mjson_data\u001b[49m\u001b[43m,\u001b[49m\u001b[43m \u001b[49m\u001b[38;5;241;43m*\u001b[39;49m\u001b[38;5;241;43m*\u001b[39;49m\u001b[38;5;28;43mself\u001b[39;49m\u001b[38;5;241;43m.\u001b[39;49m\u001b[43m_config\u001b[49m\u001b[43m,\u001b[49m\u001b[43m \u001b[49m\u001b[38;5;124;43m\"\u001b[39;49m\u001b[38;5;124;43mmodel\u001b[39;49m\u001b[38;5;124;43m\"\u001b[39;49m\u001b[43m:\u001b[49m\u001b[43m \u001b[49m\u001b[38;5;28;43mself\u001b[39;49m\u001b[38;5;241;43m.\u001b[39;49m\u001b[43m_name\u001b[49m\u001b[43m}\u001b[49m\u001b[43m,\u001b[49m\n\u001b[0;32m     88\u001b[0m \u001b[43m        \u001b[49m\u001b[43mtimeout\u001b[49m\u001b[38;5;241;43m=\u001b[39;49m\u001b[38;5;28;43mself\u001b[39;49m\u001b[38;5;241;43m.\u001b[39;49m\u001b[43m_max_request_time\u001b[49m\u001b[43m,\u001b[49m\n\u001b[0;32m     89\u001b[0m \u001b[43m    \u001b[49m\u001b[43m)\u001b[49m\n\u001b[0;32m     90\u001b[0m     \u001b[38;5;28;01mtry\u001b[39;00m:\n\u001b[0;32m     91\u001b[0m         r\u001b[38;5;241m.\u001b[39mraise_for_status()\n",
      "File \u001b[1;32mc:\\Users\\RaviB\\anaconda3\\envs\\TechKnow\\lib\\site-packages\\spacy_llm\\models\\rest\\base.py:138\u001b[0m, in \u001b[0;36mREST.retry\u001b[1;34m(self, call_method, url, **kwargs)\u001b[0m\n\u001b[0;32m    136\u001b[0m interval \u001b[38;5;241m=\u001b[39m \u001b[38;5;28mself\u001b[39m\u001b[38;5;241m.\u001b[39m_interval\n\u001b[0;32m    137\u001b[0m i \u001b[38;5;241m=\u001b[39m \u001b[38;5;241m0\u001b[39m\n\u001b[1;32m--> 138\u001b[0m response \u001b[38;5;241m=\u001b[39m \u001b[43m_call_api\u001b[49m\u001b[43m(\u001b[49m\u001b[43mi\u001b[49m\u001b[43m)\u001b[49m\n\u001b[0;32m    140\u001b[0m \u001b[38;5;66;03m# We don't want to retry on every non-ok status code. Some are about\u001b[39;00m\n\u001b[0;32m    141\u001b[0m \u001b[38;5;66;03m# incorrect inputs, etc. and we want to terminate on those.\u001b[39;00m\n\u001b[0;32m    142\u001b[0m start_time \u001b[38;5;241m=\u001b[39m time\u001b[38;5;241m.\u001b[39mtime()\n",
      "File \u001b[1;32mc:\\Users\\RaviB\\anaconda3\\envs\\TechKnow\\lib\\site-packages\\spacy_llm\\models\\rest\\base.py:127\u001b[0m, in \u001b[0;36mREST.retry.<locals>._call_api\u001b[1;34m(attempt)\u001b[0m\n\u001b[0;32m    120\u001b[0m \u001b[38;5;250m\u001b[39m\u001b[38;5;124;03m\"\"\"Calls API with given timeout.\u001b[39;00m\n\u001b[0;32m    121\u001b[0m \u001b[38;5;124;03mattempt (int): Reflects the how many-th try at reaching the API this is. If attempt < self._max_tries and\u001b[39;00m\n\u001b[0;32m    122\u001b[0m \u001b[38;5;124;03m    the call fails, None is returned. If attempt == self._max_tries and the call fails, a TimeoutError is\u001b[39;00m\n\u001b[0;32m    123\u001b[0m \u001b[38;5;124;03m    raised.\u001b[39;00m\n\u001b[0;32m    124\u001b[0m \u001b[38;5;124;03mRETURNS (Optional[requests.Response]): Response object.\u001b[39;00m\n\u001b[0;32m    125\u001b[0m \u001b[38;5;124;03m\"\"\"\u001b[39;00m\n\u001b[0;32m    126\u001b[0m \u001b[38;5;28;01mtry\u001b[39;00m:\n\u001b[1;32m--> 127\u001b[0m     \u001b[38;5;28;01mreturn\u001b[39;00m call_method(url, \u001b[38;5;241m*\u001b[39m\u001b[38;5;241m*\u001b[39mkwargs)\n\u001b[0;32m    128\u001b[0m \u001b[38;5;28;01mexcept\u001b[39;00m (ConnectTimeout, ReadTimeout, \u001b[38;5;167;01mTimeoutError\u001b[39;00m) \u001b[38;5;28;01mas\u001b[39;00m err:\n\u001b[0;32m    129\u001b[0m     \u001b[38;5;28;01mif\u001b[39;00m attempt \u001b[38;5;241m<\u001b[39m \u001b[38;5;28mself\u001b[39m\u001b[38;5;241m.\u001b[39m_max_tries:\n",
      "File \u001b[1;32mc:\\Users\\RaviB\\anaconda3\\envs\\TechKnow\\lib\\site-packages\\requests\\api.py:115\u001b[0m, in \u001b[0;36mpost\u001b[1;34m(url, data, json, **kwargs)\u001b[0m\n\u001b[0;32m    103\u001b[0m \u001b[38;5;28;01mdef\u001b[39;00m \u001b[38;5;21mpost\u001b[39m(url, data\u001b[38;5;241m=\u001b[39m\u001b[38;5;28;01mNone\u001b[39;00m, json\u001b[38;5;241m=\u001b[39m\u001b[38;5;28;01mNone\u001b[39;00m, \u001b[38;5;241m*\u001b[39m\u001b[38;5;241m*\u001b[39mkwargs):\n\u001b[0;32m    104\u001b[0m \u001b[38;5;250m    \u001b[39m\u001b[38;5;124mr\u001b[39m\u001b[38;5;124;03m\"\"\"Sends a POST request.\u001b[39;00m\n\u001b[0;32m    105\u001b[0m \n\u001b[0;32m    106\u001b[0m \u001b[38;5;124;03m    :param url: URL for the new :class:`Request` object.\u001b[39;00m\n\u001b[1;32m   (...)\u001b[0m\n\u001b[0;32m    112\u001b[0m \u001b[38;5;124;03m    :rtype: requests.Response\u001b[39;00m\n\u001b[0;32m    113\u001b[0m \u001b[38;5;124;03m    \"\"\"\u001b[39;00m\n\u001b[1;32m--> 115\u001b[0m     \u001b[38;5;28;01mreturn\u001b[39;00m request(\u001b[38;5;124m\"\u001b[39m\u001b[38;5;124mpost\u001b[39m\u001b[38;5;124m\"\u001b[39m, url, data\u001b[38;5;241m=\u001b[39mdata, json\u001b[38;5;241m=\u001b[39mjson, \u001b[38;5;241m*\u001b[39m\u001b[38;5;241m*\u001b[39mkwargs)\n",
      "File \u001b[1;32mc:\\Users\\RaviB\\anaconda3\\envs\\TechKnow\\lib\\site-packages\\requests\\api.py:59\u001b[0m, in \u001b[0;36mrequest\u001b[1;34m(method, url, **kwargs)\u001b[0m\n\u001b[0;32m     55\u001b[0m \u001b[38;5;66;03m# By using the 'with' statement we are sure the session is closed, thus we\u001b[39;00m\n\u001b[0;32m     56\u001b[0m \u001b[38;5;66;03m# avoid leaving sockets open which can trigger a ResourceWarning in some\u001b[39;00m\n\u001b[0;32m     57\u001b[0m \u001b[38;5;66;03m# cases, and look like a memory leak in others.\u001b[39;00m\n\u001b[0;32m     58\u001b[0m \u001b[38;5;28;01mwith\u001b[39;00m sessions\u001b[38;5;241m.\u001b[39mSession() \u001b[38;5;28;01mas\u001b[39;00m session:\n\u001b[1;32m---> 59\u001b[0m     \u001b[38;5;28;01mreturn\u001b[39;00m session\u001b[38;5;241m.\u001b[39mrequest(method\u001b[38;5;241m=\u001b[39mmethod, url\u001b[38;5;241m=\u001b[39murl, \u001b[38;5;241m*\u001b[39m\u001b[38;5;241m*\u001b[39mkwargs)\n",
      "File \u001b[1;32mc:\\Users\\RaviB\\anaconda3\\envs\\TechKnow\\lib\\site-packages\\requests\\sessions.py:589\u001b[0m, in \u001b[0;36mSession.request\u001b[1;34m(self, method, url, params, data, headers, cookies, files, auth, timeout, allow_redirects, proxies, hooks, stream, verify, cert, json)\u001b[0m\n\u001b[0;32m    584\u001b[0m send_kwargs \u001b[38;5;241m=\u001b[39m {\n\u001b[0;32m    585\u001b[0m     \u001b[38;5;124m\"\u001b[39m\u001b[38;5;124mtimeout\u001b[39m\u001b[38;5;124m\"\u001b[39m: timeout,\n\u001b[0;32m    586\u001b[0m     \u001b[38;5;124m\"\u001b[39m\u001b[38;5;124mallow_redirects\u001b[39m\u001b[38;5;124m\"\u001b[39m: allow_redirects,\n\u001b[0;32m    587\u001b[0m }\n\u001b[0;32m    588\u001b[0m send_kwargs\u001b[38;5;241m.\u001b[39mupdate(settings)\n\u001b[1;32m--> 589\u001b[0m resp \u001b[38;5;241m=\u001b[39m \u001b[38;5;28mself\u001b[39m\u001b[38;5;241m.\u001b[39msend(prep, \u001b[38;5;241m*\u001b[39m\u001b[38;5;241m*\u001b[39msend_kwargs)\n\u001b[0;32m    591\u001b[0m \u001b[38;5;28;01mreturn\u001b[39;00m resp\n",
      "File \u001b[1;32mc:\\Users\\RaviB\\anaconda3\\envs\\TechKnow\\lib\\site-packages\\requests\\sessions.py:703\u001b[0m, in \u001b[0;36mSession.send\u001b[1;34m(self, request, **kwargs)\u001b[0m\n\u001b[0;32m    700\u001b[0m start \u001b[38;5;241m=\u001b[39m preferred_clock()\n\u001b[0;32m    702\u001b[0m \u001b[38;5;66;03m# Send the request\u001b[39;00m\n\u001b[1;32m--> 703\u001b[0m r \u001b[38;5;241m=\u001b[39m adapter\u001b[38;5;241m.\u001b[39msend(request, \u001b[38;5;241m*\u001b[39m\u001b[38;5;241m*\u001b[39mkwargs)\n\u001b[0;32m    705\u001b[0m \u001b[38;5;66;03m# Total elapsed time of the request (approximately)\u001b[39;00m\n\u001b[0;32m    706\u001b[0m elapsed \u001b[38;5;241m=\u001b[39m preferred_clock() \u001b[38;5;241m-\u001b[39m start\n",
      "File \u001b[1;32mc:\\Users\\RaviB\\anaconda3\\envs\\TechKnow\\lib\\site-packages\\requests\\adapters.py:667\u001b[0m, in \u001b[0;36mHTTPAdapter.send\u001b[1;34m(self, request, stream, timeout, verify, cert, proxies)\u001b[0m\n\u001b[0;32m    664\u001b[0m     timeout \u001b[38;5;241m=\u001b[39m TimeoutSauce(connect\u001b[38;5;241m=\u001b[39mtimeout, read\u001b[38;5;241m=\u001b[39mtimeout)\n\u001b[0;32m    666\u001b[0m \u001b[38;5;28;01mtry\u001b[39;00m:\n\u001b[1;32m--> 667\u001b[0m     resp \u001b[38;5;241m=\u001b[39m \u001b[43mconn\u001b[49m\u001b[38;5;241;43m.\u001b[39;49m\u001b[43murlopen\u001b[49m\u001b[43m(\u001b[49m\n\u001b[0;32m    668\u001b[0m \u001b[43m        \u001b[49m\u001b[43mmethod\u001b[49m\u001b[38;5;241;43m=\u001b[39;49m\u001b[43mrequest\u001b[49m\u001b[38;5;241;43m.\u001b[39;49m\u001b[43mmethod\u001b[49m\u001b[43m,\u001b[49m\n\u001b[0;32m    669\u001b[0m \u001b[43m        \u001b[49m\u001b[43murl\u001b[49m\u001b[38;5;241;43m=\u001b[39;49m\u001b[43murl\u001b[49m\u001b[43m,\u001b[49m\n\u001b[0;32m    670\u001b[0m \u001b[43m        \u001b[49m\u001b[43mbody\u001b[49m\u001b[38;5;241;43m=\u001b[39;49m\u001b[43mrequest\u001b[49m\u001b[38;5;241;43m.\u001b[39;49m\u001b[43mbody\u001b[49m\u001b[43m,\u001b[49m\n\u001b[0;32m    671\u001b[0m \u001b[43m        \u001b[49m\u001b[43mheaders\u001b[49m\u001b[38;5;241;43m=\u001b[39;49m\u001b[43mrequest\u001b[49m\u001b[38;5;241;43m.\u001b[39;49m\u001b[43mheaders\u001b[49m\u001b[43m,\u001b[49m\n\u001b[0;32m    672\u001b[0m \u001b[43m        \u001b[49m\u001b[43mredirect\u001b[49m\u001b[38;5;241;43m=\u001b[39;49m\u001b[38;5;28;43;01mFalse\u001b[39;49;00m\u001b[43m,\u001b[49m\n\u001b[0;32m    673\u001b[0m \u001b[43m        \u001b[49m\u001b[43massert_same_host\u001b[49m\u001b[38;5;241;43m=\u001b[39;49m\u001b[38;5;28;43;01mFalse\u001b[39;49;00m\u001b[43m,\u001b[49m\n\u001b[0;32m    674\u001b[0m \u001b[43m        \u001b[49m\u001b[43mpreload_content\u001b[49m\u001b[38;5;241;43m=\u001b[39;49m\u001b[38;5;28;43;01mFalse\u001b[39;49;00m\u001b[43m,\u001b[49m\n\u001b[0;32m    675\u001b[0m \u001b[43m        \u001b[49m\u001b[43mdecode_content\u001b[49m\u001b[38;5;241;43m=\u001b[39;49m\u001b[38;5;28;43;01mFalse\u001b[39;49;00m\u001b[43m,\u001b[49m\n\u001b[0;32m    676\u001b[0m \u001b[43m        \u001b[49m\u001b[43mretries\u001b[49m\u001b[38;5;241;43m=\u001b[39;49m\u001b[38;5;28;43mself\u001b[39;49m\u001b[38;5;241;43m.\u001b[39;49m\u001b[43mmax_retries\u001b[49m\u001b[43m,\u001b[49m\n\u001b[0;32m    677\u001b[0m \u001b[43m        \u001b[49m\u001b[43mtimeout\u001b[49m\u001b[38;5;241;43m=\u001b[39;49m\u001b[43mtimeout\u001b[49m\u001b[43m,\u001b[49m\n\u001b[0;32m    678\u001b[0m \u001b[43m        \u001b[49m\u001b[43mchunked\u001b[49m\u001b[38;5;241;43m=\u001b[39;49m\u001b[43mchunked\u001b[49m\u001b[43m,\u001b[49m\n\u001b[0;32m    679\u001b[0m \u001b[43m    \u001b[49m\u001b[43m)\u001b[49m\n\u001b[0;32m    681\u001b[0m \u001b[38;5;28;01mexcept\u001b[39;00m (ProtocolError, \u001b[38;5;167;01mOSError\u001b[39;00m) \u001b[38;5;28;01mas\u001b[39;00m err:\n\u001b[0;32m    682\u001b[0m     \u001b[38;5;28;01mraise\u001b[39;00m \u001b[38;5;167;01mConnectionError\u001b[39;00m(err, request\u001b[38;5;241m=\u001b[39mrequest)\n",
      "File \u001b[1;32mc:\\Users\\RaviB\\anaconda3\\envs\\TechKnow\\lib\\site-packages\\urllib3\\connectionpool.py:789\u001b[0m, in \u001b[0;36mHTTPConnectionPool.urlopen\u001b[1;34m(self, method, url, body, headers, retries, redirect, assert_same_host, timeout, pool_timeout, release_conn, chunked, body_pos, preload_content, decode_content, **response_kw)\u001b[0m\n\u001b[0;32m    786\u001b[0m response_conn \u001b[38;5;241m=\u001b[39m conn \u001b[38;5;28;01mif\u001b[39;00m \u001b[38;5;129;01mnot\u001b[39;00m release_conn \u001b[38;5;28;01melse\u001b[39;00m \u001b[38;5;28;01mNone\u001b[39;00m\n\u001b[0;32m    788\u001b[0m \u001b[38;5;66;03m# Make the request on the HTTPConnection object\u001b[39;00m\n\u001b[1;32m--> 789\u001b[0m response \u001b[38;5;241m=\u001b[39m \u001b[38;5;28mself\u001b[39m\u001b[38;5;241m.\u001b[39m_make_request(\n\u001b[0;32m    790\u001b[0m     conn,\n\u001b[0;32m    791\u001b[0m     method,\n\u001b[0;32m    792\u001b[0m     url,\n\u001b[0;32m    793\u001b[0m     timeout\u001b[38;5;241m=\u001b[39mtimeout_obj,\n\u001b[0;32m    794\u001b[0m     body\u001b[38;5;241m=\u001b[39mbody,\n\u001b[0;32m    795\u001b[0m     headers\u001b[38;5;241m=\u001b[39mheaders,\n\u001b[0;32m    796\u001b[0m     chunked\u001b[38;5;241m=\u001b[39mchunked,\n\u001b[0;32m    797\u001b[0m     retries\u001b[38;5;241m=\u001b[39mretries,\n\u001b[0;32m    798\u001b[0m     response_conn\u001b[38;5;241m=\u001b[39mresponse_conn,\n\u001b[0;32m    799\u001b[0m     preload_content\u001b[38;5;241m=\u001b[39mpreload_content,\n\u001b[0;32m    800\u001b[0m     decode_content\u001b[38;5;241m=\u001b[39mdecode_content,\n\u001b[0;32m    801\u001b[0m     \u001b[38;5;241m*\u001b[39m\u001b[38;5;241m*\u001b[39mresponse_kw,\n\u001b[0;32m    802\u001b[0m )\n\u001b[0;32m    804\u001b[0m \u001b[38;5;66;03m# Everything went great!\u001b[39;00m\n\u001b[0;32m    805\u001b[0m clean_exit \u001b[38;5;241m=\u001b[39m \u001b[38;5;28;01mTrue\u001b[39;00m\n",
      "File \u001b[1;32mc:\\Users\\RaviB\\anaconda3\\envs\\TechKnow\\lib\\site-packages\\urllib3\\connectionpool.py:536\u001b[0m, in \u001b[0;36mHTTPConnectionPool._make_request\u001b[1;34m(self, conn, method, url, body, headers, retries, timeout, chunked, response_conn, preload_content, decode_content, enforce_content_length)\u001b[0m\n\u001b[0;32m    534\u001b[0m \u001b[38;5;66;03m# Receive the response from the server\u001b[39;00m\n\u001b[0;32m    535\u001b[0m \u001b[38;5;28;01mtry\u001b[39;00m:\n\u001b[1;32m--> 536\u001b[0m     response \u001b[38;5;241m=\u001b[39m \u001b[43mconn\u001b[49m\u001b[38;5;241;43m.\u001b[39;49m\u001b[43mgetresponse\u001b[49m\u001b[43m(\u001b[49m\u001b[43m)\u001b[49m\n\u001b[0;32m    537\u001b[0m \u001b[38;5;28;01mexcept\u001b[39;00m (BaseSSLError, \u001b[38;5;167;01mOSError\u001b[39;00m) \u001b[38;5;28;01mas\u001b[39;00m e:\n\u001b[0;32m    538\u001b[0m     \u001b[38;5;28mself\u001b[39m\u001b[38;5;241m.\u001b[39m_raise_timeout(err\u001b[38;5;241m=\u001b[39me, url\u001b[38;5;241m=\u001b[39murl, timeout_value\u001b[38;5;241m=\u001b[39mread_timeout)\n",
      "File \u001b[1;32mc:\\Users\\RaviB\\anaconda3\\envs\\TechKnow\\lib\\site-packages\\urllib3\\connection.py:464\u001b[0m, in \u001b[0;36mHTTPConnection.getresponse\u001b[1;34m(self)\u001b[0m\n\u001b[0;32m    461\u001b[0m \u001b[38;5;28;01mfrom\u001b[39;00m \u001b[38;5;21;01m.\u001b[39;00m\u001b[38;5;21;01mresponse\u001b[39;00m \u001b[38;5;28;01mimport\u001b[39;00m HTTPResponse\n\u001b[0;32m    463\u001b[0m \u001b[38;5;66;03m# Get the response from http.client.HTTPConnection\u001b[39;00m\n\u001b[1;32m--> 464\u001b[0m httplib_response \u001b[38;5;241m=\u001b[39m \u001b[38;5;28;43msuper\u001b[39;49m\u001b[43m(\u001b[49m\u001b[43m)\u001b[49m\u001b[38;5;241;43m.\u001b[39;49m\u001b[43mgetresponse\u001b[49m\u001b[43m(\u001b[49m\u001b[43m)\u001b[49m\n\u001b[0;32m    466\u001b[0m \u001b[38;5;28;01mtry\u001b[39;00m:\n\u001b[0;32m    467\u001b[0m     assert_header_parsing(httplib_response\u001b[38;5;241m.\u001b[39mmsg)\n",
      "File \u001b[1;32mc:\\Users\\RaviB\\anaconda3\\envs\\TechKnow\\lib\\http\\client.py:1375\u001b[0m, in \u001b[0;36mHTTPConnection.getresponse\u001b[1;34m(self)\u001b[0m\n\u001b[0;32m   1373\u001b[0m \u001b[38;5;28;01mtry\u001b[39;00m:\n\u001b[0;32m   1374\u001b[0m     \u001b[38;5;28;01mtry\u001b[39;00m:\n\u001b[1;32m-> 1375\u001b[0m         \u001b[43mresponse\u001b[49m\u001b[38;5;241;43m.\u001b[39;49m\u001b[43mbegin\u001b[49m\u001b[43m(\u001b[49m\u001b[43m)\u001b[49m\n\u001b[0;32m   1376\u001b[0m     \u001b[38;5;28;01mexcept\u001b[39;00m \u001b[38;5;167;01mConnectionError\u001b[39;00m:\n\u001b[0;32m   1377\u001b[0m         \u001b[38;5;28mself\u001b[39m\u001b[38;5;241m.\u001b[39mclose()\n",
      "File \u001b[1;32mc:\\Users\\RaviB\\anaconda3\\envs\\TechKnow\\lib\\http\\client.py:318\u001b[0m, in \u001b[0;36mHTTPResponse.begin\u001b[1;34m(self)\u001b[0m\n\u001b[0;32m    316\u001b[0m \u001b[38;5;66;03m# read until we get a non-100 response\u001b[39;00m\n\u001b[0;32m    317\u001b[0m \u001b[38;5;28;01mwhile\u001b[39;00m \u001b[38;5;28;01mTrue\u001b[39;00m:\n\u001b[1;32m--> 318\u001b[0m     version, status, reason \u001b[38;5;241m=\u001b[39m \u001b[38;5;28;43mself\u001b[39;49m\u001b[38;5;241;43m.\u001b[39;49m\u001b[43m_read_status\u001b[49m\u001b[43m(\u001b[49m\u001b[43m)\u001b[49m\n\u001b[0;32m    319\u001b[0m     \u001b[38;5;28;01mif\u001b[39;00m status \u001b[38;5;241m!=\u001b[39m CONTINUE:\n\u001b[0;32m    320\u001b[0m         \u001b[38;5;28;01mbreak\u001b[39;00m\n",
      "File \u001b[1;32mc:\\Users\\RaviB\\anaconda3\\envs\\TechKnow\\lib\\http\\client.py:279\u001b[0m, in \u001b[0;36mHTTPResponse._read_status\u001b[1;34m(self)\u001b[0m\n\u001b[0;32m    278\u001b[0m \u001b[38;5;28;01mdef\u001b[39;00m \u001b[38;5;21m_read_status\u001b[39m(\u001b[38;5;28mself\u001b[39m):\n\u001b[1;32m--> 279\u001b[0m     line \u001b[38;5;241m=\u001b[39m \u001b[38;5;28mstr\u001b[39m(\u001b[38;5;28;43mself\u001b[39;49m\u001b[38;5;241;43m.\u001b[39;49m\u001b[43mfp\u001b[49m\u001b[38;5;241;43m.\u001b[39;49m\u001b[43mreadline\u001b[49m\u001b[43m(\u001b[49m\u001b[43m_MAXLINE\u001b[49m\u001b[43m \u001b[49m\u001b[38;5;241;43m+\u001b[39;49m\u001b[43m \u001b[49m\u001b[38;5;241;43m1\u001b[39;49m\u001b[43m)\u001b[49m, \u001b[38;5;124m\"\u001b[39m\u001b[38;5;124miso-8859-1\u001b[39m\u001b[38;5;124m\"\u001b[39m)\n\u001b[0;32m    280\u001b[0m     \u001b[38;5;28;01mif\u001b[39;00m \u001b[38;5;28mlen\u001b[39m(line) \u001b[38;5;241m>\u001b[39m _MAXLINE:\n\u001b[0;32m    281\u001b[0m         \u001b[38;5;28;01mraise\u001b[39;00m LineTooLong(\u001b[38;5;124m\"\u001b[39m\u001b[38;5;124mstatus line\u001b[39m\u001b[38;5;124m\"\u001b[39m)\n",
      "File \u001b[1;32mc:\\Users\\RaviB\\anaconda3\\envs\\TechKnow\\lib\\socket.py:705\u001b[0m, in \u001b[0;36mSocketIO.readinto\u001b[1;34m(self, b)\u001b[0m\n\u001b[0;32m    703\u001b[0m \u001b[38;5;28;01mwhile\u001b[39;00m \u001b[38;5;28;01mTrue\u001b[39;00m:\n\u001b[0;32m    704\u001b[0m     \u001b[38;5;28;01mtry\u001b[39;00m:\n\u001b[1;32m--> 705\u001b[0m         \u001b[38;5;28;01mreturn\u001b[39;00m \u001b[38;5;28;43mself\u001b[39;49m\u001b[38;5;241;43m.\u001b[39;49m\u001b[43m_sock\u001b[49m\u001b[38;5;241;43m.\u001b[39;49m\u001b[43mrecv_into\u001b[49m\u001b[43m(\u001b[49m\u001b[43mb\u001b[49m\u001b[43m)\u001b[49m\n\u001b[0;32m    706\u001b[0m     \u001b[38;5;28;01mexcept\u001b[39;00m timeout:\n\u001b[0;32m    707\u001b[0m         \u001b[38;5;28mself\u001b[39m\u001b[38;5;241m.\u001b[39m_timeout_occurred \u001b[38;5;241m=\u001b[39m \u001b[38;5;28;01mTrue\u001b[39;00m\n",
      "File \u001b[1;32mc:\\Users\\RaviB\\anaconda3\\envs\\TechKnow\\lib\\ssl.py:1307\u001b[0m, in \u001b[0;36mSSLSocket.recv_into\u001b[1;34m(self, buffer, nbytes, flags)\u001b[0m\n\u001b[0;32m   1303\u001b[0m     \u001b[38;5;28;01mif\u001b[39;00m flags \u001b[38;5;241m!=\u001b[39m \u001b[38;5;241m0\u001b[39m:\n\u001b[0;32m   1304\u001b[0m         \u001b[38;5;28;01mraise\u001b[39;00m \u001b[38;5;167;01mValueError\u001b[39;00m(\n\u001b[0;32m   1305\u001b[0m           \u001b[38;5;124m\"\u001b[39m\u001b[38;5;124mnon-zero flags not allowed in calls to recv_into() on \u001b[39m\u001b[38;5;132;01m%s\u001b[39;00m\u001b[38;5;124m\"\u001b[39m \u001b[38;5;241m%\u001b[39m\n\u001b[0;32m   1306\u001b[0m           \u001b[38;5;28mself\u001b[39m\u001b[38;5;241m.\u001b[39m\u001b[38;5;18m__class__\u001b[39m)\n\u001b[1;32m-> 1307\u001b[0m     \u001b[38;5;28;01mreturn\u001b[39;00m \u001b[38;5;28;43mself\u001b[39;49m\u001b[38;5;241;43m.\u001b[39;49m\u001b[43mread\u001b[49m\u001b[43m(\u001b[49m\u001b[43mnbytes\u001b[49m\u001b[43m,\u001b[49m\u001b[43m \u001b[49m\u001b[43mbuffer\u001b[49m\u001b[43m)\u001b[49m\n\u001b[0;32m   1308\u001b[0m \u001b[38;5;28;01melse\u001b[39;00m:\n\u001b[0;32m   1309\u001b[0m     \u001b[38;5;28;01mreturn\u001b[39;00m \u001b[38;5;28msuper\u001b[39m()\u001b[38;5;241m.\u001b[39mrecv_into(buffer, nbytes, flags)\n",
      "File \u001b[1;32mc:\\Users\\RaviB\\anaconda3\\envs\\TechKnow\\lib\\ssl.py:1163\u001b[0m, in \u001b[0;36mSSLSocket.read\u001b[1;34m(self, len, buffer)\u001b[0m\n\u001b[0;32m   1161\u001b[0m \u001b[38;5;28;01mtry\u001b[39;00m:\n\u001b[0;32m   1162\u001b[0m     \u001b[38;5;28;01mif\u001b[39;00m buffer \u001b[38;5;129;01mis\u001b[39;00m \u001b[38;5;129;01mnot\u001b[39;00m \u001b[38;5;28;01mNone\u001b[39;00m:\n\u001b[1;32m-> 1163\u001b[0m         \u001b[38;5;28;01mreturn\u001b[39;00m \u001b[38;5;28;43mself\u001b[39;49m\u001b[38;5;241;43m.\u001b[39;49m\u001b[43m_sslobj\u001b[49m\u001b[38;5;241;43m.\u001b[39;49m\u001b[43mread\u001b[49m\u001b[43m(\u001b[49m\u001b[38;5;28;43mlen\u001b[39;49m\u001b[43m,\u001b[49m\u001b[43m \u001b[49m\u001b[43mbuffer\u001b[49m\u001b[43m)\u001b[49m\n\u001b[0;32m   1164\u001b[0m     \u001b[38;5;28;01melse\u001b[39;00m:\n\u001b[0;32m   1165\u001b[0m         \u001b[38;5;28;01mreturn\u001b[39;00m \u001b[38;5;28mself\u001b[39m\u001b[38;5;241m.\u001b[39m_sslobj\u001b[38;5;241m.\u001b[39mread(\u001b[38;5;28mlen\u001b[39m)\n",
      "\u001b[1;31mKeyboardInterrupt\u001b[0m: "
     ]
    }
   ],
   "source": [
    "for i in range(0, 3):\n",
    "    ents_ex = extract_entities(text=search_ex[i][\"cc_text\"], config_file=\"notebooks/config_test2.cfg\", examples_file=\"notebooks/example_test2.json\")\n",
    "    print(len(ents_ex))\n",
    "    print(ents_ex, \"\\n\")\n"
   ]
  },
  {
   "cell_type": "markdown",
   "metadata": {},
   "source": [
    "This performance is good enough for now. We only have one main slight issue, which is duplicates but with slightly different names. For example:\n",
    "\n",
    "### Removing Duplicates with Cosine Similarity\n",
    "\n",
    "('Apple MacBook air15 with M2', 'LAPTOP') and ('MacBook airs with M2', 'LAPTOP')\n",
    "\n",
    "are the same. We could do a check to see if each item is a subset of the others in terms of character value counts, but in this case it would not be. We can instead use a similarity metric, like the cosine similarity."
   ]
  },
  {
   "cell_type": "code",
   "execution_count": 20,
   "metadata": {},
   "outputs": [],
   "source": [
    "from sklearn.feature_extraction.text import CountVectorizer\n",
    "from sklearn.metrics.pairwise import cosine_similarity"
   ]
  },
  {
   "cell_type": "code",
   "execution_count": 21,
   "metadata": {},
   "outputs": [
    {
     "name": "stdout",
     "output_type": "stream",
     "text": [
      "Cosine Similarity: 0.6708203932499369\n"
     ]
    }
   ],
   "source": [
    "ex_ner = 'Apple MacBook air15 with M2'\n",
    "ex_ner_dup = 'MacBook airs with M2'\n",
    "\n",
    "vectorizer = CountVectorizer().fit_transform([ex_ner, ex_ner_dup])\n",
    "vectors = vectorizer.toarray()\n",
    "cosine_sim = cosine_similarity(vectors)\n",
    "print(f\"Cosine Similarity: {cosine_sim[0, 1]}\")    "
   ]
  },
  {
   "cell_type": "markdown",
   "metadata": {},
   "source": [
    "This works, but we need to run the cosine similarity on all our NER results (laptop names)."
   ]
  },
  {
   "cell_type": "code",
   "execution_count": 102,
   "metadata": {},
   "outputs": [],
   "source": [
    "# a function to get the cosine similarties\n",
    "def detect_ner_duplicates(ner_lst):\n",
    "    vectorizer = CountVectorizer().fit_transform(ner_lst)\n",
    "    vectors = vectorizer.toarray()\n",
    "    cosine_sim = cosine_similarity(vectors)\n",
    "    return cosine_sim"
   ]
  },
  {
   "cell_type": "markdown",
   "metadata": {},
   "source": [
    "Let's run through and example. Use the laptop names from the example above plus the two other examples we looked at right above for the cosine similarity example calculation."
   ]
  },
  {
   "cell_type": "code",
   "execution_count": 103,
   "metadata": {},
   "outputs": [
    {
     "data": {
      "text/plain": [
       "array([[1.        , 0.        , 0.        , 0.        , 0.        ,\n",
       "        0.        , 0.        , 0.        , 0.        , 0.        ],\n",
       "       [0.        , 1.        , 0.        , 0.        , 0.        ,\n",
       "        0.        , 0.        , 0.        , 0.        , 0.        ],\n",
       "       [0.        , 0.        , 1.        , 0.        , 0.        ,\n",
       "        0.        , 0.        , 0.        , 0.        , 0.        ],\n",
       "       [0.        , 0.        , 0.        , 1.        , 0.        ,\n",
       "        0.28867513, 0.        , 0.        , 0.        , 0.        ],\n",
       "       [0.        , 0.        , 0.        , 0.        , 1.        ,\n",
       "        0.        , 0.        , 0.        , 0.        , 0.        ],\n",
       "       [0.        , 0.        , 0.        , 0.28867513, 0.        ,\n",
       "        1.        , 0.        , 0.25      , 0.        , 0.        ],\n",
       "       [0.        , 0.        , 0.        , 0.        , 0.        ,\n",
       "        0.        , 1.        , 0.        , 0.67082039, 0.5       ],\n",
       "       [0.        , 0.        , 0.        , 0.        , 0.        ,\n",
       "        0.25      , 0.        , 1.        , 0.        , 0.        ],\n",
       "       [0.        , 0.        , 0.        , 0.        , 0.        ,\n",
       "        0.        , 0.67082039, 0.        , 1.        , 0.67082039],\n",
       "       [0.        , 0.        , 0.        , 0.        , 0.        ,\n",
       "        0.        , 0.5       , 0.        , 0.67082039, 1.        ]])"
      ]
     },
     "execution_count": 103,
     "metadata": {},
     "output_type": "execute_result"
    }
   ],
   "source": [
    "laptop_names = [ent[0] for ent in ents_ex_0] + [ex_ner, ex_ner_dup]\n",
    "\n",
    "cosine_similarities = detect_ner_duplicates(laptop_names)\n",
    "cosine_similarities"
   ]
  },
  {
   "cell_type": "markdown",
   "metadata": {},
   "source": [
    "We need a threshold to filter out the laptops that are too similar. Let's use 0.5 for now. And we need to identify the duplicates before we can remove them. Remember we need to keep one of the duplicate names, since they don't all have the exact same name."
   ]
  },
  {
   "cell_type": "code",
   "execution_count": 104,
   "metadata": {},
   "outputs": [
    {
     "data": {
      "text/plain": [
       "[('Apple MacBook Air M2', 'Apple MacBook air15 with M2', 0.6708203932499369),\n",
       " ('Apple MacBook Air M2', 'MacBook airs with M2', 0.5),\n",
       " ('Apple MacBook air15 with M2', 'MacBook airs with M2', 0.6708203932499369)]"
      ]
     },
     "execution_count": 104,
     "metadata": {},
     "output_type": "execute_result"
    }
   ],
   "source": [
    "threshold = 0.5\n",
    "duplicates = []\n",
    "for i in range(len(laptop_names)):\n",
    "    for j in range(i + 1, len(laptop_names)):\n",
    "        if cosine_similarities[i, j] >= threshold:\n",
    "            duplicates.append((laptop_names[i], laptop_names[j], cosine_similarities[i, j]))\n",
    "\n",
    "duplicates"
   ]
  },
  {
   "cell_type": "markdown",
   "metadata": {},
   "source": [
    "Now we can filter out the duplicate laptop names by iteratively looking at the duplicates, and removing the second value in that pair so we'll keep the first one. Also we then need to remove that second value from the duplicates list too since it has reordered versions of the pairs as you can see above. \n",
    "\n",
    "Note: I think there's one missing above, there should be another value: ('MacBook airs with M2', 'Apple MacBook Air M2', 0.5), probably due to an indexing issue since 'MacBook airs with M2' is the last item in the laptop_names list. This is fine to leave as is though since we would've removed that value anyway."
   ]
  },
  {
   "cell_type": "code",
   "execution_count": 100,
   "metadata": {},
   "outputs": [],
   "source": [
    "i = 0\n",
    "while i < len(duplicates):\n",
    "    dup = duplicates[i]\n",
    "\n",
    "    # we'll keep the first value, and remove the second one\n",
    "    laptop_names.remove(dup[1])\n",
    "\n",
    "    # the duplicates list has reordered versions of the duplicate pairs, \n",
    "    # where the second value we just removed is the first one\n",
    "    # so we need to find that one and remove it from the duplicates list\n",
    "    for dupp in duplicates:\n",
    "        if dup[1] == dupp[0]:\n",
    "            duplicates.remove(dupp)\n",
    "\n",
    "    i += 1\n"
   ]
  },
  {
   "cell_type": "code",
   "execution_count": 101,
   "metadata": {},
   "outputs": [
    {
     "data": {
      "text/plain": [
       "['HP Spectre x364',\n",
       " 'Samsung Galaxy Book 2 Pro 360',\n",
       " 'Acer Swift 5',\n",
       " 'framework laptop 13',\n",
       " 'Lenovo Chromebook duet 3',\n",
       " 'Asus Zenbook 13 OLED',\n",
       " 'Apple MacBook Air M2',\n",
       " 'Dell XPS 15 OLED']"
      ]
     },
     "execution_count": 101,
     "metadata": {},
     "output_type": "execute_result"
    }
   ],
   "source": [
    "laptop_names"
   ]
  },
  {
   "cell_type": "markdown",
   "metadata": {},
   "source": [
    "### Collecting Full NER Data"
   ]
  },
  {
   "cell_type": "code",
   "execution_count": 115,
   "metadata": {},
   "outputs": [
    {
     "name": "stdout",
     "output_type": "stream",
     "text": [
      "An error occurred: \n",
      "Could not retrieve a transcript for the video https://www.youtube.com/watch?v=rGgDatUdedw! This is most likely caused by:\n",
      "\n",
      "No transcripts were found for any of the requested language codes: ('en',)\n",
      "\n",
      "For this video (rGgDatUdedw) transcripts are available in the following languages:\n",
      "\n",
      "(MANUALLY CREATED)\n",
      "None\n",
      "\n",
      "(GENERATED)\n",
      " - nl (\"Dutch (auto-generated)\")[TRANSLATABLE]\n",
      "\n",
      "(TRANSLATION LANGUAGES)\n",
      " - af (\"Afrikaans\")\n",
      " - ak (\"Akan\")\n",
      " - sq (\"Albanian\")\n",
      " - am (\"Amharic\")\n",
      " - ar (\"Arabic\")\n",
      " - hy (\"Armenian\")\n",
      " - as (\"Assamese\")\n",
      " - ay (\"Aymara\")\n",
      " - az (\"Azerbaijani\")\n",
      " - bn (\"Bangla\")\n",
      " - eu (\"Basque\")\n",
      " - be (\"Belarusian\")\n",
      " - bho (\"Bhojpuri\")\n",
      " - bs (\"Bosnian\")\n",
      " - bg (\"Bulgarian\")\n",
      " - my (\"Burmese\")\n",
      " - ca (\"Catalan\")\n",
      " - ceb (\"Cebuano\")\n",
      " - zh-Hans (\"Chinese (Simplified)\")\n",
      " - zh-Hant (\"Chinese (Traditional)\")\n",
      " - co (\"Corsican\")\n",
      " - hr (\"Croatian\")\n",
      " - cs (\"Czech\")\n",
      " - da (\"Danish\")\n",
      " - dv (\"Divehi\")\n",
      " - nl (\"Dutch\")\n",
      " - en (\"English\")\n",
      " - eo (\"Esperanto\")\n",
      " - et (\"Estonian\")\n",
      " - ee (\"Ewe\")\n",
      " - fil (\"Filipino\")\n",
      " - fi (\"Finnish\")\n",
      " - fr (\"French\")\n",
      " - gl (\"Galician\")\n",
      " - lg (\"Ganda\")\n",
      " - ka (\"Georgian\")\n",
      " - de (\"German\")\n",
      " - el (\"Greek\")\n",
      " - gn (\"Guarani\")\n",
      " - gu (\"Gujarati\")\n",
      " - ht (\"Haitian Creole\")\n",
      " - ha (\"Hausa\")\n",
      " - haw (\"Hawaiian\")\n",
      " - iw (\"Hebrew\")\n",
      " - hi (\"Hindi\")\n",
      " - hmn (\"Hmong\")\n",
      " - hu (\"Hungarian\")\n",
      " - is (\"Icelandic\")\n",
      " - ig (\"Igbo\")\n",
      " - id (\"Indonesian\")\n",
      " - ga (\"Irish\")\n",
      " - it (\"Italian\")\n",
      " - ja (\"Japanese\")\n",
      " - jv (\"Javanese\")\n",
      " - kn (\"Kannada\")\n",
      " - kk (\"Kazakh\")\n",
      " - km (\"Khmer\")\n",
      " - rw (\"Kinyarwanda\")\n",
      " - ko (\"Korean\")\n",
      " - kri (\"Krio\")\n",
      " - ku (\"Kurdish\")\n",
      " - ky (\"Kyrgyz\")\n",
      " - lo (\"Lao\")\n",
      " - la (\"Latin\")\n",
      " - lv (\"Latvian\")\n",
      " - ln (\"Lingala\")\n",
      " - lt (\"Lithuanian\")\n",
      " - lb (\"Luxembourgish\")\n",
      " - mk (\"Macedonian\")\n",
      " - mg (\"Malagasy\")\n",
      " - ms (\"Malay\")\n",
      " - ml (\"Malayalam\")\n",
      " - mt (\"Maltese\")\n",
      " - mi (\"Māori\")\n",
      " - mr (\"Marathi\")\n",
      " - mn (\"Mongolian\")\n",
      " - ne (\"Nepali\")\n",
      " - nso (\"Northern Sotho\")\n",
      " - no (\"Norwegian\")\n",
      " - ny (\"Nyanja\")\n",
      " - or (\"Odia\")\n",
      " - om (\"Oromo\")\n",
      " - ps (\"Pashto\")\n",
      " - fa (\"Persian\")\n",
      " - pl (\"Polish\")\n",
      " - pt (\"Portuguese\")\n",
      " - pa (\"Punjabi\")\n",
      " - qu (\"Quechua\")\n",
      " - ro (\"Romanian\")\n",
      " - ru (\"Russian\")\n",
      " - sm (\"Samoan\")\n",
      " - sa (\"Sanskrit\")\n",
      " - gd (\"Scottish Gaelic\")\n",
      " - sr (\"Serbian\")\n",
      " - sn (\"Shona\")\n",
      " - sd (\"Sindhi\")\n",
      " - si (\"Sinhala\")\n",
      " - sk (\"Slovak\")\n",
      " - sl (\"Slovenian\")\n",
      " - so (\"Somali\")\n",
      " - st (\"Southern Sotho\")\n",
      " - es (\"Spanish\")\n",
      " - su (\"Sundanese\")\n",
      " - sw (\"Swahili\")\n",
      " - sv (\"Swedish\")\n",
      " - tg (\"Tajik\")\n",
      " - ta (\"Tamil\")\n",
      " - tt (\"Tatar\")\n",
      " - te (\"Telugu\")\n",
      " - th (\"Thai\")\n",
      " - ti (\"Tigrinya\")\n",
      " - ts (\"Tsonga\")\n",
      " - tr (\"Turkish\")\n",
      " - tk (\"Turkmen\")\n",
      " - uk (\"Ukrainian\")\n",
      " - ur (\"Urdu\")\n",
      " - ug (\"Uyghur\")\n",
      " - uz (\"Uzbek\")\n",
      " - vi (\"Vietnamese\")\n",
      " - cy (\"Welsh\")\n",
      " - fy (\"Western Frisian\")\n",
      " - xh (\"Xhosa\")\n",
      " - yi (\"Yiddish\")\n",
      " - yo (\"Yoruba\")\n",
      " - zu (\"Zulu\")\n",
      "\n",
      "If you are sure that the described cause is not responsible for this error and that a transcript should be retrievable, please create an issue at https://github.com/jdepoix/youtube-transcript-api/issues. Please add which version of youtube_transcript_api you are using and provide the information needed to replicate the error. Also make sure that there are no open issues which already describe your problem!\n",
      "An error occurred: \n",
      "Could not retrieve a transcript for the video https://www.youtube.com/watch?v=0kHYG8WKDIQ! This is most likely caused by:\n",
      "\n",
      "No transcripts were found for any of the requested language codes: ('en',)\n",
      "\n",
      "For this video (0kHYG8WKDIQ) transcripts are available in the following languages:\n",
      "\n",
      "(MANUALLY CREATED)\n",
      "None\n",
      "\n",
      "(GENERATED)\n",
      " - hi (\"Hindi (auto-generated)\")[TRANSLATABLE]\n",
      "\n",
      "(TRANSLATION LANGUAGES)\n",
      " - af (\"Afrikaans\")\n",
      " - ak (\"Akan\")\n",
      " - sq (\"Albanian\")\n",
      " - am (\"Amharic\")\n",
      " - ar (\"Arabic\")\n",
      " - hy (\"Armenian\")\n",
      " - as (\"Assamese\")\n",
      " - ay (\"Aymara\")\n",
      " - az (\"Azerbaijani\")\n",
      " - bn (\"Bangla\")\n",
      " - eu (\"Basque\")\n",
      " - be (\"Belarusian\")\n",
      " - bho (\"Bhojpuri\")\n",
      " - bs (\"Bosnian\")\n",
      " - bg (\"Bulgarian\")\n",
      " - my (\"Burmese\")\n",
      " - ca (\"Catalan\")\n",
      " - ceb (\"Cebuano\")\n",
      " - zh-Hans (\"Chinese (Simplified)\")\n",
      " - zh-Hant (\"Chinese (Traditional)\")\n",
      " - co (\"Corsican\")\n",
      " - hr (\"Croatian\")\n",
      " - cs (\"Czech\")\n",
      " - da (\"Danish\")\n",
      " - dv (\"Divehi\")\n",
      " - nl (\"Dutch\")\n",
      " - en (\"English\")\n",
      " - eo (\"Esperanto\")\n",
      " - et (\"Estonian\")\n",
      " - ee (\"Ewe\")\n",
      " - fil (\"Filipino\")\n",
      " - fi (\"Finnish\")\n",
      " - fr (\"French\")\n",
      " - gl (\"Galician\")\n",
      " - lg (\"Ganda\")\n",
      " - ka (\"Georgian\")\n",
      " - de (\"German\")\n",
      " - el (\"Greek\")\n",
      " - gn (\"Guarani\")\n",
      " - gu (\"Gujarati\")\n",
      " - ht (\"Haitian Creole\")\n",
      " - ha (\"Hausa\")\n",
      " - haw (\"Hawaiian\")\n",
      " - iw (\"Hebrew\")\n",
      " - hi (\"Hindi\")\n",
      " - hmn (\"Hmong\")\n",
      " - hu (\"Hungarian\")\n",
      " - is (\"Icelandic\")\n",
      " - ig (\"Igbo\")\n",
      " - id (\"Indonesian\")\n",
      " - ga (\"Irish\")\n",
      " - it (\"Italian\")\n",
      " - ja (\"Japanese\")\n",
      " - jv (\"Javanese\")\n",
      " - kn (\"Kannada\")\n",
      " - kk (\"Kazakh\")\n",
      " - km (\"Khmer\")\n",
      " - rw (\"Kinyarwanda\")\n",
      " - ko (\"Korean\")\n",
      " - kri (\"Krio\")\n",
      " - ku (\"Kurdish\")\n",
      " - ky (\"Kyrgyz\")\n",
      " - lo (\"Lao\")\n",
      " - la (\"Latin\")\n",
      " - lv (\"Latvian\")\n",
      " - ln (\"Lingala\")\n",
      " - lt (\"Lithuanian\")\n",
      " - lb (\"Luxembourgish\")\n",
      " - mk (\"Macedonian\")\n",
      " - mg (\"Malagasy\")\n",
      " - ms (\"Malay\")\n",
      " - ml (\"Malayalam\")\n",
      " - mt (\"Maltese\")\n",
      " - mi (\"Māori\")\n",
      " - mr (\"Marathi\")\n",
      " - mn (\"Mongolian\")\n",
      " - ne (\"Nepali\")\n",
      " - nso (\"Northern Sotho\")\n",
      " - no (\"Norwegian\")\n",
      " - ny (\"Nyanja\")\n",
      " - or (\"Odia\")\n",
      " - om (\"Oromo\")\n",
      " - ps (\"Pashto\")\n",
      " - fa (\"Persian\")\n",
      " - pl (\"Polish\")\n",
      " - pt (\"Portuguese\")\n",
      " - pa (\"Punjabi\")\n",
      " - qu (\"Quechua\")\n",
      " - ro (\"Romanian\")\n",
      " - ru (\"Russian\")\n",
      " - sm (\"Samoan\")\n",
      " - sa (\"Sanskrit\")\n",
      " - gd (\"Scottish Gaelic\")\n",
      " - sr (\"Serbian\")\n",
      " - sn (\"Shona\")\n",
      " - sd (\"Sindhi\")\n",
      " - si (\"Sinhala\")\n",
      " - sk (\"Slovak\")\n",
      " - sl (\"Slovenian\")\n",
      " - so (\"Somali\")\n",
      " - st (\"Southern Sotho\")\n",
      " - es (\"Spanish\")\n",
      " - su (\"Sundanese\")\n",
      " - sw (\"Swahili\")\n",
      " - sv (\"Swedish\")\n",
      " - tg (\"Tajik\")\n",
      " - ta (\"Tamil\")\n",
      " - tt (\"Tatar\")\n",
      " - te (\"Telugu\")\n",
      " - th (\"Thai\")\n",
      " - ti (\"Tigrinya\")\n",
      " - ts (\"Tsonga\")\n",
      " - tr (\"Turkish\")\n",
      " - tk (\"Turkmen\")\n",
      " - uk (\"Ukrainian\")\n",
      " - ur (\"Urdu\")\n",
      " - ug (\"Uyghur\")\n",
      " - uz (\"Uzbek\")\n",
      " - vi (\"Vietnamese\")\n",
      " - cy (\"Welsh\")\n",
      " - fy (\"Western Frisian\")\n",
      " - xh (\"Xhosa\")\n",
      " - yi (\"Yiddish\")\n",
      " - yo (\"Yoruba\")\n",
      " - zu (\"Zulu\")\n",
      "\n",
      "If you are sure that the described cause is not responsible for this error and that a transcript should be retrievable, please create an issue at https://github.com/jdepoix/youtube-transcript-api/issues. Please add which version of youtube_transcript_api you are using and provide the information needed to replicate the error. Also make sure that there are no open issues which already describe your problem!\n"
     ]
    }
   ],
   "source": [
    "query = \"top ten laptops 2022\"\n",
    "search = youtube.fetch_youtube_data(query, max_results=10)"
   ]
  },
  {
   "cell_type": "markdown",
   "metadata": {},
   "source": [
    "We need to filter out data that have error messages as cc_text rather than actual cc_text."
   ]
  },
  {
   "cell_type": "code",
   "execution_count": 118,
   "metadata": {},
   "outputs": [
    {
     "data": {
      "text/plain": [
       "[{'video_id': '2MXtOocAVXc',\n",
       "  'title': 'TOP 10 BEST LAPTOPS 2022',\n",
       "  'video_link': 'https://www.youtube.com/watch?v=2MXtOocAVXc',\n",
       "  'channel_name': 'Trend Max',\n",
       "  'cc_text': \" do you need a powerful fast laptop with large memory capacity and good graphics stay tuned because in this video you're about to see the top 10 best laptops 2022 number 10 hp envy x360 let's start with a laptop that has great graphics especially for graphics designer games that require vivid visuals the hp envy x360 is powered by an amd ryzen 5 3500u processor and runs windows 10 although it can be upgraded to windows 11. it has a 13.3 inch convertible touchscreen so it can be used as a tablet as its screen can rotate 360 degrees the keyboard has its own lighting and added hotkeys including microphone on off keys it boasts a built-in 8 gigabyte ram and its battery is quite durable it can last 11 hours on a single charge the hp envy x360 is quite affordable you can get it starting at 700 with this model hp solved the problems that the previous envy had which were actually quite few and remains the undisputed king of laptops under a thousand dollars [Music] number nine lenovo thinkpad x1 carbon 8th gen lenovo thinkpad x1 carbon 8th gen is the best machine for office work this is due to its fast memory performance that can process large amounts of information at a time so if you have to work on huge excel tables it'll be of great help to buy it it has an intel core i7 processor a 14 inch screen and a storage capacity of 256 gigabytes this thinkpad comes with the usual laptop touchpad and lenovo's famous red trackpoint a touch sensor that allows you to operate the cursor plus it has excellent battery life and at just over 2.4 pounds it's lightweight compared to the vast majority of competing machines if you want to buy it it has a starting price of two thousand two hundred eighty dollars number eight alienware x17 r2 this is the best gaming laptop for many it has a 12th gen intel core i9 12900 hk processor and comes with an nvidia geforce rtx 3080 graphics card it has a two tera ssd storage system and a ram of 26 gigabytes its screen is 17.3 inches and has 1080 pixel resolution many agree on its elegant design comfortable keyboard and graphic capacity that allows it to run all games even in uhd 4k but they also agree on its disadvantages the fan makes a lot of noise the battery life is very short its weight of just over 6.8 pounds makes it hard to carry it around and it has a poor webcam besides its 2 250 dollar price tag is quite high for many if you wanna see the best gaming laptops keep watching this video because they'll gradually come up number seven msi ge76 raider while the msi ge76 raider wasn't created for gamers you might as well use it its powerful processor and graphics card coupled with excellent battery life make it a formidable machine the screen is 17.3 inches and you can choose between a q led or 4k display depending on what you want to include one of its most striking details is the rgb light bar on the front edge among its disadvantages is its weight of 6.3 pounds an attribute in which the big gaming monsters don't fare very well so far in addition several users report that the screen casts a dimmer light than previous models and the fingerprint scanner is oddly placed it's priced at four thousand dollars very expensive so much so that i also consider it a disadvantage although i suppose the unprecedented data and graphics transfer speeds are worth it number six macbook air m1 this is a superbly performing master built laptop something apple has already accustomed us to it boasts an extremely powerful 8 core apple m1 chip processor so apple can say it's faster than 98 of windows laptops on the market it can have a 7 or 8 core graphics card depending on the specifications you want to include despite being an integrated graphics card several tests indicate that it can easily run games such as rise of the tomb raider as for storage it can be 256 gigabytes 512 gigabytes or one or two terabytes depending on what you choose overall the battery of the macbook air m1 can last for 14 hours although for specific tasks it delivers 18 hours of video playback and 15 hours of browsing the ram can be 8 or 16 gigabytes the keyboard features touch id which unlocks the mac with just your fingerprint pricing can range from 1 190 base to 2 500 with the best features number five dell xps 13. this line is one of the most versatile for its wide variety of features which depend on the specifications you choose but the product is essentially the same it's an easy to carry laptop with a thin and a light design the dell xps 13 comes with an 11th gen intel processor which can be i3 i5 or i7 the almost bezel-less touch screen also varies in size and quality the best of all being a 3.5 k oled that grants great sharp colors and quite inky black tones the problem with this screen is that it reduces battery life ram can be up to 16 gigabytes and storage memory up to two terabytes among the disadvantages is the 720 pixel webcam with a grainy image it's priced at 1 600 number 4 razer blade 17. this laptop sure is good for gaming its operating system is windows 11 home and it comes with a 12th gen intel 14 core i9 12900h processor and nvidia geforce rtx 3080 ti graphics card so even the most complicated 3d animations are sharply displayed on the 17.3 inch screen ram is up to 32 gigabytes while storage is up to one terabyte for a gaming laptop it's one of the most easily portable on the market as it's only 0.78 inches thick its main disadvantage is the short battery life which is usually the achilles heel of specialized gaming devices another disadvantage is its starting price at 2 300 dollars number three microsoft surface laptop four this laptop is rated as one of the best for design it's a much improved version of the surface laptop three heavily criticized for its lackluster speed and poor capacity to support multiple apps open at the same time this was solved with new chips the surface laptop 4 comes with ryzen 5 7 4000 series or intel 11th gen i5 or i7 processors depending on what you choose ram can be up to 32 gigabytes while ssd storage up to one terabyte as for the screen there's a 13.5 inch and a 15 inch version among its advantages are its fairly lightweight design comfortable keyboard large speakers and good battery life of up to 13 hours among its disadvantages are its excessively thick display bezels and its low resolution webcam another disadvantage derives from its alcantara lining which can get dirty and become very uncomfortable over time though it's initially quite comfortable for the wrists it comes with windows 10 but can be upgraded to windows 11 for free to give you an idea it's priced with an i5 core and 13.5 inch screen is thousand three hundred dollars number two 16-inch macbook pro this is the most powerful laptop apple has ever made it's great for any audio visual activity that includes encoding playing and exporting videos it has an apple m1 pro processor that allows it to handle very complex animation and graphic design tasks making it popular with creative professionals it boasts a ram of up to 64 gigabytes a storage capacity of up to eight terabytes and an eye-catching 16.2 inch led display apple improved one feature over previous macbook pro versions this time it included an hdmi port making it easier to connect to additional peripheral devices like drawing tablets and external monitors an sd card reader is also included which makes it easy to work with photo and video cameras it has a high performance battery that lasts 17 hours without charging giving you great freedom to work where no power outlets are available the base price of this powerful tool is two thousand four hundred dollars but will go up if you want the best specs glad you made it this far it's time to show you the most powerful laptop of all number one asus rog zephyrus g15 the perfect machine for gaming graphics tasks and other fast paced activities it comes with an eight core amd ryzen 9 hs processor and an nvidia geforce rtx 3060 graphics card it has 32 gigabytes of ram and one terabyte of ssd storage it's a device that measures over 15 inches diagonally but only weighs 4.2 pounds which is partly explained by its thinness of only 0.7 inches the structure is worthy of admiration and is made of a magnesium aluminum alloy the hinge allows a 180 degree opening and the screen has a matte finish in addition it comes with powerful speakers the sound is spectacular and the keyboard and touchpad are among the best on the market the battery lasts just over 8 hours surpassing the average gaming laptop however nothing can be perfect and this great zephyrus has a big disadvantage it has no webcam so if you want a broadcast you'll have to buy an accessory its price is about 3 200 which of these laptops would you choose don't forget to subscribe to the channel and turn on the notifications so you don't miss out on new videos see you next time [Music]\"},\n",
       " {'video_id': 'YZtN6UNJIV4',\n",
       "  'title': 'Best Laptops 2022: Top 10 Thin &amp; Light Laptops You Can Buy!',\n",
       "  'video_link': 'https://www.youtube.com/watch?v=YZtN6UNJIV4',\n",
       "  'channel_name': 'The Tech Chap',\n",
       "  'cc_text': \" not sure if I've got enough laptops here all right hey guys I'm Tom the tech Chap and if you're after a new premium thin and light AKA Ultrabook kind of laptop then well you've clicked on the Right video These are 10 of my top picks right now but if you think I've missed any great options then share your recommendations in the comments below as well and if you do enjoy the video a like And subscribe will be lovely let's start with this guy the Dell XPS 13. that's dangerous the Dell XPS 13 plus I'm gonna have to move these laptops now this is getting silly and it's just like the regular XPS 13 but with slightly better overall specs a bigger battery better camera and speakers and well most obviously we have this crazy futuristic irobot-esque design what do you think now not everyone is a fan of this design and the no Gap keyboard and also there is no visible Edge to the touchpad you can't just have to well feel your way around and when it stops moving the cursor you've gone too far we've also got this capacitive touch bar at the top for the function row and particularly in this Platinum ICE color I think it's one of the most stunning looking laptops I've ever seen and this almost bezel-less 16x10 display is a real highlight and there are actually three screen options we get full HD LCD non-touch 3K OLED touch albeit 100 nits less bright than the others or a full 4K LCD touchscreen I've got the OLED model here because well it's kind of hard to go back to regular LCDs after you've enjoyed the Deep Inky blacks and Rich colors and other cliche terms of an OLED all we need an AMOLED which I'll come to later on the Samsung laptop it's a beautiful screen and actually I think the 3K resolution you get with this OLED option is the best balance of sharpness and battery life so that would be my pick although it does add to the price a little bit it's also pretty powerful given its size with Intel's latest 12th generation p series of chips so in terms of performance they're significantly better than last year's u-series but still not quite up there with the more power hungry H series and that's together with up to 32 gigs of RAM and two terabytes of storage so the XPS 13 plus starts at about 1200 pounds which puts it pretty much right up against the new Macbook Air M2 although once you spec this with 16 gigs of RAM and maybe the OLED screen we're looking at around 1500 so it can get quite pricey and if you're not fussed on some of these upgrades or more likely you just don't like the design then the regular XPS 13 all the two in one could also be worth looking at okay moving on and love or hate Apple you've got to admit their laptops are bloody good especially since they introduced the M1 last year and now we've got the M2 in this guy the MacBook Air M2 so this just came out but it's not as revolutionary as the 2020 M1 air which is still on sale for about 250 pounds less than this and I reckon is still the better value option if you just want a good all-round MacBook however if you fancy a Lena Mina faster and all-around better MacBook Air with its M2 Chip thinner bezels much improved webcam we get magsafe and of course most importantly some fancy color options this 1250 pound MacBook Air M2 is arguably the best thin and light laptop in the world you might disagree I would still say the Base air is better in terms of value for money but if you want a premium Mac experience and you don't want the heavier more powerful and arguably better MacBook Pro 14 then this is the laptop for you it is quite expensive especially when you start upping the specs if you go to 16 gigs of RAM and 512 storage and actually importantly the 512 storage is double the speed of the base 256 then you're looking at about 1600 1650 which is getting frustratingly close to the MacBook Pro 14 but then again this will last you an awful long time and it is just a joy to use so that's the MacBook moving on this this title thin and light probably I haven't written it yet but you can't have a thin and light laptop video without including LG gram laptops and I've got two of the brand spanking new ones we've got the 16 I want the wrong way around and the 17. it does also come in smaller size options which are also cheaper but these are the ones that LG sent for review and actually I think the bigger ones are kind of more interesting because the whole point of these grams is that you can get a big screen in a thin and light form factor which you can't really get elsewhere I mean just look at this 17 inch screen 1.35 kilograms 16 inch 1.2 which is lighter than the 1.24 kilogram XPS 13 plus and you're getting that significantly bigger screen now the compromise with these has always been the material the sort of magnesium alloy they use it's a bit plasticky feeling that hasn't changed much but what has changed with these new 2022 models is we get the latest 12th generation Intel P series of chips and so while the these may not be the best looking or the most premium feeling Ultrabooks if you're carrying it around all day and weight is really important to you you want solid performance with the latest hardware and also as I say you want the options for bigger screens well this could be right up your alley check this out as well it's the LG view plus they actually sent it along with the grams here and while there is normally a stand that you get in the Box I'm just trying to demonstrate this quickly it is essentially a external screen that they'll give you for free if you buy one of these from LG's website normally costs you about 300 pounds 350 dollars that is a very cool setup I like that and obviously it Powers it through the USBC here as well so considering these LG grams are on the pricier side you're definitely paying a premium for that sort of thin and lightweight Nuss if you can get it with this plus view chucked in for free then it makes it a lot more tempting alternatively have a look at this the new Samsung Galaxy Book 2 Pro it comes in both 13 and 15-inch versions starting at 999 or 1099 respectively here in the UK which is not too bad at all there are also 5G versions of this and there's a flippy twisty two-in-one Pro 360 if you need a touchscreen tablet experience it doesn't quite beat the grams on weight for the similar size model but it's very close this is still one of the thinnest and lightest laptops you can buy I've got the 15 inch model here with this gorgeous ammo LED screen but can you guess what my want criticism is going to be 16x9 it's not the end of the world but this is actually in the minority now as most laptops come with the taller 16x10 aspect ratio so it just feels a little bit smaller and more cramped than some of the others but it's probably not a deal breaker really and there's a lot going for this we get the latest 12th gen Intel P series inside as I say an AMOLED screen although still only 1080p there isn't a high resolution option also only 60 hertz so the AMOLED stands out the rest a bit meh but arguably this combines the more premium aesthetic of say the XPS with the lightweight chassis of the gram and the starting price of a thousand pounds isn't too ridiculous so that's the galaxy book 2 Pro very thin and light this next laptop is uh well not so thin and light it's the new Acer Swift 3 but I wanted to include include it include it because actually it's one of the more powerful and more affordable laptops out there and we get a gorgeous screen the Swift 3 comes with Intel's 12th gen H series of processors which are a good deal more powerful than the P series you'll find in a lot of these new ultra thin and lights so that's better for photo editing or having tons of chrome tabs open maybe even a little bit of gaming although there isn't a dedicated GPU but as well as some beefy Hardware on the inside the screen is a real standout it's a 14 inch 16x10 Quad HD OLED display which in my book is exactly what you'd want for a laptop like this we get a couple of full-size USB A's we get a couple of thunderbolts as well and also a full size HDMI no SD card reader though which is a bit of a shame last thing that's the only thing I would have liked to have seen But the screen's gorgeous it's got some good performance and it's also a bit more affordable than these other options this starts at 800 pounds for the I5 the i7 is a thousand although if you do want a slightly more premium slightly fancier design then it's worth looking at Acer's Swift 5 lineup now from Acer to Asus this is one of my favorite Ultra books so far this year it's the Zenbook s13 OLED it's the only AMD powered laptop in my top 10 and it's also one of the first to come with a new ryzen 7 6000 series I've got the 6800u in here which trades blows with Intel's 12th gen P Series in CPU benchmarks but this is significantly more powerful in the graphics department and somehow they squeezed all that into this absolutely tiny chassis the weighs just one kilogram or 2.2 pounds only the 13-inch LG gram weighs less and that's only by like 35 grams this is incredibly thin and light it really is you're not going to feel this in your backpack at all and that's together with a stunning Quad HD OLED screen 16 gigs of RAM one terabyte storage and for that spec we're looking at 1300 pounds which makes it relatively good value I mean I would buy just because it's got the Star Trek Communicator on it I mean sorry the Asus logo but no this is definitely one of the best laptops I've used this year and I'll leave a link at the end if you want to watch my full review of this next up I want to talk about this well I don't actually have it with me it's the new Huawei matebook X pro the new 2022 version I've not been hands on with it myself just yet but I've been a big fan of Huawei laptops for quite a few years now and this updated X pro gives us a slight redesign we have this new ink blue color it weighs just 1.26 kilograms so similar to the XPS 13 and we get this gorgeous 14.2 inch Quad HD OLED and 90 Hertz touchscreen which makes it the first laptop in my top 10 to have a higher refresh rate which I am a big fan of although this square a three by two aspect ratio may not be everyone's cup of tea as you get bigger black bars when watching movies we also now get the newer 12th gem P-Series chips as well as 16 gigs of RAM and a one terabyte SSD as standard which I guess goes some way to explain the Fairly high price so the maybook X pro is definitely one of the more luxury Ultra books out there it's quite pricey but it is very nice and if you're wondering are there any issues with buying my laptops no I wouldn't recommend the phones because you can't access the Google Play Store but the laptops are good to go there's no issues okay number eight let's go back to Asus for this guy the Zenbook 14 pro Duo OLED and it's all about that screen well screens the main display is a 14.5 inch Quad HD OLED 120 hertz display which makes it feel incredibly fast to use and as usual the OLED screen really pops but then we have this second screen pad which is great for multitasking and it just gives you that bigger screen laptop experience on a relatively smaller laptop not only that but this also packs in the beefiest specs of any laptop in my top 10. with Intel's 12th gen Age series processors up to an I9 and also dedicated graphics in the form of the RTX 3050 TI and that's squeezed into a chassis that's just 17.9 mil thick and weighs 1.7 kilograms so it is a bit heavier than most laptops of the size but the trade-off is you're getting significant can lead better performance okay number nine we're almost there you're doing very well but I do want to show you well not show you tell you about another laptop the Lenovo Yoga slim 7i Pro X which is a heck of a name sadly I don't have a review sample with me here just yet but it is worth a look because right now on lenovo's website the base model with a 12th gen H series I5 512 storage 16 gigs of RAM and a stunning 14 and a half inch 3K 120 hertz display is under a thousand pounds which makes it pretty crazy value for money you can also spec it with a dedicated GTX 1650 or an RTX 3050 for more graphical Grunt and together with that 120hz screen makes it quite a nice casual gaming laptop it looks good we get 100 watt fast charging and it's still reasonably lightweight at just 1.45 kilograms so the yoga slim 7i Pro X is a really good all-rounder and definitely want a shortlist okay number 10 and I know some of you going to rolly rise at this but I think this is worth mentioning it's the iPad Air or Pro I've got the pro 129 here with a magic keyboard now I will say that I still don't think iPads can be full laptop Replacements even with the iPad OS 16 which keeps being delayed actually but I am running the beta on here it's still not quite up there but there are advantages to this firstly the App Store great for productivity apps and video streaming I mean I use my laptop to watch videos and movies when I travel so being able to download them in their native apps is really useful the magic keyboard is lovely to type on and if you combine it with the apple pencil this is one of the best devices for an artist or a Creator the Thunderbolt 3 Port lets you transfer files relatively easily plus of course we get the Apple ecosystem I don't know about you but I can't live without airdrop but it does raise another question which should you buy between these two because they're roughly similar prices although it can get a bit complicated if you go for the New Gen 5 air and pair with the keyboard that's a bit cheaper but then the pro is more expensive and also depends what spec you go of this I would say bottom line for a Essentials if you just need a laptop well it makes sense to get the laptop I think the MacBook Air M1 right now is still probably the best all-around laptop you can buy for the money and of course with student and teacher discounts you can get it even cheaper but if you are going to use the touchscreen if you are going to use the app store and you want a really good travel companion then I would still highly recommend this setup but it's lovely I use it all the time although it is a shame that the new iPad OS 16 which I'm running the beta version of here does add some nice new features but still no desktop class applications I guess that makes sense though because people then will just stop buying this also bear in mind that new iPad Pros are expected probably in October or November so if you are going to Shell out over a grand for this car setup maybe worth waiting a few weeks so hopefully that was helpful and if you do fancy checking out any of these I'll leave links in the description below and as I say if you've got any of the great recommendations leave a comment and for more laptop reviews and well just more of me don't forget to hit that subscribe button and I'll see you next time right here on the tech chat that was terrible\"},\n",
       " {'video_id': 'cZJizvLiO4g',\n",
       "  'title': 'TOP 5: Best Laptops 2022',\n",
       "  'video_link': 'https://www.youtube.com/watch?v=cZJizvLiO4g',\n",
       "  'channel_name': 'Top Tech Now',\n",
       "  'cc_text': \" with so many laptop models on the market it can be very difficult to find the one that's right for you well in this video we break down the top five laptops on the market this year based on price versus performance and situations they'll be used in we'll be taking a look at products in every budget range so whether you're looking for an affordable laptop with the best value a laptop for gaming or the best of the best will have the perfect product for you so if you're interested in finding out which laptop will be best for you stay tuned all the links to find the best prices on all the products mentioned in this video will be in the description below the products mentioned in this video are in no exact order so be sure to stay tuned till the end so you don't miss anything first up the microsoft surface pro 8 our pick for best two in one laptop microsoft surface pro 8 features an all new design and faster internals but the price point is a bit high especially when you considered that you have to buy the type cover and pen separately design changes include smaller bezels to give you more screen area and its rounded off chassis creates a more refined overall look the 13-inch 2880 by 1920 touchscreen has good brightness and color accuracy making it ideal for creative work and when you're using the surface pro 8 in tablet mode the surface slim pen 2 that you could purchase separately is perfect for inking document markup and generally improving your interaction also as a separate purchase the detachable type cover converts this two in one to a conventional laptop key travel is sufficiently deep for how thin the keyboard is and the wide key spacing maintains good comfort while you type the touchpad though is not as good but since the type cover isn't included and the surface pro 8 excels as a touch device it's not that big of a deal if you'd be more interested in a windows based laptop that includes a keyboard and a lot more for just a hundred dollars more check out the dell xps 13 coming up later in the video for computing power you could configure the surface pro 8 with an intel evo i5 or i7 evo processor with intel iris xe integrated graphics up to 32 gigabytes of ram and an ssd with capacities that range from 128 gigabytes to one terabyte while not that great for the price these options are still good enough for streaming video productivity and daily tasks like email and web browsing microsoft has revised the connectivity options to include two thunderbolt 4 ports and a 3.5 millimeter jack for listening with headphones battery life will get you through an entire workday with about 8 hours and 15 minutes of usage from a full charge if you're looking for one of the best detachable two-in-one laptops in the market right now the microsoft surface pro 8 is a good choice but having to purchase the type cover as a separate item is a bit disappointing next up the apple macbook air m1 our pick for best laptop for students best laptop for the money the apple macbook air m1 is a great option for students and is optimized for good battery life and performance and its quiet magic keyboard is perfect for in-class use the macbook air m1 is very intuitive and it's packaged with apps to use right out of the box it's compatible too all of your existing apps will work including adobe creative cloud microsoft 365 and google drive plus you can use your favorite iphone and ipad apps directly on mac os the 13.3 inch retina display produces imagery that comes alive with vibrant color and clear sharp text the magic keyboard is backlit and offers a nice typing experience that feels tactile and responsive despite how flat the keys are if you're a student who's studying a creative field that involves video editing and you have a bigger budget check out the apple macbook pro coming up later in the video big changes to the internals include apple substituting intel-based processors for their own proprietary m1 chip this chip offers a huge speed boost and has the ability to run both legacy apps m1 optimized apps and ios apps and gives you up to nine times faster processing speed across the board the chip is backed with a solid gpu eight gigabytes of memory and a speedy 256 gigabyte ssd on the software side apps like safari final cut photos messages and most of the apps you would use as a student have all been optimized for the m1 chip so they load faster and perform better improvements even reach down as far as giving the battery better efficiency giving you up to 15 hours of use on a full charge for connectivity the macbook air m1 offers two thunderbolt ports and a headphone jack if you're a student that's looking for a good laptop for the money the apple macbook air m1 is a very good choice for you it has the power to tackle just about anything and has excellent battery life to take you through a full day of classes next up the dell xps 13 our pick for best overall laptop the dell xps 13 offers the best balance of what makes a laptop great it's exceptionally light and compact its battery will last through a full day of work or school and it has a good keyboard and trackpad the xps 13 display is available in three versions all of which feature a 16 by 10 aspect ratio instead of the more traditional 16x9 resulting in additional vertical space which is handy when you're scrolling through websites or updating lengthy documents choose from a 13.4 inch fhd plus oled 3.5 k or uhd plus touch display that offer good brightness and color the backlit keyboard extends to both edges of the laptop so everything is well laid out and the keyboard is paired with a good sized and very smooth touch pad key travel is just deep enough to be comfortable and the touchpad offers accurate tracking with buttons that have a nice solid feel for computing power the xps 13 can be configured with an i3 i5 or i7 processor with integrated graphics and your choice of 8 to 32 gigabytes of memory for file storage you can pick an ssd with a capacity from 256 gigabytes all the way up to 2 terabytes the i3 and i5 processors have enough power to get you through any productivity task and the i7 processor is better for heavier workloads like video editing or gaming ports are kept to a minimum here offering two thunderbolt 4 ports and a headphone slash microphone combo jack the speakers on this laptop are decent enough for watching a quick youtube video or some netflix in the middle of the night when you're having trouble sleeping but if you really want to enjoy your media experience the speakers aren't going to cut it so headphones are recommended if you're looking for a good all-purpose laptop with all-day battery the dell xps 13 is a great choice for you this laptop is extremely portable with excellent battery life so it's a good windows-based alternative for students as well if you're interested in updated pricing on any of the items mentioned in this video be sure to check out the links below prices update on these products almost daily with sales and general price drops so if you want to find the most updated information check the description if you find this video helpful please help out the channel by giving this video a like and tell us which product caught your eye in the comments below next up the apple macbook pro our pick for best laptop for video editing best overall laptop for macbook users for video editing or any other demanding processor intensive task there's nothing that can stand up to the grind like the apple macbook pro if you're looking for the best for video editing or other creative work this laptop definitely stands out the macbook pro is available with either a 14 or 16 inch retina display and the bezels surrounding the screen have been slimmed down for a cleaner less bulky look the quiet and responsive magic keyboard offers one millimeter of travel so it feels great to type on and includes a touch id button for logging in using just your fingerprint like the apple macbook air m1 all intel processors have been replaced by apple's m1 chip and neural engine that deliver better overall processing speed and optimization and handles demanding tasks like video much more smoothly the m1 chip works with a gpu that you configure up to 32 cores and up to 16 gigabytes of unified memory so everything you work on is fast and fluid an ssd of up to two terabytes gives you instant access to apps and files to connect up other devices you'll get three thunderbolt 4 ports displayport thunderbolt a usb 3.1 port an hdmi port and an sdxc card slot and when it comes to laptop sound the apple macbook pro breaks the curse of poor speaker performance with a six speaker sound system that produces room-filling stereo sound with natural sounding low end and if you're working on battery power alone you'll get up to 21 hours per charge but that will vary depending on your activity if you're looking for a great laptop for editing video the apple macbook pro is an excellent choice for you it's portable powerful and can be customized to suit the type of work you're doing finally the acer swift 3 our pick for best budget laptop the acer swift 3 is a good budget laptop that features a thin super lightweight design and pretty decent battery life that makes it ideal for productivity and some light gaming acer sticks to a clean minimalist design with the swift 3 and its matte finish and polished acer logo on the back is as fancy as it gets the 14 inch full hd display provides decent performance though it struggles a bit in brighter lighting conditions but is pretty much in line with expectations when you consider the price point with that said the color accuracy isn't the highest but it's definitely in keeping with the standards of a modern 1080p display the island style keyboard has responsive chiclet keys that are spaced pretty well for a laptop of its size and the black keys are backlit with soft white leds for better visibility the trackpad is a good size and responds well when it comes to video playback and general use there's little to complain about running chrome with two dozen tabs open was handled smoothly by the swift 3 even with one of the tabs playing video and another with an active slack channel going the swift 3 also handled some light gaming through steam without any trouble and kept a solid frame rate going as long as the on-screen action isn't too demanding on the gpu it's also capable of handling multimedia content creation pretty well for a system with 8 gigabytes of ram loading up photoshop and doing basic photo editing with a dozen or so open files is a pretty smooth experience without any hangups the swift 3 is configured with one usbc port a usbc thunderbolt port and an hdmi port and headphone mic jack but there's no type of sd card slot available if you're looking for a budget laptop for productivity tasks streaming video some light gaming and even some multimedia editing the acer swift 3 is one of the best budget laptops you can buy right now alright guys that's all for now like i mentioned earlier links to the best pricing on all items mentioned in this video will be in the description below if you enjoyed the video please go ahead and leave a like if you're new to the channel and you like the video consider subscribing we do our best to keep you up to date with the best products on the market right now so if you want to stay current regarding the best gear make sure to hit that subscribe button hope you all have a great day and we'll see you back here soon\"},\n",
       " {'video_id': 'Uqim5yMwadQ',\n",
       "  'title': 'The best laptops of 2022',\n",
       "  'video_link': 'https://www.youtube.com/watch?v=Uqim5yMwadQ',\n",
       "  'channel_name': 'CNET',\n",
       "  'cc_text': \" it's time to talk about the best laptops at ces 2022 we've got gaming laptops we've got business laptops we've got new chips from intel and amd but largely i think it's a story about how laptops and tablets and computers in general are evolving to meet our needs as remote workers hybrid workers work from home sometimes workers there's something for everybody out there there are some big themes and cut across a lot of the laptops and tablets and computers that we're seeing here at ces 2022 i think the primary thing is we're finally getting systems that are designed around what we're doing now which is hybrid work and remote work going to the office sometimes in hotel desking and that includes things like having a full hd 1080 resolution webcam as a default which we really have not had in a lot of systems up until now even though we're doing these web meetings and video meetings all the time we're also seeing a lot of gaming laptops with amd chips a lot of new stuff there we're seeing a lot of laptops and tablets that have gpus whether it's nvidia or amd or the new intel arc that don't really look and feel like gaming laptops that hardware is getting into a wider range of systems and another interesting theme is secondary screens are getting another turnit bat for years now we've occasionally seen pc makers try to put a second screen into a laptop either inside like next to the keyboard or on the back of the lid they've never really taken off i would have thought everyone would have given up on that by now but we've seen several laptops this year that have that secondary screen again ironically this video was a lot easier to do last year for ces 2021 because we all knew the show was going to be remote and pc makers could send their products to me and my team to look at the checkout to get hands-on with this year for ces 2022 i think the decision was made by a lot of companies and a lot of us not to go to las vegas in person kind of late in the game so our impressions of a lot of these laptops come from the spec sheets from seeing the companies post their own videos about them and talking to them about them however there are some that we did get a chance to go see in person and check out and that definitely helped us form our opinions one of the laptops i did get a chance to go see in person was the dell xps 13 plus now the xps line has always been one of my favorites it gets a little bit better every year the 13 inch model is a really good macbook air alternative but this year dell decided to make a more premium version they're calling the plus well what makes it plus there are a bunch of design differences there are some component differences i think the first thing you're going to notice is the fact that there's no touch pad per se it's just a big long piece of glass covering the entire front lip of the laptop now that's not all touch pad the actual touch sensitive part goes from kind of the alt key on this side to the alt key on this side you have to develop some muscle memory i think over time to figure that out but i like the look and the function key row on top has been replaced with a capacitive touch strip that does the function keys and then flips and does the media keys you might say it's a little bit like the touch bar on macbook pros that has been discontinued now i think that's a legitimate criticism i think this is a little bit easier to use because there's only two sets of buttons and you don't have to try to figure out what's happening contextually every time that said i think they took these out so they could fit higher power components inside this can support more powerful cpus than a regular xps 13 can and also to keep it thin they've taken the top layer the protective layer of glass off the screen basically reduced one of the layers and kind of the sandwich that makes up the display dell says that's not going to affect the ruggedness of it we're going to have to wait and see but overall it's a really nice looking package there's one weird little caveat about it it's one of the first laptops i've seen that completely eliminates the headphone jack which we thought was really scandalous when it happened in phones many years ago but we got used to it so maybe we'll get used to it in laptops also one of hp's more premium lines is the elite dragonfly they've had windows versions of that for a couple of years and it's a really nice system and the gen 3 they had at ces 2022 also very nice you can get a big 3000 by 2000 resolution oled screen on it but i was more interested in the hp elite dragonfly chromebook because it's a very rare premium business chromebook and it's the first chromebook i think that supports intel's vpro which is a platform that basically lets your it department remotely manage your system and not having that is a real deal breaker for a lot of big companies if they want to get chromebooks in people's hands which may make a lot of sense but if the chromebooks don't support their business needs and their it needs then you can't do it so i think this system will help businesses get more used to using chromebooks which frankly remote schooling has taught us are frankly really good for a lot of things it's also interesting to note the windows version of the new dragonfly is a clamshell laptop the chromebook version is actually a two in one one thing i'm seeing a lot of at ces this year is that the really premium gaming laptops are going amd and ryzen versus nvidia and intel a great example of this is a new alienware m15 r5 ryzen edition and that has got the latest parts from amd inside and of course it's a big 17 inch screen which we always like in gaming laptops so inside you can get the ryzen 9 69 80 hx cpu and the rx 6850m xt gpu and if you don't know what those mean those are just amd's latest parts and frankly they promise to be very power efficient so this could be one of the first 17-inch gaming laptops that actually gets okay battery life but it's not only big screen laptops that are doing interesting things in gaming we're seeing some more unconventional forms we've got the asus flow z13 and that is a gaming tablet a very rare thing i remember seeing some gaming tablets years and years ago they didn't really work out this time inside this tablet you can get up to an nvidia 3050 ti gpu which is frankly pretty good especially considering it's all packed into that slate form but you could also add an external gpu box and asus makes one of those also that's where you put a desktop cpu in like the separate box with its own power supply and then you plug it into your device to get that extra gpu power and then you just unplug it and just take the slate part with you when you don't want to carry the whole thing around lenovo always has a lot of interesting things for ces i'm going to be a little bit of a contrarian here and say that our pick for the best thing is not um a fancy consumer system or a gaming system it's actually the thinkpad z series they've got the z13 and the z16 13 inch and 16 inch models that are really really evolved business laptops the things that really stood out about this that we liked were you can get 16 by 10 oled displays number one oled is cool number two 16 by 10 i think is more useful for remote and hybrid work because you get a little bit more uh vertical space there especially when you're viewing documents and doing a lot of paperwork online that means a lot and they've also got those full hd webcams i talked about that are really important to have these days they've got ir facial recognition and they've even got haptic touch pads which gives you a little kind of you know force feedback based on how you're using the touch fan that's something else we're seeing show up in a few systems this year and i think it's really cool another really interesting gaming laptop we saw was the asus zephyrus duo 16. now that is one of those laptops that's adding a secondary screen that's why it's called the duo i guess because it's got the 16 inch main screen it's got a long kind of strip screen below that that's 14 inches diagonally 4k resolution it's a touch screen and when you open the lid that that secondary screen moves up into position underneath it and i guess in games you could move like maps or inventory of things onto it or if you're doing productivity things you can move certain menus or or rough text that you want to copy and paste from down there there's a bunch of different ways to use it as a secondary display it's not the first time we've seen this or even the first time we've seen this from asus but this year's model with updated components and a really nice big screen size and a really nice secondary screen size i think that's really impressive those are probably the overall favorites among my team we did have some honorable mentions though i'm definitely going to give a nod to the alienware x14 which is a really thin gaming laptop from alienware a new screen size from them they used to make 13-inch gaming laptops i always thought were really cool they don't make those anymore now they got a 14 inch which is kind of the same thing its main selling point is that it's 14.5 inches thick which is you know pretty thin it's a little bit heavy about four pounds and you can fit up to an nvidia rtx 3060 inside i'm also going to give an honorable mention nod to the azus zenbook 17 fold we've seen laptops and tablets with folding displays before a couple years ago they were all the rage everybody had a prototype nothing really came of most of those this is an ambitious new version of that where it's a 17 inch display but it's that flexible type of screen kind of like a galaxy fold phone has so you can fold it over you can either leave it set up as a big 17-inch screen and put a wireless keyboard in front of it kind of like a little all-in-one system or you can fold it over and have an on-screen keyboard on the lower half and a screen on the upper half it's about a 12 and a half inch size laptop if you do it that way is it going to be practical who knows i think we haven't worked out all the kinks of folding screens but the ones i've seen i've liked and i like the idea of having a really big one i'm also going to give a nod to two other lenovo systems the yoga 9i which is really the flagship of the yoga line it's got a redesigned hinge with a 360 degree sound bar in it it's got some new function keys along the side so you don't have to do the function and hold down a function uh the fn button and hold down a function key to do something uh and also the 7i the yoga 7i which frankly is not as fancy but we think is spec for spec the best bang for your buck in this product line right now and i'm also going to give an honorable mention nod to the acer swift x's a new 16 inch size the swiftx has always been you know a very thin very attractive laptop line i'd like that this is one of the first laptops we're seeing maybe even the first with intel's new arc graphics which is intel's latest not quite a discrete gpu but not integrated graphics something that's supposed to be a step up i have not had a chance to test any arc systems in person yet i'm really looking forward to it and having that in a nice 16 inch screen could make this a good laptop that's you know an everyday multimedia and work laptop but can also do some gaming we're gonna have to wait and see but i am excited to check it out so these were some of the most impressive laptops we saw some based on in-person impressions some based on reading the specs and looking at videos of them that we saw at ces 2022 i think that we're going to continue to see laptops evolve as we go through this year and we figure out are we all going back to the office are we all going to work from home all the time are we going to do kind of half and half and how do we come up with devices and machines that are going to accommodate those needs and evolve along with us all right that's it for the best laptops of ces 2022\"},\n",
       " {'video_id': 'YeXYCSl1F9g',\n",
       "  'title': 'The Best Laptops of 2022 - For Gaming, Creators &amp; Students',\n",
       "  'video_link': 'https://www.youtube.com/watch?v=YeXYCSl1F9g',\n",
       "  'channel_name': 'Hardware Canucks',\n",
       "  'cc_text': \" good people it's that time of the year again with 2022 coming to an end we want to put together a video sharing some of the best laptops we've tested to date now we've gone through roughly 22 laptops this year and out of them uh we picked some of the best options that were launched this year we're also going to be giving out some busts of the year and some honorable mentions as well we're also going to be having two creators who are going to be chiming in with their picks so let's get started now 2022 was an interesting year for laptops Intel dropped their 12th gen Audi Lake CPUs which brought their performance to a whole new level meanwhile Nvidia launched their Flagship RTX 30dti and 3070 TI into gaming laptops AMD had Zen 3 plus along with their Radeon RX 6000s gpus so new stuff from everyone Intel sort of added their Arc gpus for laptops but uh man after all those promises we only saw a few lower end Arc 370ms here and there if you're wondering where Arc 5 and Arc 7 Series are radio silence on that 16 inch laptops and 16x10 screens have also become a lot more widespread and that's allowed larger panels to fit into Footprints of smaller laptops but overall build quality has become a lot better and technology has evolved but on the negative even with larger capacities and more efficient components battery life honestly hasn't improved since Windows 11 have had all sorts of problems on that side so that's a quick recap of 2022 and with that in mind here are my picks for the Year by the way all the links to these will be in the description down below along with their respect to performance reviews and I also want to mention that I've focused just on the laptops that we reviewed here on the channel I know that there are lots of others that we haven't touched and I'm sure those are great devices so please take that into consideration first up is the Acer Swift X now this offers a healthy balance of power efficiency and performance with Intel Core i7 1260p and an RTX 3050 TI GPU it's not meant to be a gaming laptop but rather something that that you could use with applications that need a bit of boost with GPU acceleration the 1260p is also a bit better with battery life this laptop offers a stylish and minimalistic design with good build quality it's got a fantastic 16 by 10 aspect ratio display with over 80 P3 coverage the keyboard and trackpad are solid you get a lot of ports including full-size HDMI in a 14-inch form factor perhaps what surprised me the most with this laptop is this webcam quality it just surpasses some of the most expensive gaming slash Creator based laptops that I've looked at the Swift tax in my opinion is just that perfect hybrid which I think is an excellent option for students my next pick is Apple's MacBook Air M2 this is the thinnest laptop that offers the best performance while being passively cooled that's right no fans which means it's completely silent now out of curiosity I wanted to find out how well it competes with Intel's on the lake and AMD ryzen CPUs and I was absolutely Blown Away by the efficiency it offers you can check out my full comparison video right over here but in a nutshell the battery life is fantastic I took this thing to me to Europe for a couple of weeks and it lasted on a single charge for about seven days and that's me you know playing around with some photo editing and watching movies it was a great travel companion not to mention the optimizations with apple silicon and Creator focused apps have been great it exports videos faster I mean way faster in Premiere Pro and DaVinci Resolve compared to Intel and EMD in the then light space and you get all of this in a well-built aluminum chassis with a bright and beautiful display great keyboard and trackpad along with Thunderbolt 4 support speaking of support I do want to thank you guys for checking out this video sponsor this is the most desirable fan in the air Kingdom and she's looking for a mate to release all the static pressure through the tiny gaps in the body of a radiator look closely at their blades and you'll notice a superior tip clearance all for higher airflow it is hard to imagine imagine the better defense system when the corners are deployed but you can also modulate her power for different mates while keeping a discrete profile choose be quiet and soar above the competition where the new silent Wings 4 and Silent Wings Pro 4. alright so here are some of the busts of the year and I'm gonna kick this off with the Asus Zenbook s13 OLED now before you guys start throwing your keyboards or anything you find near you next to the screen or at the screen hear me out for a sec this isn't a terrible laptop in fact this is one of my favorite laptops of the year the ryzen 7 6800u offers best-in-class CPU performance good igp performance and great battery life it also features a beautiful OLED display the build quality keyboard and track band basically everything check marks exactly what you're looking for in an Ultrabook the problem is that you can't buy it it's been almost impossible to find since day one and that clearly points towards amd's lack to supply these ships to laptop manufacturers if you happen to score one that's awesome but I think it's more of a bust for AMD than Asus since it's the first laptop that comes to my mind when someone asks me hey what's the best in a light laptop that I should get for productivity but they can actually get their hands on it I really hope that changes next year next up we have the Corsair Voyager a1600 now on paper the specs look awesome but remember specs are only one side of the story the remaining part comes from the overall user experience and I didn't have the greatest time of the Voyager the ASCII macro bar at the top was a cool feature but it was unresponsive for me most of the time I also had issues with the built-in slipstream module where it refused to work with corsair's own Wireless peripherals that supported slipstream they also built a lot of hyper on the webcam for streamers but the quality was absolutely terrible we also experienced a bunch of system lock cops when certain apps switch to the discrete GPU and most importantly the performance was not as impressive considering the Steep price that Corsair was asking for albeit they currently have it on sale for a massive discount but it was pretty obvious that Corsair launched a product into the market that needed more testing and now let's switch things up a little bit and hear what Jared has to say if you've got less than a thousand dollars to spend then it's hard to get Master Seuss's tough a15 this year with ryzen 7 6800h processor and nvidia's RTX 3050 TI Graphics this one has been on sale for 700 the plastic build quality is decent and the fact that it's still got a mock switch to boost performance and games at this price point is impressive from my own testing amd's ryzen processors tend to offer better battery life compared to intol so this could be a great budget-friendly option that you could take to classes and then do some gaming on the side as well but some really great gaming laptops start becoming available if you've got a higher budget in the 1000 to 1500 range Aces Helios 300 is one of the best gaming laptops this year in this bracket during Black Friday it went as low as one thousand dollars with Intel's core i7 12700h CPU and nvidia's RTX 3060 Graphics which is seriously crazy value just make sure you're looking at the newer 2022 model because Acer completely redesigned the chassis this year and fixed every single problem that I had with last year's model that prevented me from recommending it now if it's not on sale it is fifteen hundred dollars at its full price which is a bit too high for an RTX 3060 laptop but if it's not on sale then no problem because you can get something that will perform even better for less money like lenovo's Legion 5 Pro with nvidia's RTX 3070 TI graphics for fourteen hundred dollars on sale and that also comes with Advanced Optimus I think that both the Helios and Legion are great gaming laptops they offer similar features so it just comes down to what's available in your region and what current sales are now if you're not limited by money personally I think lenovo's Legion 7i is the way to go as it's got nice extra features compared to others like pressure sensitive wasd Keys report icons that light up and of course loads of RGB lighting it's still quite portable despite supporting Intel's latest 16 core 24 thread HX processors the GPU with maxed out power limit makes gaming a breeze the 16-inch 16x10 screen with g-sync looks great and build quality just feels excellent and those are my top picks for gaming laptops this year Jared great Roundup my friend thank you so much for your input I agree with all of your picks actually the Helios 300 is a beast of a laptop for its price it's very much a performance first everything else later kind of laptop I do also want to add that the legion 5i Pro with a 370 TI is a fantastic option as well also Legion 5 is a great bang for the buck option since it carries that minimalistic design with a great screen and a robust keyboard but I think out of all the legion laptops that were announced this year my pick is the slim 7 because it offers the best overall user experience for starters it's only 0.67 inches or 16.9 millimeters then it's got a clean design with great build quality and a Big Bright Beautiful and fast 16x10 display and the performance with amd's ryzen 6900hx and Radeon RX 6800s it's really impressive for the price I mean for around fifteen hundred dollars at the time of making this video with a ryzen 7 CPU it's a bargain my last pick is the RG zephyrus M16 now this laptop offers a great balance of high performance and battery life in a 16 inch form factor now sure it doesn't top out all of our charts because of the way how Asus is managed or handled the M16s power management but everything else about it is pretty incredible like the fast and fluid 165hz color accurate display in a stealthy matte black design with a great keyboard and a smooth and responsive trackpad it's also got front-facing speakers that actually sound really good and you also get tons of ports seriously if I had the money this is what I would pick over something like the Razer Blade 15 with similar specs that cost almost thirteen hundred dollars more now I'm gonna let the one and only Matthew Monas to join in with his picks for the Year Matt take it away man huge thanks for Hardware connects for having me on I apologize for the voice I am sick I'm getting over it but if RGB sounded like anything it would be this voice right now my favorite pick for the overall laptop like like you're just looking for something for school or work is a MacBook Air I understand this is mostly a PC crowd but let's be honest here okay the MacBook Air is on another level battery life is fantastic it has a good display even with a notch fantastic webcam ports are lacking but you can use a dongle for that unfortunately but it has everything you'd want in a notebook and there's just nothing at its price point that could compete with it now if you're a Die Hard Windows user my personal favorite is the Dell XPS 13 plus I know not everyone is happy with it but it's just something different you know I think the design of it is beautiful I love the keyboard idea and I love the fact that we don't have to look at a touchpad but it's just there based on muscle memory now if you want the best gaming laptop it's not the most expensive one to me personally it's the legion 5 Pro you get that 16 inch 16x10 display it's color accurate so I can use them for both gaming and visual design and even though it's not the thinnest gaming laptop on the market it's consistent it's one of the gaming laptops where a lot of my audience members never complain about and that's a good thing like when I don't hear complaints all the time about a specific laptop I know they've done a really good job when it comes to quality control and the last pick is a 14-inch gaming laptop because I think this is a good laptop not only for gaming but also for someone who needs a dedicated GPU the Asus G14 right now is the best bang for your buck I've seen last year's model on sale for 8.99 and I've seen this year's model on sale for 11.99 that's cheaper than all the other 14-inch gaming notebooks that are currently on the market it offers the best performance per dollar that you can get on a 14 inch gaming notebook it's not perfect there are a few things I would love tweaked but for the price it absolutely cannot be beat thank you so much Hardware Canucks for having me on great Roundup Matt I do wanted to wrap up this video with a few honorable mentions starting with the XPS 15 from Dell this is still one of the best premium Windows laptops that you can buy and it comes with a great display and Superior build quality interestingly Dell was able to figure out the all the Lakes power efficiency issue by prioritizing the efficiency course within their bios so so battery life on our sample was really really impressive I also want to give a huge shout out to Apple's M1 Pro and M1 Max chips on their MacBook Pros it's still a great option for Creative professionals like myself and I honestly can't wait to see what they have in store next year I think it's gonna take the current playing field to a whole new level the RG zephyrus G14 is still a fantastic option for those looking for a compact 14-inch gaming laptop with a 16 by 10 display and it looks really cool too I actually use this laptop at the office as my secondary gaming device and it's just been great I also want to applaud Asus for their continuous support for the flow series notably the flow z13 that was launched this year because it defines the Pinnacle of modern engineering it's a gaming Windows tablet that's running on steroids that can even get better performance when you plug in that XG mobile dock with an RTX 3080. it's not for everyone out there but I think it's a pretty cool product from Rog well there you have it guys our picks for the best laptops of 2022 huge shout out to Matt Monas and Jared for chiming in with their thoughts you guys are seriously awesome uh if we have missed out on any laptops for this year let us know in the comments down below if you think if there's anything that deserves some recognition I am curious to hear what you guys have to say again thanks so much for watching and I'll talk to you guys in the next one oh and spend responsibly my friends\"},\n",
       " {'video_id': 'rGgDatUdedw',\n",
       "  'title': 'The Best Laptops of 2022 - The ULTIMATE Guide!',\n",
       "  'video_link': 'https://www.youtube.com/watch?v=rGgDatUdedw',\n",
       "  'channel_name': 'Just Josh',\n",
       "  'cc_text': 'An error occurred: \\nCould not retrieve a transcript for the video https://www.youtube.com/watch?v=rGgDatUdedw! This is most likely caused by:\\n\\nNo transcripts were found for any of the requested language codes: (\\'en\\',)\\n\\nFor this video (rGgDatUdedw) transcripts are available in the following languages:\\n\\n(MANUALLY CREATED)\\nNone\\n\\n(GENERATED)\\n - nl (\"Dutch (auto-generated)\")[TRANSLATABLE]\\n\\n(TRANSLATION LANGUAGES)\\n - af (\"Afrikaans\")\\n - ak (\"Akan\")\\n - sq (\"Albanian\")\\n - am (\"Amharic\")\\n - ar (\"Arabic\")\\n - hy (\"Armenian\")\\n - as (\"Assamese\")\\n - ay (\"Aymara\")\\n - az (\"Azerbaijani\")\\n - bn (\"Bangla\")\\n - eu (\"Basque\")\\n - be (\"Belarusian\")\\n - bho (\"Bhojpuri\")\\n - bs (\"Bosnian\")\\n - bg (\"Bulgarian\")\\n - my (\"Burmese\")\\n - ca (\"Catalan\")\\n - ceb (\"Cebuano\")\\n - zh-Hans (\"Chinese (Simplified)\")\\n - zh-Hant (\"Chinese (Traditional)\")\\n - co (\"Corsican\")\\n - hr (\"Croatian\")\\n - cs (\"Czech\")\\n - da (\"Danish\")\\n - dv (\"Divehi\")\\n - nl (\"Dutch\")\\n - en (\"English\")\\n - eo (\"Esperanto\")\\n - et (\"Estonian\")\\n - ee (\"Ewe\")\\n - fil (\"Filipino\")\\n - fi (\"Finnish\")\\n - fr (\"French\")\\n - gl (\"Galician\")\\n - lg (\"Ganda\")\\n - ka (\"Georgian\")\\n - de (\"German\")\\n - el (\"Greek\")\\n - gn (\"Guarani\")\\n - gu (\"Gujarati\")\\n - ht (\"Haitian Creole\")\\n - ha (\"Hausa\")\\n - haw (\"Hawaiian\")\\n - iw (\"Hebrew\")\\n - hi (\"Hindi\")\\n - hmn (\"Hmong\")\\n - hu (\"Hungarian\")\\n - is (\"Icelandic\")\\n - ig (\"Igbo\")\\n - id (\"Indonesian\")\\n - ga (\"Irish\")\\n - it (\"Italian\")\\n - ja (\"Japanese\")\\n - jv (\"Javanese\")\\n - kn (\"Kannada\")\\n - kk (\"Kazakh\")\\n - km (\"Khmer\")\\n - rw (\"Kinyarwanda\")\\n - ko (\"Korean\")\\n - kri (\"Krio\")\\n - ku (\"Kurdish\")\\n - ky (\"Kyrgyz\")\\n - lo (\"Lao\")\\n - la (\"Latin\")\\n - lv (\"Latvian\")\\n - ln (\"Lingala\")\\n - lt (\"Lithuanian\")\\n - lb (\"Luxembourgish\")\\n - mk (\"Macedonian\")\\n - mg (\"Malagasy\")\\n - ms (\"Malay\")\\n - ml (\"Malayalam\")\\n - mt (\"Maltese\")\\n - mi (\"Māori\")\\n - mr (\"Marathi\")\\n - mn (\"Mongolian\")\\n - ne (\"Nepali\")\\n - nso (\"Northern Sotho\")\\n - no (\"Norwegian\")\\n - ny (\"Nyanja\")\\n - or (\"Odia\")\\n - om (\"Oromo\")\\n - ps (\"Pashto\")\\n - fa (\"Persian\")\\n - pl (\"Polish\")\\n - pt (\"Portuguese\")\\n - pa (\"Punjabi\")\\n - qu (\"Quechua\")\\n - ro (\"Romanian\")\\n - ru (\"Russian\")\\n - sm (\"Samoan\")\\n - sa (\"Sanskrit\")\\n - gd (\"Scottish Gaelic\")\\n - sr (\"Serbian\")\\n - sn (\"Shona\")\\n - sd (\"Sindhi\")\\n - si (\"Sinhala\")\\n - sk (\"Slovak\")\\n - sl (\"Slovenian\")\\n - so (\"Somali\")\\n - st (\"Southern Sotho\")\\n - es (\"Spanish\")\\n - su (\"Sundanese\")\\n - sw (\"Swahili\")\\n - sv (\"Swedish\")\\n - tg (\"Tajik\")\\n - ta (\"Tamil\")\\n - tt (\"Tatar\")\\n - te (\"Telugu\")\\n - th (\"Thai\")\\n - ti (\"Tigrinya\")\\n - ts (\"Tsonga\")\\n - tr (\"Turkish\")\\n - tk (\"Turkmen\")\\n - uk (\"Ukrainian\")\\n - ur (\"Urdu\")\\n - ug (\"Uyghur\")\\n - uz (\"Uzbek\")\\n - vi (\"Vietnamese\")\\n - cy (\"Welsh\")\\n - fy (\"Western Frisian\")\\n - xh (\"Xhosa\")\\n - yi (\"Yiddish\")\\n - yo (\"Yoruba\")\\n - zu (\"Zulu\")\\n\\nIf you are sure that the described cause is not responsible for this error and that a transcript should be retrievable, please create an issue at https://github.com/jdepoix/youtube-transcript-api/issues. Please add which version of youtube_transcript_api you are using and provide the information needed to replicate the error. Also make sure that there are no open issues which already describe your problem!'},\n",
       " {'video_id': 'O1_aB6Y-dDE',\n",
       "  'title': 'Best Laptops of 2022 &amp; Buying Guide!',\n",
       "  'video_link': 'https://www.youtube.com/watch?v=O1_aB6Y-dDE',\n",
       "  'channel_name': 'Matthew Moniz',\n",
       "  'cc_text': \" I can't believe it's already December which means in a few weeks the year is absolutely over I also feel it's a good time to talk about the best laptops of 2022 because I don't think I'm going to review any more laptops this year now granted not every favorite laptop of yours is going to be in this video These are the picks that I feel are great options if you want to buy a laptop right now links to all of them will be in the description down below along with a lot of great deals from 2021 that I feel like most of you should be looking at instead to start off with the best laptop overall this is for the student the business professional the person who just wants a thin and light notebook and don't want to think about it and that hands down goes to the MacBook Air M2 this is a product that pretty much Nails everything from amazing battery life to good performance off the charger fantastic keyboard beautiful touchpad that's probably still the gold standard a great display even with the notch good webcam the only thing that kind of sucks about it is the lack of ports like you only get two type c ports but at least this year they added a power connector so you can keep both of them free now if you're a developer I still think this is the best option but if you want a Windows laptop my favorite personally is the Dell XPS 13 plus but I feel like it's a bit too much and if you want something that looks great still then you should really be looking at the regular Dell XPS 13 but the problem with Windows Lite notebooks like they're really hard to justify over a thousand dollars and I feel like once you go over that limit you should should really just buy a Macbook so try to stay under a thousand bucks and if you want something for a thousand bucks the HP Pavilion plus is a really good option it's a laptop that has a 2.5 k OLED display and usually you can find it for about 7.99 now don't get me wrong it's not as fancy and perfect as the MacBook Air but for the price it's really really great now the best gaming laptop of 2022 is the legion 5 Pro this was one of the winners from last year but here's the thing this is a laptop I get the least complaints about the audience never says too many bad things and I agree with them you know it's just been a solid product like don't get me wrong it's not the prettiest gaming laptop on the market but it still looks good enough it's not the lightest gaming laptop on the market but it's still light enough but it just checks all the boxes everything from having tons of IO from good thermal management from good consistent performance a great 16 by 10 QHD display that's great for gaming but also for Content creation it's just a solid solid product and the thing is it's not the most expensive 16 inch notebook you can buy there's ones that cost way more but I feel like for the price that's where exactly you should be now if you want something a bit lighter and thinner I would probably go for the Asus g15 not the M16 this year I found the M60 to have too many QC issues it runs a bit too hot because the Intel processor but for a gaming laptop the g15 may not be as powerful as the legion 5 Pro but it's also consistent and because it's using that AMD processor you just get good efficiency in terms of battery life now if you're on a tight budget then I really recommend the Acer Nitro 5. this is a solid product it's not the best looking laptop but even though it's using mostly plastic it still feels very good in the hand it does a lot of things right you know it gives you a good consistent experience in terms of performance it's a lot better than the 2021 model that I feel very comfortable recommending it it's well made it has good fhd and QHD options I know there's a display that's not that great so kind of stay away from that one but there's other display options you can choose from and the thing is you could usually find it for about 650 to 799 dollars so this is an entry level gaming notebook that gets you gaming foreign laptop or even a desktop replacement the best one I've used this year is the Razer Blade 17. now granted it's not the fastest 17-inch Notebook on the market but the reason I like it is that most other 17-inch notebooks tend to go too thick and too heavy the blade 17 kind of tries to balance everything out it's still one of the best looking 17-inch notebooks you can buy it's one of the lighter 17 inch notebooks you can buy the performance is very consistent the keyboard is good the touchpad is great there's a lot of ports not a lot of other 17-inch notebooks but I think for like an all-around experience it does the job now granted if you want something that's a true desktop replacement and you want the most powerful laptop period the one that I tested this year is the MSI Titan gt77 this is a big boy it's a thick boy but by God this thing is absolutely powerful as long as you don't mind carrying a big and heavy laptop with you now again if you're looking for a budget 17 inch gaming lap top I would still aim towards the Acer Nitro 5 the 17-inch version is on sale right now for 6.50 [Music] it's 14 inch gaming laptop is complicated because there's only four of them to choose from but they're also close in a lot of ways if you want the best gaming laptop that's 14 inches it's the blade 14. there's no competition but the problem is that it's priced really really high and if you want to save yourself some money but still get really good performance then the Asus G14 comes in this is a laptop that undercuts all of these laptops even the Acer Triton 300SE but the problem with the G14 is that it gets really really hot and I've heard a lot of complaints regarding QC issues now the Alienware x14 I think is a great laptop but the problem is you're paying way too much for the performance that you're getting and the Acer Triton 300SE is priced over the G14 with a weaker GPU so in the end bang for your buck go for the G14 if money is No Object go for the blade 14. now we're going to bring it back and talk about two and ones or convertibles and last year I think I gave it to the Surface Pro 8 but this year I'm giving it to the HP Specter x360. I absolutely love this laptop it just has a unique design it's classy hp's really improved on how the keyboard feels it just feels fantastic to type on the hinge is solid you can buy it with a 3.5 K OLED display you can get a pen with it there's just enough ports that you can connect all your devices to the battery life is good and it just gives you an entire complete package now granted it's not the cheapest two in one or convertible on the market and if you want something that's a little bit more affordable I look at the yoga 9i but the true champion is the deals you can get in 2021 the Surface Pro 8 along with a lot of other yoga devices are on sale right now which might be the better pick if you want to save some cash the best laptop for creators is very interesting because it's not a laptop from 2022. it's a laptop from 2021 the MacBook Pro 16 or 14 is hands down the best laptop today that you can buy for a video or photo Creator I've used this on extensive trips and there's just nothing like it the fact that I can get the same performance on battery that I can when I'm plugged in is truly incredible the battery life on the MacBook Pro 16 is so good that I've never had something similar on another 16 inch notebook the speakers are unmatched the ports are back so you have lots of stuff to plug into the screen is beautiful because it's using mini LED and it's 124 Hertz in fact I haven't tested another laptop this year except for the flow x16 that had a mini LED with it now granted not everyone is a video creator some of you like to do virtual effects or 3D work and if that's it you're probably looking at a gaming laptop just because you want that beefy Nvidia GPU but if you fall somewhere in the middle and you want a Windows laptop then I would take a look at the Lenovo ThinkPad X1 extreme it's a solid pick you know yes the fans will get loud it doesn't have the same speaker set up as the MacBook Pro but this year it's been very very consistent especially compared to last year's model and the best business laptop goes to the Lenovo ThinkPad z13 this was a very unique product because it was a premium high-end AMD business notebook and I think Lenovo did a fantastic job with it not only does the design look good it also has an option to purchase it with a vegan leather cover but what really made it stand out was the entire experience that 6000u that's inside of there performed very well and it gave you insane battery life plus it was one of lenovo's laptops that used a haptic touch mouse pad and if you've ever used one on a MacBook it felt very close to that it was just an enjoyable experience overall I also want to give an honorable mention to the LG gram 17. if you're just looking for a big display in a light package I still think that's one of the better options out there but yeah that wraps up my top picks of 2022 links to all of them will be in the description down below but really what you should be doing is taking a look at the deals from 2021 because there's a lot of good deals on 2021 tops that give you such great performance especially for the price that they're asking right now so those links will be in the description as well make sure you like the video if you liked it subscribe if you haven't already and I'll see you guys in the next one\"},\n",
       " {'video_id': '-Eo9b6y27Lo',\n",
       "  'title': 'TOP 5: Best Student Laptops 2022',\n",
       "  'video_link': 'https://www.youtube.com/watch?v=-Eo9b6y27Lo',\n",
       "  'channel_name': 'Top Tech Now',\n",
       "  'cc_text': \" with so many laptops available for students to choose from it can be very difficult to narrow down which one is right for you in this video we break down the top five laptops for students on the market this year based on price versus performance and situations they'll be used in so whether you're looking for a great portable laptop to take the class or the best all-around laptop for students will have the perfect laptop for you so if you're interested in finding out which laptop will be best for you stay tuned all the links to find the best prices on all the products mentioned in this video will be in the description below the products mentioned in this video are in no exact order so be sure to stay tuned till the end so you don't miss anything first up the hp envy x360 13 our pick for best two in one laptop for students the hp envy x360 has some great features and specs and a student-friendly mid-range price point that makes it one of the best two-in-ones you can get right now the nvx 360 features a compact lightweight two-in-one build that can easily go from a conventional laptop configuration to tent or tablet mode so we can adapt to whatever you're doing be it research writing a paper or taking notes in class the 13-inch 1080p touchscreen is on par with what you'd expect at this price point and thanks to ips technology colors are decent covering 72 percent of the ntsc color gamut the viewing angles of the panel itself are excellent while maximum brightness levels are good for most lighting conditions the full hd resolution may be a limiting factor in terms of outright detail and font sharpness but on the whole it's still a pleasing display and a higher resolution panel would have an impact in terms of both price and battery life the keyboard has nicely spaced well-sized keys that are backlit and offer a comfortable typing experience you could choose your hardware components go with an intel i5 processor backed with integrated iris xe graphics or an amd ryzen 5 processor with integrated amd radeon graphics 8 gigabytes of ram comes installed and for file storage the x360 offers a 256 gigabyte ssd to connect up your peripherals you get plenty of options including a usb c port two usb a ports and more you'll have no problem getting through general productivity tasks but because of the modest processors and integrated graphics the x360 can only manage the lightest of 3d games or processor heavy applications battery life is very good though giving you up to 12 hours of use so you'll easily get through an entire workday if your field of study doesn't require you to use a lot of resource heavy apps and you want the most for your money the hp envy x360 definitely delivers it has a good spec offers two in one functionality good battery life and the option of intel or amd processors next up the dell xps 13 our pick for best overall laptop for students the dell xps 13 can easily handle productivity multimedia and even a bit of gaming and its battery will get you through your entire day the 13.3 inch fhd display is bright with 97 coverage of the srgb color gamut which is comparable to the hp envy x360 72 ntsc rating this makes it a good choice for creative work like photo editing or video editing the keyboard has bigger more responsive keys with good travel setting the stage for better typing speed and accuracy the touchpad may not be on par with something like the macbook air coming up later in the video but for the most part tracking is incredibly smooth and accurate and the buttons don't feel as mushy and weak as they do with some other windows laptops you can configure the xps 13 with an intel i5 or i7 processor and graphics are handled by integrated intel iris xe graphics for internal memory you can add up to 16 gigabytes of ram and for app and file storage the ssd capacity ranges from 256 gigabytes to 512 gigabytes there's a good selection of ports including two thunderbolt 4 ports a 3.5 millimeter headphone mic jack and a micro sd card slot and to keep you going all day long the xps 13 has a battery rated for up to 12 hours on a full charge so you'll have enough power to get you through the day and then some if you're a student looking for a laptop that's incredibly thin and light to make hauling it around campus less of a chore the dell xps 13 is a great choice for you it doesn't stop there though you'll get a bright color accurate display and enough computing power and battery life to help you get everything done next up the lenovo flex 5. the amd-based lenovo flex 5 offers an extraordinary blend of performance and value for money making it one of the most popularly priced two-in-one convertibles on the market it's also one of the only items on our list that includes a digital pen the 14 inch 1080p ips touchscreen supports input from the included lenovo digital pen that lets you write just like you're using pen and paper giving you a natural feeling way to interact with the flex 5 and it's a great way to take notes during lectures the display is set on a 360 degree hinge that lets you configure the flex 5 to suit your needs best use it in standard laptop mode for everyday computing tent mode for sharing things with others stand mode for watching movies or tablet mode for more portable interaction with the digital pen the keyboard may not offer a lot of travel and feedback but it also doesn't bottom out and with a little getting used to you'll be typing away with no problem there is also a touchpad that operates smoothly and accurately and is responsive to windows 10 gestures internally the flex 5 uses an amd ryzen 5 processor with integrated radeon graphics and is backed up by 16 gigabytes of ram and for internal storage there's a 256 gigabyte ssd when using the flex 5 for low impact purposes like web browsing watching video or using productivity apps you can expect to get up to 10 hours of use from a fully charged battery if you ramp up the usage to more cpu intense apps like casual gaming you'll get about 6 hours which is still quite good a good selection of connectivity options are also available including two usb a ports a usb c port and more if you're a student looking for a highly portable two in one laptop with pretty good performance and the additional benefit of a digital pen the lenovo flex 5 is a good choice for you if you're interested in updated pricing on any of the items mentioned in this video be sure to check out the links below prices update on these products almost daily with sales and general price drops so if you want to find the most updated information check the description if you find this video helpful please help out the channel by giving this video a like and tell us which product caught your eye in the comments below next up the macbook air our pick for best macbook for students the macbook air is perfect for students and its m1 chip has the ability to run both legacy apps new m1 optimized apps and ios apps and the magic keyboard is quiet so it's perfect for in-class use the macbook air has a 13.3 inch retina display with a wide p3 color gamut that displays 25 more color than srgb and its 400 nits of brightness deliver vivid imagery and excellent detail in any lighting condition the magic keyboard feels great to type on and offers pre-programmed shortcuts to make useful features more accessible and the keys are backlit so you'll be able to navigate easily in lower light conditions when you're pulling an all-nighter the biggest changes however are on the inside apple has swapped out intel based processors for their own m1 chip this chip is incredibly fast and is specifically optimized for apple hardware and software and runs an apple eight core gpu eight gigabytes of ram and a speedy 256 gigabyte ssd there are also improvements in the area of software as well apple software like safari final cut the photos app messages and most of the apps you would use as a student are perfectly optimized for the m1 ship so load times are faster and you get better overall performance for connectivity the macbook air provides two thunderbolt ports and a headphone jack the improvements that come with the addition of the m1 chip even extend down as far as battery performance giving the battery a healthy boost in efficiency with up to 15 hours of use on a full charge if you're a student that's looking for a great laptop the apple macbook air is an excellent choice for you everything about this laptop conveys quality and is equally matched in performance finally the acer aspire 5. the acer aspire 5 is a laptop that has everything a budget-minded student is looking for its versatility shines whether it's being used for media playback or for everyday productivity tasks and even has great battery life the aspire 5 has a pretty nice aesthetic and features an aluminum top cover and measures just 18 millimeters thick so it's perfect for lugging around from class to class but at the same time its portability doesn't create any sacrifice to its durability so it will be able to stand up to the daily grind the bezels are really narrow and the hinge opens up to 180 degrees the keyboard is backlit and the keys are flat and low without being too soft so they give you good travel and a satisfying click when actuated making this keyboard perfect for touch typers the 15.6 inch full hd display is decent but it doesn't have a lot of contrast so it can sometimes appear a little washed out however it does a good job for the price point and acer has included its color intelligence technology which it claims dynamically adjusts gamma and saturation in real time to make the screen look the best it can internal hardware includes an intel i3 processor and graphics are managed by intel uhd integrated graphics for internal memory you get 4 gigabytes of ram and for storage there's a 128 gigabyte ssd connectivity options include a usb port two usb 3.2 ports an hdmi 2.0 port a headphone jack and more and battery life is very good giving you up to 11 hours per charge when it comes to major purchases students have to make every dollar count and the acer aspire 5 is a great choice and a great laptop for the money you'll get decent performance and battery life that will last you all day in a light compact package alright guys that's all for now if you enjoyed this video please go ahead and leave a like if you're new to the channel and you like the video consider subscribing we do our best to keep you up to date with the best products on the market right now so if you want to stay current regarding the best gear make sure to hit that subscribe button be sure to check out the description for links to find the most up-to-date pricing on all the products mentioned in this video hope you all have a great day and we'll see you back here soon\"},\n",
       " {'video_id': '0kHYG8WKDIQ',\n",
       "  'title': 'Top 5 Best Laptop for Programming , Office Work and Students',\n",
       "  'video_link': 'https://www.youtube.com/watch?v=0kHYG8WKDIQ',\n",
       "  'channel_name': 'A.R Network',\n",
       "  'cc_text': 'An error occurred: \\nCould not retrieve a transcript for the video https://www.youtube.com/watch?v=0kHYG8WKDIQ! This is most likely caused by:\\n\\nNo transcripts were found for any of the requested language codes: (\\'en\\',)\\n\\nFor this video (0kHYG8WKDIQ) transcripts are available in the following languages:\\n\\n(MANUALLY CREATED)\\nNone\\n\\n(GENERATED)\\n - hi (\"Hindi (auto-generated)\")[TRANSLATABLE]\\n\\n(TRANSLATION LANGUAGES)\\n - af (\"Afrikaans\")\\n - ak (\"Akan\")\\n - sq (\"Albanian\")\\n - am (\"Amharic\")\\n - ar (\"Arabic\")\\n - hy (\"Armenian\")\\n - as (\"Assamese\")\\n - ay (\"Aymara\")\\n - az (\"Azerbaijani\")\\n - bn (\"Bangla\")\\n - eu (\"Basque\")\\n - be (\"Belarusian\")\\n - bho (\"Bhojpuri\")\\n - bs (\"Bosnian\")\\n - bg (\"Bulgarian\")\\n - my (\"Burmese\")\\n - ca (\"Catalan\")\\n - ceb (\"Cebuano\")\\n - zh-Hans (\"Chinese (Simplified)\")\\n - zh-Hant (\"Chinese (Traditional)\")\\n - co (\"Corsican\")\\n - hr (\"Croatian\")\\n - cs (\"Czech\")\\n - da (\"Danish\")\\n - dv (\"Divehi\")\\n - nl (\"Dutch\")\\n - en (\"English\")\\n - eo (\"Esperanto\")\\n - et (\"Estonian\")\\n - ee (\"Ewe\")\\n - fil (\"Filipino\")\\n - fi (\"Finnish\")\\n - fr (\"French\")\\n - gl (\"Galician\")\\n - lg (\"Ganda\")\\n - ka (\"Georgian\")\\n - de (\"German\")\\n - el (\"Greek\")\\n - gn (\"Guarani\")\\n - gu (\"Gujarati\")\\n - ht (\"Haitian Creole\")\\n - ha (\"Hausa\")\\n - haw (\"Hawaiian\")\\n - iw (\"Hebrew\")\\n - hi (\"Hindi\")\\n - hmn (\"Hmong\")\\n - hu (\"Hungarian\")\\n - is (\"Icelandic\")\\n - ig (\"Igbo\")\\n - id (\"Indonesian\")\\n - ga (\"Irish\")\\n - it (\"Italian\")\\n - ja (\"Japanese\")\\n - jv (\"Javanese\")\\n - kn (\"Kannada\")\\n - kk (\"Kazakh\")\\n - km (\"Khmer\")\\n - rw (\"Kinyarwanda\")\\n - ko (\"Korean\")\\n - kri (\"Krio\")\\n - ku (\"Kurdish\")\\n - ky (\"Kyrgyz\")\\n - lo (\"Lao\")\\n - la (\"Latin\")\\n - lv (\"Latvian\")\\n - ln (\"Lingala\")\\n - lt (\"Lithuanian\")\\n - lb (\"Luxembourgish\")\\n - mk (\"Macedonian\")\\n - mg (\"Malagasy\")\\n - ms (\"Malay\")\\n - ml (\"Malayalam\")\\n - mt (\"Maltese\")\\n - mi (\"Māori\")\\n - mr (\"Marathi\")\\n - mn (\"Mongolian\")\\n - ne (\"Nepali\")\\n - nso (\"Northern Sotho\")\\n - no (\"Norwegian\")\\n - ny (\"Nyanja\")\\n - or (\"Odia\")\\n - om (\"Oromo\")\\n - ps (\"Pashto\")\\n - fa (\"Persian\")\\n - pl (\"Polish\")\\n - pt (\"Portuguese\")\\n - pa (\"Punjabi\")\\n - qu (\"Quechua\")\\n - ro (\"Romanian\")\\n - ru (\"Russian\")\\n - sm (\"Samoan\")\\n - sa (\"Sanskrit\")\\n - gd (\"Scottish Gaelic\")\\n - sr (\"Serbian\")\\n - sn (\"Shona\")\\n - sd (\"Sindhi\")\\n - si (\"Sinhala\")\\n - sk (\"Slovak\")\\n - sl (\"Slovenian\")\\n - so (\"Somali\")\\n - st (\"Southern Sotho\")\\n - es (\"Spanish\")\\n - su (\"Sundanese\")\\n - sw (\"Swahili\")\\n - sv (\"Swedish\")\\n - tg (\"Tajik\")\\n - ta (\"Tamil\")\\n - tt (\"Tatar\")\\n - te (\"Telugu\")\\n - th (\"Thai\")\\n - ti (\"Tigrinya\")\\n - ts (\"Tsonga\")\\n - tr (\"Turkish\")\\n - tk (\"Turkmen\")\\n - uk (\"Ukrainian\")\\n - ur (\"Urdu\")\\n - ug (\"Uyghur\")\\n - uz (\"Uzbek\")\\n - vi (\"Vietnamese\")\\n - cy (\"Welsh\")\\n - fy (\"Western Frisian\")\\n - xh (\"Xhosa\")\\n - yi (\"Yiddish\")\\n - yo (\"Yoruba\")\\n - zu (\"Zulu\")\\n\\nIf you are sure that the described cause is not responsible for this error and that a transcript should be retrievable, please create an issue at https://github.com/jdepoix/youtube-transcript-api/issues. Please add which version of youtube_transcript_api you are using and provide the information needed to replicate the error. Also make sure that there are no open issues which already describe your problem!'},\n",
       " {'video_id': 'kpB4TN1cq4U',\n",
       "  'title': 'My Top 10 Laptops of 2022 - Not What I Expected!',\n",
       "  'video_link': 'https://www.youtube.com/watch?v=kpB4TN1cq4U',\n",
       "  'channel_name': 'The Tech Chap',\n",
       "  'cc_text': \" oh bloody hell well the laptop's right there hey guys i'm tom with techchap and we're only a few weeks into 2022 but already we've seen some incredible new laptops with out of this world designs all new hardware of course including 12th gen intel processors and ryzen 6000 series chips from amd super top ti versions of nvidia's gpus faster ddr5 ram pcie for storage as well as more oled screens high refresh rates there's a bunch of upgrades although bear in mind since i've had early access to some of these pre-release laptops i haven't been able to properly test and benchmark them so make sure you have subscribed and stay tuned for my full reviews coming soon and if you think i've missed out on any great laptops then let me know in the comments below okay let's start with the new dell xps 13 plus this is an all-new slightly more powerful version of what is probably the best thin and light windows laptop you can buy now with beefier 12th gen intel chips still no dedicated gpu or intel arc graphics but if you're photo or video editing on this gorgeous 13 inch 16 by 10 screen then the extra processor horsepower is certainly welcome we're also getting a very futuristic design refresh with this proper edge to edge keyboard with no spacing in between the keys and also bigger keycaps there's also a new virtual function rope at the top of the keyboard and as you can see there's no obvious touch pad the center of this palm rest is a haptic touch pad kind of like what we get on the macbook pro but you can't really tell where it starts and finishes so i am reserving judgment for when i can spend more time with this as to whether these upgrades are actually functionally as good as they look and you'll also note that there is no headphone jack on this so it kind of feels like those concept cars that we see with unrealistically big tires and designs that you'd never actually see on the road because it's probably legal and then eventually you see the sort of paired down version come to market but with the xps 13 plus it feels like we are getting that concept so uh i'm very intrigued by this i can't wait to test it properly next up let me introduce you to the rog zephyrus flow z13 you may have already seen this in my hands-on video a couple of weeks ago but it's kind of like a gaming surface pro 8. it's a chunky 13-inch tablet with a detachable keyboard and on the inside as we get a little window into it on the back we can get up to the highest end 12th gen i9 intel chips that's the beefiest h45 series along with an rtx 3050 ti and that's with either a 4k60 or 1080p 120 touchscreen so this really is the world's most powerful gaming tablet but the real magic happens when you pair it with the xg mobile dock which comes with either a 3070 or 3080 although an updated 2022 dock is on its way with amd's new gpus of course none of this comes cheap but its cyberpunk design 1.1 kilogram weight and impressive specs this is a proper portable powerhouse all right now sticking with asus for a moment let's talk about this guy it's the new origi zephyrus g14 now these are super popular gaming laptops because well we got a 14 inch screen and a thin and light form factor which you can throw in your backpack well place carefully into your backpack and so this year we've had some tasty upgrades in the form of a new 16 by 10 screen which i'm happy to see thinner bezels as well also this year the g14 is going full team red with amd's ryzen 9 6900 hs processor paired with the rx 6800 s graphics card at the top end we also get this nifty 180 degree hinge which is handy if you're using on a laptop stand or on your knees in bed maybe and also the g14 comes with either a full hd 144 or quad hd 120 hertz screen there's other nice upgrades like dolby vision support wi-fi 6e ddr5 ram a micro sd port a webcam thank goodness and this year we're also getting a mux switch which lets you switch between the dedicated and integrated graphics oh and also the optional anime matrix lighting on the back now has 20 more leds and which are even brighter as well price is tbc but this or its bigger brother the g15 are definitely ones to look out for okay so from asus to acer i've managed to get my grubby little paws on the new swift x 14 and 16 laptops but for me i think it's the 16 inch that really stands out as this is one of the first laptops that i've seen to come with intel's new arc graphics we haven't really seen much of this yet and we haven't had any performance benchmarks but the word is it could compete with the like7 rtx 3050s and considering this is expected to cost 1100 pounds depending on the performance and also the battery life this could be one to watch however whichever laptop or phone or tablet or pc you use i would highly recommend using surfsharkvpn who are very kindly sponsoring this video and actually they've been a long time supporter of the channel my face is even on their website as is mr who's the boss there and it's always one of the first apps i install as surf shark's clean web tool can help prevent ads tracking and dodgy malware which is particularly useful if you're out and about and using public wi-fi and of course being a vpn you can hide or change your location access different netflix or streaming services and also just one surf shock account lets you use it on an unlimited number of devices so if you fancy giving surf shark vpn a try then click the link in the description below or use the code tech chat at the checkout to get 83 off and three months extra for free there is also a money back guarantee if you're not super duper satisfied but you will be i promise so why not give surf shark vpn a try okay back to laptops and what about the good people over at apple well i can tell you that since was it november this came out the new pro 14 or 16 i've been obsessed by this i use the 16-inch pro for everything and outside of gaming i've barely touched my desktop pc the performance the mini led screen the battery the design for my money these new pros are the best laptops you can buy however they are very expensive and i maintain that the macbook air is actually the best option for 99 of people which is why i'm excited for a refreshed macbook air 2022 which could be unveiled in april nothing confirmed yet but i would expect to see a refresh maybe with a new m2 chip which well probably won't be as likely as likely as powerful sorry as the m1 max or pro you get in one of these in terms of uh the processor and the thermals and the raw horsepower it could be a lot more efficient which will also of course come with performance gains over the current macbook air which i still do highly recommend but an m2 maybe paired with a mini led screen thinner bezels and just a bit of a refresh design considering we are seeing new asus viva books and zenbooks and dell xps's with gorgeous oled screens 4k resolutions the latest processors i am very excited to see how apple can compete and what it can do with the macbook air so fingers crossed speaking of zenbooks though and while this is the third asus laptop i'm featuring in this video i mean these guys just make a lot of very good laptops this zenbook 14x oled space edition is figuratively out of this world so it actually shares many of the same specs as the standard zenbook x14 oled but with a really unique and actually more durable design inspired by space and also the old russian mir space station which actually had an asus laptop onboard for a while although hopefully this doesn't end up crashing and burning into our atmosphere there's also this really cool three and a half inch feature vision monochrome oled screen on the back which you can customize or just use to look at the time and battery life we also get a 92 screen to body ratio up from 90 on the standard zen books so we're looking at slightly thinner bezels around this gorgeous 14 inch 16 by 10 90 hertz oled screen the specs are pretty beefy as well with up to an i9 12th gen intel chip that's the top end 45w h series by the way and all in a chassis either weighs just 1.4 kilos so a genuinely very cool laptop and if you do want to watch my full unboxing and hands-on i'll leave a link in the little pop-up banner and also at the end of the video okay moving on and one laptop i haven't been able to get hands-on with just yet but i am excited for is the new lenovo thinkpad zed thinkpads have always been known as the go to business laptop functionally very good but aesthetically a bit dull well the new z13 and 16 could change all that it's been developed with amd's latest hardware and comes in both 13 and 16 inch sizes and a big feature of the design is the recycled aluminium chassis which can also be paired with this recycled vegan leather exterior i think it looks great and together with an oled screen wi-fi 6e and improved webcam and on the z16 even beefier performance with a dedicated graphics card there's a lot to like here but hold up if we're talking about the most innovative laptops coming off ces 22 this thinkpad plus gen 3 is a strong shell with its ultra wide 17-inch screen and separate 8-inch touchscreen built into the keyboard and this also comes with the latest processors and is expected to come out in may i haven't really thought about this for a while but we don't see ultra wide displays on laptops ever really i mean we had the acer prayer tub three or four years ago which was very cool but very very expensive but since then it's kind of just gone away which is a shame because i love an ultra wide and i wouldn't say no to maybe a 21 by 10 aspect ratio ultra wide display on a laptop what do you think which actually seems pretty reasonable next to this which probably is the winner for most innovative laptop this year so far the zenbook 17 fold oled which looks absolutely ridiculous there's no pricing for this folding tablet laptop thing just yet but certainly we are seeing a new generation of folding tech and while with this we are only getting a low-power u-series 12th gen processor and also no dedicated graphics i am very curious to see how well this could work so what do you reckon do you think you'll be upgrading your laptop this year and if so which models do you have your eye on let me know in the comments below and as i say make sure you have hit that subscribe button as i'll have loads of reviews and tons more videos coming soon and i'll see you next time right here on the tech chat and don't forget to check out surf shark vpn where if you use the code tech chap or click the link below you get 83 off and three months extra for free\"}]"
      ]
     },
     "execution_count": 118,
     "metadata": {},
     "output_type": "execute_result"
    }
   ],
   "source": [
    "search"
   ]
  },
  {
   "cell_type": "code",
   "execution_count": null,
   "metadata": {},
   "outputs": [],
   "source": []
  }
 ],
 "metadata": {
  "kernelspec": {
   "display_name": "TechKnow",
   "language": "python",
   "name": "python3"
  },
  "language_info": {
   "codemirror_mode": {
    "name": "ipython",
    "version": 3
   },
   "file_extension": ".py",
   "mimetype": "text/x-python",
   "name": "python",
   "nbconvert_exporter": "python",
   "pygments_lexer": "ipython3",
   "version": "3.10.14"
  }
 },
 "nbformat": 4,
 "nbformat_minor": 2
}

{
 "cells": [
  {
   "cell_type": "markdown",
   "metadata": {},
   "source": [
    "# Data Collection and Exploration\n",
    "\n",
    "Here we will load in the data from youtube, where collecting cc texts from relevant search queries is the main goal."
   ]
  },
  {
   "cell_type": "code",
   "execution_count": 1,
   "metadata": {},
   "outputs": [],
   "source": [
    "import os\n",
    "from dotenv import load_dotenv\n",
    "from youtube_transcript_api import YouTubeTranscriptApi\n",
    "from googleapiclient.discovery import build"
   ]
  },
  {
   "cell_type": "markdown",
   "metadata": {},
   "source": [
    "Change directories to get access to env file."
   ]
  },
  {
   "cell_type": "code",
   "execution_count": 2,
   "metadata": {},
   "outputs": [],
   "source": [
    "os.chdir(\"../\")"
   ]
  },
  {
   "cell_type": "code",
   "execution_count": 3,
   "metadata": {},
   "outputs": [
    {
     "data": {
      "text/plain": [
       "'c:\\\\Users\\\\RaviB\\\\GitHub\\\\TechKnowBot'"
      ]
     },
     "execution_count": 3,
     "metadata": {},
     "output_type": "execute_result"
    }
   ],
   "source": [
    "pwd"
   ]
  },
  {
   "cell_type": "markdown",
   "metadata": {},
   "source": [
    "Build YouTube connector."
   ]
  },
  {
   "cell_type": "code",
   "execution_count": 4,
   "metadata": {},
   "outputs": [],
   "source": [
    "load_dotenv()\n",
    "\n",
    "youtube_api_key = os.getenv('GCP_YOUTUBE_API_KEY')"
   ]
  },
  {
   "cell_type": "markdown",
   "metadata": {},
   "source": [
    "Take old code from SentiRec Analytics project: https://github.com/RavinderRai/SentiRec-Analytics/blob/main/modules/YouTubeReviewScraper.py."
   ]
  },
  {
   "cell_type": "code",
   "execution_count": 5,
   "metadata": {},
   "outputs": [],
   "source": [
    "class YouTubeReviewData:    \n",
    "    def __init__(self, api_key):\n",
    "        self.api_key = api_key\n",
    "        self.youtube = build('youtube', 'v3', developerKey=api_key)\n",
    "        \n",
    "    def search_videos(self, search_query, max_results=5, individual_review=False):\n",
    "        \"\"\"\n",
    "        Search for YouTube videos based on a given query and retrieve additional information including closed captions.\n",
    "\n",
    "        Parameters:\n",
    "        - search_query (str): The search query used to find relevant videos on YouTube.\n",
    "        - max_results (int): The maximum number of videos to retrieve. Defaults to 5.\n",
    "        - individual_review (bool): If the search query is for reviews of a specific product, then set this to True, \n",
    "        to ignore videos with VS in their titles as that indicates that the reviews isn't for just the individual product itself.\n",
    "\n",
    "        Returns:\n",
    "        List[dict]: A list of dictionaries, each containing information about a video, including:\n",
    "            - 'video_id' (str): The unique identifier for the video.\n",
    "            - 'title' (str): The title of the video.\n",
    "            - 'video_link' (str): The YouTube link to the video.\n",
    "            - 'channel_name' (str): The name of the channel that uploaded the video.\n",
    "            - 'cc_text' (str): The closed captions text for the video. This is the review text.\n",
    "\n",
    "        Note:\n",
    "        - Videos with titles containing specific strings ('VS', 'vs', 'Vs') are excluded, as they indicate videos that aren't reviews specific to the  \n",
    "        product in the search query.\n",
    "        - The 'cc_text' field may contain an empty string if closed captions are not available.\n",
    "        \"\"\"       \n",
    "        \n",
    "        search_response = self.youtube.search().list(\n",
    "            q=search_query,\n",
    "            type='video',\n",
    "            part='id, snippet',\n",
    "            maxResults=max_results\n",
    "        ).execute()        \n",
    "        \n",
    "        videos_info = []\n",
    "        for result in search_response.get('items', []):\n",
    "            video_id = result['id']['videoId']\n",
    "            title = result['snippet']['title']\n",
    "            video_link = f'https://www.youtube.com/watch?v={video_id}'\n",
    "            channel_name = result['snippet']['channelTitle']\n",
    "\n",
    "            # Check and remove unwanted titles\n",
    "            strings_to_check = [\"VS\", \"vs\", \"Vs\"] if individual_review else []\n",
    "            if not any(s in title for s in strings_to_check):\n",
    "                review_text = self.fetch_captions(video_id)\n",
    "                videos_info.append({\n",
    "                    'video_id': video_id,\n",
    "                    'title': title,\n",
    "                    'video_link': video_link,\n",
    "                    'channel_name': channel_name,\n",
    "                    'cc_text': review_text\n",
    "                })\n",
    "\n",
    "        return videos_info\n",
    "    \n",
    "    def fetch_captions(self, video_id):\n",
    "        \"\"\"\n",
    "        Get the closed captions. \n",
    "\n",
    "        Parameters:\n",
    "        - video_id (str): The video id which is obtained in search_videos.\n",
    "        \n",
    "        Returns:\n",
    "        String: Closed caption text of a youtube video\n",
    "        \"\"\"\n",
    "        try:\n",
    "            # Retrieve the transcript for the video\n",
    "            transcript = YouTubeTranscriptApi.get_transcript(video_id)\n",
    "\n",
    "            cc_text = \"\"\n",
    "\n",
    "            # Concatenate the transcript text\n",
    "            for entry in transcript:\n",
    "                cc_text += ' ' + entry['text']\n",
    "                \n",
    "            cc_text = cc_text.replace('\\n', ' ')\n",
    "            return cc_text\n",
    "\n",
    "        except Exception as e:\n",
    "            print(f\"An error occurred: {str(e)}\")"
   ]
  },
  {
   "cell_type": "code",
   "execution_count": 6,
   "metadata": {},
   "outputs": [],
   "source": [
    "youtube = YouTubeReviewData(youtube_api_key)"
   ]
  },
  {
   "cell_type": "code",
   "execution_count": 7,
   "metadata": {},
   "outputs": [],
   "source": [
    "query_ex = \"top ten laptops\"\n",
    "search_ex = youtube.search_videos(query_ex, 5)"
   ]
  },
  {
   "cell_type": "code",
   "execution_count": 8,
   "metadata": {},
   "outputs": [
    {
     "name": "stdout",
     "output_type": "stream",
     "text": [
      " this year we tested over 70 different laptops by far a record for this channel we tested small ones we tested big ones we tested cheap ones and we tested expensive ones a huge variety from all kinds of Manufacturers and when you use these laptops side by side just like we do it becomes so obvious which laptops are great and which are completely mediocre well today is the day that we countd down the top 10 laptops that we tested in 2023 if you are planning to buy one of these lap tops you'll obviously want to buy them at the best possible price so check the links below the video our team scours the internet to find the best deals and we update them daily plus if new laptops are released after this video that we end up liking even better we'll include them down there too number 10 the HB Pavilion plus 14 in for a price of around $729 you get a crazy amount for the money it will be configured with an OLED panel at that price which is bright vibrant color accurate has a fast refresh rate and high resolution you get our favorite processor for a Windows laptop and AMD N4 U series 1 which delivers fast performance yet zps power because of this The Pavilion plus has very solid battery life and in light use feels cool to the touch and has minimal fan noise the laptop also comes standard with 16 gig of memory something other manufacturers charging twice as much seem to struggle with but it isn't perfect its cons are the laptop looks dated its keyboard and track bed are mediocre its speakers aren't great and you will hear fan noise when doing anything intensive also its display employs pwm flickering at all brightness levels but I have sensitive eyes and the pwm on this display it didn't bother me at all we recommend this laptop for those looking for a good all round laptop on a tighter budget number nine the Asus mbook 14x this laptop is an absolute Beast for its price pra it has a large 14.5 in OLED display that is bright vivid has a fast refresh rate and is high resolution you've also got Intel's insanely powerful 13th gen H series processor inside and 16 gig of memory the laptop looks stylish and it feels premium but what makes this laptop so special is its price it retails for about $1,000 but it has been regularly going on sale for $300 off making it a terrific deal cons are that its battery life sucks and you will hear a little fan noise at times both of these are a trade-off given its high performance processor though this is a great laptop for someone like a software developer who wants CPU performance portability and to comfortably see a lot of cone on screen heck I bought this one for myself now we deliberately avoided having a laptop manufacturer sponsor today's video as we wanted to be completely unbiased however we do have a sponsor and that is ugreen ug green makes a range of Premium powerful charges ug Green's charges support the latest fast charging tech for example using a nexer 100 wat charger you can charge a MacBook Air with M2 to 55% in just 30 minutes and all you green laptop chargers come with multiple ports so you can charge all your devices at the same time buying a high high quality usbcc charger is a great accessory for your new laptop even more so for those buying high performance laptops as on days where you just don't need the laptop's full performance you can leave its heavy charging brick at home and instead bring one of these number eight the framework laptop with AMD if you haven't heard of framework they are a new laptop manufacturer that produces fully upgradeable laptops so no more stressing out about which configuration you should buy plus an upgradeable laptop is better for the environment and the koala's will thank you Pros it has a comfortable keyboard a good display and interchangeable ports in fact it's fully upgradable framework also has incredible community and Linux support with the new AMD variant which uses the excellent zen4 U series processor the laptop doesn't get that warm to the touch and battery life is longer than on the Intel model on that note check out our video link below as it will make it abundantly clear as to why you should buy the AMD model over the Intel variant cons are that its speakers are still bad its display is not fast refresh rate and it looks dated and feels less premium compared to other laptops in the price range and although fan noise is much better than on the Intel variant you'll still hear some on this AMD model we recommend this laptop for software developers and those that like to Tinker with tech number seven the Apple MacBook air15 with M2 in every facet the MacBook airs with M2 are all round highquality devices they feel premium they look great their displays are more than good enough for most use cases they have good speakers the best trackpad and a decent webcam plus they have Apple's insanely efficient M series processors inside this means they are plenty powerful for everyday use as well as doing some performance tasks like programming or creative workloads yet they have no fan noise as they have no fans they also rarely get warm to the touch in fact since the 15-in model is larger it has more area to dissipate heat and therefore almost never feels warm the main con of the airs is that they are crazy expensive given they only come with 8 Giga memory which can't be upgraded after you buy also the keyboard even though it feels high quality isn't the most comfortable as it's a little low travel these laptops really are the ultimate laptops for light use those browsing the web using office and studying the reason I've chosen the 15-in for this Roundup is that I feel it's more unique it's an all around great laptop with a really large screen that's still incredibly portable whereas the 13in most people could buy a Zenbook 14 and not really notice there just isn't really anything quite like the MacBook a15 with M2 number six the Asus strict scar 16 the scar 16 delivered by far the best overall gaming experience out of the 19 gaming laptops that we tested in our recent gaming video I've linked it down below it won our best gaming laptop award because of the following reasons it has Intel's most powerful HX series processor inside up to nvidia's highest end 4090 Graphics a stunning mini LED panel with all the bells and whistles fast refresh rate high resolution Advanced Optimus g-sync and excellent color accuracy it comes full fully loaded with 32 gig of memory and 1 tab of storage which by the way are upgradable but all this isn't white one our overall best gaming laptop it's because the scar doesn't suffer from the curse of the gaming laptop which is jet engine like fan noise and distractingly warm keyboard temperatures yes the scar does have some fan noise and does get warm but it's nowhere near as bad as other powerful laptops the main issues with the scar are that it's expensive it's chunky so your hands are raised a bit which some people might find a little uncomfortable when using it and you may hear coil wine but if you are gaming which is what this laptop is designed for you aren't going to hear it number five the Asus mbook 14 this laptop has a vivid extremely color accurate OLED display that's a delight to look at you get a comfortable keyboard very long battery life 16 gig of memory and 512 gigs of storage the laptop also looks like a stylish device and feels premium plus it doesn't have loud fan noise or get warn to the touch and the price is really good at around $800 before sales you're basically getting 90% of a MacBook Air for a much lower price with by the way a more comfortable keyboard its main con is that it uses an older ryzen Zen 3 processor rather than the latest Zen 4 so you do lose some performance over a laptop like the Pavilion plus that I mentioned earlier but if you're just looking for a highquality laptop for light use like browsing the web starting or office work which is what we recommend this laptop for this is more than fast enough and in this price range of8 $1 or under we think you'll appreciate the Creature Comforts of this laptop over others that may have more performance but also have more annoying issues number four the Lenovo slim Pro 9i also known as the yoga Pro 9i we're going to be naughty here and talk about both the 14-in and 16-in versions as these really tie for this spot these laptops completely caught us off guard with how good they are if there are windows equivalents of apples MacBook Pros these are the ones almost everything about these laptops is great they have a stunning mini LED panel that is bright color accurate fast refresh rate and don't employ PW on flickering they both have powerful Intel 13th gen H series CPUs inside and up to Nvidia RTX 4060 graphics and they don't get that warm to the touch their keyboards are Exquisite way more comfortable than a Macbook Pros and unlike a Mac they come fully loaded with 32 gig of memory and 1 tab of storage for a price of around $2,000 which is significantly less than a compar MacBook Pro the reason these two have ended up in a tie is the following the 14-in version has fantastic ports compared to the 16in it has one additional USBC port and its HDMI port and SD card reader are faster this is very handy but the 14-in does have noticeably more fan noise than the 16-in as this powerful Hardware is packed into a smaller chassis which is harder to cool that being said the 14in fan noise while audible at times it really isn't that distracting these are great laptops for someone who wants the Perfect Blend of power and portability in a premium laptop but doesn't want to pay the insane amount that Apple charges or they just don't want Mac OS programmers who like to do a little bit of gaming you're probably the ideal user for this laptop number three the MacBook Pro 16 with M3 the MacBook Pro 16 has been one of the best laptops for years and this year's M3 version is no exception no other laptop that is this portable can offer such insane performance with such long battery lights and so little fan noise in high performance tasks heck most of the time I used this laptop it was dead silent this year's M3 upgrade is a massive Step Up in raw performance compared to the M2 and the 16-in model is able to take full advantage of the highest end M3 Max chip which by the way the 14-in MacBook Pro is not it consistently feeds the processor more power and due to its better cooling it doesn't have to throttle the processor as much in Long running tasks it also continues to have the best speakers of any laptop out there and an absolutely gorgeous display it's the perfect productivity machine for those looking to create or code its main issue is price and the fact that it's not user upgradeable this laptop can quickly become $4,000 or more and this year Apple are really pushing some of their core users towards upgraded models as they have nerfed memory bandwidth and reduced performance cores in their lower configurations check down below because I put a link there for a recent video that we did explaining this topic so for those creators doing high-end professional creative work I really recommend the highest end M3 Max chip in the MacBook Pro 16 but for everyone else who's not doing something limited by memory bandwidth or a high performance core count such as programming or general office work you're going to love this new Macbook Pro 16 with the M3 Pro chip it comes with more memory 18 gigs and you get a cooler feeling laptop when compared to the M2 version longer battery life and applications will feel a little snappier due to the higher single core performance number two noa's Legion slim 7 the legion slim 7 with AMD offers a solid amount of performance in a portable and very premium package but unlike many other high performance laptops it's actually comfortable to use it rarely gets distractingly warm to the touch and it does not have fan noise in casual use its keyboard is incredibly comfortable and it looks stylish it has a great display which is bright high resolution and fast refresh rate plus if you want a more color accurate display and even higher resolution there is a cheap upgrade available it also has a Muk switch and it comes with 16 gig of solded memory with one memory slot available so you can easily and cheaply upgrade it to 32 gig or even more its battery life is decent and most of its ports around the back so cables won't get in your way and unlike some other laptops these ports are really easy to find as they light up but what makes this laptop just so incredibly special is where it's priced it regularly retails for around 1,100 to $1,400 depending ending on sales which makes this laptop an absolute standout in the price range when it comes to cons though the AMD version maxes out in an RTX 4060 so if you want more graphics performance you'll want to check out the legion 7 Pro which has higher configs but be prepared to spend a ton more or you can buy an Intel variant which goes up to an RTX 4070 but that laptop will fill hotter to the touch and has more fan noise also only one of the Legion slim 7's USBC ports are the faster 4.0 speeds and its SD card reader is slow finally it has a large footprint which may make it hard to find a case for it but all in all we're really grabbing at straws here with these cons overall this is the laptop to get for anyone looking for an allr round great 16-in laptop that just won't break the bank with the exception of people who rely on software that just runs better on Intel like Premier Pro number one the Apple MacBook Pro 14 when it comes to what makes a great laptop you want portability you want per performance and you don't want annoyances like fan noise heat a bad keyboard an inaccurate trackpad or a display that's just hard to see and after testing 70 different laptops this year the MacBook Pro 14 is the only laptop to check all these boxes for those wondering why it's on number one and ahead of the 16-in version the 14-in is just more of a miracle laptop given what it can do for its size this year's M3 Pro variant like the 16in I talked about earlier is substantially better for many people snap here in single core longer battery life and almost no hidden fan noise for performance tasks but there are cons just like the 16-in version for one of Apple's largest user bases creators who edit videos like the one you're watching right now the previously mentioned nuke to memory bandwidth at many of their configurations will significantly impact you so as I said with the 16in consider buying an older M2 MacBook Pro hopefully on sale so check our links down below for where to go for that and in the case of the 14-in version I do not recommend upgrading it to a Max chip we have both the 14-in 16in with the max chips and on the 14in you just don't get the full performance out of your investment yes it still performs better than an M3 Pro equipped MacBook Pro 14 but it gets hot and has to run the fans a bit to do that and even then it doesn't perform on par with the same chip in the MacBook Pro 16 so buy a MacBook Pro 16 if you want that level of Performance Plus as always Max aren't upgradeable well that's it big congrat ulations to all our winning manufacturers this year's top 10 was actually quite a wide range there is literally a great laptop for each type of user at every budget make sure to check out our links down below not only do we want to help you find the best laptops but we want to help you get the best deals on those laptops and that's where you'll do that make sure to smash the like button and get subscribed and share this Channel with your friends not only will it help us grow and that means we can create more content for you but it makes my dearest mother very proud till next time go do something awesome with your day and I will catch you later\n"
     ]
    }
   ],
   "source": [
    "print(search_ex[0]['cc_text'])"
   ]
  },
  {
   "cell_type": "markdown",
   "metadata": {},
   "source": [
    "## Extracting Objects\n",
    "\n",
    "After searching for videos with the best of for certain products, now we want to extract what those products are. We can do this with named entity recognition (NER)."
   ]
  },
  {
   "cell_type": "code",
   "execution_count": 9,
   "metadata": {},
   "outputs": [],
   "source": [
    "import spacy\n",
    "ner = spacy.load(\"en_core_web_sm\")"
   ]
  },
  {
   "cell_type": "code",
   "execution_count": 10,
   "metadata": {},
   "outputs": [
    {
     "data": {
      "text/plain": [
       "{'video_id': 'X35QRgsHhF0',\n",
       " 'title': 'The Best Laptops (early 2024)!',\n",
       " 'video_link': 'https://www.youtube.com/watch?v=X35QRgsHhF0',\n",
       " 'channel_name': 'Just Josh',\n",
       " 'cc_text': \" this year we tested over 70 different laptops by far a record for this channel we tested small ones we tested big ones we tested cheap ones and we tested expensive ones a huge variety from all kinds of Manufacturers and when you use these laptops side by side just like we do it becomes so obvious which laptops are great and which are completely mediocre well today is the day that we countd down the top 10 laptops that we tested in 2023 if you are planning to buy one of these lap tops you'll obviously want to buy them at the best possible price so check the links below the video our team scours the internet to find the best deals and we update them daily plus if new laptops are released after this video that we end up liking even better we'll include them down there too number 10 the HB Pavilion plus 14 in for a price of around $729 you get a crazy amount for the money it will be configured with an OLED panel at that price which is bright vibrant color accurate has a fast refresh rate and high resolution you get our favorite processor for a Windows laptop and AMD N4 U series 1 which delivers fast performance yet zps power because of this The Pavilion plus has very solid battery life and in light use feels cool to the touch and has minimal fan noise the laptop also comes standard with 16 gig of memory something other manufacturers charging twice as much seem to struggle with but it isn't perfect its cons are the laptop looks dated its keyboard and track bed are mediocre its speakers aren't great and you will hear fan noise when doing anything intensive also its display employs pwm flickering at all brightness levels but I have sensitive eyes and the pwm on this display it didn't bother me at all we recommend this laptop for those looking for a good all round laptop on a tighter budget number nine the Asus mbook 14x this laptop is an absolute Beast for its price pra it has a large 14.5 in OLED display that is bright vivid has a fast refresh rate and is high resolution you've also got Intel's insanely powerful 13th gen H series processor inside and 16 gig of memory the laptop looks stylish and it feels premium but what makes this laptop so special is its price it retails for about $1,000 but it has been regularly going on sale for $300 off making it a terrific deal cons are that its battery life sucks and you will hear a little fan noise at times both of these are a trade-off given its high performance processor though this is a great laptop for someone like a software developer who wants CPU performance portability and to comfortably see a lot of cone on screen heck I bought this one for myself now we deliberately avoided having a laptop manufacturer sponsor today's video as we wanted to be completely unbiased however we do have a sponsor and that is ugreen ug green makes a range of Premium powerful charges ug Green's charges support the latest fast charging tech for example using a nexer 100 wat charger you can charge a MacBook Air with M2 to 55% in just 30 minutes and all you green laptop chargers come with multiple ports so you can charge all your devices at the same time buying a high high quality usbcc charger is a great accessory for your new laptop even more so for those buying high performance laptops as on days where you just don't need the laptop's full performance you can leave its heavy charging brick at home and instead bring one of these number eight the framework laptop with AMD if you haven't heard of framework they are a new laptop manufacturer that produces fully upgradeable laptops so no more stressing out about which configuration you should buy plus an upgradeable laptop is better for the environment and the koala's will thank you Pros it has a comfortable keyboard a good display and interchangeable ports in fact it's fully upgradable framework also has incredible community and Linux support with the new AMD variant which uses the excellent zen4 U series processor the laptop doesn't get that warm to the touch and battery life is longer than on the Intel model on that note check out our video link below as it will make it abundantly clear as to why you should buy the AMD model over the Intel variant cons are that its speakers are still bad its display is not fast refresh rate and it looks dated and feels less premium compared to other laptops in the price range and although fan noise is much better than on the Intel variant you'll still hear some on this AMD model we recommend this laptop for software developers and those that like to Tinker with tech number seven the Apple MacBook air15 with M2 in every facet the MacBook airs with M2 are all round highquality devices they feel premium they look great their displays are more than good enough for most use cases they have good speakers the best trackpad and a decent webcam plus they have Apple's insanely efficient M series processors inside this means they are plenty powerful for everyday use as well as doing some performance tasks like programming or creative workloads yet they have no fan noise as they have no fans they also rarely get warm to the touch in fact since the 15-in model is larger it has more area to dissipate heat and therefore almost never feels warm the main con of the airs is that they are crazy expensive given they only come with 8 Giga memory which can't be upgraded after you buy also the keyboard even though it feels high quality isn't the most comfortable as it's a little low travel these laptops really are the ultimate laptops for light use those browsing the web using office and studying the reason I've chosen the 15-in for this Roundup is that I feel it's more unique it's an all around great laptop with a really large screen that's still incredibly portable whereas the 13in most people could buy a Zenbook 14 and not really notice there just isn't really anything quite like the MacBook a15 with M2 number six the Asus strict scar 16 the scar 16 delivered by far the best overall gaming experience out of the 19 gaming laptops that we tested in our recent gaming video I've linked it down below it won our best gaming laptop award because of the following reasons it has Intel's most powerful HX series processor inside up to nvidia's highest end 4090 Graphics a stunning mini LED panel with all the bells and whistles fast refresh rate high resolution Advanced Optimus g-sync and excellent color accuracy it comes full fully loaded with 32 gig of memory and 1 tab of storage which by the way are upgradable but all this isn't white one our overall best gaming laptop it's because the scar doesn't suffer from the curse of the gaming laptop which is jet engine like fan noise and distractingly warm keyboard temperatures yes the scar does have some fan noise and does get warm but it's nowhere near as bad as other powerful laptops the main issues with the scar are that it's expensive it's chunky so your hands are raised a bit which some people might find a little uncomfortable when using it and you may hear coil wine but if you are gaming which is what this laptop is designed for you aren't going to hear it number five the Asus mbook 14 this laptop has a vivid extremely color accurate OLED display that's a delight to look at you get a comfortable keyboard very long battery life 16 gig of memory and 512 gigs of storage the laptop also looks like a stylish device and feels premium plus it doesn't have loud fan noise or get warn to the touch and the price is really good at around $800 before sales you're basically getting 90% of a MacBook Air for a much lower price with by the way a more comfortable keyboard its main con is that it uses an older ryzen Zen 3 processor rather than the latest Zen 4 so you do lose some performance over a laptop like the Pavilion plus that I mentioned earlier but if you're just looking for a highquality laptop for light use like browsing the web starting or office work which is what we recommend this laptop for this is more than fast enough and in this price range of8 $1 or under we think you'll appreciate the Creature Comforts of this laptop over others that may have more performance but also have more annoying issues number four the Lenovo slim Pro 9i also known as the yoga Pro 9i we're going to be naughty here and talk about both the 14-in and 16-in versions as these really tie for this spot these laptops completely caught us off guard with how good they are if there are windows equivalents of apples MacBook Pros these are the ones almost everything about these laptops is great they have a stunning mini LED panel that is bright color accurate fast refresh rate and don't employ PW on flickering they both have powerful Intel 13th gen H series CPUs inside and up to Nvidia RTX 4060 graphics and they don't get that warm to the touch their keyboards are Exquisite way more comfortable than a Macbook Pros and unlike a Mac they come fully loaded with 32 gig of memory and 1 tab of storage for a price of around $2,000 which is significantly less than a compar MacBook Pro the reason these two have ended up in a tie is the following the 14-in version has fantastic ports compared to the 16in it has one additional USBC port and its HDMI port and SD card reader are faster this is very handy but the 14-in does have noticeably more fan noise than the 16-in as this powerful Hardware is packed into a smaller chassis which is harder to cool that being said the 14in fan noise while audible at times it really isn't that distracting these are great laptops for someone who wants the Perfect Blend of power and portability in a premium laptop but doesn't want to pay the insane amount that Apple charges or they just don't want Mac OS programmers who like to do a little bit of gaming you're probably the ideal user for this laptop number three the MacBook Pro 16 with M3 the MacBook Pro 16 has been one of the best laptops for years and this year's M3 version is no exception no other laptop that is this portable can offer such insane performance with such long battery lights and so little fan noise in high performance tasks heck most of the time I used this laptop it was dead silent this year's M3 upgrade is a massive Step Up in raw performance compared to the M2 and the 16-in model is able to take full advantage of the highest end M3 Max chip which by the way the 14-in MacBook Pro is not it consistently feeds the processor more power and due to its better cooling it doesn't have to throttle the processor as much in Long running tasks it also continues to have the best speakers of any laptop out there and an absolutely gorgeous display it's the perfect productivity machine for those looking to create or code its main issue is price and the fact that it's not user upgradeable this laptop can quickly become $4,000 or more and this year Apple are really pushing some of their core users towards upgraded models as they have nerfed memory bandwidth and reduced performance cores in their lower configurations check down below because I put a link there for a recent video that we did explaining this topic so for those creators doing high-end professional creative work I really recommend the highest end M3 Max chip in the MacBook Pro 16 but for everyone else who's not doing something limited by memory bandwidth or a high performance core count such as programming or general office work you're going to love this new Macbook Pro 16 with the M3 Pro chip it comes with more memory 18 gigs and you get a cooler feeling laptop when compared to the M2 version longer battery life and applications will feel a little snappier due to the higher single core performance number two noa's Legion slim 7 the legion slim 7 with AMD offers a solid amount of performance in a portable and very premium package but unlike many other high performance laptops it's actually comfortable to use it rarely gets distractingly warm to the touch and it does not have fan noise in casual use its keyboard is incredibly comfortable and it looks stylish it has a great display which is bright high resolution and fast refresh rate plus if you want a more color accurate display and even higher resolution there is a cheap upgrade available it also has a Muk switch and it comes with 16 gig of solded memory with one memory slot available so you can easily and cheaply upgrade it to 32 gig or even more its battery life is decent and most of its ports around the back so cables won't get in your way and unlike some other laptops these ports are really easy to find as they light up but what makes this laptop just so incredibly special is where it's priced it regularly retails for around 1,100 to $1,400 depending ending on sales which makes this laptop an absolute standout in the price range when it comes to cons though the AMD version maxes out in an RTX 4060 so if you want more graphics performance you'll want to check out the legion 7 Pro which has higher configs but be prepared to spend a ton more or you can buy an Intel variant which goes up to an RTX 4070 but that laptop will fill hotter to the touch and has more fan noise also only one of the Legion slim 7's USBC ports are the faster 4.0 speeds and its SD card reader is slow finally it has a large footprint which may make it hard to find a case for it but all in all we're really grabbing at straws here with these cons overall this is the laptop to get for anyone looking for an allr round great 16-in laptop that just won't break the bank with the exception of people who rely on software that just runs better on Intel like Premier Pro number one the Apple MacBook Pro 14 when it comes to what makes a great laptop you want portability you want per performance and you don't want annoyances like fan noise heat a bad keyboard an inaccurate trackpad or a display that's just hard to see and after testing 70 different laptops this year the MacBook Pro 14 is the only laptop to check all these boxes for those wondering why it's on number one and ahead of the 16-in version the 14-in is just more of a miracle laptop given what it can do for its size this year's M3 Pro variant like the 16in I talked about earlier is substantially better for many people snap here in single core longer battery life and almost no hidden fan noise for performance tasks but there are cons just like the 16-in version for one of Apple's largest user bases creators who edit videos like the one you're watching right now the previously mentioned nuke to memory bandwidth at many of their configurations will significantly impact you so as I said with the 16in consider buying an older M2 MacBook Pro hopefully on sale so check our links down below for where to go for that and in the case of the 14-in version I do not recommend upgrading it to a Max chip we have both the 14-in 16in with the max chips and on the 14in you just don't get the full performance out of your investment yes it still performs better than an M3 Pro equipped MacBook Pro 14 but it gets hot and has to run the fans a bit to do that and even then it doesn't perform on par with the same chip in the MacBook Pro 16 so buy a MacBook Pro 16 if you want that level of Performance Plus as always Max aren't upgradeable well that's it big congrat ulations to all our winning manufacturers this year's top 10 was actually quite a wide range there is literally a great laptop for each type of user at every budget make sure to check out our links down below not only do we want to help you find the best laptops but we want to help you get the best deals on those laptops and that's where you'll do that make sure to smash the like button and get subscribed and share this Channel with your friends not only will it help us grow and that means we can create more content for you but it makes my dearest mother very proud till next time go do something awesome with your day and I will catch you later\"}"
      ]
     },
     "execution_count": 10,
     "metadata": {},
     "output_type": "execute_result"
    }
   ],
   "source": [
    "search_ex[0]"
   ]
  },
  {
   "cell_type": "code",
   "execution_count": 11,
   "metadata": {},
   "outputs": [],
   "source": [
    "cc_text_ex = search_ex[0]['cc_text']\n",
    "doc = ner(cc_text_ex)"
   ]
  },
  {
   "cell_type": "code",
   "execution_count": 12,
   "metadata": {},
   "outputs": [
    {
     "name": "stdout",
     "output_type": "stream",
     "text": [
      "AMD N4\n",
      "Intel\n",
      "CPU\n",
      "MacBook Air\n",
      "AMD\n",
      "AMD\n",
      "Intel\n",
      "AMD\n",
      "Intel\n",
      "Intel\n",
      "AMD\n",
      "Tinker\n",
      "Apple MacBook\n",
      "M2\n",
      "MacBook\n",
      "Apple\n",
      "Roundup\n",
      "Intel\n",
      "4090 Graphics\n",
      "Asus\n",
      "MacBook Air\n",
      "the Creature Comforts\n",
      "Lenovo\n",
      "Pro 9i\n",
      "Pro 9i\n",
      "Intel\n",
      "Exquisite\n",
      "Macbook Pros\n",
      "Hardware\n",
      "the Perfect Blend of power\n",
      "Apple\n",
      "M3\n",
      "M3\n",
      "M3\n",
      "M2\n",
      "M3 Max\n",
      "Apple\n",
      "M3 Max\n",
      "the M3 Pro\n",
      "AMD\n",
      "AMD\n",
      "Intel\n",
      "Legion\n",
      "Intel\n",
      "Apple\n",
      "M3 Pro\n",
      "Apple\n"
     ]
    }
   ],
   "source": [
    "for ent in doc.ents:\n",
    "    if ent.label_ in [\"ORG\", \"PRODUCT\"]:\n",
    "        print(ent)"
   ]
  },
  {
   "cell_type": "code",
   "execution_count": 13,
   "metadata": {},
   "outputs": [
    {
     "name": "stdout",
     "output_type": "stream",
     "text": [
      "Apple MacBook M2\n",
      "Lenovo Pro 9i\n",
      "Apple M3 Max\n"
     ]
    }
   ],
   "source": [
    "for i, ent in enumerate(doc.ents):\n",
    "    if (ent.label_ == \"ORG\") and (doc.ents[i+1].label_ == \"PRODUCT\"):\n",
    "        print(ent, doc.ents[i+1])"
   ]
  },
  {
   "cell_type": "markdown",
   "metadata": {},
   "source": [
    "Trying spacy-LLM integration for a better NER method, since the basic version above is missing a lot. Here is a guide on how to do this: https://github.com/explosion/spacy-llm/tree/main/usage_examples/ner_v3_openai."
   ]
  },
  {
   "cell_type": "code",
   "execution_count": 14,
   "metadata": {},
   "outputs": [],
   "source": [
    "nlp = spacy.blank(\"en\")"
   ]
  },
  {
   "cell_type": "code",
   "execution_count": 15,
   "metadata": {},
   "outputs": [],
   "source": [
    "from spacy_llm.util import assemble"
   ]
  },
  {
   "cell_type": "code",
   "execution_count": null,
   "metadata": {},
   "outputs": [],
   "source": []
  },
  {
   "cell_type": "code",
   "execution_count": 16,
   "metadata": {},
   "outputs": [
    {
     "name": "stderr",
     "output_type": "stream",
     "text": [
      "c:\\Users\\RaviB\\anaconda3\\envs\\TechKnow\\lib\\site-packages\\spacy_llm\\models\\rest\\openai\\model.py:25: UserWarning: Could not find the API key to access the OpenAI API. Ensure you have an API key set up via https://platform.openai.com/account/api-keys, then make it available as an environment variable 'OPENAI_API_KEY'.\n",
      "  warnings.warn(\n",
      "c:\\Users\\RaviB\\anaconda3\\envs\\TechKnow\\lib\\site-packages\\spacy_llm\\models\\rest\\openai\\model.py:55: UserWarning: Authentication with provided API key failed. Please double-check you provided the correct credentials.\n",
      "  warnings.warn(\n"
     ]
    },
    {
     "ename": "KeyError",
     "evalue": "'data'",
     "output_type": "error",
     "traceback": [
      "\u001b[1;31m---------------------------------------------------------------------------\u001b[0m",
      "\u001b[1;31mKeyError\u001b[0m                                  Traceback (most recent call last)",
      "Cell \u001b[1;32mIn[16], line 1\u001b[0m\n\u001b[1;32m----> 1\u001b[0m nlp \u001b[38;5;241m=\u001b[39m \u001b[43massemble\u001b[49m\u001b[43m(\u001b[49m\u001b[38;5;124;43m\"\u001b[39;49m\u001b[38;5;124;43mnotebooks/config.cfg\u001b[39;49m\u001b[38;5;124;43m\"\u001b[39;49m\u001b[43m)\u001b[49m\n\u001b[0;32m      2\u001b[0m doc \u001b[38;5;241m=\u001b[39m nlp(cc_text_ex)\n\u001b[0;32m      3\u001b[0m \u001b[38;5;28mprint\u001b[39m(doc\u001b[38;5;241m.\u001b[39ments)\n",
      "File \u001b[1;32mc:\\Users\\RaviB\\anaconda3\\envs\\TechKnow\\lib\\site-packages\\spacy_llm\\util.py:48\u001b[0m, in \u001b[0;36massemble\u001b[1;34m(config_path, overrides)\u001b[0m\n\u001b[0;32m     46\u001b[0m config_path \u001b[38;5;241m=\u001b[39m Path(config_path)\n\u001b[0;32m     47\u001b[0m config \u001b[38;5;241m=\u001b[39m load_config(config_path, overrides\u001b[38;5;241m=\u001b[39moverrides, interpolate\u001b[38;5;241m=\u001b[39m\u001b[38;5;28;01mFalse\u001b[39;00m)\n\u001b[1;32m---> 48\u001b[0m \u001b[38;5;28;01mreturn\u001b[39;00m \u001b[43massemble_from_config\u001b[49m\u001b[43m(\u001b[49m\u001b[43mconfig\u001b[49m\u001b[43m)\u001b[49m\n",
      "File \u001b[1;32mc:\\Users\\RaviB\\anaconda3\\envs\\TechKnow\\lib\\site-packages\\spacy_llm\\util.py:28\u001b[0m, in \u001b[0;36massemble_from_config\u001b[1;34m(config)\u001b[0m\n\u001b[0;32m     22\u001b[0m \u001b[38;5;28;01mdef\u001b[39;00m \u001b[38;5;21massemble_from_config\u001b[39m(config: Config) \u001b[38;5;241m-\u001b[39m\u001b[38;5;241m>\u001b[39m Language:\n\u001b[0;32m     23\u001b[0m \u001b[38;5;250m    \u001b[39m\u001b[38;5;124;03m\"\"\"Assemble a spaCy pipeline from a confection Config object.\u001b[39;00m\n\u001b[0;32m     24\u001b[0m \n\u001b[0;32m     25\u001b[0m \u001b[38;5;124;03m    config (Config): Config to load spaCy pipeline from.\u001b[39;00m\n\u001b[0;32m     26\u001b[0m \u001b[38;5;124;03m    RETURNS (Language): An initialized spaCy pipeline.\u001b[39;00m\n\u001b[0;32m     27\u001b[0m \u001b[38;5;124;03m    \"\"\"\u001b[39;00m\n\u001b[1;32m---> 28\u001b[0m     nlp \u001b[38;5;241m=\u001b[39m \u001b[43mload_model_from_config\u001b[49m\u001b[43m(\u001b[49m\u001b[43mconfig\u001b[49m\u001b[43m,\u001b[49m\u001b[43m \u001b[49m\u001b[43mauto_fill\u001b[49m\u001b[38;5;241;43m=\u001b[39;49m\u001b[38;5;28;43;01mTrue\u001b[39;49;00m\u001b[43m)\u001b[49m\n\u001b[0;32m     29\u001b[0m     config \u001b[38;5;241m=\u001b[39m config\u001b[38;5;241m.\u001b[39minterpolate()\n\u001b[0;32m     30\u001b[0m     sourced \u001b[38;5;241m=\u001b[39m get_sourced_components(config)\n",
      "File \u001b[1;32mc:\\Users\\RaviB\\anaconda3\\envs\\TechKnow\\lib\\site-packages\\spacy\\util.py:587\u001b[0m, in \u001b[0;36mload_model_from_config\u001b[1;34m(config, meta, vocab, disable, enable, exclude, auto_fill, validate)\u001b[0m\n\u001b[0;32m    584\u001b[0m \u001b[38;5;66;03m# This will automatically handle all codes registered via the languages\u001b[39;00m\n\u001b[0;32m    585\u001b[0m \u001b[38;5;66;03m# registry, including custom subclasses provided via entry points\u001b[39;00m\n\u001b[0;32m    586\u001b[0m lang_cls \u001b[38;5;241m=\u001b[39m get_lang_class(nlp_config[\u001b[38;5;124m\"\u001b[39m\u001b[38;5;124mlang\u001b[39m\u001b[38;5;124m\"\u001b[39m])\n\u001b[1;32m--> 587\u001b[0m nlp \u001b[38;5;241m=\u001b[39m \u001b[43mlang_cls\u001b[49m\u001b[38;5;241;43m.\u001b[39;49m\u001b[43mfrom_config\u001b[49m\u001b[43m(\u001b[49m\n\u001b[0;32m    588\u001b[0m \u001b[43m    \u001b[49m\u001b[43mconfig\u001b[49m\u001b[43m,\u001b[49m\n\u001b[0;32m    589\u001b[0m \u001b[43m    \u001b[49m\u001b[43mvocab\u001b[49m\u001b[38;5;241;43m=\u001b[39;49m\u001b[43mvocab\u001b[49m\u001b[43m,\u001b[49m\n\u001b[0;32m    590\u001b[0m \u001b[43m    \u001b[49m\u001b[43mdisable\u001b[49m\u001b[38;5;241;43m=\u001b[39;49m\u001b[43mdisable\u001b[49m\u001b[43m,\u001b[49m\n\u001b[0;32m    591\u001b[0m \u001b[43m    \u001b[49m\u001b[43menable\u001b[49m\u001b[38;5;241;43m=\u001b[39;49m\u001b[43menable\u001b[49m\u001b[43m,\u001b[49m\n\u001b[0;32m    592\u001b[0m \u001b[43m    \u001b[49m\u001b[43mexclude\u001b[49m\u001b[38;5;241;43m=\u001b[39;49m\u001b[43mexclude\u001b[49m\u001b[43m,\u001b[49m\n\u001b[0;32m    593\u001b[0m \u001b[43m    \u001b[49m\u001b[43mauto_fill\u001b[49m\u001b[38;5;241;43m=\u001b[39;49m\u001b[43mauto_fill\u001b[49m\u001b[43m,\u001b[49m\n\u001b[0;32m    594\u001b[0m \u001b[43m    \u001b[49m\u001b[43mvalidate\u001b[49m\u001b[38;5;241;43m=\u001b[39;49m\u001b[43mvalidate\u001b[49m\u001b[43m,\u001b[49m\n\u001b[0;32m    595\u001b[0m \u001b[43m    \u001b[49m\u001b[43mmeta\u001b[49m\u001b[38;5;241;43m=\u001b[39;49m\u001b[43mmeta\u001b[49m\u001b[43m,\u001b[49m\n\u001b[0;32m    596\u001b[0m \u001b[43m\u001b[49m\u001b[43m)\u001b[49m\n\u001b[0;32m    597\u001b[0m \u001b[38;5;28;01mreturn\u001b[39;00m nlp\n",
      "File \u001b[1;32mc:\\Users\\RaviB\\anaconda3\\envs\\TechKnow\\lib\\site-packages\\spacy\\language.py:1889\u001b[0m, in \u001b[0;36mLanguage.from_config\u001b[1;34m(cls, config, vocab, disable, enable, exclude, meta, auto_fill, validate)\u001b[0m\n\u001b[0;32m   1886\u001b[0m     factory \u001b[38;5;241m=\u001b[39m pipe_cfg\u001b[38;5;241m.\u001b[39mpop(\u001b[38;5;124m\"\u001b[39m\u001b[38;5;124mfactory\u001b[39m\u001b[38;5;124m\"\u001b[39m)\n\u001b[0;32m   1887\u001b[0m     \u001b[38;5;66;03m# The pipe name (key in the config) here is the unique name\u001b[39;00m\n\u001b[0;32m   1888\u001b[0m     \u001b[38;5;66;03m# of the component, not necessarily the factory\u001b[39;00m\n\u001b[1;32m-> 1889\u001b[0m     \u001b[43mnlp\u001b[49m\u001b[38;5;241;43m.\u001b[39;49m\u001b[43madd_pipe\u001b[49m\u001b[43m(\u001b[49m\n\u001b[0;32m   1890\u001b[0m \u001b[43m        \u001b[49m\u001b[43mfactory\u001b[49m\u001b[43m,\u001b[49m\n\u001b[0;32m   1891\u001b[0m \u001b[43m        \u001b[49m\u001b[43mname\u001b[49m\u001b[38;5;241;43m=\u001b[39;49m\u001b[43mpipe_name\u001b[49m\u001b[43m,\u001b[49m\n\u001b[0;32m   1892\u001b[0m \u001b[43m        \u001b[49m\u001b[43mconfig\u001b[49m\u001b[38;5;241;43m=\u001b[39;49m\u001b[43mpipe_cfg\u001b[49m\u001b[43m,\u001b[49m\n\u001b[0;32m   1893\u001b[0m \u001b[43m        \u001b[49m\u001b[43mvalidate\u001b[49m\u001b[38;5;241;43m=\u001b[39;49m\u001b[43mvalidate\u001b[49m\u001b[43m,\u001b[49m\n\u001b[0;32m   1894\u001b[0m \u001b[43m        \u001b[49m\u001b[43mraw_config\u001b[49m\u001b[38;5;241;43m=\u001b[39;49m\u001b[43mraw_config\u001b[49m\u001b[43m,\u001b[49m\n\u001b[0;32m   1895\u001b[0m \u001b[43m    \u001b[49m\u001b[43m)\u001b[49m\n\u001b[0;32m   1896\u001b[0m \u001b[38;5;28;01melse\u001b[39;00m:\n\u001b[0;32m   1897\u001b[0m     \u001b[38;5;28;01massert\u001b[39;00m \u001b[38;5;124m\"\u001b[39m\u001b[38;5;124msource\u001b[39m\u001b[38;5;124m\"\u001b[39m \u001b[38;5;129;01min\u001b[39;00m pipe_cfg\n",
      "File \u001b[1;32mc:\\Users\\RaviB\\anaconda3\\envs\\TechKnow\\lib\\site-packages\\spacy\\language.py:821\u001b[0m, in \u001b[0;36mLanguage.add_pipe\u001b[1;34m(self, factory_name, name, before, after, first, last, source, config, raw_config, validate)\u001b[0m\n\u001b[0;32m    817\u001b[0m     pipe_component, factory_name \u001b[38;5;241m=\u001b[39m \u001b[38;5;28mself\u001b[39m\u001b[38;5;241m.\u001b[39mcreate_pipe_from_source(\n\u001b[0;32m    818\u001b[0m         factory_name, source, name\u001b[38;5;241m=\u001b[39mname\n\u001b[0;32m    819\u001b[0m     )\n\u001b[0;32m    820\u001b[0m \u001b[38;5;28;01melse\u001b[39;00m:\n\u001b[1;32m--> 821\u001b[0m     pipe_component \u001b[38;5;241m=\u001b[39m \u001b[38;5;28;43mself\u001b[39;49m\u001b[38;5;241;43m.\u001b[39;49m\u001b[43mcreate_pipe\u001b[49m\u001b[43m(\u001b[49m\n\u001b[0;32m    822\u001b[0m \u001b[43m        \u001b[49m\u001b[43mfactory_name\u001b[49m\u001b[43m,\u001b[49m\n\u001b[0;32m    823\u001b[0m \u001b[43m        \u001b[49m\u001b[43mname\u001b[49m\u001b[38;5;241;43m=\u001b[39;49m\u001b[43mname\u001b[49m\u001b[43m,\u001b[49m\n\u001b[0;32m    824\u001b[0m \u001b[43m        \u001b[49m\u001b[43mconfig\u001b[49m\u001b[38;5;241;43m=\u001b[39;49m\u001b[43mconfig\u001b[49m\u001b[43m,\u001b[49m\n\u001b[0;32m    825\u001b[0m \u001b[43m        \u001b[49m\u001b[43mraw_config\u001b[49m\u001b[38;5;241;43m=\u001b[39;49m\u001b[43mraw_config\u001b[49m\u001b[43m,\u001b[49m\n\u001b[0;32m    826\u001b[0m \u001b[43m        \u001b[49m\u001b[43mvalidate\u001b[49m\u001b[38;5;241;43m=\u001b[39;49m\u001b[43mvalidate\u001b[49m\u001b[43m,\u001b[49m\n\u001b[0;32m    827\u001b[0m \u001b[43m    \u001b[49m\u001b[43m)\u001b[49m\n\u001b[0;32m    828\u001b[0m pipe_index \u001b[38;5;241m=\u001b[39m \u001b[38;5;28mself\u001b[39m\u001b[38;5;241m.\u001b[39m_get_pipe_index(before, after, first, last)\n\u001b[0;32m    829\u001b[0m \u001b[38;5;28mself\u001b[39m\u001b[38;5;241m.\u001b[39m_pipe_meta[name] \u001b[38;5;241m=\u001b[39m \u001b[38;5;28mself\u001b[39m\u001b[38;5;241m.\u001b[39mget_factory_meta(factory_name)\n",
      "File \u001b[1;32mc:\\Users\\RaviB\\anaconda3\\envs\\TechKnow\\lib\\site-packages\\spacy\\language.py:709\u001b[0m, in \u001b[0;36mLanguage.create_pipe\u001b[1;34m(self, factory_name, name, config, raw_config, validate)\u001b[0m\n\u001b[0;32m    706\u001b[0m cfg \u001b[38;5;241m=\u001b[39m {factory_name: config}\n\u001b[0;32m    707\u001b[0m \u001b[38;5;66;03m# We're calling the internal _fill here to avoid constructing the\u001b[39;00m\n\u001b[0;32m    708\u001b[0m \u001b[38;5;66;03m# registered functions twice\u001b[39;00m\n\u001b[1;32m--> 709\u001b[0m resolved \u001b[38;5;241m=\u001b[39m \u001b[43mregistry\u001b[49m\u001b[38;5;241;43m.\u001b[39;49m\u001b[43mresolve\u001b[49m\u001b[43m(\u001b[49m\u001b[43mcfg\u001b[49m\u001b[43m,\u001b[49m\u001b[43m \u001b[49m\u001b[43mvalidate\u001b[49m\u001b[38;5;241;43m=\u001b[39;49m\u001b[43mvalidate\u001b[49m\u001b[43m)\u001b[49m\n\u001b[0;32m    710\u001b[0m filled \u001b[38;5;241m=\u001b[39m registry\u001b[38;5;241m.\u001b[39mfill({\u001b[38;5;124m\"\u001b[39m\u001b[38;5;124mcfg\u001b[39m\u001b[38;5;124m\"\u001b[39m: cfg[factory_name]}, validate\u001b[38;5;241m=\u001b[39mvalidate)[\u001b[38;5;124m\"\u001b[39m\u001b[38;5;124mcfg\u001b[39m\u001b[38;5;124m\"\u001b[39m]\n\u001b[0;32m    711\u001b[0m filled \u001b[38;5;241m=\u001b[39m Config(filled)\n",
      "File \u001b[1;32mc:\\Users\\RaviB\\anaconda3\\envs\\TechKnow\\lib\\site-packages\\confection\\__init__.py:760\u001b[0m, in \u001b[0;36mregistry.resolve\u001b[1;34m(cls, config, schema, overrides, validate)\u001b[0m\n\u001b[0;32m    751\u001b[0m \u001b[38;5;129m@classmethod\u001b[39m\n\u001b[0;32m    752\u001b[0m \u001b[38;5;28;01mdef\u001b[39;00m \u001b[38;5;21mresolve\u001b[39m(\n\u001b[0;32m    753\u001b[0m     \u001b[38;5;28mcls\u001b[39m,\n\u001b[1;32m   (...)\u001b[0m\n\u001b[0;32m    758\u001b[0m     validate: \u001b[38;5;28mbool\u001b[39m \u001b[38;5;241m=\u001b[39m \u001b[38;5;28;01mTrue\u001b[39;00m,\n\u001b[0;32m    759\u001b[0m ) \u001b[38;5;241m-\u001b[39m\u001b[38;5;241m>\u001b[39m Dict[\u001b[38;5;28mstr\u001b[39m, Any]:\n\u001b[1;32m--> 760\u001b[0m     resolved, _ \u001b[38;5;241m=\u001b[39m \u001b[38;5;28;43mcls\u001b[39;49m\u001b[38;5;241;43m.\u001b[39;49m\u001b[43m_make\u001b[49m\u001b[43m(\u001b[49m\n\u001b[0;32m    761\u001b[0m \u001b[43m        \u001b[49m\u001b[43mconfig\u001b[49m\u001b[43m,\u001b[49m\u001b[43m \u001b[49m\u001b[43mschema\u001b[49m\u001b[38;5;241;43m=\u001b[39;49m\u001b[43mschema\u001b[49m\u001b[43m,\u001b[49m\u001b[43m \u001b[49m\u001b[43moverrides\u001b[49m\u001b[38;5;241;43m=\u001b[39;49m\u001b[43moverrides\u001b[49m\u001b[43m,\u001b[49m\u001b[43m \u001b[49m\u001b[43mvalidate\u001b[49m\u001b[38;5;241;43m=\u001b[39;49m\u001b[43mvalidate\u001b[49m\u001b[43m,\u001b[49m\u001b[43m \u001b[49m\u001b[43mresolve\u001b[49m\u001b[38;5;241;43m=\u001b[39;49m\u001b[38;5;28;43;01mTrue\u001b[39;49;00m\n\u001b[0;32m    762\u001b[0m \u001b[43m    \u001b[49m\u001b[43m)\u001b[49m\n\u001b[0;32m    763\u001b[0m     \u001b[38;5;28;01mreturn\u001b[39;00m resolved\n",
      "File \u001b[1;32mc:\\Users\\RaviB\\anaconda3\\envs\\TechKnow\\lib\\site-packages\\confection\\__init__.py:809\u001b[0m, in \u001b[0;36mregistry._make\u001b[1;34m(cls, config, schema, overrides, resolve, validate)\u001b[0m\n\u001b[0;32m    807\u001b[0m \u001b[38;5;28;01mif\u001b[39;00m \u001b[38;5;129;01mnot\u001b[39;00m is_interpolated:\n\u001b[0;32m    808\u001b[0m     config \u001b[38;5;241m=\u001b[39m Config(orig_config)\u001b[38;5;241m.\u001b[39minterpolate()\n\u001b[1;32m--> 809\u001b[0m filled, _, resolved \u001b[38;5;241m=\u001b[39m \u001b[38;5;28;43mcls\u001b[39;49m\u001b[38;5;241;43m.\u001b[39;49m\u001b[43m_fill\u001b[49m\u001b[43m(\u001b[49m\n\u001b[0;32m    810\u001b[0m \u001b[43m    \u001b[49m\u001b[43mconfig\u001b[49m\u001b[43m,\u001b[49m\u001b[43m \u001b[49m\u001b[43mschema\u001b[49m\u001b[43m,\u001b[49m\u001b[43m \u001b[49m\u001b[43mvalidate\u001b[49m\u001b[38;5;241;43m=\u001b[39;49m\u001b[43mvalidate\u001b[49m\u001b[43m,\u001b[49m\u001b[43m \u001b[49m\u001b[43moverrides\u001b[49m\u001b[38;5;241;43m=\u001b[39;49m\u001b[43moverrides\u001b[49m\u001b[43m,\u001b[49m\u001b[43m \u001b[49m\u001b[43mresolve\u001b[49m\u001b[38;5;241;43m=\u001b[39;49m\u001b[43mresolve\u001b[49m\n\u001b[0;32m    811\u001b[0m \u001b[43m\u001b[49m\u001b[43m)\u001b[49m\n\u001b[0;32m    812\u001b[0m filled \u001b[38;5;241m=\u001b[39m Config(filled, section_order\u001b[38;5;241m=\u001b[39msection_order)\n\u001b[0;32m    813\u001b[0m \u001b[38;5;66;03m# Check that overrides didn't include invalid properties not in config\u001b[39;00m\n",
      "File \u001b[1;32mc:\\Users\\RaviB\\anaconda3\\envs\\TechKnow\\lib\\site-packages\\confection\\__init__.py:864\u001b[0m, in \u001b[0;36mregistry._fill\u001b[1;34m(cls, config, schema, validate, resolve, parent, overrides)\u001b[0m\n\u001b[0;32m    862\u001b[0m     schema\u001b[38;5;241m.\u001b[39m__fields__[key] \u001b[38;5;241m=\u001b[39m copy_model_field(field, Any)\n\u001b[0;32m    863\u001b[0m promise_schema \u001b[38;5;241m=\u001b[39m \u001b[38;5;28mcls\u001b[39m\u001b[38;5;241m.\u001b[39mmake_promise_schema(value, resolve\u001b[38;5;241m=\u001b[39mresolve)\n\u001b[1;32m--> 864\u001b[0m filled[key], validation[v_key], final[key] \u001b[38;5;241m=\u001b[39m \u001b[38;5;28;43mcls\u001b[39;49m\u001b[38;5;241;43m.\u001b[39;49m\u001b[43m_fill\u001b[49m\u001b[43m(\u001b[49m\n\u001b[0;32m    865\u001b[0m \u001b[43m    \u001b[49m\u001b[43mvalue\u001b[49m\u001b[43m,\u001b[49m\n\u001b[0;32m    866\u001b[0m \u001b[43m    \u001b[49m\u001b[43mpromise_schema\u001b[49m\u001b[43m,\u001b[49m\n\u001b[0;32m    867\u001b[0m \u001b[43m    \u001b[49m\u001b[43mvalidate\u001b[49m\u001b[38;5;241;43m=\u001b[39;49m\u001b[43mvalidate\u001b[49m\u001b[43m,\u001b[49m\n\u001b[0;32m    868\u001b[0m \u001b[43m    \u001b[49m\u001b[43mresolve\u001b[49m\u001b[38;5;241;43m=\u001b[39;49m\u001b[43mresolve\u001b[49m\u001b[43m,\u001b[49m\n\u001b[0;32m    869\u001b[0m \u001b[43m    \u001b[49m\u001b[43mparent\u001b[49m\u001b[38;5;241;43m=\u001b[39;49m\u001b[43mkey_parent\u001b[49m\u001b[43m,\u001b[49m\n\u001b[0;32m    870\u001b[0m \u001b[43m    \u001b[49m\u001b[43moverrides\u001b[49m\u001b[38;5;241;43m=\u001b[39;49m\u001b[43moverrides\u001b[49m\u001b[43m,\u001b[49m\n\u001b[0;32m    871\u001b[0m \u001b[43m\u001b[49m\u001b[43m)\u001b[49m\n\u001b[0;32m    872\u001b[0m reg_name, func_name \u001b[38;5;241m=\u001b[39m \u001b[38;5;28mcls\u001b[39m\u001b[38;5;241m.\u001b[39mget_constructor(final[key])\n\u001b[0;32m    873\u001b[0m args, kwargs \u001b[38;5;241m=\u001b[39m \u001b[38;5;28mcls\u001b[39m\u001b[38;5;241m.\u001b[39mparse_args(final[key])\n",
      "File \u001b[1;32mc:\\Users\\RaviB\\anaconda3\\envs\\TechKnow\\lib\\site-packages\\confection\\__init__.py:881\u001b[0m, in \u001b[0;36mregistry._fill\u001b[1;34m(cls, config, schema, validate, resolve, parent, overrides)\u001b[0m\n\u001b[0;32m    878\u001b[0m     getter \u001b[38;5;241m=\u001b[39m \u001b[38;5;28mcls\u001b[39m\u001b[38;5;241m.\u001b[39mget(reg_name, func_name)\n\u001b[0;32m    879\u001b[0m     \u001b[38;5;66;03m# We don't want to try/except this and raise our own error\u001b[39;00m\n\u001b[0;32m    880\u001b[0m     \u001b[38;5;66;03m# here, because we want the traceback if the function fails.\u001b[39;00m\n\u001b[1;32m--> 881\u001b[0m     getter_result \u001b[38;5;241m=\u001b[39m getter(\u001b[38;5;241m*\u001b[39margs, \u001b[38;5;241m*\u001b[39m\u001b[38;5;241m*\u001b[39mkwargs)\n\u001b[0;32m    882\u001b[0m \u001b[38;5;28;01melse\u001b[39;00m:\n\u001b[0;32m    883\u001b[0m     \u001b[38;5;66;03m# We're not resolving and calling the function, so replace\u001b[39;00m\n\u001b[0;32m    884\u001b[0m     \u001b[38;5;66;03m# the getter_result with a Promise class\u001b[39;00m\n\u001b[0;32m    885\u001b[0m     getter_result \u001b[38;5;241m=\u001b[39m Promise(\n\u001b[0;32m    886\u001b[0m         registry\u001b[38;5;241m=\u001b[39mreg_name, name\u001b[38;5;241m=\u001b[39mfunc_name, args\u001b[38;5;241m=\u001b[39margs, kwargs\u001b[38;5;241m=\u001b[39mkwargs\n\u001b[0;32m    887\u001b[0m     )\n",
      "File \u001b[1;32mc:\\Users\\RaviB\\anaconda3\\envs\\TechKnow\\lib\\site-packages\\spacy_llm\\models\\rest\\openai\\registry.py:226\u001b[0m, in \u001b[0;36mopenai_gpt_3_5\u001b[1;34m(config, name, strict, max_tries, interval, max_request_time, endpoint)\u001b[0m\n\u001b[0;32m    200\u001b[0m \u001b[38;5;129m@registry\u001b[39m\u001b[38;5;241m.\u001b[39mllm_models(\u001b[38;5;124m\"\u001b[39m\u001b[38;5;124mspacy.GPT-3-5.v1\u001b[39m\u001b[38;5;124m\"\u001b[39m)\n\u001b[0;32m    201\u001b[0m \u001b[38;5;28;01mdef\u001b[39;00m \u001b[38;5;21mopenai_gpt_3_5\u001b[39m(\n\u001b[0;32m    202\u001b[0m     config: Dict[Any, Any] \u001b[38;5;241m=\u001b[39m SimpleFrozenDict(),\n\u001b[1;32m   (...)\u001b[0m\n\u001b[0;32m    214\u001b[0m     endpoint: Optional[\u001b[38;5;28mstr\u001b[39m] \u001b[38;5;241m=\u001b[39m \u001b[38;5;28;01mNone\u001b[39;00m,\n\u001b[0;32m    215\u001b[0m ) \u001b[38;5;241m-\u001b[39m\u001b[38;5;241m>\u001b[39m OpenAI:\n\u001b[0;32m    216\u001b[0m \u001b[38;5;250m    \u001b[39m\u001b[38;5;124;03m\"\"\"Returns OpenAI instance for 'gpt-3.5' model using REST to prompt API.\u001b[39;00m\n\u001b[0;32m    217\u001b[0m \n\u001b[0;32m    218\u001b[0m \u001b[38;5;124;03m    config (Dict[Any, Any]): LLM config passed on to the model's initialization.\u001b[39;00m\n\u001b[1;32m   (...)\u001b[0m\n\u001b[0;32m    224\u001b[0m \u001b[38;5;124;03m    DOCS: https://spacy.io/api/large-language-models#models\u001b[39;00m\n\u001b[0;32m    225\u001b[0m \u001b[38;5;124;03m    \"\"\"\u001b[39;00m\n\u001b[1;32m--> 226\u001b[0m     \u001b[38;5;28;01mreturn\u001b[39;00m \u001b[43mOpenAI\u001b[49m\u001b[43m(\u001b[49m\n\u001b[0;32m    227\u001b[0m \u001b[43m        \u001b[49m\u001b[43mname\u001b[49m\u001b[38;5;241;43m=\u001b[39;49m\u001b[43mname\u001b[49m\u001b[43m,\u001b[49m\n\u001b[0;32m    228\u001b[0m \u001b[43m        \u001b[49m\u001b[43mendpoint\u001b[49m\u001b[38;5;241;43m=\u001b[39;49m\u001b[43mendpoint\u001b[49m\u001b[43m \u001b[49m\u001b[38;5;129;43;01mor\u001b[39;49;00m\u001b[43m \u001b[49m\u001b[43mEndpoints\u001b[49m\u001b[38;5;241;43m.\u001b[39;49m\u001b[43mCHAT\u001b[49m\u001b[38;5;241;43m.\u001b[39;49m\u001b[43mvalue\u001b[49m\n\u001b[0;32m    229\u001b[0m \u001b[43m        \u001b[49m\u001b[38;5;66;43;03m# gpt-3.5-turbo-instruct runs on the non-chat endpoint, so we use that one by default to allow batching.\u001b[39;49;00m\n\u001b[0;32m    230\u001b[0m \u001b[43m        \u001b[49m\u001b[38;5;28;43;01mif\u001b[39;49;00m\u001b[43m \u001b[49m\u001b[43mname\u001b[49m\u001b[43m \u001b[49m\u001b[38;5;241;43m!=\u001b[39;49m\u001b[43m \u001b[49m\u001b[38;5;124;43m\"\u001b[39;49m\u001b[38;5;124;43mgpt-3.5-turbo-instruct\u001b[39;49m\u001b[38;5;124;43m\"\u001b[39;49m\u001b[43m \u001b[49m\u001b[38;5;28;43;01melse\u001b[39;49;00m\u001b[43m \u001b[49m\u001b[43mEndpoints\u001b[49m\u001b[38;5;241;43m.\u001b[39;49m\u001b[43mNON_CHAT\u001b[49m\u001b[38;5;241;43m.\u001b[39;49m\u001b[43mvalue\u001b[49m\u001b[43m,\u001b[49m\n\u001b[0;32m    231\u001b[0m \u001b[43m        \u001b[49m\u001b[43mconfig\u001b[49m\u001b[38;5;241;43m=\u001b[39;49m\u001b[43mconfig\u001b[49m\u001b[43m,\u001b[49m\n\u001b[0;32m    232\u001b[0m \u001b[43m        \u001b[49m\u001b[43mstrict\u001b[49m\u001b[38;5;241;43m=\u001b[39;49m\u001b[43mstrict\u001b[49m\u001b[43m,\u001b[49m\n\u001b[0;32m    233\u001b[0m \u001b[43m        \u001b[49m\u001b[43mmax_tries\u001b[49m\u001b[38;5;241;43m=\u001b[39;49m\u001b[43mmax_tries\u001b[49m\u001b[43m,\u001b[49m\n\u001b[0;32m    234\u001b[0m \u001b[43m        \u001b[49m\u001b[43minterval\u001b[49m\u001b[38;5;241;43m=\u001b[39;49m\u001b[43minterval\u001b[49m\u001b[43m,\u001b[49m\n\u001b[0;32m    235\u001b[0m \u001b[43m        \u001b[49m\u001b[43mmax_request_time\u001b[49m\u001b[38;5;241;43m=\u001b[39;49m\u001b[43mmax_request_time\u001b[49m\u001b[43m,\u001b[49m\n\u001b[0;32m    236\u001b[0m \u001b[43m        \u001b[49m\u001b[43mcontext_length\u001b[49m\u001b[38;5;241;43m=\u001b[39;49m\u001b[38;5;28;43;01mNone\u001b[39;49;00m\u001b[43m,\u001b[49m\n\u001b[0;32m    237\u001b[0m \u001b[43m    \u001b[49m\u001b[43m)\u001b[49m\n",
      "File \u001b[1;32mc:\\Users\\RaviB\\anaconda3\\envs\\TechKnow\\lib\\site-packages\\spacy_llm\\models\\rest\\base.py:68\u001b[0m, in \u001b[0;36mREST.__init__\u001b[1;34m(self, name, endpoint, config, strict, max_tries, interval, max_request_time, context_length)\u001b[0m\n\u001b[0;32m     65\u001b[0m \u001b[38;5;28;01massert\u001b[39;00m \u001b[38;5;28mself\u001b[39m\u001b[38;5;241m.\u001b[39m_interval \u001b[38;5;241m>\u001b[39m \u001b[38;5;241m0\u001b[39m\n\u001b[0;32m     66\u001b[0m \u001b[38;5;28;01massert\u001b[39;00m \u001b[38;5;28mself\u001b[39m\u001b[38;5;241m.\u001b[39m_max_request_time \u001b[38;5;241m>\u001b[39m \u001b[38;5;241m0\u001b[39m\n\u001b[1;32m---> 68\u001b[0m \u001b[38;5;28;43mself\u001b[39;49m\u001b[38;5;241;43m.\u001b[39;49m\u001b[43m_verify_auth\u001b[49m\u001b[43m(\u001b[49m\u001b[43m)\u001b[49m\n",
      "File \u001b[1;32mc:\\Users\\RaviB\\anaconda3\\envs\\TechKnow\\lib\\site-packages\\spacy_llm\\models\\rest\\openai\\model.py:64\u001b[0m, in \u001b[0;36mOpenAI._verify_auth\u001b[1;34m(self)\u001b[0m\n\u001b[0;32m     59\u001b[0m     \u001b[38;5;28;01melse\u001b[39;00m:\n\u001b[0;32m     60\u001b[0m         warnings\u001b[38;5;241m.\u001b[39mwarn(\n\u001b[0;32m     61\u001b[0m             \u001b[38;5;124mf\u001b[39m\u001b[38;5;124m\"\u001b[39m\u001b[38;5;124mError accessing api.openai.com (\u001b[39m\u001b[38;5;132;01m{\u001b[39;00mr\u001b[38;5;241m.\u001b[39mstatus_code\u001b[38;5;132;01m}\u001b[39;00m\u001b[38;5;124m): \u001b[39m\u001b[38;5;132;01m{\u001b[39;00mr\u001b[38;5;241m.\u001b[39mtext\u001b[38;5;132;01m}\u001b[39;00m\u001b[38;5;124m\"\u001b[39m\n\u001b[0;32m     62\u001b[0m         )\n\u001b[1;32m---> 64\u001b[0m response \u001b[38;5;241m=\u001b[39m \u001b[43mr\u001b[49m\u001b[38;5;241;43m.\u001b[39;49m\u001b[43mjson\u001b[49m\u001b[43m(\u001b[49m\u001b[43m)\u001b[49m\u001b[43m[\u001b[49m\u001b[38;5;124;43m\"\u001b[39;49m\u001b[38;5;124;43mdata\u001b[39;49m\u001b[38;5;124;43m\"\u001b[39;49m\u001b[43m]\u001b[49m\n\u001b[0;32m     65\u001b[0m models \u001b[38;5;241m=\u001b[39m [response[i][\u001b[38;5;124m\"\u001b[39m\u001b[38;5;124mid\u001b[39m\u001b[38;5;124m\"\u001b[39m] \u001b[38;5;28;01mfor\u001b[39;00m i \u001b[38;5;129;01min\u001b[39;00m \u001b[38;5;28mrange\u001b[39m(\u001b[38;5;28mlen\u001b[39m(response))]\n\u001b[0;32m     66\u001b[0m \u001b[38;5;28;01mif\u001b[39;00m \u001b[38;5;28mself\u001b[39m\u001b[38;5;241m.\u001b[39m_name \u001b[38;5;129;01mnot\u001b[39;00m \u001b[38;5;129;01min\u001b[39;00m models:\n",
      "\u001b[1;31mKeyError\u001b[0m: 'data'"
     ]
    }
   ],
   "source": [
    "nlp = assemble(\"notebooks/config.cfg\")\n",
    "doc = nlp(cc_text_ex)\n",
    "print(doc.ents)"
   ]
  },
  {
   "cell_type": "code",
   "execution_count": null,
   "metadata": {},
   "outputs": [],
   "source": []
  }
 ],
 "metadata": {
  "kernelspec": {
   "display_name": "TechKnow",
   "language": "python",
   "name": "python3"
  },
  "language_info": {
   "codemirror_mode": {
    "name": "ipython",
    "version": 3
   },
   "file_extension": ".py",
   "mimetype": "text/x-python",
   "name": "python",
   "nbconvert_exporter": "python",
   "pygments_lexer": "ipython3",
   "version": "3.10.14"
  }
 },
 "nbformat": 4,
 "nbformat_minor": 2
}
